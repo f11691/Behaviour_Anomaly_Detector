{
  "cells": [
    {
      "cell_type": "markdown",
      "metadata": {
        "id": "65SQNsbekm3u"
      },
      "source": [
        "# Create the Fetures Group from PCAPs"
      ]
    },
    {
      "cell_type": "code",
      "source": [
        "!pip install scapy\n",
        "\n",
        "import numpy as np\n",
        "import pandas as pd\n",
        "from scapy.all import *\n",
        "from datetime import datetime\n",
        "import string\n",
        "import re\n"
      ],
      "metadata": {
        "colab": {
          "base_uri": "https://localhost:8080/"
        },
        "id": "4PO8HXtPGbsG",
        "outputId": "7fed5ba7-1ea5-4e6b-bb05-18622ea0e72a"
      },
      "execution_count": 9,
      "outputs": [
        {
          "output_type": "stream",
          "name": "stdout",
          "text": [
            "Requirement already satisfied: scapy in /usr/local/lib/python3.10/dist-packages (2.5.0)\n"
          ]
        }
      ]
    },
    {
      "cell_type": "markdown",
      "source": [
        "**Load PCAP Data:**"
      ],
      "metadata": {
        "id": "5liLul09HAzB"
      }
    },
    {
      "cell_type": "code",
      "source": [
        "def load_pcap_data(filepath):\n",
        "    filepath = '/content/drive/MyDrive/output_part_1.pcap'\n",
        "    packets = rdpcap(filepath)\n",
        "    print(f\"Number of packets in test load: {len(packets)}\")\n",
        "    if packets:\n",
        "        print(packets[0].summary())\n",
        "    return packets\n"
      ],
      "metadata": {
        "id": "fNsEd6NHGgnb"
      },
      "execution_count": 10,
      "outputs": []
    },
    {
      "cell_type": "markdown",
      "source": [
        "**Extract Network Traffic Features:**"
      ],
      "metadata": {
        "id": "FvLoiJoxHGBn"
      }
    },
    {
      "cell_type": "code",
      "source": [
        "def extract_network_traffic_features(packets):\n",
        "    network_traffic_features = []\n",
        "\n",
        "    import numpy as np\n",
        "    import pandas as pd\n",
        "\n",
        "    for packet in packets:\n",
        "        # Initialize variables for each feature\n",
        "        eth_src = None\n",
        "        eth_dst = None\n",
        "        src_ip = None\n",
        "        dst_ip = None\n",
        "        src_port = None\n",
        "        dst_port = None\n",
        "        protocol = None\n",
        "        timestamp = packet.time\n",
        "\n",
        "        # Extract Ethernet frame information\n",
        "        if Ether in packet:\n",
        "            eth_src = packet[Ether].src\n",
        "            eth_dst = packet[Ether].dst\n",
        "\n",
        "        # Extract IP packet information\n",
        "        if IP in packet:\n",
        "            src_ip = packet[IP].src\n",
        "            dst_ip = packet[IP].dst\n",
        "\n",
        "            if TCP in packet:\n",
        "                src_port = packet[TCP].sport\n",
        "                dst_port = packet[TCP].dport\n",
        "                protocol = 'TCP'\n",
        "            elif UDP in packet:\n",
        "                src_port = packet[UDP].sport\n",
        "                dst_port = packet[UDP].dport\n",
        "                protocol = 'UDP'\n",
        "            else:\n",
        "                # Handle other IP protocols as needed\n",
        "                protocol = packet[IP].proto\n",
        "\n",
        "        # Append extracted features as a dictionary to the network_traffic_features list\n",
        "        network_traffic_features.append({\n",
        "            'eth_src': eth_src,\n",
        "            'eth_dst': eth_dst,\n",
        "            'src_ip': src_ip,\n",
        "            'dst_ip': dst_ip,\n",
        "            'src_port': src_port,\n",
        "            'dst_port': dst_port,\n",
        "            'protocol': protocol,\n",
        "            'timestamp': timestamp\n",
        "        })\n",
        "\n",
        "    return pd.DataFrame(network_traffic_features)\n"
      ],
      "metadata": {
        "id": "cgcjcfuJGk7V"
      },
      "execution_count": 11,
      "outputs": []
    },
    {
      "cell_type": "markdown",
      "source": [
        " **Extract Session-related Information Features:**"
      ],
      "metadata": {
        "id": "Yi8IhUo8HLDB"
      }
    },
    {
      "cell_type": "code",
      "source": [
        "def extract_session_behavior_features(packets):\n",
        "    session_behaviour_features = []\n",
        "    import numpy as np\n",
        "    import pandas as pd\n",
        "    from datetime import datetime\n",
        "    from scapy.all import Ether, IP\n",
        "\n",
        "    current_session_start_time = None\n",
        "    current_session_end_time = None\n",
        "    session_start_time = None\n",
        "    failed_login_count = 0\n",
        "    session_behaviour_features = []\n",
        "    session_timestamps = []\n",
        "\n",
        "    # Define a pattern to identify authentication-related events\n",
        "    auth_event_pattern = \"authentication_failed\"\n",
        "\n",
        "    # Iterate through the packets and extract the features\n",
        "    for packet in packets:\n",
        "        # Extract Ethernet frame information\n",
        "        if Ether in packet:\n",
        "            eth_src = packet[Ether].src\n",
        "            eth_dst = packet[Ether].dst\n",
        "\n",
        "        # Extract IP packet information\n",
        "        if IP in packet:\n",
        "            # Update session start and end times\n",
        "            if current_session_start_time is None:\n",
        "                current_session_start_time = packet.time\n",
        "                # Convert packet.time to float\n",
        "                timestamp = datetime.utcfromtimestamp(float(packet.time)).strftime('%Y-%m-%d %H:%M:%S')\n",
        "                session_timestamps.append(timestamp)\n",
        "            current_session_end_time = packet.time\n",
        "\n",
        "            # Check if the packet contains the authentication event pattern\n",
        "            if auth_event_pattern in str(packet.payload):\n",
        "                failed_login_count += 1\n",
        "        else:\n",
        "            # End of session or non-IP packet\n",
        "            if current_session_start_time is not None:\n",
        "                # Calculate session duration\n",
        "                session_duration = current_session_end_time - current_session_start_time\n",
        "\n",
        "                # Append session behavior features to the list\n",
        "                session_behaviour_features.append([session_duration, 1, failed_login_count])\n",
        "\n",
        "                # Calculate interval between authentication attempts\n",
        "                if session_start_time is not None:\n",
        "                    auth_attempt_interval = current_session_start_time - session_start_time\n",
        "                    session_behaviour_features[-1].append(auth_attempt_interval)\n",
        "                else:\n",
        "                    session_behaviour_features[-1].append(None)\n",
        "\n",
        "                # Reset session-related variables for the next session\n",
        "                current_session_start_time = None\n",
        "                current_session_end_time = None\n",
        "                session_start_time = packet.time\n",
        "                failed_login_count = 0\n",
        "\n",
        "    return pd.DataFrame(session_behaviour_features, columns=['session_duration', 'auth_event_count', 'failed_login_count', 'auth_attempt_interval'])"
      ],
      "metadata": {
        "id": "0Ix72YBhHPbL"
      },
      "execution_count": 12,
      "outputs": []
    },
    {
      "cell_type": "markdown",
      "source": [
        "**Extract Network Flow Features:**"
      ],
      "metadata": {
        "id": "HyUJARz8HTe7"
      }
    },
    {
      "cell_type": "code",
      "source": [
        "def extract_network_flow_features(packets):\n",
        "    network_flow_features = []\n",
        "    import numpy as np\n",
        "    import pandas as pd\n",
        "    from scapy.all import Ether, IP, TCP, UDP\n",
        "    from datetime import datetime\n",
        "\n",
        "    # Define dictionaries to keep track of flow statistics\n",
        "    flow_packet_counts = {}\n",
        "    flow_total_bytes = {}\n",
        "    flow_first_timestamp = {}\n",
        "    flow_last_timestamp = {}\n",
        "\n",
        "    for packet in packets:\n",
        "        timestamp = datetime.utcfromtimestamp(float(packet.time)).strftime('%Y-%m-%d %H:%M:%S')\n",
        "\n",
        "        # Extract Ethernet frame information\n",
        "        if Ether in packet:\n",
        "            eth_src = packet[Ether].src\n",
        "            eth_dst = packet[Ether].dst\n",
        "        else:\n",
        "            eth_src = None\n",
        "            eth_dst = None\n",
        "\n",
        "        # Extract IP packet information\n",
        "        if IP in packet:\n",
        "            src_ip = packet[IP].src\n",
        "            dst_ip = packet[IP].dst\n",
        "\n",
        "            src_port, dst_port = None, None  # Initialize as None by default\n",
        "\n",
        "            if TCP in packet:\n",
        "                src_port = packet[TCP].sport\n",
        "                dst_port = packet[TCP].dport\n",
        "            elif UDP in packet:\n",
        "                src_port = packet[UDP].sport\n",
        "                dst_port = packet[UDP].dport\n",
        "\n",
        "            # Define a flow identifier based on source and destination IP addresses and ports\n",
        "            flow_identifier = (src_ip, dst_ip, src_port, dst_port)\n",
        "\n",
        "            # Update flow statistics\n",
        "            if flow_identifier not in flow_packet_counts:\n",
        "                flow_packet_counts[flow_identifier] = 0\n",
        "                flow_total_bytes[flow_identifier] = 0\n",
        "                flow_first_timestamp[flow_identifier] = timestamp  # Initialize first timestamp\n",
        "\n",
        "            flow_packet_counts[flow_identifier] += 1\n",
        "            flow_total_bytes[flow_identifier] += len(packet)\n",
        "            flow_last_timestamp[flow_identifier] = timestamp  # Update last timestamp\n",
        "\n",
        "    # Extracted network flow features\n",
        "    network_flow_features = []\n",
        "\n",
        "    for flow_identifier, packet_count in flow_packet_counts.items():\n",
        "        src_ip, dst_ip, src_port, dst_port = flow_identifier\n",
        "        total_bytes = flow_total_bytes[flow_identifier]\n",
        "        first_timestamp = flow_first_timestamp[flow_identifier]\n",
        "        last_timestamp = flow_last_timestamp[flow_identifier]\n",
        "\n",
        "        # Determine traffic direction based on source and destination IP addresses\n",
        "        if src_ip.startswith('192.168.1'):  # Example: Check if source IP belongs to your network\n",
        "            traffic_direction = 'Outbound'\n",
        "        elif dst_ip.startswith('192.168.1'):  # Example: Check if destination IP belongs to your network\n",
        "            traffic_direction = 'Inbound'\n",
        "        else:\n",
        "            traffic_direction = 'External'\n",
        "\n",
        "        # Append flow features to the network_flow_features list\n",
        "        network_flow_features.append([src_ip, dst_ip, src_port, dst_port, packet_count, total_bytes, traffic_direction, first_timestamp, last_timestamp])\n",
        "\n",
        "    # Define the column headers\n",
        "    headers = ['src_ip', 'dst_ip', 'src_port', 'dst_port', 'packet_count', 'total_bytes', 'traffic_direction', 'first_timestamp', 'last_timestamp']\n",
        "\n",
        "    return pd.DataFrame(network_flow_features, columns=['src_ip', 'dst_ip', 'src_port', 'dst_port', 'packet_count', 'total_bytes', 'traffic_direction', 'first_timestamp', 'last_timestamp'])\n"
      ],
      "metadata": {
        "id": "F2jZe2K-HXFv"
      },
      "execution_count": 13,
      "outputs": []
    },
    {
      "cell_type": "markdown",
      "source": [
        "**Extract Protocol-specific Features:**"
      ],
      "metadata": {
        "id": "bcaW9aX6HZsu"
      }
    },
    {
      "cell_type": "code",
      "source": [
        "def extract_protocol_specific_features(packets):\n",
        "    protocol_specific_features = []\n",
        "    import numpy as np\n",
        "    import pandas as pd\n",
        "    from scapy.all import Ether, IP, TCP, Raw\n",
        "    from datetime import datetime\n",
        "    import re\n",
        "\n",
        "    protocol_specific_features = []\n",
        "\n",
        "    for packet in packets:\n",
        "        # Define a dictionary to store protocol-specific features for this packet\n",
        "        packet_features = {}\n",
        "\n",
        "        # Extract the timestamp of the packet\n",
        "        packet_features['timestamp'] = datetime.utcfromtimestamp(float(packet.time)).strftime('%Y-%m-%d %H:%M:%S')\n",
        "\n",
        "        # Extract Ethernet frame information\n",
        "        if Ether in packet:\n",
        "            packet_features['eth_src'] = packet[Ether].src\n",
        "            packet_features['eth_dst'] = packet[Ether].dst\n",
        "\n",
        "        # Extract IP packet information\n",
        "        if IP in packet:\n",
        "            packet_features['src_ip'] = packet[IP].src\n",
        "            packet_features['dst_ip'] = packet[IP].dst\n",
        "            if TCP in packet:\n",
        "                packet_features['src_port'] = packet[TCP].sport\n",
        "                packet_features['dst_port'] = packet[TCP].dport\n",
        "\n",
        "                # Check if the packet is HTTP (port 80)\n",
        "                if packet_features['src_port'] == 80 or packet_features['dst_port'] == 80:\n",
        "                    if Raw in packet:\n",
        "                        http_data = str(packet[Raw].load)\n",
        "\n",
        "                        # Extract HTTP headers (assuming headers are in the first part of the payload)\n",
        "                        http_headers = http_data.split('\\r\\n\\r\\n')[0]\n",
        "                        packet_features['http_headers'] = http_headers\n",
        "\n",
        "                        # Extract HTTP status code (if available)\n",
        "                        status_code_match = re.search(r'HTTP/1.[01] (\\d{3})', http_headers)\n",
        "                        if status_code_match:\n",
        "                            packet_features['http_status_code'] = int(status_code_match.group(1))\n",
        "\n",
        "                # Check if the packet is SSH (port 22)\n",
        "                if packet_features['src_port'] == 22 or packet_features['dst_port'] == 22:\n",
        "                    if Raw in packet:\n",
        "                        ssh_payload = str(packet[Raw].load)\n",
        "                        # Extract SSH protocol details as needed\n",
        "                        packet_features['ssh_protocol_details'] = ssh_payload\n",
        "\n",
        "        # Append the dictionary of features to the list\n",
        "        protocol_specific_features.append(packet_features)\n",
        "\n",
        "    return pd.DataFrame(protocol_specific_features)\n"
      ],
      "metadata": {
        "id": "dLlxoV88Hda6"
      },
      "execution_count": 14,
      "outputs": []
    },
    {
      "cell_type": "markdown",
      "source": [
        "**Extract Payload Characteristics Features:**"
      ],
      "metadata": {
        "id": "vSl7qc1hHf3A"
      }
    },
    {
      "cell_type": "code",
      "source": [
        "def extract_payload_characteristics_features(packets):\n",
        "    payload_characteristics_features = []\n",
        "    import numpy as np\n",
        "    import pandas as pd\n",
        "    from scapy.all import Ether, IP, TCP, Raw\n",
        "    from datetime import datetime\n",
        "    import string\n",
        "\n",
        "    payload_characteristics_features = []\n",
        "\n",
        "    for packet in packets:\n",
        "        # Define a dictionary to store payload characteristics features for this packet\n",
        "        packet_features = {}\n",
        "\n",
        "        # Extract the timestamp of the packet\n",
        "        packet_features['timestamp'] = datetime.utcfromtimestamp(float(packet.time)).strftime('%Y-%m-%d %H:%M:%S')\n",
        "\n",
        "        # Extract Ethernet frame information\n",
        "        if Ether in packet:\n",
        "            packet_features['eth_src'] = packet[Ether].src\n",
        "            packet_features['eth_dst'] = packet[Ether].dst\n",
        "\n",
        "        # Extract IP packet information\n",
        "        if IP in packet:\n",
        "            packet_features['src_ip'] = packet[IP].src\n",
        "            packet_features['dst_ip'] = packet[IP].dst\n",
        "            if TCP in packet:\n",
        "                packet_features['src_port'] = packet[TCP].sport\n",
        "                packet_features['dst_port'] = packet[TCP].dport\n",
        "\n",
        "                # Check if the packet contains payload (Raw layer)\n",
        "                if Raw in packet:\n",
        "                    raw_payload = packet[Raw].load\n",
        "                    packet_features['payload_size'] = len(raw_payload)\n",
        "\n",
        "                    # Clean the payload contents: replace non-printable characters with a placeholder or remove them\n",
        "                    printable = set(string.printable)\n",
        "                    cleaned_payload = ''.join(filter(lambda x: x in printable, raw_payload.decode('utf-8', errors='ignore')))\n",
        "                    packet_features['payload_contents'] = cleaned_payload\n",
        "\n",
        "        # Append the dictionary of features to the list\n",
        "        payload_characteristics_features.append(packet_features)\n",
        "\n",
        "\n",
        "    return pd.DataFrame(payload_characteristics_features)\n"
      ],
      "metadata": {
        "id": "YXdoZIF2Hjpe"
      },
      "execution_count": 15,
      "outputs": []
    },
    {
      "cell_type": "markdown",
      "source": [
        "**Main Execution and Saving DataFrames:**"
      ],
      "metadata": {
        "id": "Q26AIWBeHmop"
      }
    },
    {
      "cell_type": "code",
      "source": [
        "if __name__ == \"__main__\":\n",
        "    pcap_file_path = '/content/drive/MyDrive/output_part_1.pcap'\n",
        "    packets = load_pcap_data(pcap_file_path)\n",
        "\n",
        "    network_traffic_df = extract_network_traffic_features(packets)\n",
        "    network_traffic_df.to_csv('/content/drive/MyDrive/network_traffic_features.csv', index=False)\n",
        "\n",
        "    session_behavior_df = extract_session_behavior_features(packets)\n",
        "    session_behavior_df.to_csv('/content/drive/MyDrive/session_behaviour_features.csv', index=False)\n",
        "\n",
        "    network_flow_df = extract_network_flow_features(packets)\n",
        "    network_flow_df.to_csv('/content/drive/MyDrive/network_flow_features.csv', index=False)\n",
        "\n",
        "    protocol_specific_df = extract_protocol_specific_features(packets)\n",
        "    protocol_specific_df.to_csv('/content/drive/MyDrive/protocol_specific_features.csv', index=False)\n",
        "\n",
        "    payload_characteristics_df = extract_payload_characteristics_features(packets)\n",
        "    payload_characteristics_df.to_csv('/content/drive/MyDrive/payload_characteristics_features.csv', index=False)\n"
      ],
      "metadata": {
        "colab": {
          "base_uri": "https://localhost:8080/"
        },
        "id": "9Ga7-WoxHqU8",
        "outputId": "b9afead5-92c1-4394-a5a1-4b2444e289c8"
      },
      "execution_count": 16,
      "outputs": [
        {
          "output_type": "stream",
          "name": "stdout",
          "text": [
            "Number of packets in test load: 783877\n",
            "802.3 70:6e:6d:1d:bb:0f > 01:00:0c:cc:cc:cc / LLC / SNAP / Raw\n"
          ]
        }
      ]
    }
  ],
  "metadata": {
    "accelerator": "GPU",
    "colab": {
      "machine_shape": "hm",
      "provenance": []
    },
    "kernelspec": {
      "display_name": "Python 3",
      "name": "python3"
    },
    "language_info": {
      "name": "python"
    }
  },
  "nbformat": 4,
  "nbformat_minor": 0
}