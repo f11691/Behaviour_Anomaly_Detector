{
 "cells": [
  {
   "cell_type": "code",
   "execution_count": 1,
   "id": "9e5c6d50-eeb7-4f55-8c34-a6be2dfe6d2b",
   "metadata": {
    "scrolled": true
   },
   "outputs": [
    {
     "name": "stdout",
     "output_type": "stream",
     "text": [
      "Requirement already satisfied: keras in /Users/christinastodt/anaconda3/envs/AnomalyTest/lib/python3.9/site-packages (2.14.0)\n",
      "Requirement already satisfied: tensorflow in /Users/christinastodt/anaconda3/envs/AnomalyTest/lib/python3.9/site-packages (2.14.0)\n",
      "Requirement already satisfied: scikit-learn in /Users/christinastodt/anaconda3/envs/AnomalyTest/lib/python3.9/site-packages (1.3.1)\n",
      "Requirement already satisfied: numpy in /Users/christinastodt/anaconda3/envs/AnomalyTest/lib/python3.9/site-packages (1.26.0)\n",
      "Requirement already satisfied: tensorflow-macos==2.14.0 in /Users/christinastodt/anaconda3/envs/AnomalyTest/lib/python3.9/site-packages (from tensorflow) (2.14.0)\n",
      "Requirement already satisfied: absl-py>=1.0.0 in /Users/christinastodt/anaconda3/envs/AnomalyTest/lib/python3.9/site-packages (from tensorflow-macos==2.14.0->tensorflow) (2.0.0)\n",
      "Requirement already satisfied: astunparse>=1.6.0 in /Users/christinastodt/anaconda3/envs/AnomalyTest/lib/python3.9/site-packages (from tensorflow-macos==2.14.0->tensorflow) (1.6.3)\n",
      "Requirement already satisfied: flatbuffers>=23.5.26 in /Users/christinastodt/anaconda3/envs/AnomalyTest/lib/python3.9/site-packages (from tensorflow-macos==2.14.0->tensorflow) (23.5.26)\n",
      "Requirement already satisfied: gast!=0.5.0,!=0.5.1,!=0.5.2,>=0.2.1 in /Users/christinastodt/anaconda3/envs/AnomalyTest/lib/python3.9/site-packages (from tensorflow-macos==2.14.0->tensorflow) (0.5.4)\n",
      "Requirement already satisfied: google-pasta>=0.1.1 in /Users/christinastodt/anaconda3/envs/AnomalyTest/lib/python3.9/site-packages (from tensorflow-macos==2.14.0->tensorflow) (0.2.0)\n",
      "Requirement already satisfied: h5py>=2.9.0 in /Users/christinastodt/anaconda3/envs/AnomalyTest/lib/python3.9/site-packages (from tensorflow-macos==2.14.0->tensorflow) (3.10.0)\n",
      "Requirement already satisfied: libclang>=13.0.0 in /Users/christinastodt/anaconda3/envs/AnomalyTest/lib/python3.9/site-packages (from tensorflow-macos==2.14.0->tensorflow) (16.0.6)\n",
      "Requirement already satisfied: ml-dtypes==0.2.0 in /Users/christinastodt/anaconda3/envs/AnomalyTest/lib/python3.9/site-packages (from tensorflow-macos==2.14.0->tensorflow) (0.2.0)\n",
      "Requirement already satisfied: opt-einsum>=2.3.2 in /Users/christinastodt/anaconda3/envs/AnomalyTest/lib/python3.9/site-packages (from tensorflow-macos==2.14.0->tensorflow) (3.3.0)\n",
      "Requirement already satisfied: packaging in /Users/christinastodt/anaconda3/envs/AnomalyTest/lib/python3.9/site-packages (from tensorflow-macos==2.14.0->tensorflow) (23.1)\n",
      "Requirement already satisfied: protobuf!=4.21.0,!=4.21.1,!=4.21.2,!=4.21.3,!=4.21.4,!=4.21.5,<5.0.0dev,>=3.20.3 in /Users/christinastodt/anaconda3/envs/AnomalyTest/lib/python3.9/site-packages (from tensorflow-macos==2.14.0->tensorflow) (4.24.4)\n",
      "Requirement already satisfied: setuptools in /Users/christinastodt/anaconda3/envs/AnomalyTest/lib/python3.9/site-packages (from tensorflow-macos==2.14.0->tensorflow) (68.0.0)\n",
      "Requirement already satisfied: six>=1.12.0 in /Users/christinastodt/anaconda3/envs/AnomalyTest/lib/python3.9/site-packages (from tensorflow-macos==2.14.0->tensorflow) (1.16.0)\n",
      "Requirement already satisfied: termcolor>=1.1.0 in /Users/christinastodt/anaconda3/envs/AnomalyTest/lib/python3.9/site-packages (from tensorflow-macos==2.14.0->tensorflow) (2.3.0)\n",
      "Requirement already satisfied: typing-extensions>=3.6.6 in /Users/christinastodt/anaconda3/envs/AnomalyTest/lib/python3.9/site-packages (from tensorflow-macos==2.14.0->tensorflow) (4.7.1)\n",
      "Requirement already satisfied: wrapt<1.15,>=1.11.0 in /Users/christinastodt/anaconda3/envs/AnomalyTest/lib/python3.9/site-packages (from tensorflow-macos==2.14.0->tensorflow) (1.14.1)\n",
      "Requirement already satisfied: tensorflow-io-gcs-filesystem>=0.23.1 in /Users/christinastodt/anaconda3/envs/AnomalyTest/lib/python3.9/site-packages (from tensorflow-macos==2.14.0->tensorflow) (0.34.0)\n",
      "Requirement already satisfied: grpcio<2.0,>=1.24.3 in /Users/christinastodt/anaconda3/envs/AnomalyTest/lib/python3.9/site-packages (from tensorflow-macos==2.14.0->tensorflow) (1.59.0)\n",
      "Requirement already satisfied: tensorboard<2.15,>=2.14 in /Users/christinastodt/anaconda3/envs/AnomalyTest/lib/python3.9/site-packages (from tensorflow-macos==2.14.0->tensorflow) (2.14.1)\n",
      "Requirement already satisfied: tensorflow-estimator<2.15,>=2.14.0 in /Users/christinastodt/anaconda3/envs/AnomalyTest/lib/python3.9/site-packages (from tensorflow-macos==2.14.0->tensorflow) (2.14.0)\n",
      "Requirement already satisfied: scipy>=1.5.0 in /Users/christinastodt/anaconda3/envs/AnomalyTest/lib/python3.9/site-packages (from scikit-learn) (1.11.3)\n",
      "Requirement already satisfied: joblib>=1.1.1 in /Users/christinastodt/anaconda3/envs/AnomalyTest/lib/python3.9/site-packages (from scikit-learn) (1.3.2)\n",
      "Requirement already satisfied: threadpoolctl>=2.0.0 in /Users/christinastodt/anaconda3/envs/AnomalyTest/lib/python3.9/site-packages (from scikit-learn) (3.2.0)\n",
      "Requirement already satisfied: wheel<1.0,>=0.23.0 in /Users/christinastodt/anaconda3/envs/AnomalyTest/lib/python3.9/site-packages (from astunparse>=1.6.0->tensorflow-macos==2.14.0->tensorflow) (0.41.2)\n",
      "Requirement already satisfied: google-auth<3,>=1.6.3 in /Users/christinastodt/anaconda3/envs/AnomalyTest/lib/python3.9/site-packages (from tensorboard<2.15,>=2.14->tensorflow-macos==2.14.0->tensorflow) (2.23.3)\n",
      "Requirement already satisfied: google-auth-oauthlib<1.1,>=0.5 in /Users/christinastodt/anaconda3/envs/AnomalyTest/lib/python3.9/site-packages (from tensorboard<2.15,>=2.14->tensorflow-macos==2.14.0->tensorflow) (1.0.0)\n",
      "Requirement already satisfied: markdown>=2.6.8 in /Users/christinastodt/anaconda3/envs/AnomalyTest/lib/python3.9/site-packages (from tensorboard<2.15,>=2.14->tensorflow-macos==2.14.0->tensorflow) (3.5)\n",
      "Requirement already satisfied: requests<3,>=2.21.0 in /Users/christinastodt/anaconda3/envs/AnomalyTest/lib/python3.9/site-packages (from tensorboard<2.15,>=2.14->tensorflow-macos==2.14.0->tensorflow) (2.31.0)\n",
      "Requirement already satisfied: tensorboard-data-server<0.8.0,>=0.7.0 in /Users/christinastodt/anaconda3/envs/AnomalyTest/lib/python3.9/site-packages (from tensorboard<2.15,>=2.14->tensorflow-macos==2.14.0->tensorflow) (0.7.1)\n",
      "Requirement already satisfied: werkzeug>=1.0.1 in /Users/christinastodt/anaconda3/envs/AnomalyTest/lib/python3.9/site-packages (from tensorboard<2.15,>=2.14->tensorflow-macos==2.14.0->tensorflow) (3.0.0)\n",
      "Requirement already satisfied: cachetools<6.0,>=2.0.0 in /Users/christinastodt/anaconda3/envs/AnomalyTest/lib/python3.9/site-packages (from google-auth<3,>=1.6.3->tensorboard<2.15,>=2.14->tensorflow-macos==2.14.0->tensorflow) (5.3.1)\n",
      "Requirement already satisfied: pyasn1-modules>=0.2.1 in /Users/christinastodt/anaconda3/envs/AnomalyTest/lib/python3.9/site-packages (from google-auth<3,>=1.6.3->tensorboard<2.15,>=2.14->tensorflow-macos==2.14.0->tensorflow) (0.3.0)\n",
      "Requirement already satisfied: rsa<5,>=3.1.4 in /Users/christinastodt/anaconda3/envs/AnomalyTest/lib/python3.9/site-packages (from google-auth<3,>=1.6.3->tensorboard<2.15,>=2.14->tensorflow-macos==2.14.0->tensorflow) (4.9)\n",
      "Requirement already satisfied: requests-oauthlib>=0.7.0 in /Users/christinastodt/anaconda3/envs/AnomalyTest/lib/python3.9/site-packages (from google-auth-oauthlib<1.1,>=0.5->tensorboard<2.15,>=2.14->tensorflow-macos==2.14.0->tensorflow) (1.3.1)\n",
      "Requirement already satisfied: importlib-metadata>=4.4 in /Users/christinastodt/anaconda3/envs/AnomalyTest/lib/python3.9/site-packages (from markdown>=2.6.8->tensorboard<2.15,>=2.14->tensorflow-macos==2.14.0->tensorflow) (6.0.0)\n",
      "Requirement already satisfied: charset-normalizer<4,>=2 in /Users/christinastodt/anaconda3/envs/AnomalyTest/lib/python3.9/site-packages (from requests<3,>=2.21.0->tensorboard<2.15,>=2.14->tensorflow-macos==2.14.0->tensorflow) (3.3.0)\n",
      "Requirement already satisfied: idna<4,>=2.5 in /Users/christinastodt/anaconda3/envs/AnomalyTest/lib/python3.9/site-packages (from requests<3,>=2.21.0->tensorboard<2.15,>=2.14->tensorflow-macos==2.14.0->tensorflow) (3.4)\n",
      "Requirement already satisfied: urllib3<3,>=1.21.1 in /Users/christinastodt/anaconda3/envs/AnomalyTest/lib/python3.9/site-packages (from requests<3,>=2.21.0->tensorboard<2.15,>=2.14->tensorflow-macos==2.14.0->tensorflow) (2.0.6)\n",
      "Requirement already satisfied: certifi>=2017.4.17 in /Users/christinastodt/anaconda3/envs/AnomalyTest/lib/python3.9/site-packages (from requests<3,>=2.21.0->tensorboard<2.15,>=2.14->tensorflow-macos==2.14.0->tensorflow) (2023.7.22)\n",
      "Requirement already satisfied: MarkupSafe>=2.1.1 in /Users/christinastodt/anaconda3/envs/AnomalyTest/lib/python3.9/site-packages (from werkzeug>=1.0.1->tensorboard<2.15,>=2.14->tensorflow-macos==2.14.0->tensorflow) (2.1.3)\n",
      "Requirement already satisfied: zipp>=0.5 in /Users/christinastodt/anaconda3/envs/AnomalyTest/lib/python3.9/site-packages (from importlib-metadata>=4.4->markdown>=2.6.8->tensorboard<2.15,>=2.14->tensorflow-macos==2.14.0->tensorflow) (3.11.0)\n",
      "Requirement already satisfied: pyasn1<0.6.0,>=0.4.6 in /Users/christinastodt/anaconda3/envs/AnomalyTest/lib/python3.9/site-packages (from pyasn1-modules>=0.2.1->google-auth<3,>=1.6.3->tensorboard<2.15,>=2.14->tensorflow-macos==2.14.0->tensorflow) (0.5.0)\n",
      "Requirement already satisfied: oauthlib>=3.0.0 in /Users/christinastodt/anaconda3/envs/AnomalyTest/lib/python3.9/site-packages (from requests-oauthlib>=0.7.0->google-auth-oauthlib<1.1,>=0.5->tensorboard<2.15,>=2.14->tensorflow-macos==2.14.0->tensorflow) (3.2.2)\n",
      "Note: you may need to restart the kernel to use updated packages.\n"
     ]
    }
   ],
   "source": [
    "pip install keras tensorflow scikit-learn numpy\n"
   ]
  },
  {
   "cell_type": "code",
   "execution_count": 2,
   "id": "981b9964-440a-40f3-81aa-1536b954baca",
   "metadata": {},
   "outputs": [],
   "source": [
    "\n",
    "import pandas as pd\n",
    "\n",
    "# Load the training and testing data\n",
    "train_data = pd.read_csv('train_LDA1.csv')\n",
    "test_data = pd.read_csv('test_LDA1.csv')"
   ]
  },
  {
   "cell_type": "code",
   "execution_count": 3,
   "id": "94a80eaf-d96d-4aff-9726-acbe3693f8b8",
   "metadata": {},
   "outputs": [],
   "source": [
    "# Select the features to be used for the autoencoder\n",
    "#selected_features = [1, 8, 12, 14, 79, 15, 18, 25, 28, 32, 33, 37, 39, 44, 46, 55, 56]\n",
    "selected_features = [\n",
    "    'Dst Port', 'Fwd Packet Length Max', 'Bwd Packet Length Max',\n",
    "    'Bwd Packet Length Mean', 'Bwd Packet Length Std', 'Flow IAT Mean',\n",
    "    'Fwd IAT Std', 'Bwd IAT Mean', 'Fwd PSH Flags', 'Bwd PSH Flags',\n",
    "    'Fwd RST Flags', 'Fwd Header Length', 'Packet Length Max',\n",
    "    'Packet Length Std', 'Fwd Segment Size Avg', 'Bwd Segment Size Avg',\n",
    "    'ICMP Type'\n",
    "]\n",
    "X_train = train_data.loc[:, selected_features]\n",
    "y_train = train_data['Label']  # Assuming the last column is 'Label'\n",
    "X_test = test_data.loc[:, selected_features]\n",
    "y_test = test_data['Label']    # Assuming the last column is 'Label'\n"
   ]
  },
  {
   "cell_type": "code",
   "execution_count": 4,
   "id": "d48bba16-1be3-440e-aa3d-e2b87fe04037",
   "metadata": {},
   "outputs": [
    {
     "name": "stdout",
     "output_type": "stream",
     "text": [
      "--- Training Data ---\n",
      "                              precision    recall  f1-score   support\n",
      "\n",
      "                      BENIGN       0.98      0.96      0.97    223383\n",
      "               DoS GoldenEye       0.54      0.45      0.49      5297\n",
      "   DoS GoldenEye - Attempted       0.00      0.00      0.00        56\n",
      "                    DoS Hulk       0.96      0.98      0.97    110927\n",
      "        DoS Hulk - Attempted       0.23      0.04      0.07       407\n",
      "            DoS Slowhttptest       0.31      0.57      0.40      1218\n",
      "DoS Slowhttptest - Attempted       0.77      0.83      0.80      2358\n",
      "               DoS Slowloris       0.38      0.72      0.50      2701\n",
      "   DoS Slowloris - Attempted       0.00      0.00      0.00      1293\n",
      "                  Heartbleed       0.08      1.00      0.14         8\n",
      "\n",
      "                    accuracy                           0.95    347648\n",
      "                   macro avg       0.42      0.56      0.43    347648\n",
      "                weighted avg       0.95      0.95      0.95    347648\n",
      "\n",
      "Training Accuracy: 0.9533695001840943\n",
      "--- Test Data ---\n",
      "                              precision    recall  f1-score   support\n",
      "\n",
      "                      BENIGN       0.98      0.96      0.97     95737\n",
      "               DoS GoldenEye       0.55      0.44      0.49      2270\n",
      "   DoS GoldenEye - Attempted       0.00      0.00      0.00        24\n",
      "                    DoS Hulk       0.96      0.98      0.97     47541\n",
      "        DoS Hulk - Attempted       0.34      0.07      0.11       174\n",
      "            DoS Slowhttptest       0.29      0.55      0.38       522\n",
      "DoS Slowhttptest - Attempted       0.76      0.83      0.80      1010\n",
      "               DoS Slowloris       0.37      0.73      0.49      1158\n",
      "   DoS Slowloris - Attempted       0.00      0.00      0.00       554\n",
      "                  Heartbleed       0.08      1.00      0.15         3\n",
      "\n",
      "                    accuracy                           0.95    148993\n",
      "                   macro avg       0.43      0.56      0.44    148993\n",
      "                weighted avg       0.95      0.95      0.95    148993\n",
      "\n",
      "Test Accuracy: 0.9526353587081272\n"
     ]
    }
   ],
   "source": [
    "import pandas as pd\n",
    "from sklearn.model_selection import train_test_split\n",
    "from sklearn.discriminant_analysis import LinearDiscriminantAnalysis\n",
    "from sklearn.metrics import classification_report, accuracy_score\n",
    "\n",
    "# Assuming train_data and test_data are already defined and preprocessed\n",
    "\n",
    "# Split the train_data into features and labels\n",
    "X_train = train_data.loc[:, selected_features]\n",
    "y_train = train_data['Label']  # 'Label' is already numerical\n",
    "\n",
    "# Split the test_data into features and labels\n",
    "X_test = test_data.loc[:, selected_features]\n",
    "y_test = test_data['Label']  # 'Label' is already numerical\n",
    "\n",
    "# Initialize and train the LDA model\n",
    "lda = LinearDiscriminantAnalysis(solver='svd')\n",
    "lda.fit(X_train, y_train)\n",
    "\n",
    "# Make predictions on the training and testing data\n",
    "lda_training_predictions = lda.predict(X_train)\n",
    "lda_testing_predictions = lda.predict(X_test)\n",
    "\n",
    "# Print classification reports and accuracy scores\n",
    "print(\"--- Training Data ---\")\n",
    "print(classification_report(y_train, lda_training_predictions))\n",
    "print(\"Training Accuracy:\", accuracy_score(y_train, lda_training_predictions))\n",
    "\n",
    "print(\"--- Test Data ---\")\n",
    "print(classification_report(y_test, lda_testing_predictions))\n",
    "print(\"Test Accuracy:\", accuracy_score(y_test, lda_testing_predictions))\n",
    "\n",
    "\n"
   ]
  },
  {
   "cell_type": "code",
   "execution_count": 5,
   "id": "4c513104-5fec-4608-b533-e7eb05f91bce",
   "metadata": {},
   "outputs": [],
   "source": [
    "import pickle\n",
    "\n",
    "# Assuming 'lda' is your trained LDA model from the above code\n",
    "\n",
    "# Save the LDA model to a file\n",
    "with open('lda_model.pkl', 'wb') as file:\n",
    "    pickle.dump(lda, file)\n"
   ]
  },
  {
   "cell_type": "code",
   "execution_count": 6,
   "id": "63cb06ca-bba7-48d6-bba5-b71bc5dc6a45",
   "metadata": {},
   "outputs": [
    {
     "name": "stdout",
     "output_type": "stream",
     "text": [
      "Unique values in y_train: ['BENIGN' 'DoS GoldenEye' 'DoS GoldenEye - Attempted' 'DoS Hulk'\n",
      " 'DoS Hulk - Attempted' 'DoS Slowhttptest' 'DoS Slowhttptest - Attempted'\n",
      " 'DoS Slowloris' 'DoS Slowloris - Attempted' 'Heartbleed']\n",
      "Unique values in y_test: ['BENIGN' 'DoS GoldenEye' 'DoS GoldenEye - Attempted' 'DoS Hulk'\n",
      " 'DoS Hulk - Attempted' 'DoS Slowhttptest' 'DoS Slowhttptest - Attempted'\n",
      " 'DoS Slowloris' 'DoS Slowloris - Attempted' 'Heartbleed']\n"
     ]
    }
   ],
   "source": [
    "import numpy as np\n",
    "\n",
    "print(\"Unique values in y_train:\", np.unique(y_train))\n",
    "print(\"Unique values in y_test:\", np.unique(y_test))\n"
   ]
  }
 ],
 "metadata": {
  "kernelspec": {
   "display_name": "AnomalyTest",
   "language": "python",
   "name": "anomalytest"
  },
  "language_info": {
   "codemirror_mode": {
    "name": "ipython",
    "version": 3
   },
   "file_extension": ".py",
   "mimetype": "text/x-python",
   "name": "python",
   "nbconvert_exporter": "python",
   "pygments_lexer": "ipython3",
   "version": "3.9.18"
  }
 },
 "nbformat": 4,
 "nbformat_minor": 5
}
