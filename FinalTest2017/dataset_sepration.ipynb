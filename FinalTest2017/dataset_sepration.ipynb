{
 "cells": [
  {
   "cell_type": "code",
   "execution_count": 2,
   "id": "0d8a9954-efa9-4b0f-8389-4b73f118be77",
   "metadata": {},
   "outputs": [
    {
     "name": "stdout",
     "output_type": "stream",
     "text": [
      "Saved 143278 rows with label \"DoS Hulk\" and \"BENIGN\" to DoS Hulk_data_with_BENIGN.csv\n",
      "Saved 96747 rows with label \"DoS Slowhttptest - Attempted\" and \"BENIGN\" to DoS Slowhttptest - Attempted_data_with_BENIGN.csv\n",
      "Saved 98007 rows with label \"DoS GoldenEye\" and \"BENIGN\" to DoS GoldenEye_data_with_BENIGN.csv\n",
      "Saved 96895 rows with label \"DoS Slowloris\" and \"BENIGN\" to DoS Slowloris_data_with_BENIGN.csv\n",
      "Saved 95911 rows with label \"DoS Hulk - Attempted\" and \"BENIGN\" to DoS Hulk - Attempted_data_with_BENIGN.csv\n",
      "Saved 96259 rows with label \"DoS Slowhttptest\" and \"BENIGN\" to DoS Slowhttptest_data_with_BENIGN.csv\n",
      "Saved 96291 rows with label \"DoS Slowloris - Attempted\" and \"BENIGN\" to DoS Slowloris - Attempted_data_with_BENIGN.csv\n",
      "Saved 95761 rows with label \"DoS GoldenEye - Attempted\" and \"BENIGN\" to DoS GoldenEye - Attempted_data_with_BENIGN.csv\n",
      "Saved 95740 rows with label \"Heartbleed\" and \"BENIGN\" to Heartbleed_data_with_BENIGN.csv\n"
     ]
    }
   ],
   "source": [
    "import pandas as pd\n",
    "\n",
    "# Load the CSV file\n",
    "df = pd.read_csv('test_LDA1.csv')  # Replace 'your_input_file.csv' with your actual file path\n",
    "\n",
    "# Get unique labels from the 'Label' column\n",
    "unique_labels = df['Label'].unique()\n",
    "\n",
    "# Create separate CSV files for each unique label (including 'BENIGN')\n",
    "for label in unique_labels:\n",
    "    if label == 'BENIGN':\n",
    "        # Skip 'BENIGN' label since it will be added to each file\n",
    "        continue\n",
    "    \n",
    "    # Filter rows for the current attack label and also include 'BENIGN' label\n",
    "    filtered_df = df[(df['Label'] == label) | (df['Label'] == 'BENIGN')]\n",
    "    \n",
    "    # Define the output file path for this label\n",
    "    output_file_path = f'{label}_data_with_BENIGN.csv'  # e.g., 'Anomaly_data_with_BENIGN.csv' for label 'Anomaly'\n",
    "    \n",
    "    # Save the filtered data to the output file\n",
    "    filtered_df.to_csv(output_file_path, index=False)\n",
    "    \n",
    "    print(f'Saved {len(filtered_df)} rows with label \"{label}\" and \"BENIGN\" to {output_file_path}')\n"
   ]
  },
  {
   "cell_type": "code",
   "execution_count": null,
   "id": "3ea39111-c8bd-4e55-9c43-0c7506bfdb17",
   "metadata": {},
   "outputs": [],
   "source": []
  }
 ],
 "metadata": {
  "kernelspec": {
   "display_name": "AnomalyTest",
   "language": "python",
   "name": "anomalytest"
  },
  "language_info": {
   "codemirror_mode": {
    "name": "ipython",
    "version": 3
   },
   "file_extension": ".py",
   "mimetype": "text/x-python",
   "name": "python",
   "nbconvert_exporter": "python",
   "pygments_lexer": "ipython3",
   "version": "3.9.18"
  }
 },
 "nbformat": 4,
 "nbformat_minor": 5
}
