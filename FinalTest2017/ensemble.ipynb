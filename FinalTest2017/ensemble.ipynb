{
 "cells": [
  {
   "cell_type": "code",
   "execution_count": 8,
   "id": "fc812834-a4c9-4d39-b360-b0e9375c98ab",
   "metadata": {},
   "outputs": [],
   "source": [
    "# Load the LDA model\n",
    "import pickle\n",
    "with open('lda_model.pkl', 'rb') as file:\n",
    "    lda_model = pickle.load(file)\n",
    "\n",
    "# Load the Autoencoder model\n",
    "from keras.models import load_model\n",
    "autoencoder_model = load_model('autoencoder2_model.h5')\n",
    "\n",
    "# Now you can use these models in your ensemble\n"
   ]
  },
  {
   "cell_type": "code",
   "execution_count": 9,
   "id": "abdc7f2c-b613-4440-b3bd-9b4af745ab9e",
   "metadata": {},
   "outputs": [
    {
     "name": "stdout",
     "output_type": "stream",
     "text": [
      " 100/4657 [..............................] - ETA: 7s"
     ]
    },
    {
     "name": "stderr",
     "output_type": "stream",
     "text": [
      "2023-11-29 03:58:12.804378: I tensorflow/core/grappler/optimizers/custom_graph_optimizer_registry.cc:117] Plugin optimizer for device_type GPU is enabled.\n"
     ]
    },
    {
     "name": "stdout",
     "output_type": "stream",
     "text": [
      "4657/4657 [==============================] - 7s 1ms/step\n"
     ]
    }
   ],
   "source": [
    "import pandas as pd\n",
    "import numpy as np\n",
    "from sklearn.discriminant_analysis import LinearDiscriminantAnalysis\n",
    "from keras.models import Model\n",
    "\n",
    "# Load test data\n",
    "test_data = pd.read_csv('test_LDA1.csv')\n",
    "X_test = test_data.drop('Label', axis=1)  # Assuming 'Label' is your target column\n",
    "\n",
    "# Define the selected features\n",
    "selected_features = [\n",
    "    'Dst Port', 'Fwd Packet Length Max', 'Bwd Packet Length Max',\n",
    "    'Bwd Packet Length Mean', 'Bwd Packet Length Std', 'Flow IAT Mean',\n",
    "    'Fwd IAT Std', 'Bwd IAT Mean', 'Fwd PSH Flags', 'Bwd PSH Flags',\n",
    "    'Fwd RST Flags', 'Fwd Header Length', 'Packet Length Max',\n",
    "    'Packet Length Std', 'Fwd Segment Size Avg', 'Bwd Segment Size Avg',\n",
    "    'ICMP Type'\n",
    "]\n",
    "\n",
    "# Define your anomaly threshold after proper analysis\n",
    "anomaly_threshold = 31.2\n",
    "\n",
    "def ensemble_predict(data):\n",
    "    # Ensure that the input data contains only the selected features\n",
    "    data_selected = data[selected_features]\n",
    "    \n",
    "    # Make predictions using the autoencoder model\n",
    "    reconstructed_data = autoencoder_model.predict(data_selected)\n",
    "    \n",
    "    # Calculate the reconstruction error\n",
    "    reconstruction_error = np.mean(np.power(data_selected - reconstructed_data, 2), axis=1)\n",
    "    \n",
    "    # Determine anomalies based on the reconstruction error and threshold\n",
    "    anomalies = reconstruction_error > anomaly_threshold\n",
    "    \n",
    "    lda_predictions = None\n",
    "    if np.any(anomalies):\n",
    "        # If there are anomalies, you can use your LDA model for further predictions\n",
    "        lda_predictions = lda_model.predict(data[selected_features][anomalies])\n",
    "    \n",
    "    return data, anomalies, lda_predictions\n",
    "\n",
    "data, anomalies, lda_predictions = ensemble_predict(X_test)\n"
   ]
  },
  {
   "cell_type": "code",
   "execution_count": 12,
   "id": "9794b215-1ed1-4d05-87a8-a7ac57cc217b",
   "metadata": {},
   "outputs": [
    {
     "name": "stdout",
     "output_type": "stream",
     "text": [
      "Number of anomalies detected: 303\n",
      "Indices of anomalies: [   751   1029   1158   1203   2779   2817   3230   3937   4069   4733\n",
      "   4787   5592   5826   6026   6682   6826   7567   8322   8654   9064\n",
      "   9416  10305  10753  12536  13434  13831  14041  14047  14289  14487\n",
      "  14742  15261  15497  15939  16348  16731  17784  18104  19058  19333\n",
      "  19438  20434  20437  20494  20907  21250  22529  22637  23736  23744\n",
      "  23929  24033  24158  24933  25761  25971  26253  26718  26806  27176\n",
      "  27498  27894  27919  28307  28686  29978  30052  30278  30304  30584\n",
      "  31414  31518  32669  33025  34244  34881  35276  36743  37208  38207\n",
      "  38727  39514  39670  39773  39794  39812  40060  40802  41171  41808\n",
      "  42204  43286  43434  43559  44189  44369  44769  45388  45627  46557\n",
      "  46838  47677  47735  48011  48445  49310  49658  49666  50858  51961\n",
      "  52075  52107  53393  53675  53746  54020  54564  54588  56732  57541\n",
      "  58339  58431  59101  60227  61209  61339  61554  61573  61709  62595\n",
      "  62984  63181  63447  63933  64597  65341  65692  65958  66051  66157\n",
      "  66437  66504  67329  67542  68018  68125  69204  71129  71374  72537\n",
      "  72855  73773  74295  74519  74849  75072  75275  75516  75768  76068\n",
      "  76353  77358  77899  78032  79990  80144  80631  81460  81569  82121\n",
      "  83079  84168  84296  84634  85685  86784  86965  87904  88872  89399\n",
      "  89621  89638  90094  93834  94029  94125  94691  94921  94930  95146\n",
      "  95208  95603  96381  96910  97201  98093  98116  99606  99629  99779\n",
      " 100376 101717 101869 101968 102208 102338 102409 102594 103461 103605\n",
      " 103618 104094 104647 104926 106235 106572 108130 108396 108778 108903\n",
      " 109182 109219 110352 111250 111361 111458 112176 112857 113127 114459\n",
      " 114769 114818 115091 115451 115890 116029 116501 116977 117039 118205\n",
      " 118218 119312 120395 120717 120855 121063 121829 123593 124593 125246\n",
      " 125838 126946 127535 128299 129055 129656 130003 130044 130087 130692\n",
      " 130703 131140 131208 132396 132532 132760 132857 133509 134221 134270\n",
      " 134552 136198 136346 137110 138055 138253 139117 139120 139636 139752\n",
      " 139997 140461 141222 141243 141365 141378 141464 141653 143837 144170\n",
      " 145052 145068 145404 145520 145993 146134 147122 147387 147527 148120\n",
      " 148182 148799 148836]\n"
     ]
    },
    {
     "data": {
      "image/png": "[encoded data removed]",
      "text/plain": [
       "<Figure size 640x480 with 1 Axes>"
      ]
     },
     "metadata": {},
     "output_type": "display_data"
    }
   ],
   "source": [
    "import matplotlib.pyplot as plt  # Import matplotlib\n",
    "\n",
    "# Print and visualize the results\n",
    "print(\"Number of anomalies detected:\", np.sum(anomalies))\n",
    "print(\"Indices of anomalies:\", np.where(anomalies)[0])\n",
    "\n",
    "# Simple histogram of reconstruction errors\n",
    "reconstruction_error = np.mean(np.power(X_test - data, 2), axis=1)\n",
    "plt.hist(reconstruction_error, bins=50)\n",
    "plt.xlabel(\"Reconstruction Error\")\n",
    "plt.ylabel(\"Frequency\")\n",
    "plt.title(\"Histogram of Reconstruction Errors\")\n",
    "plt.show()"
   ]
  },
  {
   "cell_type": "code",
   "execution_count": 13,
   "id": "4121f7c3-6cd6-4b78-9c6b-1e72335f6416",
   "metadata": {},
   "outputs": [
    {
     "name": "stdout",
     "output_type": "stream",
     "text": [
      "LDA Predictions:\n",
      "['Heartbleed' 'DoS Slowloris' 'BENIGN' 'BENIGN' 'DoS Hulk' 'BENIGN'\n",
      " 'BENIGN' 'BENIGN' 'BENIGN' 'Heartbleed' 'BENIGN' 'BENIGN' 'BENIGN'\n",
      " 'BENIGN' 'BENIGN' 'DoS GoldenEye' 'BENIGN' 'BENIGN' 'BENIGN' 'BENIGN'\n",
      " 'BENIGN' 'BENIGN' 'BENIGN' 'BENIGN' 'Heartbleed' 'BENIGN'\n",
      " 'DoS GoldenEye - Attempted' 'BENIGN' 'BENIGN' 'BENIGN' 'BENIGN' 'BENIGN'\n",
      " 'BENIGN' 'BENIGN' 'BENIGN' 'BENIGN' 'BENIGN' 'BENIGN' 'DoS Hulk' 'BENIGN'\n",
      " 'BENIGN' 'BENIGN' 'BENIGN' 'BENIGN' 'Heartbleed' 'BENIGN' 'BENIGN'\n",
      " 'BENIGN' 'Heartbleed' 'BENIGN' 'BENIGN' 'Heartbleed' 'BENIGN' 'BENIGN'\n",
      " 'BENIGN' 'BENIGN' 'BENIGN' 'BENIGN' 'BENIGN' 'BENIGN' 'BENIGN' 'BENIGN'\n",
      " 'BENIGN' 'DoS Hulk' 'BENIGN' 'BENIGN' 'Heartbleed' 'BENIGN' 'BENIGN'\n",
      " 'Heartbleed' 'DoS Slowloris' 'BENIGN' 'BENIGN' 'BENIGN' 'Heartbleed'\n",
      " 'BENIGN' 'BENIGN' 'BENIGN' 'BENIGN' 'BENIGN' 'BENIGN' 'BENIGN' 'BENIGN'\n",
      " 'BENIGN' 'BENIGN' 'BENIGN' 'DoS Hulk' 'BENIGN' 'Heartbleed' 'BENIGN'\n",
      " 'BENIGN' 'BENIGN' 'BENIGN' 'DoS Hulk' 'DoS Slowloris' 'BENIGN' 'BENIGN'\n",
      " 'DoS Slowloris' 'BENIGN' 'DoS GoldenEye - Attempted' 'BENIGN' 'BENIGN'\n",
      " 'BENIGN' 'BENIGN' 'BENIGN' 'DoS Slowhttptest' 'BENIGN' 'DoS Slowloris'\n",
      " 'Heartbleed' 'BENIGN' 'BENIGN' 'BENIGN' 'Heartbleed' 'Heartbleed'\n",
      " 'Heartbleed' 'BENIGN' 'Heartbleed' 'BENIGN' 'BENIGN' 'BENIGN' 'BENIGN'\n",
      " 'DoS Hulk' 'BENIGN' 'BENIGN' 'Heartbleed' 'BENIGN' 'DoS Slowloris'\n",
      " 'BENIGN' 'BENIGN' 'BENIGN' 'Heartbleed' 'DoS Hulk' 'DoS Hulk' 'BENIGN'\n",
      " 'DoS GoldenEye - Attempted' 'BENIGN' 'BENIGN' 'Heartbleed' 'Heartbleed'\n",
      " 'BENIGN' 'BENIGN' 'DoS Hulk' 'BENIGN' 'BENIGN' 'BENIGN' 'BENIGN'\n",
      " 'DoS Slowloris' 'BENIGN' 'DoS Slowloris' 'BENIGN' 'DoS Hulk' 'BENIGN'\n",
      " 'BENIGN' 'Heartbleed' 'BENIGN' 'Heartbleed' 'BENIGN' 'BENIGN' 'BENIGN'\n",
      " 'BENIGN' 'Heartbleed' 'BENIGN' 'BENIGN' 'Heartbleed' 'BENIGN' 'BENIGN'\n",
      " 'BENIGN' 'BENIGN' 'BENIGN' 'DoS Hulk' 'BENIGN' 'DoS Hulk' 'BENIGN'\n",
      " 'BENIGN' 'BENIGN' 'BENIGN' 'BENIGN' 'Heartbleed' 'BENIGN' 'Heartbleed'\n",
      " 'BENIGN' 'BENIGN' 'BENIGN' 'BENIGN' 'Heartbleed' 'BENIGN' 'BENIGN'\n",
      " 'Heartbleed' 'BENIGN' 'BENIGN' 'Heartbleed' 'BENIGN' 'BENIGN' 'BENIGN'\n",
      " 'BENIGN' 'BENIGN' 'BENIGN' 'BENIGN' 'BENIGN' 'BENIGN' 'DoS Slowloris'\n",
      " 'BENIGN' 'BENIGN' 'BENIGN' 'BENIGN' 'BENIGN' 'BENIGN' 'BENIGN' 'BENIGN'\n",
      " 'BENIGN' 'BENIGN' 'BENIGN' 'Heartbleed' 'BENIGN' 'BENIGN' 'BENIGN'\n",
      " 'BENIGN' 'BENIGN' 'DoS Slowloris' 'BENIGN' 'BENIGN' 'Heartbleed' 'BENIGN'\n",
      " 'DoS Slowhttptest' 'BENIGN' 'BENIGN' 'BENIGN' 'BENIGN' 'BENIGN'\n",
      " 'DoS Hulk' 'BENIGN' 'BENIGN' 'BENIGN' 'BENIGN' 'BENIGN' 'BENIGN' 'BENIGN'\n",
      " 'BENIGN' 'BENIGN' 'BENIGN' 'BENIGN' 'BENIGN' 'BENIGN' 'BENIGN' 'BENIGN'\n",
      " 'BENIGN' 'BENIGN' 'BENIGN' 'BENIGN' 'BENIGN' 'BENIGN' 'Heartbleed'\n",
      " 'BENIGN' 'BENIGN' 'BENIGN' 'BENIGN' 'BENIGN' 'BENIGN' 'BENIGN' 'BENIGN'\n",
      " 'DoS Slowhttptest' 'Heartbleed' 'BENIGN' 'DoS GoldenEye - Attempted'\n",
      " 'BENIGN' 'BENIGN' 'BENIGN' 'BENIGN' 'BENIGN' 'DoS Hulk' 'Heartbleed'\n",
      " 'BENIGN' 'BENIGN' 'BENIGN' 'BENIGN' 'BENIGN' 'Heartbleed' 'BENIGN'\n",
      " 'BENIGN' 'DoS Slowloris' 'BENIGN' 'BENIGN' 'BENIGN' 'Heartbleed' 'BENIGN'\n",
      " 'Heartbleed' 'BENIGN' 'BENIGN' 'BENIGN' 'BENIGN' 'BENIGN' 'BENIGN'\n",
      " 'BENIGN' 'BENIGN' 'BENIGN' 'Heartbleed' 'BENIGN' 'BENIGN' 'BENIGN'\n",
      " 'BENIGN' 'BENIGN' 'BENIGN' 'BENIGN']\n"
     ]
    }
   ],
   "source": [
    "# Print LDA predictions\n",
    "print(\"LDA Predictions:\")\n",
    "print(lda_predictions)"
   ]
  },
  {
   "cell_type": "code",
   "execution_count": 14,
   "id": "181b3273-a045-4f88-8f40-062796d8383c",
   "metadata": {},
   "outputs": [
    {
     "name": "stdout",
     "output_type": "stream",
     "text": [
      "Precision: 1.0\n",
      "Recall: 1.0\n",
      "F1-Score: 1.0\n"
     ]
    }
   ],
   "source": [
    "from sklearn.metrics import precision_score, recall_score, f1_score\n",
    "\n",
    "# Assuming y_true is the ground truth labels for anomalies\n",
    "y_true = np.where(anomalies, 1, 0)\n",
    "\n",
    "# Assuming y_pred is the predicted labels for anomalies\n",
    "y_pred = np.where(anomalies, 1, 0)  # You can replace this with your anomaly predictions\n",
    "\n",
    "# Compute precision, recall, and F1-Score\n",
    "precision = precision_score(y_true, y_pred)\n",
    "recall = recall_score(y_true, y_pred)\n",
    "f1 = f1_score(y_true, y_pred)\n",
    "\n",
    "print(f\"Precision: {precision}\")\n",
    "print(f\"Recall: {recall}\")\n",
    "print(f\"F1-Score: {f1}\")"
   ]
  },
  {
   "cell_type": "code",
   "execution_count": 15,
   "id": "2896192b-99fc-44bc-949d-4fbf260cb11e",
   "metadata": {},
   "outputs": [
    {
     "data": {
      "image/png": "[encoded data removed]",
      "text/plain": [
       "<Figure size 800x600 with 1 Axes>"
      ]
     },
     "metadata": {},
     "output_type": "display_data"
    }
   ],
   "source": [
    "from sklearn.metrics import confusion_matrix\n",
    "import seaborn as sns\n",
    "import matplotlib.pyplot as plt\n",
    "\n",
    "conf_matrix = confusion_matrix(y_true, y_pred)\n",
    "\n",
    "# Plot the confusion matrix\n",
    "plt.figure(figsize=(8, 6))\n",
    "sns.heatmap(conf_matrix, annot=True, fmt='d', cmap='Blues', cbar=False)\n",
    "plt.xlabel(\"Predicted Labels\")\n",
    "plt.ylabel(\"True Labels\")\n",
    "plt.title(\"Confusion Matrix\")\n",
    "plt.show()\n"
   ]
  },
  {
   "cell_type": "code",
   "execution_count": null,
   "id": "0d691697-44ba-42b8-a2ff-e80902865f80",
   "metadata": {},
   "outputs": [],
   "source": []
  }
 ],
 "metadata": {
  "kernelspec": {
   "display_name": "AnomalyTest",
   "language": "python",
   "name": "anomalytest"
  },
  "language_info": {
   "codemirror_mode": {
    "name": "ipython",
    "version": 3
   },
   "file_extension": ".py",
   "mimetype": "text/x-python",
   "name": "python",
   "nbconvert_exporter": "python",
   "pygments_lexer": "ipython3",
   "version": "3.9.18"
  }
 },
 "nbformat": 4,
 "nbformat_minor": 5
}
