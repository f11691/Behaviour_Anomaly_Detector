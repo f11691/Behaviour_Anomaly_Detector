{
 "cells": [
  {
   "cell_type": "code",
   "execution_count": 4,
   "id": "8dbbda17-7c29-46d2-8091-8f0548e35365",
   "metadata": {},
   "outputs": [
    {
     "name": "stdout",
     "output_type": "stream",
     "text": [
      "Combined Features (Union): {5, 9, 12, 13, 14, 24, 27, 29, 40, 47, 48, 51, 54, 56, 58, 59, 60, 61, 62, 63, 64, 74, 77, 78, 79, 101, 108, 109, 111, 112}\n",
      "Combined Features (Intersection): {12, 77, 108, 111, 54, 58, 27, 61, 62, 63}\n"
     ]
    },
    {
     "name": "stderr",
     "output_type": "stream",
     "text": [
      "/Users/christinastodt/anaconda3/envs/AnomalyTest/lib/python3.9/site-packages/sklearn/linear_model/_logistic.py:460: ConvergenceWarning: lbfgs failed to converge (status=1):\n",
      "STOP: TOTAL NO. of ITERATIONS REACHED LIMIT.\n",
      "\n",
      "Increase the number of iterations (max_iter) or scale the data as shown in:\n",
      "    https://scikit-learn.org/stable/modules/preprocessing.html\n",
      "Please also refer to the documentation for alternative solver options:\n",
      "    https://scikit-learn.org/stable/modules/linear_model.html#logistic-regression\n",
      "  n_iter_i = _check_optimize_result(\n"
     ]
    }
   ],
   "source": [
    "# Ensure you have installed necessary packages\n",
    "# pip install numpy pandas scikit-learn\n",
    "\n",
    "import pandas as pd\n",
    "from sklearn.impute import SimpleImputer\n",
    "from sklearn.preprocessing import StandardScaler\n",
    "from sklearn.ensemble import RandomForestClassifier\n",
    "from sklearn.linear_model import LogisticRegression\n",
    "import numpy as np\n",
    "import gc  # Garbage collector interface\n",
    "\n",
    "# Load your dataset\n",
    "# Consider reading a subset of data if it's very large or use dtype optimizations\n",
    "df = pd.read_csv('dataset.csv', header=None)\n",
    "df1 = pd.read_csv('dataset.csv')\n",
    "X = df.values\n",
    "y = df1['x']\n",
    "\n",
    "# Deleting the original dataframes to free up memory\n",
    "del df, df1\n",
    "gc.collect()\n",
    "\n",
    "# Handle missing values\n",
    "imputer = SimpleImputer(strategy='mean')\n",
    "X = imputer.fit_transform(X)\n",
    "\n",
    "# Scale features\n",
    "scaler = StandardScaler()\n",
    "X = scaler.fit_transform(X)\n",
    "\n",
    "# Train RandomForestClassifier\n",
    "model_rf = RandomForestClassifier(n_jobs=-1)  # using all cores\n",
    "model_rf.fit(X, y)\n",
    "\n",
    "# Calculate feature importances and sort them\n",
    "feature_importances_rf = model_rf.feature_importances_\n",
    "indices_rf = np.argsort(feature_importances_rf)[::-1]\n",
    "\n",
    "# Train LogisticRegression\n",
    "model_lr = LogisticRegression(max_iter=1000, n_jobs=-1)  # using all cores, increased max_iter\n",
    "model_lr.fit(X, y)\n",
    "\n",
    "# Calculate absolute coefficients and sort them\n",
    "coefficients_lr = model_lr.coef_[0]\n",
    "indices_lr = np.argsort(np.abs(coefficients_lr))[::-1]\n",
    "\n",
    "# Select top N features from each model\n",
    "top_n = 10  # Modify as needed\n",
    "top_features_rf = set(indices_rf[:top_n])\n",
    "top_features_lr = set(indices_lr[:top_n])\n",
    "\n",
    "# Combine features\n",
    "combined_features_union = top_features_rf | top_features_lr\n",
    "combined_features_intersection = top_features_rf & top_features_lr\n",
    "\n",
    "# Output combined features\n",
    "print(\"Combined Features (Union):\", combined_features_union)\n",
    "print(\"Combined Features (Intersection):\", combined_features_intersection)\n"
   ]
  },
  {
   "cell_type": "code",
   "execution_count": null,
   "id": "1b969137-12c3-4f4f-acb4-d660c799599f",
   "metadata": {},
   "outputs": [],
   "source": []
  }
 ],
 "metadata": {
  "kernelspec": {
   "display_name": "AnomalyTest",
   "language": "python",
   "name": "anomalytest"
  },
  "language_info": {
   "codemirror_mode": {
    "name": "ipython",
    "version": 3
   },
   "file_extension": ".py",
   "mimetype": "text/x-python",
   "name": "python",
   "nbconvert_exporter": "python",
   "pygments_lexer": "ipython3",
   "version": "3.9.18"
  }
 },
 "nbformat": 4,
 "nbformat_minor": 5
}
