{
 "cells": [
  {
   "cell_type": "code",
   "execution_count": 1,
   "id": "9e5c6d50-eeb7-4f55-8c34-a6be2dfe6d2b",
   "metadata": {},
   "outputs": [
    {
     "name": "stdout",
     "output_type": "stream",
     "text": [
      "Requirement already satisfied: keras in /Users/christinastodt/anaconda3/envs/AnomalyTest/lib/python3.9/site-packages (2.14.0)\n",
      "Requirement already satisfied: tensorflow in /Users/christinastodt/anaconda3/envs/AnomalyTest/lib/python3.9/site-packages (2.14.0)\n",
      "Requirement already satisfied: scikit-learn in /Users/christinastodt/anaconda3/envs/AnomalyTest/lib/python3.9/site-packages (1.3.1)\n",
      "Requirement already satisfied: numpy in /Users/christinastodt/anaconda3/envs/AnomalyTest/lib/python3.9/site-packages (1.26.0)\n",
      "Requirement already satisfied: tensorflow-macos==2.14.0 in /Users/christinastodt/anaconda3/envs/AnomalyTest/lib/python3.9/site-packages (from tensorflow) (2.14.0)\n",
      "Requirement already satisfied: absl-py>=1.0.0 in /Users/christinastodt/anaconda3/envs/AnomalyTest/lib/python3.9/site-packages (from tensorflow-macos==2.14.0->tensorflow) (2.0.0)\n",
      "Requirement already satisfied: astunparse>=1.6.0 in /Users/christinastodt/anaconda3/envs/AnomalyTest/lib/python3.9/site-packages (from tensorflow-macos==2.14.0->tensorflow) (1.6.3)\n",
      "Requirement already satisfied: flatbuffers>=23.5.26 in /Users/christinastodt/anaconda3/envs/AnomalyTest/lib/python3.9/site-packages (from tensorflow-macos==2.14.0->tensorflow) (23.5.26)\n",
      "Requirement already satisfied: gast!=0.5.0,!=0.5.1,!=0.5.2,>=0.2.1 in /Users/christinastodt/anaconda3/envs/AnomalyTest/lib/python3.9/site-packages (from tensorflow-macos==2.14.0->tensorflow) (0.5.4)\n",
      "Requirement already satisfied: google-pasta>=0.1.1 in /Users/christinastodt/anaconda3/envs/AnomalyTest/lib/python3.9/site-packages (from tensorflow-macos==2.14.0->tensorflow) (0.2.0)\n",
      "Requirement already satisfied: h5py>=2.9.0 in /Users/christinastodt/anaconda3/envs/AnomalyTest/lib/python3.9/site-packages (from tensorflow-macos==2.14.0->tensorflow) (3.10.0)\n",
      "Requirement already satisfied: libclang>=13.0.0 in /Users/christinastodt/anaconda3/envs/AnomalyTest/lib/python3.9/site-packages (from tensorflow-macos==2.14.0->tensorflow) (16.0.6)\n",
      "Requirement already satisfied: ml-dtypes==0.2.0 in /Users/christinastodt/anaconda3/envs/AnomalyTest/lib/python3.9/site-packages (from tensorflow-macos==2.14.0->tensorflow) (0.2.0)\n",
      "Requirement already satisfied: opt-einsum>=2.3.2 in /Users/christinastodt/anaconda3/envs/AnomalyTest/lib/python3.9/site-packages (from tensorflow-macos==2.14.0->tensorflow) (3.3.0)\n",
      "Requirement already satisfied: packaging in /Users/christinastodt/anaconda3/envs/AnomalyTest/lib/python3.9/site-packages (from tensorflow-macos==2.14.0->tensorflow) (23.1)\n",
      "Requirement already satisfied: protobuf!=4.21.0,!=4.21.1,!=4.21.2,!=4.21.3,!=4.21.4,!=4.21.5,<5.0.0dev,>=3.20.3 in /Users/christinastodt/anaconda3/envs/AnomalyTest/lib/python3.9/site-packages (from tensorflow-macos==2.14.0->tensorflow) (4.24.4)\n",
      "Requirement already satisfied: setuptools in /Users/christinastodt/anaconda3/envs/AnomalyTest/lib/python3.9/site-packages (from tensorflow-macos==2.14.0->tensorflow) (68.0.0)\n",
      "Requirement already satisfied: six>=1.12.0 in /Users/christinastodt/anaconda3/envs/AnomalyTest/lib/python3.9/site-packages (from tensorflow-macos==2.14.0->tensorflow) (1.16.0)\n",
      "Requirement already satisfied: termcolor>=1.1.0 in /Users/christinastodt/anaconda3/envs/AnomalyTest/lib/python3.9/site-packages (from tensorflow-macos==2.14.0->tensorflow) (2.3.0)\n",
      "Requirement already satisfied: typing-extensions>=3.6.6 in /Users/christinastodt/anaconda3/envs/AnomalyTest/lib/python3.9/site-packages (from tensorflow-macos==2.14.0->tensorflow) (4.7.1)\n",
      "Requirement already satisfied: wrapt<1.15,>=1.11.0 in /Users/christinastodt/anaconda3/envs/AnomalyTest/lib/python3.9/site-packages (from tensorflow-macos==2.14.0->tensorflow) (1.14.1)\n",
      "Requirement already satisfied: tensorflow-io-gcs-filesystem>=0.23.1 in /Users/christinastodt/anaconda3/envs/AnomalyTest/lib/python3.9/site-packages (from tensorflow-macos==2.14.0->tensorflow) (0.34.0)\n",
      "Requirement already satisfied: grpcio<2.0,>=1.24.3 in /Users/christinastodt/anaconda3/envs/AnomalyTest/lib/python3.9/site-packages (from tensorflow-macos==2.14.0->tensorflow) (1.59.0)\n",
      "Requirement already satisfied: tensorboard<2.15,>=2.14 in /Users/christinastodt/anaconda3/envs/AnomalyTest/lib/python3.9/site-packages (from tensorflow-macos==2.14.0->tensorflow) (2.14.1)\n",
      "Requirement already satisfied: tensorflow-estimator<2.15,>=2.14.0 in /Users/christinastodt/anaconda3/envs/AnomalyTest/lib/python3.9/site-packages (from tensorflow-macos==2.14.0->tensorflow) (2.14.0)\n",
      "Requirement already satisfied: scipy>=1.5.0 in /Users/christinastodt/anaconda3/envs/AnomalyTest/lib/python3.9/site-packages (from scikit-learn) (1.11.3)\n",
      "Requirement already satisfied: joblib>=1.1.1 in /Users/christinastodt/anaconda3/envs/AnomalyTest/lib/python3.9/site-packages (from scikit-learn) (1.3.2)\n",
      "Requirement already satisfied: threadpoolctl>=2.0.0 in /Users/christinastodt/anaconda3/envs/AnomalyTest/lib/python3.9/site-packages (from scikit-learn) (3.2.0)\n",
      "Requirement already satisfied: wheel<1.0,>=0.23.0 in /Users/christinastodt/anaconda3/envs/AnomalyTest/lib/python3.9/site-packages (from astunparse>=1.6.0->tensorflow-macos==2.14.0->tensorflow) (0.41.2)\n",
      "Requirement already satisfied: google-auth<3,>=1.6.3 in /Users/christinastodt/anaconda3/envs/AnomalyTest/lib/python3.9/site-packages (from tensorboard<2.15,>=2.14->tensorflow-macos==2.14.0->tensorflow) (2.23.3)\n",
      "Requirement already satisfied: google-auth-oauthlib<1.1,>=0.5 in /Users/christinastodt/anaconda3/envs/AnomalyTest/lib/python3.9/site-packages (from tensorboard<2.15,>=2.14->tensorflow-macos==2.14.0->tensorflow) (1.0.0)\n",
      "Requirement already satisfied: markdown>=2.6.8 in /Users/christinastodt/anaconda3/envs/AnomalyTest/lib/python3.9/site-packages (from tensorboard<2.15,>=2.14->tensorflow-macos==2.14.0->tensorflow) (3.5)\n",
      "Requirement already satisfied: requests<3,>=2.21.0 in /Users/christinastodt/anaconda3/envs/AnomalyTest/lib/python3.9/site-packages (from tensorboard<2.15,>=2.14->tensorflow-macos==2.14.0->tensorflow) (2.31.0)\n",
      "Requirement already satisfied: tensorboard-data-server<0.8.0,>=0.7.0 in /Users/christinastodt/anaconda3/envs/AnomalyTest/lib/python3.9/site-packages (from tensorboard<2.15,>=2.14->tensorflow-macos==2.14.0->tensorflow) (0.7.1)\n",
      "Requirement already satisfied: werkzeug>=1.0.1 in /Users/christinastodt/anaconda3/envs/AnomalyTest/lib/python3.9/site-packages (from tensorboard<2.15,>=2.14->tensorflow-macos==2.14.0->tensorflow) (3.0.0)\n",
      "Requirement already satisfied: cachetools<6.0,>=2.0.0 in /Users/christinastodt/anaconda3/envs/AnomalyTest/lib/python3.9/site-packages (from google-auth<3,>=1.6.3->tensorboard<2.15,>=2.14->tensorflow-macos==2.14.0->tensorflow) (5.3.1)\n",
      "Requirement already satisfied: pyasn1-modules>=0.2.1 in /Users/christinastodt/anaconda3/envs/AnomalyTest/lib/python3.9/site-packages (from google-auth<3,>=1.6.3->tensorboard<2.15,>=2.14->tensorflow-macos==2.14.0->tensorflow) (0.3.0)\n",
      "Requirement already satisfied: rsa<5,>=3.1.4 in /Users/christinastodt/anaconda3/envs/AnomalyTest/lib/python3.9/site-packages (from google-auth<3,>=1.6.3->tensorboard<2.15,>=2.14->tensorflow-macos==2.14.0->tensorflow) (4.9)\n",
      "Requirement already satisfied: requests-oauthlib>=0.7.0 in /Users/christinastodt/anaconda3/envs/AnomalyTest/lib/python3.9/site-packages (from google-auth-oauthlib<1.1,>=0.5->tensorboard<2.15,>=2.14->tensorflow-macos==2.14.0->tensorflow) (1.3.1)\n",
      "Requirement already satisfied: importlib-metadata>=4.4 in /Users/christinastodt/anaconda3/envs/AnomalyTest/lib/python3.9/site-packages (from markdown>=2.6.8->tensorboard<2.15,>=2.14->tensorflow-macos==2.14.0->tensorflow) (6.0.0)\n",
      "Requirement already satisfied: charset-normalizer<4,>=2 in /Users/christinastodt/anaconda3/envs/AnomalyTest/lib/python3.9/site-packages (from requests<3,>=2.21.0->tensorboard<2.15,>=2.14->tensorflow-macos==2.14.0->tensorflow) (3.3.0)\n",
      "Requirement already satisfied: idna<4,>=2.5 in /Users/christinastodt/anaconda3/envs/AnomalyTest/lib/python3.9/site-packages (from requests<3,>=2.21.0->tensorboard<2.15,>=2.14->tensorflow-macos==2.14.0->tensorflow) (3.4)\n",
      "Requirement already satisfied: urllib3<3,>=1.21.1 in /Users/christinastodt/anaconda3/envs/AnomalyTest/lib/python3.9/site-packages (from requests<3,>=2.21.0->tensorboard<2.15,>=2.14->tensorflow-macos==2.14.0->tensorflow) (2.0.6)\n",
      "Requirement already satisfied: certifi>=2017.4.17 in /Users/christinastodt/anaconda3/envs/AnomalyTest/lib/python3.9/site-packages (from requests<3,>=2.21.0->tensorboard<2.15,>=2.14->tensorflow-macos==2.14.0->tensorflow) (2023.7.22)\n",
      "Requirement already satisfied: MarkupSafe>=2.1.1 in /Users/christinastodt/anaconda3/envs/AnomalyTest/lib/python3.9/site-packages (from werkzeug>=1.0.1->tensorboard<2.15,>=2.14->tensorflow-macos==2.14.0->tensorflow) (2.1.3)\n",
      "Requirement already satisfied: zipp>=0.5 in /Users/christinastodt/anaconda3/envs/AnomalyTest/lib/python3.9/site-packages (from importlib-metadata>=4.4->markdown>=2.6.8->tensorboard<2.15,>=2.14->tensorflow-macos==2.14.0->tensorflow) (3.11.0)\n",
      "Requirement already satisfied: pyasn1<0.6.0,>=0.4.6 in /Users/christinastodt/anaconda3/envs/AnomalyTest/lib/python3.9/site-packages (from pyasn1-modules>=0.2.1->google-auth<3,>=1.6.3->tensorboard<2.15,>=2.14->tensorflow-macos==2.14.0->tensorflow) (0.5.0)\n",
      "Requirement already satisfied: oauthlib>=3.0.0 in /Users/christinastodt/anaconda3/envs/AnomalyTest/lib/python3.9/site-packages (from requests-oauthlib>=0.7.0->google-auth-oauthlib<1.1,>=0.5->tensorboard<2.15,>=2.14->tensorflow-macos==2.14.0->tensorflow) (3.2.2)\n",
      "Note: you may need to restart the kernel to use updated packages.\n"
     ]
    }
   ],
   "source": [
    "pip install keras tensorflow scikit-learn numpy\n"
   ]
  },
  {
   "cell_type": "code",
   "execution_count": 2,
   "id": "d48bba16-1be3-440e-aa3d-e2b87fe04037",
   "metadata": {},
   "outputs": [],
   "source": [
    "import pandas as pd\n",
    "from sklearn.model_selection import train_test_split\n",
    "from sklearn.discriminant_analysis import LinearDiscriminantAnalysis\n",
    "from sklearn.metrics import classification_report, accuracy_score\n",
    "\n",
    "# Load ARP MITM data and labels\n",
    "arp_mitm_data = pd.read_csv('ARP_MitM_dataset.csv')\n",
    "arp_mitm_labels = pd.read_csv('ARP_MitM_labels.csv')\n",
    "\n",
    "# Use the union of features for training and evaluation\n",
    "selected_features = [12, 77, 108, 111, 54, 58, 27, 61, 62, 63]\n",
    "arp_mitm_data = arp_mitm_data.iloc[:, selected_features]\n",
    "\n",
    "# Add labels to the dataset\n",
    "arp_mitm_data['Label'] = arp_mitm_labels['x'] # Adjust if the column name is different\n",
    "\n",
    "# Split the full data into training and testing sets\n",
    "X_full = arp_mitm_data.drop(columns=['Label'])\n",
    "y_full = arp_mitm_data['Label']\n",
    "X_train_full, X_test, y_train_full, y_test = train_test_split(X_full, y_full, test_size=0.2, shuffle=True)\n",
    "\n",
    "# Filter the training set for benign cases (label = 0)\n",
    "X_train = X_train_full[y_train_full == 0]\n",
    "y_train = y_train_full[y_train_full == 0]\n",
    "\n",
    "# Now proceed with your model training using X_train and y_train\n",
    "# and model evaluation using X_test and y_test\n",
    "\n"
   ]
  },
  {
   "cell_type": "code",
   "execution_count": 3,
   "id": "5cb336a7-cc84-4369-9df6-e0df9a441598",
   "metadata": {},
   "outputs": [],
   "source": [
    "# In[5]:\n",
    "from keras.layers import Input, Dense, Dropout\n",
    "from keras.models import Model\n",
    "from keras.optimizers import Adam\n",
    "from sklearn.preprocessing import StandardScaler\n",
    "from keras.callbacks import EarlyStopping\n",
    "\n",
    "def create_autoencoder(input_dim):\n",
    "    # Define the sizes of the encoded representations\n",
    "    encoding_dim_1 = int(input_dim / 2)\n",
    "    encoding_dim_2 = int(encoding_dim_1 / 2)\n",
    "    bottleneck_dim = int(encoding_dim_2 / 2)\n",
    "\n",
    "    # Define input layer\n",
    "    input_layer = Input(shape=(input_dim,))\n",
    "\n",
    "    # Define encoding layers\n",
    "    encoded_1 = Dense(encoding_dim_1, activation='relu')(input_layer)\n",
    "    encoded_1 = Dropout(0.3)(encoded_1)  # Dropout layer\n",
    "    encoded_2 = Dense(encoding_dim_2, activation='relu')(encoded_1)\n",
    "    encoded_2 = Dropout(0.3)(encoded_2)  # Dropout layer\n",
    "    bottleneck = Dense(bottleneck_dim, activation='relu')(encoded_2)\n",
    "\n",
    "    # Define decoding layers\n",
    "    decoded_1 = Dense(encoding_dim_2, activation='relu')(bottleneck)\n",
    "    decoded_1 = Dropout(0.3)(decoded_1)  # Dropout layer\n",
    "    decoded_2 = Dense(encoding_dim_1, activation='relu')(decoded_1)\n",
    "    decoded_2 = Dropout(0.3)(decoded_2)  # Dropout layer\n",
    "    output_layer = Dense(input_dim, activation='sigmoid')(decoded_2)\n",
    "\n",
    "    # Combine the layers to create the autoencoder model\n",
    "    autoencoder = Model(input_layer, output_layer)\n",
    "\n",
    "    return autoencoder"
   ]
  },
  {
   "cell_type": "code",
   "execution_count": 4,
   "id": "1853339f-2313-4510-95b8-bb5a9820f801",
   "metadata": {},
   "outputs": [
    {
     "name": "stderr",
     "output_type": "stream",
     "text": [
      "2023-11-30 00:37:32.335062: I metal_plugin/src/device/metal_device.cc:1154] Metal device set to: Apple M2 Pro\n",
      "2023-11-30 00:37:32.335083: I metal_plugin/src/device/metal_device.cc:296] systemMemory: 32.00 GB\n",
      "2023-11-30 00:37:32.335088: I metal_plugin/src/device/metal_device.cc:313] maxCacheSize: 10.67 GB\n",
      "2023-11-30 00:37:32.335116: I tensorflow/core/common_runtime/pluggable_device/pluggable_device_factory.cc:306] Could not identify NUMA node of platform GPU ID 0, defaulting to 0. Your kernel may not have been built with NUMA support.\n",
      "2023-11-30 00:37:32.335132: I tensorflow/core/common_runtime/pluggable_device/pluggable_device_factory.cc:272] Created TensorFlow device (/job:localhost/replica:0/task:0/device:GPU:0 with 0 MB memory) -> physical PluggableDevice (device: 0, name: METAL, pci bus id: <undefined>)\n"
     ]
    },
    {
     "name": "stdout",
     "output_type": "stream",
     "text": [
      "Epoch 1/50\n"
     ]
    },
    {
     "name": "stderr",
     "output_type": "stream",
     "text": [
      "2023-11-30 00:37:32.841633: I tensorflow/core/grappler/optimizers/custom_graph_optimizer_registry.cc:117] Plugin optimizer for device_type GPU is enabled.\n",
      "2023-11-30 00:37:32.881977: E tensorflow/core/grappler/optimizers/meta_optimizer.cc:961] model_pruner failed: INVALID_ARGUMENT: Graph does not contain terminal node Adam/AssignAddVariableOp.\n"
     ]
    },
    {
     "name": "stdout",
     "output_type": "stream",
     "text": [
      "4250/4250 [==============================] - 36s 8ms/step - loss: 0.8914 - val_loss: 0.9135\n",
      "Epoch 2/50\n",
      "4250/4250 [==============================] - 35s 8ms/step - loss: 0.8297 - val_loss: 0.7995\n",
      "Epoch 3/50\n",
      "4250/4250 [==============================] - 35s 8ms/step - loss: 0.8061 - val_loss: 0.8805\n",
      "Epoch 4/50\n",
      "4250/4250 [==============================] - 35s 8ms/step - loss: 0.7937 - val_loss: 0.7969\n",
      "Epoch 5/50\n",
      "4250/4250 [==============================] - 35s 8ms/step - loss: 0.7974 - val_loss: 0.8882\n",
      "Epoch 6/50\n",
      "4250/4250 [==============================] - 35s 8ms/step - loss: 0.7941 - val_loss: 0.7958\n",
      "Epoch 7/50\n",
      "4250/4250 [==============================] - 35s 8ms/step - loss: 0.7938 - val_loss: 0.7960\n",
      "Epoch 8/50\n",
      "4250/4250 [==============================] - 35s 8ms/step - loss: 0.8064 - val_loss: 0.7820\n",
      "Epoch 9/50\n",
      "4250/4250 [==============================] - 35s 8ms/step - loss: 0.7961 - val_loss: 0.7966\n",
      "Epoch 10/50\n",
      "4250/4250 [==============================] - 36s 8ms/step - loss: 0.8117 - val_loss: 0.7907\n",
      "Epoch 11/50\n",
      "4250/4250 [==============================] - 35s 8ms/step - loss: 0.8114 - val_loss: 0.7899\n",
      "Epoch 12/50\n",
      "4250/4250 [==============================] - 35s 8ms/step - loss: 0.9860 - val_loss: 0.7989\n",
      "Epoch 13/50\n",
      "4250/4250 [==============================] - 35s 8ms/step - loss: 0.9792 - val_loss: 0.7959\n"
     ]
    },
    {
     "data": {
      "text/plain": [
       "<keras.src.callbacks.History at 0x2a6cd1d60>"
      ]
     },
     "execution_count": 4,
     "metadata": {},
     "output_type": "execute_result"
    }
   ],
   "source": [
    "# In[6]:\n",
    "# 1. Feature Scaling:\n",
    "scaler = StandardScaler().fit(X_train)\n",
    "X_train_scaled = scaler.transform(X_train)\n",
    "X_test_scaled = scaler.transform(X_test)\n",
    "\n",
    "# 2. Model Creation and Compilation:\n",
    "input_dim = X_train_scaled.shape[1]\n",
    "autoencoder = create_autoencoder(input_dim)\n",
    "autoencoder.compile(optimizer=Adam(learning_rate=0.001), loss='mean_squared_error')\n",
    "\n",
    "# 3. Early Stopping:\n",
    "early_stopping = EarlyStopping(monitor='val_loss', patience=5, restore_best_weights=True)\n",
    "\n",
    "# 4. Training the Model:\n",
    "autoencoder.fit(X_train_scaled, X_train_scaled,\n",
    "                epochs=50,\n",
    "                batch_size=256,\n",
    "                shuffle=True,\n",
    "                validation_data=(X_test_scaled, X_test_scaled),\n",
    "                callbacks=[early_stopping])\n"
   ]
  },
  {
   "cell_type": "code",
   "execution_count": 5,
   "id": "7c1e7d70-dd47-469d-aa22-088e5166a30a",
   "metadata": {},
   "outputs": [
    {
     "name": "stdout",
     "output_type": "stream",
     "text": [
      "15652/15652 [==============================] - 22s 1ms/step\n",
      "15652/15652 [==============================] - 21s 1ms/step\n",
      "Prediction time for test set: 23.1272 seconds\n"
     ]
    }
   ],
   "source": [
    "# In[7]:\n",
    "import numpy as np\n",
    "\n",
    "# Predict the test set\n",
    "predictions = autoencoder.predict(X_test_scaled)\n",
    "\n",
    "import time\n",
    "\n",
    "# Start timing before making predictions\n",
    "start_time = time.time()\n",
    "\n",
    "# Predict the reconstruction of the test set\n",
    "reconstructed_test = autoencoder.predict(X_test_scaled)\n",
    "\n",
    "# End timing after predictions are made\n",
    "end_time = time.time()\n",
    "\n",
    "# Calculate the elapsed time\n",
    "prediction_time = end_time - start_time\n",
    "print(f\"Prediction time for test set: {prediction_time:.4f} seconds\")\n",
    "\n",
    "\n",
    "# Calculate mean squared error between predictions and actual values\n",
    "mse = np.mean(np.power(X_test_scaled - predictions, 2), axis=1)"
   ]
  },
  {
   "cell_type": "code",
   "execution_count": 6,
   "id": "0c9db24c-405b-4e46-9d9d-cb6df6311c12",
   "metadata": {},
   "outputs": [
    {
     "data": {
      "image/png": "[encoded data removed]",
      "text/plain": [
       "<Figure size 1000x800 with 1 Axes>"
      ]
     },
     "metadata": {},
     "output_type": "display_data"
    }
   ],
   "source": [
    "# In[8]:\n",
    "from sklearn.metrics import roc_curve, auc\n",
    "import matplotlib.pyplot as plt\n",
    "\n",
    "# Calculate the ROC curve\n",
    "fpr, tpr, thresholds = roc_curve(y_test, mse, pos_label= 1)\n",
    "\n",
    "# Calculate the AUC (Area Under the Curve)\n",
    "roc_auc = auc(fpr, tpr)\n",
    "\n",
    "# Plot the ROC curve\n",
    "plt.figure(figsize=(10, 8))\n",
    "plt.plot(fpr, tpr, color='darkorange', lw=2, label='ROC curve (area = %0.2f)' % roc_auc)\n",
    "plt.plot([0, 1], [0, 1], color='navy', lw=2, linestyle='--')\n",
    "plt.xlim([0.0, 1.0])\n",
    "plt.ylim([0.0, 1.05])\n",
    "plt.xlabel('False Positive Rate')\n",
    "plt.ylabel('True Positive Rate')\n",
    "plt.title('Receiver Operating Characteristic Curve')\n",
    "plt.legend(loc=\"lower right\")\n",
    "plt.show()"
   ]
  },
  {
   "cell_type": "code",
   "execution_count": 7,
   "id": "20e7dc93-1232-40cc-a214-3c248b95df23",
   "metadata": {},
   "outputs": [
    {
     "name": "stdout",
     "output_type": "stream",
     "text": [
      "15652/15652 [==============================] - 21s 1ms/step\n",
      "Reconstruction error (MSE) for each sample:\n",
      "[0.27456705 0.52689138 0.5255255  ... 0.17363903 0.08282737 0.40265684]\n",
      "Optimal Threshold: 0.1\n",
      "F1 Score: 0.0\n",
      "Accuracy: 0.12118301940285992\n",
      "General MSE: 0.7820370272886925\n"
     ]
    }
   ],
   "source": [
    "from sklearn.metrics import f1_score, accuracy_score\n",
    "import numpy as np\n",
    "\n",
    "# Ensure you use the scaled test data for making predictions\n",
    "X_test_predictions = autoencoder.predict(X_test_scaled)\n",
    "\n",
    "# Calculating the mean squared error (reconstruction error) between the original scaled data and their reconstructions\n",
    "mse = np.mean(np.power(X_test_scaled - X_test_predictions, 2), axis=1)\n",
    "\n",
    "# Print the mean squared errors\n",
    "print(\"Reconstruction error (MSE) for each sample:\")\n",
    "print(mse)\n",
    "general_mse = np.mean(mse)\n",
    "\n",
    "# Choose a threshold value for which F1 score is maximized\n",
    "thresholds = np.linspace(0.1, 10, 200)  # Adjust the range and granularity as needed\n",
    "\n",
    "# Convert 'y_test' labels to binary format (0 for 'BENIGN' and 1 for 'Anomaly')\n",
    "y_test_binary = (y_test == 'DoS Hulk').astype(int)\n",
    "\n",
    "f1_scores = [f1_score(y_test_binary, mse > threshold) for threshold in thresholds]\n",
    "optimal_threshold = thresholds[np.argmax(f1_scores)]\n",
    "\n",
    "# Predicting anomalies using the optimal threshold\n",
    "y_pred = (mse > optimal_threshold).astype(int)\n",
    "\n",
    "# Calculating F1 score and accuracy based on the reconstruction error\n",
    "f1 = f1_score(y_test_binary, y_pred)\n",
    "accuracy = accuracy_score(y_test_binary, y_pred)\n",
    "\n",
    "print(f\"Optimal Threshold: {optimal_threshold}\")\n",
    "print(f\"F1 Score: {f1}\")\n",
    "print(f\"Accuracy: {accuracy}\")\n",
    "print(f\"General MSE: {general_mse}\")\n"
   ]
  },
  {
   "cell_type": "code",
   "execution_count": 8,
   "id": "6bdfd8ec-316c-46b4-9ba1-1e1ac84ae6e1",
   "metadata": {},
   "outputs": [
    {
     "name": "stdout",
     "output_type": "stream",
     "text": [
      "Requirement already satisfied: shap in /Users/christinastodt/anaconda3/envs/AnomalyTest/lib/python3.9/site-packages (0.43.0)\n",
      "Requirement already satisfied: numpy in /Users/christinastodt/anaconda3/envs/AnomalyTest/lib/python3.9/site-packages (from shap) (1.26.0)\n",
      "Requirement already satisfied: scipy in /Users/christinastodt/anaconda3/envs/AnomalyTest/lib/python3.9/site-packages (from shap) (1.11.3)\n",
      "Requirement already satisfied: scikit-learn in /Users/christinastodt/anaconda3/envs/AnomalyTest/lib/python3.9/site-packages (from shap) (1.3.1)\n",
      "Requirement already satisfied: pandas in /Users/christinastodt/anaconda3/envs/AnomalyTest/lib/python3.9/site-packages (from shap) (2.1.1)\n",
      "Requirement already satisfied: tqdm>=4.27.0 in /Users/christinastodt/anaconda3/envs/AnomalyTest/lib/python3.9/site-packages (from shap) (4.66.1)\n",
      "Requirement already satisfied: packaging>20.9 in /Users/christinastodt/anaconda3/envs/AnomalyTest/lib/python3.9/site-packages (from shap) (23.1)\n",
      "Requirement already satisfied: slicer==0.0.7 in /Users/christinastodt/anaconda3/envs/AnomalyTest/lib/python3.9/site-packages (from shap) (0.0.7)\n",
      "Requirement already satisfied: numba in /Users/christinastodt/anaconda3/envs/AnomalyTest/lib/python3.9/site-packages (from shap) (0.58.1)\n",
      "Requirement already satisfied: cloudpickle in /Users/christinastodt/anaconda3/envs/AnomalyTest/lib/python3.9/site-packages (from shap) (3.0.0)\n",
      "Requirement already satisfied: llvmlite<0.42,>=0.41.0dev0 in /Users/christinastodt/anaconda3/envs/AnomalyTest/lib/python3.9/site-packages (from numba->shap) (0.41.1)\n",
      "Requirement already satisfied: python-dateutil>=2.8.2 in /Users/christinastodt/anaconda3/envs/AnomalyTest/lib/python3.9/site-packages (from pandas->shap) (2.8.2)\n",
      "Requirement already satisfied: pytz>=2020.1 in /Users/christinastodt/anaconda3/envs/AnomalyTest/lib/python3.9/site-packages (from pandas->shap) (2023.3.post1)\n",
      "Requirement already satisfied: tzdata>=2022.1 in /Users/christinastodt/anaconda3/envs/AnomalyTest/lib/python3.9/site-packages (from pandas->shap) (2023.3)\n",
      "Requirement already satisfied: joblib>=1.1.1 in /Users/christinastodt/anaconda3/envs/AnomalyTest/lib/python3.9/site-packages (from scikit-learn->shap) (1.3.2)\n",
      "Requirement already satisfied: threadpoolctl>=2.0.0 in /Users/christinastodt/anaconda3/envs/AnomalyTest/lib/python3.9/site-packages (from scikit-learn->shap) (3.2.0)\n",
      "Requirement already satisfied: six>=1.5 in /Users/christinastodt/anaconda3/envs/AnomalyTest/lib/python3.9/site-packages (from python-dateutil>=2.8.2->pandas->shap) (1.16.0)\n",
      "Note: you may need to restart the kernel to use updated packages.\n"
     ]
    }
   ],
   "source": [
    "pip install shap\n"
   ]
  },
  {
   "cell_type": "code",
   "execution_count": null,
   "id": "f0ce9664-41f3-4469-8e36-2459555478dc",
   "metadata": {},
   "outputs": [
    {
     "name": "stdout",
     "output_type": "stream",
     "text": [
      "33993/33993 [==============================] - 47s 1ms/step\n"
     ]
    },
    {
     "name": "stderr",
     "output_type": "stream",
     "text": [
      "Using 1087760 background data samples could cause slower run times. Consider using shap.sample(data, K) or shap.kmeans(data, K) to summarize the background as K samples.\n"
     ]
    },
    {
     "data": {
      "application/vnd.jupyter.widget-view+json": {
       "model_id": "721418acdf8e4009b1f6715c99e2188c",
       "version_major": 2,
       "version_minor": 0
      },
      "text/plain": [
       "  0%|          | 0/500854 [00:00<?, ?it/s]"
      ]
     },
     "metadata": {},
     "output_type": "display_data"
    },
    {
     "name": "stdout",
     "output_type": "stream",
     "text": [
      "1/1 [==============================] - 0s 111ms/step\n"
     ]
    }
   ],
   "source": [
    "import shap\n",
    "# Create a SHAP explainer object - using a KernelExplainer for a generic model\n",
    "explainer = shap.KernelExplainer(autoencoder.predict, X_train)\n",
    "\n",
    "# Calculate SHAP values\n",
    "shap_values = explainer.shap_values(X_test)\n",
    "\n",
    "# Plotting the SHAP values\n",
    "shap.summary_plot(shap_values, X_test)"
   ]
  },
  {
   "cell_type": "code",
   "execution_count": null,
   "id": "a6d85f5c-82fb-4855-8c92-8bc0f4d32685",
   "metadata": {},
   "outputs": [],
   "source": []
  }
 ],
 "metadata": {
  "kernelspec": {
   "display_name": "AnomalyTest",
   "language": "python",
   "name": "anomalytest"
  },
  "language_info": {
   "codemirror_mode": {
    "name": "ipython",
    "version": 3
   },
   "file_extension": ".py",
   "mimetype": "text/x-python",
   "name": "python",
   "nbconvert_exporter": "python",
   "pygments_lexer": "ipython3",
   "version": "3.9.18"
  }
 },
 "nbformat": 4,
 "nbformat_minor": 5
}
