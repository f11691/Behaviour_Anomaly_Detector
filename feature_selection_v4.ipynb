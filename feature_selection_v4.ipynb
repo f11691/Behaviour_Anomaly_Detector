{
 "cells": [
  {
   "cell_type": "markdown",
   "metadata": {
    "id": "65SQNsbekm3u"
   },
   "source": [
    "# Create the Fetures Group from PCAPs"
   ]
  },
  {
   "cell_type": "code",
   "execution_count": 1,
   "metadata": {
    "colab": {
     "base_uri": "https://localhost:8080/"
    },
    "executionInfo": {
     "elapsed": 8481,
     "status": "ok",
     "timestamp": 1697052548715,
     "user": {
      "displayName": "Dignest",
      "userId": "10708962262731203576"
     },
     "user_tz": -120
    },
    "id": "4PO8HXtPGbsG",
    "outputId": "a1c5a6c9-cc66-447f-aaea-f9c211692bf5"
   },
   "outputs": [
    {
     "name": "stderr",
     "output_type": "stream",
     "text": [
      "WARNING: No IPv4 address found on en2 !\n",
      "WARNING: No IPv4 address found on en3 !\n",
      "WARNING: more No IPv4 address found on en1 !\n"
     ]
    }
   ],
   "source": [
    "# Install scapy\n",
    "# !pip install scapy\n",
    "\n",
    "import re\n",
    "\n",
    "# Utilities for Text and Regular Expressions\n",
    "import string\n",
    "\n",
    "# Datetime for Timestamp Processing\n",
    "from datetime import datetime\n",
    "\n",
    "# Standard and Data Analysis Libraries\n",
    "import numpy as np\n",
    "import pandas as pd\n",
    "import hashlib\n",
    "\n",
    "# Scapy for Packet Analysis\n",
    "from scapy.all import IP, TCP, UDP, Ether, PcapReader, Raw, sniff"
   ]
  },
  {
   "cell_type": "code",
   "execution_count": 2,
   "metadata": {},
   "outputs": [],
   "source": [
    "from functools import wraps\n",
    "from time import time\n",
    "\n",
    "\n",
    "def timing(f):\n",
    "    @wraps(f)\n",
    "    def wrap(*args, **kw):\n",
    "        ts = time()\n",
    "        result = f(*args, **kw)\n",
    "        te = time()\n",
    "        print(\"func:%r took: %2.4f sec\" % (f.__name__, te - ts))\n",
    "        return result\n",
    "\n",
    "    return wrap"
   ]
  },
  {
   "cell_type": "markdown",
   "metadata": {
    "id": "5liLul09HAzB"
   },
   "source": [
    "**Load PCAP Data:**"
   ]
  },
  {
   "cell_type": "code",
   "execution_count": 3,
   "metadata": {
    "id": "fNsEd6NHGgnb"
   },
   "outputs": [],
   "source": [
    "\"\"\"\n",
    "def packets_from_pcap(filepath, chunk_size=10):\n",
    "    packets = []\n",
    "    with PcapReader(filepath) as pcap_reader:\n",
    "        for packet in pcap_reader:\n",
    "            packets.append(packet)\n",
    "            if len(packets) == chunk_size:\n",
    "                yield packets\n",
    "                packets = []\n",
    "        if packets:  # if there are any packets left in the buffer\n",
    "            yield packets\n",
    "\"\"\"\n",
    "\n",
    "\n",
    "@timing\n",
    "def packets_from_pcap(filepath, chunk_size=100, max_chunks=20):\n",
    "    \"\"\"\n",
    "    Generator function to yield chunks of packets from a pcap file up to a specified number of chunks.\n",
    "    \"\"\"\n",
    "    packets = []\n",
    "    chunk_count = 0  # Initialize a counter for the number of yielded chunks\n",
    "    with PcapReader(filepath) as pcap_reader:\n",
    "        for packet in pcap_reader:\n",
    "            packets.append(packet)\n",
    "            if len(packets) == chunk_size:\n",
    "                yield packets\n",
    "                packets = []\n",
    "                chunk_count += 1  # Increment the chunk counter\n",
    "                if chunk_count >= max_chunks:\n",
    "                    break  # Stop after reaching the specified number of chunks\n",
    "        if packets:  # if there are any packets left in the buffer\n",
    "            yield packets"
   ]
  },
  {
   "cell_type": "markdown",
   "metadata": {
    "id": "FvLoiJoxHGBn"
   },
   "source": [
    "**Extract Network Traffic Features:**"
   ]
  },
  {
   "cell_type": "code",
   "execution_count": 4,
   "metadata": {
    "id": "cgcjcfuJGk7V"
   },
   "outputs": [],
   "source": [
    "@timing\n",
    "def extract_network_traffic_features(packets):\n",
    "    # List to collect packet data\n",
    "    network_traffic_features = []\n",
    "\n",
    "    # Protocol number to name mapping (only adding common ones, expand as needed)\n",
    "    protocol_mapping = {6: \"TCP\", 17: \"UDP\"}\n",
    "\n",
    "    for packet in packets:\n",
    "        # Initialize variables for each feature\n",
    "        eth_src = eth_dst = src_ip = dst_ip = src_port = dst_port = protocol = None\n",
    "        timestamp = packet.time\n",
    "\n",
    "        # Extract Ethernet frame information\n",
    "        if Ether in packet:\n",
    "            eth_src = packet[Ether].src\n",
    "            eth_dst = packet[Ether].dst\n",
    "\n",
    "        # Extract IP packet information\n",
    "        if IP in packet:\n",
    "            src_ip = packet[IP].src\n",
    "            dst_ip = packet[IP].dst\n",
    "\n",
    "            if TCP in packet:\n",
    "                src_port = packet[TCP].sport\n",
    "                dst_port = packet[TCP].dport\n",
    "                protocol = \"TCP\"\n",
    "            elif UDP in packet:\n",
    "                src_port = packet[UDP].sport\n",
    "                dst_port = packet[UDP].dport\n",
    "                protocol = \"UDP\"\n",
    "            else:\n",
    "                # Handle other IP protocols\n",
    "                protocol = protocol_mapping.get(packet[IP].proto, packet[IP].proto)\n",
    "\n",
    "        # Append extracted features to the list\n",
    "        network_traffic_features.append(\n",
    "            {\n",
    "                \"eth_src\": eth_src,\n",
    "                \"eth_dst\": eth_dst,\n",
    "                \"src_ip\": src_ip,\n",
    "                \"dst_ip\": dst_ip,\n",
    "                \"src_port\": src_port,\n",
    "                \"dst_port\": dst_port,\n",
    "                \"protocol\": protocol,\n",
    "                \"timestamp\": timestamp,\n",
    "            }\n",
    "        )\n",
    "\n",
    "    # Convert the list to a DataFrame\n",
    "    return pd.DataFrame(network_traffic_features)"
   ]
  },
  {
   "cell_type": "markdown",
   "metadata": {
    "id": "Yi8IhUo8HLDB"
   },
   "source": [
    " **Extract Session-related Information Features:**"
   ]
  },
  {
   "cell_type": "code",
   "execution_count": 5,
   "metadata": {
    "id": "0Ix72YBhHPbL"
   },
   "outputs": [],
   "source": [
    "@timing\n",
    "def extract_session_behavior_features(packets):\n",
    "    session_behaviour_features = []\n",
    "\n",
    "    # Given that session identification is non-trivial, let's focus on other metrics\n",
    "    # such as inter-arrival time for packets from the same source\n",
    "\n",
    "    src_times = {}\n",
    "\n",
    "    for packet in packets:\n",
    "        if IP in packet:\n",
    "            src_ip = packet[IP].src\n",
    "            timestamp = packet.time\n",
    "\n",
    "            if src_ip in src_times:\n",
    "                inter_arrival_time = timestamp - src_times[src_ip]\n",
    "            else:\n",
    "                inter_arrival_time = None\n",
    "\n",
    "            src_times[src_ip] = timestamp\n",
    "            session_behaviour_features.append(\n",
    "                {\"src_ip\": src_ip, \"inter_arrival_time\": inter_arrival_time}\n",
    "            )\n",
    "\n",
    "    return pd.DataFrame(session_behaviour_features)"
   ]
  },
  {
   "cell_type": "markdown",
   "metadata": {
    "id": "HyUJARz8HTe7"
   },
   "source": [
    "**Extract Network Flow Features:**"
   ]
  },
  {
   "cell_type": "code",
   "execution_count": 6,
   "metadata": {
    "id": "F2jZe2K-HXFv"
   },
   "outputs": [],
   "source": [
    "@timing\n",
    "def extract_network_flow_features(packets):\n",
    "    network_flow_list = []\n",
    "\n",
    "    flow_packet_counts = {}\n",
    "    flow_total_bytes = {}\n",
    "    flow_first_timestamp = {}\n",
    "    flow_last_timestamp = {}\n",
    "\n",
    "    for packet in packets:\n",
    "        timestamp = datetime.utcfromtimestamp(float(packet.time)).strftime(\n",
    "            \"%Y-%m-%d %H:%M:%S\"\n",
    "        )\n",
    "\n",
    "        # Extract Ethernet frame information\n",
    "        eth_src, eth_dst = None, None\n",
    "        if Ether in packet:\n",
    "            eth_src = packet[Ether].src\n",
    "            eth_dst = packet[Ether].dst\n",
    "\n",
    "        # Extract IP packet information\n",
    "        if IP in packet:\n",
    "            src_ip = packet[IP].src\n",
    "            dst_ip = packet[IP].dst\n",
    "\n",
    "            src_port, dst_port = None, None\n",
    "            if TCP in packet:\n",
    "                src_port = packet[TCP].sport\n",
    "                dst_port = packet[TCP].dport\n",
    "            elif UDP in packet:\n",
    "                src_port = packet[UDP].sport\n",
    "                dst_port = packet[UDP].dport\n",
    "\n",
    "            flow_identifier = (src_ip, dst_ip, src_port, dst_port)\n",
    "\n",
    "            if flow_identifier not in flow_packet_counts:\n",
    "                flow_packet_counts[flow_identifier] = 0\n",
    "                flow_total_bytes[flow_identifier] = 0\n",
    "                flow_first_timestamp[flow_identifier] = timestamp\n",
    "\n",
    "            flow_packet_counts[flow_identifier] += 1\n",
    "            flow_total_bytes[flow_identifier] += len(packet)\n",
    "            flow_last_timestamp[flow_identifier] = timestamp\n",
    "\n",
    "    for flow_identifier, packet_count in flow_packet_counts.items():\n",
    "        src_ip, dst_ip, src_port, dst_port = flow_identifier\n",
    "        total_bytes = flow_total_bytes[flow_identifier]\n",
    "        first_timestamp = flow_first_timestamp[flow_identifier]\n",
    "        last_timestamp = flow_last_timestamp[flow_identifier]\n",
    "\n",
    "        if src_ip.startswith(\"192.168.1\"):\n",
    "            traffic_direction = \"Outbound\"\n",
    "        elif dst_ip.startswith(\"192.168.1\"):\n",
    "            traffic_direction = \"Inbound\"\n",
    "        else:\n",
    "            traffic_direction = \"External\"\n",
    "\n",
    "        network_flow_list.append(\n",
    "            [\n",
    "                src_ip,\n",
    "                dst_ip,\n",
    "                src_port,\n",
    "                dst_port,\n",
    "                packet_count,\n",
    "                total_bytes,\n",
    "                traffic_direction,\n",
    "                first_timestamp,\n",
    "                last_timestamp,\n",
    "            ]\n",
    "        )\n",
    "\n",
    "    headers = [\n",
    "        \"src_ip\",\n",
    "        \"dst_ip\",\n",
    "        \"src_port\",\n",
    "        \"dst_port\",\n",
    "        \"packet_count\",\n",
    "        \"total_bytes\",\n",
    "        \"traffic_direction\",\n",
    "        \"first_timestamp\",\n",
    "        \"last_timestamp\",\n",
    "    ]\n",
    "\n",
    "    return pd.DataFrame(network_flow_list, columns=headers)"
   ]
  },
  {
   "cell_type": "markdown",
   "metadata": {
    "id": "bcaW9aX6HZsu"
   },
   "source": [
    "**Extract Protocol-specific Features:**"
   ]
  },
  {
   "cell_type": "code",
   "execution_count": 7,
   "metadata": {
    "id": "dLlxoV88Hda6"
   },
   "outputs": [],
   "source": [
    "@timing\n",
    "def extract_protocol_specific_features(packets):\n",
    "    protocol_specific_features = []\n",
    "    \n",
    "    # Simpler pre-compiled regex for HTTP header extraction\n",
    "    http_header_regex = re.compile(r'^([a-zA-Z\\-]+): (.+)$', re.MULTILINE)\n",
    "    \n",
    "    timestamps = []\n",
    "\n",
    "    for packet in packets:\n",
    "        packet_features = {}\n",
    "        \n",
    "        timestamps.append(float(packet.time))\n",
    "\n",
    "        if Ether in packet:\n",
    "            eth_layer = packet[Ether]\n",
    "            packet_features['eth_src'] = eth_layer.src\n",
    "            packet_features['eth_dst'] = eth_layer.dst\n",
    "\n",
    "        if IP in packet:\n",
    "            ip_layer = packet[IP]\n",
    "            packet_features['src_ip'] = ip_layer.src\n",
    "            packet_features['dst_ip'] = ip_layer.dst\n",
    "\n",
    "            if TCP in packet:\n",
    "                tcp_layer = packet[TCP]\n",
    "                packet_features['src_port'] = tcp_layer.sport\n",
    "                packet_features['dst_port'] = tcp_layer.dport\n",
    "\n",
    "                if Raw in packet:\n",
    "                    raw_payload = str(packet[Raw].load)[:4096]  # only consider first 4KB\n",
    "                    if (packet_features['src_port'] == 80 or packet_features['dst_port'] == 80) and \"HTTP\" in raw_payload[:4]:\n",
    "                        http_headers = dict(http_header_regex.findall(raw_payload))\n",
    "                        packet_features.update(http_headers)\n",
    "\n",
    "                    elif packet_features['src_port'] == 22 or packet_features['dst_port'] == 22:\n",
    "                        packet_features['ssh_data_sample'] = raw_payload[:10]\n",
    "\n",
    "        protocol_specific_features.append(packet_features)\n",
    "    \n",
    "    df = pd.DataFrame(protocol_specific_features)\n",
    "    df['timestamp'] = pd.to_datetime(pd.Series(timestamps), unit='s').dt.strftime('%Y-%m-%d %H:%M:%S')\n",
    "\n",
    "    return df\n",
    "\n",
    "\n"
   ]
  },
  {
   "cell_type": "markdown",
   "metadata": {
    "id": "vSl7qc1hHf3A"
   },
   "source": [
    "**Extract Payload Characteristics Features:**"
   ]
  },
  {
   "cell_type": "code",
   "execution_count": 8,
   "metadata": {
    "id": "YXdoZIF2Hjpe"
   },
   "outputs": [],
   "source": [
    "@timing\n",
    "def extract_payload_characteristics_features(packets):\n",
    "    payload_characteristics_features = []\n",
    "\n",
    "    for packet in packets:\n",
    "        packet_features = {}\n",
    "\n",
    "        packet_features[\"timestamp\"] = datetime.utcfromtimestamp(\n",
    "            float(packet.time)\n",
    "        ).strftime(\"%Y-%m-%d %H:%M:%S\")\n",
    "\n",
    "        if Ether in packet:\n",
    "            packet_features[\"eth_src\"] = packet[Ether].src\n",
    "            packet_features[\"eth_dst\"] = packet[Ether].dst\n",
    "\n",
    "        if IP in packet:\n",
    "            packet_features[\"src_ip\"] = packet[IP].src\n",
    "            packet_features[\"dst_ip\"] = packet[IP].dst\n",
    "\n",
    "            if TCP in packet:\n",
    "                packet_features[\"src_port\"] = packet[TCP].sport\n",
    "                packet_features[\"dst_port\"] = packet[TCP].dport\n",
    "\n",
    "                if Raw in packet:\n",
    "                    raw_payload = packet[Raw].load\n",
    "                    packet_features[\"payload_size\"] = len(raw_payload)\n",
    "                    #payload_hash = hashlib.sha256(raw_payload).hexdigest()\n",
    "                    #packet_features[\"payload_hash\"] = payload_hash\n",
    "\n",
    "        payload_characteristics_features.append(packet_features)\n",
    "\n",
    "    return pd.DataFrame(payload_characteristics_features)"
   ]
  },
  {
   "cell_type": "markdown",
   "metadata": {
    "id": "Q26AIWBeHmop"
   },
   "source": [
    "**Main Execution and Saving DataFrames:**"
   ]
  },
  {
   "cell_type": "code",
   "execution_count": 9,
   "metadata": {
    "colab": {
     "base_uri": "https://localhost:8080/",
     "height": 246
    },
    "executionInfo": {
     "elapsed": 11,
     "status": "error",
     "timestamp": 1697116415721,
     "user": {
      "displayName": "Dignest",
      "userId": "10708962262731203576"
     },
     "user_tz": -120
    },
    "id": "9Ga7-WoxHqU8",
    "outputId": "f3dfc82a-311e-4bda-a6d3-f8666c252cda"
   },
   "outputs": [
    {
     "name": "stdout",
     "output_type": "stream",
     "text": [
      "func:'packets_from_pcap' took: 0.0000 sec\n",
      "func:'extract_network_traffic_features' took: 0.0064 sec\n",
      "func:'extract_session_behavior_features' took: 0.0020 sec\n",
      "func:'extract_network_flow_features' took: 0.0193 sec\n",
      "func:'extract_protocol_specific_features' took: 0.0061 sec\n",
      "func:'extract_payload_characteristics_features' took: 0.0052 sec\n",
      "Received a chunk of 100 packets\n",
      "func:'extract_network_traffic_features' took: 0.0045 sec\n",
      "func:'extract_session_behavior_features' took: 0.0012 sec\n",
      "func:'extract_network_flow_features' took: 0.0312 sec\n",
      "func:'extract_protocol_specific_features' took: 0.0058 sec\n",
      "func:'extract_payload_characteristics_features' took: 0.0064 sec\n",
      "Received a chunk of 100 packets\n",
      "func:'extract_network_traffic_features' took: 0.0044 sec\n",
      "func:'extract_session_behavior_features' took: 0.0012 sec\n",
      "func:'extract_network_flow_features' took: 0.0164 sec\n",
      "func:'extract_protocol_specific_features' took: 0.0068 sec\n",
      "func:'extract_payload_characteristics_features' took: 0.0072 sec\n",
      "Received a chunk of 100 packets\n",
      "func:'extract_network_traffic_features' took: 0.0044 sec\n",
      "func:'extract_session_behavior_features' took: 0.0012 sec\n",
      "func:'extract_network_flow_features' took: 0.0139 sec\n",
      "func:'extract_protocol_specific_features' took: 0.0055 sec\n",
      "func:'extract_payload_characteristics_features' took: 0.0064 sec\n",
      "Received a chunk of 100 packets\n",
      "func:'extract_network_traffic_features' took: 0.0044 sec\n",
      "func:'extract_session_behavior_features' took: 0.0011 sec\n",
      "func:'extract_network_flow_features' took: 0.0240 sec\n",
      "func:'extract_protocol_specific_features' took: 0.0055 sec\n",
      "func:'extract_payload_characteristics_features' took: 0.0059 sec\n",
      "Received a chunk of 100 packets\n",
      "func:'extract_network_traffic_features' took: 0.0046 sec\n",
      "func:'extract_session_behavior_features' took: 0.0013 sec\n",
      "func:'extract_network_flow_features' took: 0.0078 sec\n",
      "func:'extract_protocol_specific_features' took: 0.0062 sec\n",
      "func:'extract_payload_characteristics_features' took: 0.0051 sec\n",
      "Received a chunk of 100 packets\n",
      "func:'extract_network_traffic_features' took: 0.0052 sec\n",
      "func:'extract_session_behavior_features' took: 0.0014 sec\n",
      "func:'extract_network_flow_features' took: 0.0083 sec\n",
      "func:'extract_protocol_specific_features' took: 0.0049 sec\n",
      "func:'extract_payload_characteristics_features' took: 0.0056 sec\n",
      "Received a chunk of 100 packets\n",
      "func:'extract_network_traffic_features' took: 0.0052 sec\n",
      "func:'extract_session_behavior_features' took: 0.0013 sec\n",
      "func:'extract_network_flow_features' took: 0.0079 sec\n",
      "func:'extract_protocol_specific_features' took: 0.0054 sec\n",
      "func:'extract_payload_characteristics_features' took: 0.0054 sec\n",
      "Received a chunk of 100 packets\n",
      "func:'extract_network_traffic_features' took: 0.0051 sec\n",
      "func:'extract_session_behavior_features' took: 0.0014 sec\n",
      "func:'extract_network_flow_features' took: 0.0093 sec\n",
      "func:'extract_protocol_specific_features' took: 0.0064 sec\n",
      "func:'extract_payload_characteristics_features' took: 0.0059 sec\n",
      "Received a chunk of 100 packets\n",
      "func:'extract_network_traffic_features' took: 0.0047 sec\n",
      "func:'extract_session_behavior_features' took: 0.0012 sec\n",
      "func:'extract_network_flow_features' took: 0.0071 sec\n",
      "func:'extract_protocol_specific_features' took: 0.0058 sec\n",
      "func:'extract_payload_characteristics_features' took: 0.0054 sec\n",
      "Received a chunk of 100 packets\n",
      "func:'extract_network_traffic_features' took: 0.0045 sec\n",
      "func:'extract_session_behavior_features' took: 0.0012 sec\n",
      "func:'extract_network_flow_features' took: 0.0066 sec\n",
      "func:'extract_protocol_specific_features' took: 0.0060 sec\n",
      "func:'extract_payload_characteristics_features' took: 0.0069 sec\n",
      "Received a chunk of 100 packets\n",
      "func:'extract_network_traffic_features' took: 0.0062 sec\n",
      "func:'extract_session_behavior_features' took: 0.0018 sec\n",
      "func:'extract_network_flow_features' took: 0.0075 sec\n",
      "func:'extract_protocol_specific_features' took: 0.0071 sec\n",
      "func:'extract_payload_characteristics_features' took: 0.0069 sec\n",
      "Received a chunk of 100 packets\n",
      "func:'extract_network_traffic_features' took: 0.0054 sec\n",
      "func:'extract_session_behavior_features' took: 0.0013 sec\n",
      "func:'extract_network_flow_features' took: 0.0083 sec\n",
      "func:'extract_protocol_specific_features' took: 0.0056 sec\n",
      "func:'extract_payload_characteristics_features' took: 0.0061 sec\n",
      "Received a chunk of 100 packets\n",
      "func:'extract_network_traffic_features' took: 0.0048 sec\n",
      "func:'extract_session_behavior_features' took: 0.0013 sec\n",
      "func:'extract_network_flow_features' took: 0.0069 sec\n",
      "func:'extract_protocol_specific_features' took: 0.0064 sec\n",
      "func:'extract_payload_characteristics_features' took: 0.0064 sec\n",
      "Received a chunk of 100 packets\n",
      "func:'extract_network_traffic_features' took: 0.0052 sec\n",
      "func:'extract_session_behavior_features' took: 0.0014 sec\n",
      "func:'extract_network_flow_features' took: 0.0080 sec\n",
      "func:'extract_protocol_specific_features' took: 0.0085 sec\n",
      "func:'extract_payload_characteristics_features' took: 0.0097 sec\n",
      "Received a chunk of 100 packets\n",
      "func:'extract_network_traffic_features' took: 0.0054 sec\n",
      "func:'extract_session_behavior_features' took: 0.0016 sec\n",
      "func:'extract_network_flow_features' took: 0.0089 sec\n",
      "func:'extract_protocol_specific_features' took: 0.0071 sec\n",
      "func:'extract_payload_characteristics_features' took: 0.0067 sec\n",
      "Received a chunk of 100 packets\n",
      "func:'extract_network_traffic_features' took: 0.0050 sec\n",
      "func:'extract_session_behavior_features' took: 0.0016 sec\n",
      "func:'extract_network_flow_features' took: 0.0074 sec\n",
      "func:'extract_protocol_specific_features' took: 0.0060 sec\n",
      "func:'extract_payload_characteristics_features' took: 0.0058 sec\n",
      "Received a chunk of 100 packets\n",
      "func:'extract_network_traffic_features' took: 0.0043 sec\n",
      "func:'extract_session_behavior_features' took: 0.0012 sec\n",
      "func:'extract_network_flow_features' took: 0.0075 sec\n",
      "func:'extract_protocol_specific_features' took: 0.0054 sec\n",
      "func:'extract_payload_characteristics_features' took: 0.0056 sec\n",
      "Received a chunk of 100 packets\n",
      "func:'extract_network_traffic_features' took: 0.0065 sec\n",
      "func:'extract_session_behavior_features' took: 0.0014 sec\n",
      "func:'extract_network_flow_features' took: 0.0360 sec\n",
      "func:'extract_protocol_specific_features' took: 0.0065 sec\n",
      "func:'extract_payload_characteristics_features' took: 0.0068 sec\n",
      "Received a chunk of 100 packets\n",
      "func:'extract_network_traffic_features' took: 0.0078 sec\n",
      "func:'extract_session_behavior_features' took: 0.0015 sec\n",
      "func:'extract_network_flow_features' took: 0.0196 sec\n",
      "func:'extract_protocol_specific_features' took: 0.0060 sec\n",
      "func:'extract_payload_characteristics_features' took: 0.0071 sec\n",
      "Received a chunk of 100 packets\n"
     ]
    }
   ],
   "source": [
    "import argparse\n",
    "import logging\n",
    "import os\n",
    "import os.path\n",
    "\n",
    "if __name__ == \"__main__\":\n",
    "    filepath = \"Tuesday-WorkingHours.pcap\"\n",
    "\n",
    "    # Function to write to CSV\n",
    "    def save_to_csv(df, filename):\n",
    "        # Check if file exists to decide on writing headers\n",
    "        write_header = not os.path.exists(filename)\n",
    "        df.to_csv(\n",
    "            filename,\n",
    "            mode=\"a\",\n",
    "            header=write_header,\n",
    "            index=False,\n",
    "        )\n",
    "\n",
    "    for packets_chunk in packets_from_pcap(filepath):\n",
    "        network_traffic_df = extract_network_traffic_features(packets_chunk)\n",
    "        save_to_csv(network_traffic_df, \"network_traffic_features.csv\")\n",
    "\n",
    "        session_behavior_df = extract_session_behavior_features(packets_chunk)\n",
    "        save_to_csv(session_behavior_df, \"session_behaviour_features.csv\")\n",
    "\n",
    "        network_flow_df = extract_network_flow_features(packets_chunk)\n",
    "        save_to_csv(network_flow_df, \"network_flow_features.csv\")\n",
    "\n",
    "        protocol_specific_df = extract_protocol_specific_features(packets_chunk)\n",
    "        save_to_csv(protocol_specific_df, \"protocol_specific_features.csv\")\n",
    "\n",
    "        payload_characteristics_df = extract_payload_characteristics_features(packets_chunk)\n",
    "        save_to_csv(payload_characteristics_df, \"payload_characteristics_features.csv\")\n",
    "\n",
    "        print(f\"Received a chunk of {len(packets_chunk)} packets\")\n"
   ]
  },
  {
   "cell_type": "code",
   "execution_count": null,
   "metadata": {
    "id": "MXzwKNiGgK0i"
   },
   "outputs": [],
   "source": []
  },
  {
   "cell_type": "code",
   "execution_count": null,
   "metadata": {},
   "outputs": [],
   "source": []
  }
 ],
 "metadata": {
  "accelerator": "GPU",
  "colab": {
   "authorship_tag": "ABX9TyN2A/LWER3VJP048v/hG0eO",
   "gpuType": "T4",
   "machine_shape": "hm",
   "mount_file_id": "1TT0tF6I7XdTJsWx7ZJJc3ZWhklhMUbPb",
   "provenance": []
  },
  "kernelspec": {
   "display_name": "Python 3 (ipykernel)",
   "language": "python",
   "name": "python3"
  },
  "language_info": {
   "codemirror_mode": {
    "name": "ipython",
    "version": 3
   },
   "file_extension": ".py",
   "mimetype": "text/x-python",
   "name": "python",
   "nbconvert_exporter": "python",
   "pygments_lexer": "ipython3",
   "version": "3.8.15"
  }
 },
 "nbformat": 4,
 "nbformat_minor": 4
}
