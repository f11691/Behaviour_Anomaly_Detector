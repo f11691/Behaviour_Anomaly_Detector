{
 "cells": [
  {
   "cell_type": "markdown",
   "metadata": {
    "id": "CgopDp6wm0wQ"
   },
   "source": [
    "\n",
    "# Ensemble Learning of Autoencoders:\n",
    "\n"
   ]
  },
  {
   "cell_type": "code",
   "execution_count": null,
   "metadata": {
    "id": "Ea49IZDLKEhP",
    "scrolled": true
   },
   "outputs": [],
   "source": [
    "#!pip uninstall -y tensorflow\n"
   ]
  },
  {
   "cell_type": "code",
   "execution_count": 1,
   "metadata": {
    "scrolled": true
   },
   "outputs": [
    {
     "name": "stdout",
     "output_type": "stream",
     "text": [
      "Collecting tensorflow\n",
      "  Obtaining dependency information for tensorflow from https://files.pythonhosted.org/packages/57/cd/8c88b3b244de3acf379c5428da90e76b9a9eb25a4154fe949da34db430c1/tensorflow-2.13.1-cp38-cp38-macosx_10_15_x86_64.whl.metadata\n",
      "  Using cached tensorflow-2.13.1-cp38-cp38-macosx_10_15_x86_64.whl.metadata (3.2 kB)\n",
      "Requirement already satisfied: absl-py>=1.0.0 in /Users/christinastodt/Library/jupyterlab-desktop/jlab_server/lib/python3.8/site-packages (from tensorflow) (2.0.0)\n",
      "Requirement already satisfied: astunparse>=1.6.0 in /Users/christinastodt/Library/jupyterlab-desktop/jlab_server/lib/python3.8/site-packages (from tensorflow) (1.6.3)\n",
      "Requirement already satisfied: flatbuffers>=23.1.21 in /Users/christinastodt/Library/jupyterlab-desktop/jlab_server/lib/python3.8/site-packages (from tensorflow) (23.5.26)\n",
      "Requirement already satisfied: gast<=0.4.0,>=0.2.1 in /Users/christinastodt/Library/jupyterlab-desktop/jlab_server/lib/python3.8/site-packages (from tensorflow) (0.4.0)\n",
      "Requirement already satisfied: google-pasta>=0.1.1 in /Users/christinastodt/Library/jupyterlab-desktop/jlab_server/lib/python3.8/site-packages (from tensorflow) (0.2.0)\n",
      "Requirement already satisfied: h5py>=2.9.0 in /Users/christinastodt/Library/jupyterlab-desktop/jlab_server/lib/python3.8/site-packages (from tensorflow) (3.10.0)\n",
      "Requirement already satisfied: libclang>=13.0.0 in /Users/christinastodt/Library/jupyterlab-desktop/jlab_server/lib/python3.8/site-packages (from tensorflow) (16.0.6)\n",
      "Requirement already satisfied: numpy<=1.24.3,>=1.22 in /Users/christinastodt/Library/jupyterlab-desktop/jlab_server/lib/python3.8/site-packages (from tensorflow) (1.24.3)\n",
      "Requirement already satisfied: opt-einsum>=2.3.2 in /Users/christinastodt/Library/jupyterlab-desktop/jlab_server/lib/python3.8/site-packages (from tensorflow) (3.3.0)\n",
      "Requirement already satisfied: packaging in /Users/christinastodt/Library/jupyterlab-desktop/jlab_server/lib/python3.8/site-packages (from tensorflow) (23.1)\n",
      "Requirement already satisfied: protobuf!=4.21.0,!=4.21.1,!=4.21.2,!=4.21.3,!=4.21.4,!=4.21.5,<5.0.0dev,>=3.20.3 in /Users/christinastodt/Library/jupyterlab-desktop/jlab_server/lib/python3.8/site-packages (from tensorflow) (4.24.4)\n",
      "Requirement already satisfied: setuptools in /Users/christinastodt/Library/jupyterlab-desktop/jlab_server/lib/python3.8/site-packages (from tensorflow) (68.0.0)\n",
      "Requirement already satisfied: six>=1.12.0 in /Users/christinastodt/Library/jupyterlab-desktop/jlab_server/lib/python3.8/site-packages (from tensorflow) (1.16.0)\n",
      "Requirement already satisfied: termcolor>=1.1.0 in /Users/christinastodt/Library/jupyterlab-desktop/jlab_server/lib/python3.8/site-packages (from tensorflow) (2.3.0)\n",
      "Requirement already satisfied: typing-extensions<4.6.0,>=3.6.6 in /Users/christinastodt/Library/jupyterlab-desktop/jlab_server/lib/python3.8/site-packages (from tensorflow) (4.5.0)\n",
      "Requirement already satisfied: wrapt>=1.11.0 in /Users/christinastodt/Library/jupyterlab-desktop/jlab_server/lib/python3.8/site-packages (from tensorflow) (1.15.0)\n",
      "Requirement already satisfied: grpcio<2.0,>=1.24.3 in /Users/christinastodt/Library/jupyterlab-desktop/jlab_server/lib/python3.8/site-packages (from tensorflow) (1.59.0)\n",
      "Requirement already satisfied: tensorboard<2.14,>=2.13 in /Users/christinastodt/Library/jupyterlab-desktop/jlab_server/lib/python3.8/site-packages (from tensorflow) (2.13.0)\n",
      "Requirement already satisfied: tensorflow-estimator<2.14,>=2.13.0 in /Users/christinastodt/Library/jupyterlab-desktop/jlab_server/lib/python3.8/site-packages (from tensorflow) (2.13.0)\n",
      "Requirement already satisfied: keras<2.14,>=2.13.1 in /Users/christinastodt/Library/jupyterlab-desktop/jlab_server/lib/python3.8/site-packages (from tensorflow) (2.13.1)\n",
      "Requirement already satisfied: tensorflow-io-gcs-filesystem>=0.23.1 in /Users/christinastodt/Library/jupyterlab-desktop/jlab_server/lib/python3.8/site-packages (from tensorflow) (0.34.0)\n",
      "Requirement already satisfied: wheel<1.0,>=0.23.0 in /Users/christinastodt/Library/jupyterlab-desktop/jlab_server/lib/python3.8/site-packages (from astunparse>=1.6.0->tensorflow) (0.41.1)\n",
      "Requirement already satisfied: google-auth<3,>=1.6.3 in /Users/christinastodt/Library/jupyterlab-desktop/jlab_server/lib/python3.8/site-packages (from tensorboard<2.14,>=2.13->tensorflow) (2.23.3)\n",
      "Requirement already satisfied: google-auth-oauthlib<1.1,>=0.5 in /Users/christinastodt/Library/jupyterlab-desktop/jlab_server/lib/python3.8/site-packages (from tensorboard<2.14,>=2.13->tensorflow) (1.0.0)\n",
      "Requirement already satisfied: markdown>=2.6.8 in /Users/christinastodt/Library/jupyterlab-desktop/jlab_server/lib/python3.8/site-packages (from tensorboard<2.14,>=2.13->tensorflow) (3.5)\n",
      "Requirement already satisfied: requests<3,>=2.21.0 in /Users/christinastodt/Library/jupyterlab-desktop/jlab_server/lib/python3.8/site-packages (from tensorboard<2.14,>=2.13->tensorflow) (2.31.0)\n",
      "Requirement already satisfied: tensorboard-data-server<0.8.0,>=0.7.0 in /Users/christinastodt/Library/jupyterlab-desktop/jlab_server/lib/python3.8/site-packages (from tensorboard<2.14,>=2.13->tensorflow) (0.7.1)\n",
      "Requirement already satisfied: werkzeug>=1.0.1 in /Users/christinastodt/Library/jupyterlab-desktop/jlab_server/lib/python3.8/site-packages (from tensorboard<2.14,>=2.13->tensorflow) (3.0.0)\n",
      "Requirement already satisfied: cachetools<6.0,>=2.0.0 in /Users/christinastodt/Library/jupyterlab-desktop/jlab_server/lib/python3.8/site-packages (from google-auth<3,>=1.6.3->tensorboard<2.14,>=2.13->tensorflow) (5.3.1)\n",
      "Requirement already satisfied: pyasn1-modules>=0.2.1 in /Users/christinastodt/Library/jupyterlab-desktop/jlab_server/lib/python3.8/site-packages (from google-auth<3,>=1.6.3->tensorboard<2.14,>=2.13->tensorflow) (0.3.0)\n",
      "Requirement already satisfied: rsa<5,>=3.1.4 in /Users/christinastodt/Library/jupyterlab-desktop/jlab_server/lib/python3.8/site-packages (from google-auth<3,>=1.6.3->tensorboard<2.14,>=2.13->tensorflow) (4.9)\n",
      "Requirement already satisfied: requests-oauthlib>=0.7.0 in /Users/christinastodt/Library/jupyterlab-desktop/jlab_server/lib/python3.8/site-packages (from google-auth-oauthlib<1.1,>=0.5->tensorboard<2.14,>=2.13->tensorflow) (1.3.1)\n",
      "Requirement already satisfied: importlib-metadata>=4.4 in /Users/christinastodt/Library/jupyterlab-desktop/jlab_server/lib/python3.8/site-packages (from markdown>=2.6.8->tensorboard<2.14,>=2.13->tensorflow) (6.8.0)\n",
      "Requirement already satisfied: charset-normalizer<4,>=2 in /Users/christinastodt/Library/jupyterlab-desktop/jlab_server/lib/python3.8/site-packages (from requests<3,>=2.21.0->tensorboard<2.14,>=2.13->tensorflow) (3.2.0)\n",
      "Requirement already satisfied: idna<4,>=2.5 in /Users/christinastodt/Library/jupyterlab-desktop/jlab_server/lib/python3.8/site-packages (from requests<3,>=2.21.0->tensorboard<2.14,>=2.13->tensorflow) (3.4)\n",
      "Requirement already satisfied: urllib3<3,>=1.21.1 in /Users/christinastodt/Library/jupyterlab-desktop/jlab_server/lib/python3.8/site-packages (from requests<3,>=2.21.0->tensorboard<2.14,>=2.13->tensorflow) (2.0.4)\n",
      "Requirement already satisfied: certifi>=2017.4.17 in /Users/christinastodt/Library/jupyterlab-desktop/jlab_server/lib/python3.8/site-packages (from requests<3,>=2.21.0->tensorboard<2.14,>=2.13->tensorflow) (2023.7.22)\n",
      "Requirement already satisfied: MarkupSafe>=2.1.1 in /Users/christinastodt/Library/jupyterlab-desktop/jlab_server/lib/python3.8/site-packages (from werkzeug>=1.0.1->tensorboard<2.14,>=2.13->tensorflow) (2.1.3)\n",
      "Requirement already satisfied: zipp>=0.5 in /Users/christinastodt/Library/jupyterlab-desktop/jlab_server/lib/python3.8/site-packages (from importlib-metadata>=4.4->markdown>=2.6.8->tensorboard<2.14,>=2.13->tensorflow) (3.16.2)\n",
      "Requirement already satisfied: pyasn1<0.6.0,>=0.4.6 in /Users/christinastodt/Library/jupyterlab-desktop/jlab_server/lib/python3.8/site-packages (from pyasn1-modules>=0.2.1->google-auth<3,>=1.6.3->tensorboard<2.14,>=2.13->tensorflow) (0.5.0)\n",
      "Requirement already satisfied: oauthlib>=3.0.0 in /Users/christinastodt/Library/jupyterlab-desktop/jlab_server/lib/python3.8/site-packages (from requests-oauthlib>=0.7.0->google-auth-oauthlib<1.1,>=0.5->tensorboard<2.14,>=2.13->tensorflow) (3.2.2)\n",
      "Using cached tensorflow-2.13.1-cp38-cp38-macosx_10_15_x86_64.whl (216.2 MB)\n",
      "Installing collected packages: tensorflow\n",
      "Successfully installed tensorflow-2.13.1\n"
     ]
    }
   ],
   "source": [
    "!pip install tensorflow\n"
   ]
  },
  {
   "cell_type": "code",
   "execution_count": 1,
   "metadata": {
    "scrolled": true
   },
   "outputs": [
    {
     "name": "stdout",
     "output_type": "stream",
     "text": [
      "Collecting tensorflow\n",
      "  Obtaining dependency information for tensorflow from https://files.pythonhosted.org/packages/57/cd/8c88b3b244de3acf379c5428da90e76b9a9eb25a4154fe949da34db430c1/tensorflow-2.13.1-cp38-cp38-macosx_10_15_x86_64.whl.metadata\n",
      "  Using cached tensorflow-2.13.1-cp38-cp38-macosx_10_15_x86_64.whl.metadata (3.2 kB)\n",
      "Requirement already satisfied: absl-py>=1.0.0 in /Users/christinastodt/Library/jupyterlab-desktop/jlab_server/lib/python3.8/site-packages (from tensorflow) (2.0.0)\n",
      "Requirement already satisfied: astunparse>=1.6.0 in /Users/christinastodt/Library/jupyterlab-desktop/jlab_server/lib/python3.8/site-packages (from tensorflow) (1.6.3)\n",
      "Requirement already satisfied: flatbuffers>=23.1.21 in /Users/christinastodt/Library/jupyterlab-desktop/jlab_server/lib/python3.8/site-packages (from tensorflow) (23.5.26)\n",
      "Requirement already satisfied: gast<=0.4.0,>=0.2.1 in /Users/christinastodt/Library/jupyterlab-desktop/jlab_server/lib/python3.8/site-packages (from tensorflow) (0.4.0)\n",
      "Requirement already satisfied: google-pasta>=0.1.1 in /Users/christinastodt/Library/jupyterlab-desktop/jlab_server/lib/python3.8/site-packages (from tensorflow) (0.2.0)\n",
      "Requirement already satisfied: h5py>=2.9.0 in /Users/christinastodt/Library/jupyterlab-desktop/jlab_server/lib/python3.8/site-packages (from tensorflow) (3.10.0)\n",
      "Requirement already satisfied: libclang>=13.0.0 in /Users/christinastodt/Library/jupyterlab-desktop/jlab_server/lib/python3.8/site-packages (from tensorflow) (16.0.6)\n",
      "Requirement already satisfied: numpy<=1.24.3,>=1.22 in /Users/christinastodt/Library/jupyterlab-desktop/jlab_server/lib/python3.8/site-packages (from tensorflow) (1.24.3)\n",
      "Requirement already satisfied: opt-einsum>=2.3.2 in /Users/christinastodt/Library/jupyterlab-desktop/jlab_server/lib/python3.8/site-packages (from tensorflow) (3.3.0)\n",
      "Requirement already satisfied: packaging in /Users/christinastodt/Library/jupyterlab-desktop/jlab_server/lib/python3.8/site-packages (from tensorflow) (23.1)\n",
      "Requirement already satisfied: protobuf!=4.21.0,!=4.21.1,!=4.21.2,!=4.21.3,!=4.21.4,!=4.21.5,<5.0.0dev,>=3.20.3 in /Users/christinastodt/Library/jupyterlab-desktop/jlab_server/lib/python3.8/site-packages (from tensorflow) (4.24.4)\n",
      "Requirement already satisfied: setuptools in /Users/christinastodt/Library/jupyterlab-desktop/jlab_server/lib/python3.8/site-packages (from tensorflow) (68.0.0)\n",
      "Requirement already satisfied: six>=1.12.0 in /Users/christinastodt/Library/jupyterlab-desktop/jlab_server/lib/python3.8/site-packages (from tensorflow) (1.16.0)\n",
      "Requirement already satisfied: termcolor>=1.1.0 in /Users/christinastodt/Library/jupyterlab-desktop/jlab_server/lib/python3.8/site-packages (from tensorflow) (2.3.0)\n",
      "Requirement already satisfied: typing-extensions<4.6.0,>=3.6.6 in /Users/christinastodt/Library/jupyterlab-desktop/jlab_server/lib/python3.8/site-packages (from tensorflow) (4.5.0)\n",
      "Requirement already satisfied: wrapt>=1.11.0 in /Users/christinastodt/Library/jupyterlab-desktop/jlab_server/lib/python3.8/site-packages (from tensorflow) (1.15.0)\n",
      "Requirement already satisfied: grpcio<2.0,>=1.24.3 in /Users/christinastodt/Library/jupyterlab-desktop/jlab_server/lib/python3.8/site-packages (from tensorflow) (1.59.0)\n",
      "Requirement already satisfied: tensorboard<2.14,>=2.13 in /Users/christinastodt/Library/jupyterlab-desktop/jlab_server/lib/python3.8/site-packages (from tensorflow) (2.13.0)\n",
      "Requirement already satisfied: tensorflow-estimator<2.14,>=2.13.0 in /Users/christinastodt/Library/jupyterlab-desktop/jlab_server/lib/python3.8/site-packages (from tensorflow) (2.13.0)\n",
      "Requirement already satisfied: keras<2.14,>=2.13.1 in /Users/christinastodt/Library/jupyterlab-desktop/jlab_server/lib/python3.8/site-packages (from tensorflow) (2.13.1)\n",
      "Requirement already satisfied: tensorflow-io-gcs-filesystem>=0.23.1 in /Users/christinastodt/Library/jupyterlab-desktop/jlab_server/lib/python3.8/site-packages (from tensorflow) (0.34.0)\n",
      "Requirement already satisfied: wheel<1.0,>=0.23.0 in /Users/christinastodt/Library/jupyterlab-desktop/jlab_server/lib/python3.8/site-packages (from astunparse>=1.6.0->tensorflow) (0.41.1)\n",
      "Requirement already satisfied: google-auth<3,>=1.6.3 in /Users/christinastodt/Library/jupyterlab-desktop/jlab_server/lib/python3.8/site-packages (from tensorboard<2.14,>=2.13->tensorflow) (2.23.3)\n",
      "Requirement already satisfied: google-auth-oauthlib<1.1,>=0.5 in /Users/christinastodt/Library/jupyterlab-desktop/jlab_server/lib/python3.8/site-packages (from tensorboard<2.14,>=2.13->tensorflow) (1.0.0)\n",
      "Requirement already satisfied: markdown>=2.6.8 in /Users/christinastodt/Library/jupyterlab-desktop/jlab_server/lib/python3.8/site-packages (from tensorboard<2.14,>=2.13->tensorflow) (3.5)\n",
      "Requirement already satisfied: requests<3,>=2.21.0 in /Users/christinastodt/Library/jupyterlab-desktop/jlab_server/lib/python3.8/site-packages (from tensorboard<2.14,>=2.13->tensorflow) (2.31.0)\n",
      "Requirement already satisfied: tensorboard-data-server<0.8.0,>=0.7.0 in /Users/christinastodt/Library/jupyterlab-desktop/jlab_server/lib/python3.8/site-packages (from tensorboard<2.14,>=2.13->tensorflow) (0.7.1)\n",
      "Requirement already satisfied: werkzeug>=1.0.1 in /Users/christinastodt/Library/jupyterlab-desktop/jlab_server/lib/python3.8/site-packages (from tensorboard<2.14,>=2.13->tensorflow) (3.0.0)\n",
      "Requirement already satisfied: cachetools<6.0,>=2.0.0 in /Users/christinastodt/Library/jupyterlab-desktop/jlab_server/lib/python3.8/site-packages (from google-auth<3,>=1.6.3->tensorboard<2.14,>=2.13->tensorflow) (5.3.1)\n",
      "Requirement already satisfied: pyasn1-modules>=0.2.1 in /Users/christinastodt/Library/jupyterlab-desktop/jlab_server/lib/python3.8/site-packages (from google-auth<3,>=1.6.3->tensorboard<2.14,>=2.13->tensorflow) (0.3.0)\n",
      "Requirement already satisfied: rsa<5,>=3.1.4 in /Users/christinastodt/Library/jupyterlab-desktop/jlab_server/lib/python3.8/site-packages (from google-auth<3,>=1.6.3->tensorboard<2.14,>=2.13->tensorflow) (4.9)\n",
      "Requirement already satisfied: requests-oauthlib>=0.7.0 in /Users/christinastodt/Library/jupyterlab-desktop/jlab_server/lib/python3.8/site-packages (from google-auth-oauthlib<1.1,>=0.5->tensorboard<2.14,>=2.13->tensorflow) (1.3.1)\n",
      "Requirement already satisfied: importlib-metadata>=4.4 in /Users/christinastodt/Library/jupyterlab-desktop/jlab_server/lib/python3.8/site-packages (from markdown>=2.6.8->tensorboard<2.14,>=2.13->tensorflow) (6.8.0)\n",
      "Requirement already satisfied: charset-normalizer<4,>=2 in /Users/christinastodt/Library/jupyterlab-desktop/jlab_server/lib/python3.8/site-packages (from requests<3,>=2.21.0->tensorboard<2.14,>=2.13->tensorflow) (3.2.0)\n",
      "Requirement already satisfied: idna<4,>=2.5 in /Users/christinastodt/Library/jupyterlab-desktop/jlab_server/lib/python3.8/site-packages (from requests<3,>=2.21.0->tensorboard<2.14,>=2.13->tensorflow) (3.4)\n",
      "Requirement already satisfied: urllib3<3,>=1.21.1 in /Users/christinastodt/Library/jupyterlab-desktop/jlab_server/lib/python3.8/site-packages (from requests<3,>=2.21.0->tensorboard<2.14,>=2.13->tensorflow) (2.0.4)\n",
      "Requirement already satisfied: certifi>=2017.4.17 in /Users/christinastodt/Library/jupyterlab-desktop/jlab_server/lib/python3.8/site-packages (from requests<3,>=2.21.0->tensorboard<2.14,>=2.13->tensorflow) (2023.7.22)\n",
      "Requirement already satisfied: MarkupSafe>=2.1.1 in /Users/christinastodt/Library/jupyterlab-desktop/jlab_server/lib/python3.8/site-packages (from werkzeug>=1.0.1->tensorboard<2.14,>=2.13->tensorflow) (2.1.3)\n",
      "Requirement already satisfied: zipp>=0.5 in /Users/christinastodt/Library/jupyterlab-desktop/jlab_server/lib/python3.8/site-packages (from importlib-metadata>=4.4->markdown>=2.6.8->tensorboard<2.14,>=2.13->tensorflow) (3.16.2)\n",
      "Requirement already satisfied: pyasn1<0.6.0,>=0.4.6 in /Users/christinastodt/Library/jupyterlab-desktop/jlab_server/lib/python3.8/site-packages (from pyasn1-modules>=0.2.1->google-auth<3,>=1.6.3->tensorboard<2.14,>=2.13->tensorflow) (0.5.0)\n",
      "Requirement already satisfied: oauthlib>=3.0.0 in /Users/christinastodt/Library/jupyterlab-desktop/jlab_server/lib/python3.8/site-packages (from requests-oauthlib>=0.7.0->google-auth-oauthlib<1.1,>=0.5->tensorboard<2.14,>=2.13->tensorflow) (3.2.2)\n",
      "Using cached tensorflow-2.13.1-cp38-cp38-macosx_10_15_x86_64.whl (216.2 MB)\n",
      "Installing collected packages: tensorflow\n",
      "Successfully installed tensorflow-2.13.1\n"
     ]
    }
   ],
   "source": [
    "!pip install tensorflow\n"
   ]
  },
  {
   "cell_type": "code",
   "execution_count": null,
   "metadata": {},
   "outputs": [],
   "source": [
    "pip install --upgrade tensorflow keras"
   ]
  },
  {
   "cell_type": "code",
   "execution_count": 2,
   "metadata": {
    "scrolled": true
   },
   "outputs": [
    {
     "name": "stdout",
     "output_type": "stream",
     "text": [
      "Requirement already satisfied: pandas in /Users/christinastodt/Library/jupyterlab-desktop/jlab_server/lib/python3.8/site-packages (2.0.3)\n",
      "Requirement already satisfied: python-dateutil>=2.8.2 in /Users/christinastodt/Library/jupyterlab-desktop/jlab_server/lib/python3.8/site-packages (from pandas) (2.8.2)\n",
      "Requirement already satisfied: pytz>=2020.1 in /Users/christinastodt/Library/jupyterlab-desktop/jlab_server/lib/python3.8/site-packages (from pandas) (2023.3)\n",
      "Requirement already satisfied: tzdata>=2022.1 in /Users/christinastodt/Library/jupyterlab-desktop/jlab_server/lib/python3.8/site-packages (from pandas) (2023.3)\n",
      "Requirement already satisfied: numpy>=1.20.3 in /Users/christinastodt/Library/jupyterlab-desktop/jlab_server/lib/python3.8/site-packages (from pandas) (1.24.3)\n",
      "Requirement already satisfied: six>=1.5 in /Users/christinastodt/Library/jupyterlab-desktop/jlab_server/lib/python3.8/site-packages (from python-dateutil>=2.8.2->pandas) (1.16.0)\n"
     ]
    }
   ],
   "source": [
    "!pip install pandas"
   ]
  },
  {
   "cell_type": "code",
   "execution_count": 3,
   "metadata": {
    "scrolled": true
   },
   "outputs": [
    {
     "name": "stdout",
     "output_type": "stream",
     "text": [
      "Collecting scikit-learn\n",
      "  Obtaining dependency information for scikit-learn from https://files.pythonhosted.org/packages/e3/52/fd60b0b022af41fbf3463587ddc719288f0f2d4e46603ab3184996cd5f04/scikit_learn-1.3.2-cp38-cp38-macosx_10_9_x86_64.whl.metadata\n",
      "  Downloading scikit_learn-1.3.2-cp38-cp38-macosx_10_9_x86_64.whl.metadata (11 kB)\n",
      "Requirement already satisfied: numpy<2.0,>=1.17.3 in /Users/christinastodt/Library/jupyterlab-desktop/jlab_server/lib/python3.8/site-packages (from scikit-learn) (1.24.3)\n",
      "Requirement already satisfied: scipy>=1.5.0 in /Users/christinastodt/Library/jupyterlab-desktop/jlab_server/lib/python3.8/site-packages (from scikit-learn) (1.10.1)\n",
      "Collecting joblib>=1.1.1 (from scikit-learn)\n",
      "  Obtaining dependency information for joblib>=1.1.1 from https://files.pythonhosted.org/packages/10/40/d551139c85db202f1f384ba8bcf96aca2f329440a844f924c8a0040b6d02/joblib-1.3.2-py3-none-any.whl.metadata\n",
      "  Using cached joblib-1.3.2-py3-none-any.whl.metadata (5.4 kB)\n",
      "Collecting threadpoolctl>=2.0.0 (from scikit-learn)\n",
      "  Obtaining dependency information for threadpoolctl>=2.0.0 from https://files.pythonhosted.org/packages/81/12/fd4dea011af9d69e1cad05c75f3f7202cdcbeac9b712eea58ca779a72865/threadpoolctl-3.2.0-py3-none-any.whl.metadata\n",
      "  Using cached threadpoolctl-3.2.0-py3-none-any.whl.metadata (10.0 kB)\n",
      "Downloading scikit_learn-1.3.2-cp38-cp38-macosx_10_9_x86_64.whl (10.1 MB)\n",
      "\u001b[2K   \u001b[90m━━━━━━━━━━━━━━━━━━━━━━━━━━━━━━━━━━━━━━━━\u001b[0m \u001b[32m10.1/10.1 MB\u001b[0m \u001b[31m22.1 MB/s\u001b[0m eta \u001b[36m0:00:00\u001b[0m00:01\u001b[0m0:01\u001b[0m\n",
      "\u001b[?25hUsing cached joblib-1.3.2-py3-none-any.whl (302 kB)\n",
      "Using cached threadpoolctl-3.2.0-py3-none-any.whl (15 kB)\n",
      "Installing collected packages: threadpoolctl, joblib, scikit-learn\n",
      "Successfully installed joblib-1.3.2 scikit-learn-1.3.2 threadpoolctl-3.2.0\n"
     ]
    }
   ],
   "source": [
    "!pip install scikit-learn"
   ]
  },
  {
   "cell_type": "code",
   "execution_count": 4,
   "metadata": {},
   "outputs": [
    {
     "name": "stdout",
     "output_type": "stream",
     "text": [
      "Requirement already satisfied: numpy in /Users/christinastodt/Library/jupyterlab-desktop/jlab_server/lib/python3.8/site-packages (1.24.3)\n"
     ]
    }
   ],
   "source": [
    "!pip install numpy"
   ]
  },
  {
   "cell_type": "code",
   "execution_count": 1,
   "metadata": {
    "id": "RTojLsgtPMrO"
   },
   "outputs": [],
   "source": [
    "import numpy as np\n",
    "import pandas as pd\n",
    "import tensorflow as tf\n",
    "import sklearn\n",
    "from tensorflow.keras.layers import Input, Dense\n",
    "from tensorflow.keras.models import Model\n",
    "from sklearn.preprocessing import MinMaxScaler\n",
    "from sklearn.preprocessing import LabelEncoder\n",
    "from keras.optimizers import Adam\n",
    "from keras.callbacks import EarlyStopping\n",
    "from sklearn.model_selection import train_test_split\n",
    "from sklearn.preprocessing import StandardScaler, OneHotEncoder\n",
    "from sklearn.compose import ColumnTransformer\n",
    "from sklearn.pipeline import Pipeline\n"
   ]
  },
  {
   "cell_type": "markdown",
   "metadata": {
    "id": "O-RS9Hd8KYIc"
   },
   "source": [
    "**Network Flow Group Autoencoder:**"
   ]
  },
  {
   "cell_type": "code",
   "execution_count": 2,
   "metadata": {
    "colab": {
     "base_uri": "https://localhost:8080/"
    },
    "id": "1OP48zDdKoBl",
    "outputId": "09de6f2b-a976-4b02-a404-4a7dd60ce2e8"
   },
   "outputs": [
    {
     "name": "stdout",
     "output_type": "stream",
     "text": [
      "src_ip                 0\n",
      "dst_ip                 0\n",
      "src_port             245\n",
      "dst_port             245\n",
      "packet_count           0\n",
      "total_bytes            0\n",
      "traffic_direction      0\n",
      "first_timestamp        0\n",
      "last_timestamp         0\n",
      "dtype: int64\n"
     ]
    }
   ],
   "source": [
    "\n",
    "network_flow_df = pd.read_csv('network_flow_features.csv', header=0)\n",
    "\n",
    "# Convert the DataFrame to a NumPy array, retaining rows with \"ff:ff:ff:ff:ff:ff\"\n",
    "network_flow_data = network_flow_df.values\n",
    "#print(network_flow_data)\n",
    "\n",
    "\n",
    "# Display unique values in each column\n",
    "for column in network_flow_df.columns:\n",
    "    unique_values = network_flow_df[column].unique()\n",
    "    #print(f\"Column: {column}, Unique Values: {unique_values}\")\n",
    "#print(network_flow_df.columns)\n",
    "print(network_flow_df.isnull().sum())\n"
   ]
  },
  {
   "cell_type": "code",
   "execution_count": 3,
   "metadata": {
    "colab": {
     "base_uri": "https://localhost:8080/"
    },
    "id": "JndbyyeEKz5c",
    "outputId": "8cf49cc2-eb69-4b7c-8b13-0d8d10f93be3"
   },
   "outputs": [
    {
     "name": "stdout",
     "output_type": "stream",
     "text": [
      "Training data shape: (727524, 7)\n",
      "Testing data shape: (181882, 7)\n",
      "        src_port  dst_port  packet_count  total_bytes  src_ip  dst_ip  \\\n",
      "0       0.916347 -0.890711      0.364892     0.021837  2543.0  2560.0   \n",
      "1      -0.898908  0.926452      0.358183     0.005269  2542.0  2561.0   \n",
      "2       1.459276 -0.892800     -0.071193    -0.041119  2543.0  2560.0   \n",
      "3      -0.900995  1.469952     -0.071193    -0.041403  2542.0  2561.0   \n",
      "4       0.917204 -0.904028     -0.030939    -0.039340  2543.0  2560.0   \n",
      "...          ...       ...           ...          ...     ...     ...   \n",
      "909401 -0.898982  1.498302      0.130077     0.108446  6703.0  2558.0   \n",
      "909402  1.422833 -0.890786     -0.071193    -0.042110  2536.0  1843.0   \n",
      "909403  1.423690 -0.890786     -0.071193    -0.042110  2536.0  4288.0   \n",
      "909404 -0.898982  1.434328     -0.071193    -0.042110  4251.0  2553.0   \n",
      "909405 -0.898982  1.433470     -0.071193    -0.042110  1830.0  2553.0   \n",
      "\n",
      "        traffic_direction  \n",
      "0                     1.0  \n",
      "1                     1.0  \n",
      "2                     1.0  \n",
      "3                     1.0  \n",
      "4                     1.0  \n",
      "...                   ...  \n",
      "909401                0.0  \n",
      "909402                1.0  \n",
      "909403                1.0  \n",
      "909404                0.0  \n",
      "909405                0.0  \n",
      "\n",
      "[909406 rows x 7 columns]\n"
     ]
    }
   ],
   "source": [
    "#data preprocessing:\n",
    "\n",
    "import pandas as pd\n",
    "import numpy as np\n",
    "from sklearn.preprocessing import StandardScaler, LabelEncoder\n",
    "from sklearn.compose import ColumnTransformer\n",
    "from sklearn.pipeline import Pipeline\n",
    "from sklearn.model_selection import train_test_split\n",
    "\n",
    "\n",
    "\n",
    "# Drop rows with missing values in specific columns\n",
    "network_flow_df.dropna(subset=['src_port', 'dst_port'], inplace=True)\n",
    "\n",
    "# Define columns to be transformed:\n",
    "numerical_features = ['src_port', 'dst_port', 'packet_count', 'total_bytes']\n",
    "categorical_features = ['src_ip', 'dst_ip', 'traffic_direction']\n",
    "\n",
    "# Separate categorical and numerical columns\n",
    "X_numerical = network_flow_df[numerical_features]\n",
    "X_categorical = network_flow_df[categorical_features]\n",
    "\n",
    "# Apply numerical transformation (StandardScaler)\n",
    "numerical_transformer = StandardScaler()\n",
    "X_numerical_transformed = numerical_transformer.fit_transform(X_numerical)\n",
    "\n",
    "# Apply categorical transformation (Label Encoding)\n",
    "categorical_transformer = LabelEncoder()\n",
    "X_categorical_transformed = X_categorical.apply(categorical_transformer.fit_transform)\n",
    "\n",
    "# Combine transformed features\n",
    "X_transformed = np.hstack([X_numerical_transformed, X_categorical_transformed])\n",
    "\n",
    "# Create a DataFrame with transformed features and column names\n",
    "all_column_names = numerical_features + categorical_features\n",
    "df_preprocessed = pd.DataFrame(X_transformed, columns=all_column_names)\n",
    "\n",
    "# Splitting the preprocessed data into 80% training and 20% testing\n",
    "X_train, X_test_NF = train_test_split(df_preprocessed, test_size=0.2, random_state=42)\n",
    "\n",
    "print(f\"Training data shape: {X_train.shape}\")\n",
    "print(f\"Testing data shape: {X_test_NF.shape}\")\n",
    "\n",
    "print(df_preprocessed)\n",
    "\n"
   ]
  },
  {
   "cell_type": "code",
   "execution_count": 4,
   "metadata": {
    "id": "ITtAJ8FlK6ui"
   },
   "outputs": [
    {
     "name": "stderr",
     "output_type": "stream",
     "text": [
      "2023-10-24 17:06:18.512911: I metal_plugin/src/device/metal_device.cc:1154] Metal device set to: Apple M2 Pro\n",
      "2023-10-24 17:06:18.512943: I metal_plugin/src/device/metal_device.cc:296] systemMemory: 32.00 GB\n",
      "2023-10-24 17:06:18.512954: I metal_plugin/src/device/metal_device.cc:313] maxCacheSize: 10.67 GB\n",
      "2023-10-24 17:06:18.512999: I tensorflow/core/common_runtime/pluggable_device/pluggable_device_factory.cc:306] Could not identify NUMA node of platform GPU ID 0, defaulting to 0. Your kernel may not have been built with NUMA support.\n",
      "2023-10-24 17:06:18.513021: I tensorflow/core/common_runtime/pluggable_device/pluggable_device_factory.cc:272] Created TensorFlow device (/job:localhost/replica:0/task:0/device:GPU:0 with 0 MB memory) -> physical PluggableDevice (device: 0, name: METAL, pci bus id: <undefined>)\n"
     ]
    }
   ],
   "source": [
    "# define Autoencoder\n",
    "import numpy as np\n",
    "import pandas as pd\n",
    "from sklearn.preprocessing import StandardScaler, OneHotEncoder\n",
    "from sklearn.compose import ColumnTransformer\n",
    "from sklearn.pipeline import Pipeline\n",
    "import tensorflow as tf\n",
    "from tensorflow.keras.models import Model\n",
    "from tensorflow.keras.layers import Input, Dense\n",
    "\n",
    "\n",
    "\n",
    "# Dimensions of the preprocessed data\n",
    "input_dim = df_preprocessed.shape[1]\n",
    "\n",
    "# Define the autoencoder architecture\n",
    "input_layer = Input(shape=(input_dim,))\n",
    "encoded = Dense(32, activation='relu')(input_layer)\n",
    "encoded = Dense(16, activation='relu')(encoded)\n",
    "decoded = Dense(32, activation='relu')(encoded)\n",
    "decoded = Dense(input_dim, activation='sigmoid')(decoded)\n",
    "\n",
    "autoencoder_NF = Model(input_layer, decoded)\n",
    "autoencoder_NF.compile(optimizer='adam', loss='mean_squared_error')"
   ]
  },
  {
   "cell_type": "code",
   "execution_count": 5,
   "metadata": {
    "colab": {
     "base_uri": "https://localhost:8080/"
    },
    "id": "4vRycLcULVvj",
    "outputId": "d2b65d9a-6bb7-4996-f9f1-067595e2636c",
    "scrolled": true
   },
   "outputs": [
    {
     "name": "stdout",
     "output_type": "stream",
     "text": [
      "Epoch 1/50\n"
     ]
    },
    {
     "name": "stderr",
     "output_type": "stream",
     "text": [
      "2023-10-24 17:06:28.049803: I tensorflow/core/grappler/optimizers/custom_graph_optimizer_registry.cc:117] Plugin optimizer for device_type GPU is enabled.\n",
      "2023-10-24 17:06:28.074874: E tensorflow/core/grappler/optimizers/meta_optimizer.cc:961] model_pruner failed: INVALID_ARGUMENT: Graph does not contain terminal node Adam/AssignAddVariableOp.\n"
     ]
    },
    {
     "name": "stdout",
     "output_type": "stream",
     "text": [
      "3553/3553 [==============================] - 20s 5ms/step - loss: 0.0040\n",
      "Epoch 2/50\n",
      "3553/3553 [==============================] - 17s 5ms/step - loss: 4.1258e-04\n",
      "Epoch 3/50\n",
      "3553/3553 [==============================] - 17s 5ms/step - loss: 7.0441e-04\n",
      "Epoch 4/50\n",
      "3553/3553 [==============================] - 18s 5ms/step - loss: 9.4581e-04\n",
      "Epoch 5/50\n",
      "3553/3553 [==============================] - 17s 5ms/step - loss: 0.0020\n",
      "Epoch 6/50\n",
      "3553/3553 [==============================] - 17s 5ms/step - loss: 0.0030\n",
      "Epoch 7/50\n",
      "3553/3553 [==============================] - 18s 5ms/step - loss: 0.0032\n",
      "Epoch 8/50\n",
      "3553/3553 [==============================] - 17s 5ms/step - loss: 0.0035\n",
      "Epoch 9/50\n",
      "3553/3553 [==============================] - 17s 5ms/step - loss: 0.0034\n",
      "Epoch 10/50\n",
      "3553/3553 [==============================] - 17s 5ms/step - loss: 0.0033\n",
      "Epoch 11/50\n",
      "3553/3553 [==============================] - 18s 5ms/step - loss: 0.0033\n",
      "Epoch 12/50\n",
      "3553/3553 [==============================] - 18s 5ms/step - loss: 0.0032\n",
      "Epoch 13/50\n",
      "3553/3553 [==============================] - 17s 5ms/step - loss: 0.0032\n",
      "Epoch 14/50\n",
      "3553/3553 [==============================] - 17s 5ms/step - loss: 0.0033\n",
      "Epoch 15/50\n",
      "3553/3553 [==============================] - 17s 5ms/step - loss: 0.0032\n",
      "Epoch 16/50\n",
      "3553/3553 [==============================] - 17s 5ms/step - loss: 0.0033\n",
      "Epoch 17/50\n",
      "3553/3553 [==============================] - 17s 5ms/step - loss: 0.0032\n",
      "Epoch 18/50\n",
      "3553/3553 [==============================] - 17s 5ms/step - loss: 0.0033\n",
      "Epoch 19/50\n",
      "3553/3553 [==============================] - 18s 5ms/step - loss: 0.0036\n",
      "Epoch 20/50\n",
      "3553/3553 [==============================] - 17s 5ms/step - loss: 0.0039\n",
      "Epoch 21/50\n",
      "3553/3553 [==============================] - 17s 5ms/step - loss: 0.0033\n",
      "Epoch 22/50\n",
      "3553/3553 [==============================] - 17s 5ms/step - loss: 0.0032\n",
      "Epoch 23/50\n",
      "3553/3553 [==============================] - 17s 5ms/step - loss: 0.0033\n",
      "Epoch 24/50\n",
      "3553/3553 [==============================] - 17s 5ms/step - loss: 0.0032\n",
      "Epoch 25/50\n",
      "3553/3553 [==============================] - 17s 5ms/step - loss: 0.0032\n",
      "Epoch 26/50\n",
      "3553/3553 [==============================] - 17s 5ms/step - loss: 0.0032\n",
      "Epoch 27/50\n",
      "3553/3553 [==============================] - 17s 5ms/step - loss: 0.0033\n",
      "Epoch 28/50\n",
      "3553/3553 [==============================] - 17s 5ms/step - loss: 0.0032\n",
      "Epoch 29/50\n",
      "3553/3553 [==============================] - 17s 5ms/step - loss: 0.0032\n",
      "Epoch 30/50\n",
      "3553/3553 [==============================] - 17s 5ms/step - loss: 0.0032\n",
      "Epoch 31/50\n",
      "3553/3553 [==============================] - 17s 5ms/step - loss: 0.0032\n",
      "Epoch 32/50\n",
      "3553/3553 [==============================] - 17s 5ms/step - loss: 0.0032\n",
      "Epoch 33/50\n",
      "3553/3553 [==============================] - 17s 5ms/step - loss: 0.0032\n",
      "Epoch 34/50\n",
      "3553/3553 [==============================] - 17s 5ms/step - loss: 0.0033\n",
      "Epoch 35/50\n",
      "3553/3553 [==============================] - 17s 5ms/step - loss: 0.0032\n",
      "Epoch 36/50\n",
      "3553/3553 [==============================] - 17s 5ms/step - loss: 0.0033\n",
      "Epoch 37/50\n",
      "3553/3553 [==============================] - 17s 5ms/step - loss: 0.0032\n",
      "Epoch 38/50\n",
      "3553/3553 [==============================] - 17s 5ms/step - loss: 0.0032\n",
      "Epoch 39/50\n",
      "3553/3553 [==============================] - 17s 5ms/step - loss: 0.0033\n",
      "Epoch 40/50\n",
      "3553/3553 [==============================] - 17s 5ms/step - loss: 0.0032\n",
      "Epoch 41/50\n",
      "3553/3553 [==============================] - 18s 5ms/step - loss: 0.0032\n",
      "Epoch 42/50\n",
      "3553/3553 [==============================] - 17s 5ms/step - loss: 0.0032\n",
      "Epoch 43/50\n",
      "3553/3553 [==============================] - 18s 5ms/step - loss: 0.0032\n",
      "Epoch 44/50\n",
      "3553/3553 [==============================] - 17s 5ms/step - loss: 0.0032\n",
      "Epoch 45/50\n",
      "3553/3553 [==============================] - 17s 5ms/step - loss: 0.0032\n",
      "Epoch 46/50\n",
      "3553/3553 [==============================] - 17s 5ms/step - loss: 0.0032\n",
      "Epoch 47/50\n",
      "3553/3553 [==============================] - 17s 5ms/step - loss: 0.0032\n",
      "Epoch 48/50\n",
      "3553/3553 [==============================] - 17s 5ms/step - loss: 0.0032\n",
      "Epoch 49/50\n",
      "3553/3553 [==============================] - 17s 5ms/step - loss: 0.0032\n",
      "Epoch 50/50\n",
      "3553/3553 [==============================] - 17s 5ms/step - loss: 0.0033\n"
     ]
    },
    {
     "data": {
      "text/plain": [
       "<keras.src.callbacks.History at 0x2d7298bb0>"
      ]
     },
     "execution_count": 5,
     "metadata": {},
     "output_type": "execute_result"
    }
   ],
   "source": [
    "# Train autoencoder:\n",
    "# Normalize the data to be between 0 and 1 (important for the 'sigmoid' activation function)\n",
    "df_preprocessed_norm = np.clip(df_preprocessed, 0, 1)\n",
    "\n",
    "# Train the autoencoder\n",
    "autoencoder_NF.fit(df_preprocessed_norm, df_preprocessed_norm, epochs=50, batch_size=256, shuffle=True)"
   ]
  },
  {
   "cell_type": "markdown",
   "metadata": {
    "id": "Eubyau_aLs8g"
   },
   "source": [
    "*Evaluation for Networkflow AUE:*"
   ]
  },
  {
   "cell_type": "code",
   "execution_count": 8,
   "metadata": {},
   "outputs": [
    {
     "name": "stdout",
     "output_type": "stream",
     "text": [
      "Model saved to autoencoder_NF_model.h5\n"
     ]
    }
   ],
   "source": [
    "# Save the autoencoder model\n",
    "#save model\n",
    "# Save the autoencoder model\n",
    "model_filename = \"autoencoder_NF_model.h5\"\n",
    "autoencoder_NF.save(model_filename)\n",
    "print(f\"Model saved to {model_filename}\")"
   ]
  },
  {
   "cell_type": "code",
   "execution_count": 4,
   "metadata": {},
   "outputs": [
    {
     "name": "stderr",
     "output_type": "stream",
     "text": [
      "2023-10-24 17:58:25.404265: I metal_plugin/src/device/metal_device.cc:1154] Metal device set to: Apple M2 Pro\n",
      "2023-10-24 17:58:25.404455: I metal_plugin/src/device/metal_device.cc:296] systemMemory: 32.00 GB\n",
      "2023-10-24 17:58:25.404478: I metal_plugin/src/device/metal_device.cc:313] maxCacheSize: 10.67 GB\n",
      "2023-10-24 17:58:25.404557: I tensorflow/core/common_runtime/pluggable_device/pluggable_device_factory.cc:306] Could not identify NUMA node of platform GPU ID 0, defaulting to 0. Your kernel may not have been built with NUMA support.\n",
      "2023-10-24 17:58:25.405098: I tensorflow/core/common_runtime/pluggable_device/pluggable_device_factory.cc:272] Created TensorFlow device (/job:localhost/replica:0/task:0/device:GPU:0 with 0 MB memory) -> physical PluggableDevice (device: 0, name: METAL, pci bus id: <undefined>)\n"
     ]
    }
   ],
   "source": [
    "#load the model\n",
    "# Import necessary libraries\n",
    "from tensorflow.keras.models import load_model\n",
    "\n",
    "# Load the autoencoder model\n",
    "autoencoder_NF = load_model('autoencoder_NF_model.h5')"
   ]
  },
  {
   "cell_type": "code",
   "execution_count": 11,
   "metadata": {
    "colab": {
     "base_uri": "https://localhost:8080/"
    },
    "id": "804sNiQiL3QF",
    "outputId": "850d4a50-8072-494c-bd7a-ff31cada2451"
   },
   "outputs": [
    {
     "name": "stdout",
     "output_type": "stream",
     "text": [
      "28419/28419 [==============================] - 69s 2ms/step - loss: 0.0583\n",
      "Reconstruction error: 0.05833301693201065\n",
      "28419/28419 [==============================] - 69s 2ms/step - loss: 0.0583\n",
      "Mean Squared Error: 0.05833301693201065\n"
     ]
    }
   ],
   "source": [
    "#Reconstruction Error: (A lower MSE indicates better reconstruction)\n",
    "\n",
    "reconstruction_error = autoencoder_NF.evaluate(df_preprocessed_norm, df_preprocessed_norm)\n",
    "print(f\"Reconstruction error: {reconstruction_error}\")\n",
    "\n",
    "mse_NF = autoencoder_NF.evaluate(df_preprocessed_norm, df_preprocessed_norm)\n",
    "print(f\"Mean Squared Error: {mse_NF}\")"
   ]
  },
  {
   "cell_type": "markdown",
   "metadata": {
    "id": "rRYRl0bSOuQL"
   },
   "source": [
    "**Network Traffic Group Autoencoder:**"
   ]
  },
  {
   "cell_type": "code",
   "execution_count": 5,
   "metadata": {
    "colab": {
     "base_uri": "https://localhost:8080/"
    },
    "id": "ahKracdAO8h8",
    "outputId": "d740ae73-6bcb-4e6e-92c1-ff452d0e72a3",
    "scrolled": true
   },
   "outputs": [
    {
     "name": "stdout",
     "output_type": "stream",
     "text": [
      "[[nan nan nan ... nan nan 1499169212.364079]\n",
      " ['00:1e:4f:d4:ca:28' '33:33:00:01:00:02' nan ... nan nan\n",
      "  1499169214.788169]\n",
      " ['00:1e:4f:d4:ca:28' '33:33:00:01:00:02' nan ... nan nan\n",
      "  1499169214.788179]\n",
      " ...\n",
      " ['00:c1:b1:14:eb:31' 'b8:ac:6f:36:07:ee' '72.21.91.29' ... 62738.0 'TCP'\n",
      "  1499198431.004717]\n",
      " ['00:c1:b1:14:eb:31' 'b8:ac:6f:36:0b:a8' '217.117.75.46' ... 43670.0\n",
      "  'TCP' 1499198431.066113]\n",
      " ['00:c1:b1:14:eb:31' 'b8:ac:6f:36:0b:a8' '217.117.75.46' ... 43689.0\n",
      "  'TCP' 1499198431.076755]]\n",
      "Column: eth_src, Unique Values: [nan '00:1e:4f:d4:ca:28' '24:6e:96:4a:37:7a' 'b8:ac:6f:36:0a:8b'\n",
      " '18:66:da:9b:e3:7d' '00:c1:b1:14:eb:31' '00:19:b9:0a:69:f1'\n",
      " 'b8:ac:6f:1d:1f:6c' 'b8:ac:6f:36:0b:a8' 'b8:ac:6f:36:07:ee'\n",
      " 'b8:ac:6f:36:08:f5' '00:23:ae:9b:95:67' '00:23:ae:9b:ad:b3'\n",
      " 'b8:ac:6f:36:04:e3' '00:23:ae:9b:8a:bf' '00:25:00:a8:c4:60']\n",
      "Column: eth_dst, Unique Values: [nan '33:33:00:01:00:02' '33:33:00:00:00:01' '33:33:00:00:00:fb'\n",
      " '18:66:da:9b:e3:7d' 'b8:ac:6f:36:0a:8b' '00:c1:b1:14:eb:31'\n",
      " 'ff:ff:ff:ff:ff:ff' '01:00:5e:00:00:fb' '00:1e:4f:d4:ca:28'\n",
      " '00:19:b9:0a:69:f1' '33:33:00:01:00:03' '01:00:5e:00:00:fc'\n",
      " '01:00:5e:00:00:16' '33:33:00:00:00:16' '33:33:ff:36:0b:a8'\n",
      " '33:33:00:00:00:02' 'b8:ac:6f:36:0b:a8' '33:33:ff:73:ed:41'\n",
      " 'b8:ac:6f:1d:1f:6c' 'b8:ac:6f:36:08:f5' '33:33:ff:9b:95:67'\n",
      " '00:23:ae:9b:95:67' '33:33:ff:9b:ad:b3' '00:23:ae:9b:ad:b3'\n",
      " 'b8:ac:6f:36:07:ee' '01:80:c2:00:00:0e' '33:33:ff:fc:82:3f'\n",
      " 'b8:ac:6f:36:04:e3' '00:23:ae:9b:8a:bf' '01:00:5e:7f:ff:fa'\n",
      " '01:00:5e:00:01:18' '00:25:00:a8:c4:60' '33:33:ff:f6:bd:7b'\n",
      " '33:33:ff:94:ac:8f' '33:33:ff:2f:ae:4c' '33:33:ff:70:07:dd'\n",
      " '33:33:ff:0f:3d:73']\n",
      "Column: src_ip, Unique Values: [nan '192.168.10.5' '192.168.10.3' ... '74.217.63.51' '54.231.82.242'\n",
      " '23.21.240.128']\n",
      "Column: dst_ip, Unique Values: [nan '192.168.10.3' '192.168.10.5' ... '74.217.63.51' '54.231.82.242'\n",
      " '23.21.240.128']\n",
      "Column: src_port, Unique Values: [   nan 49159.   445. ... 25644. 38470. 43730.]\n",
      "Column: dst_port, Unique Values: [   nan   445. 49159. ... 25644. 38470. 43730.]\n",
      "Column: protocol, Unique Values: [nan 'TCP' 'UDP' '1' '2']\n",
      "Column: timestamp, Unique Values: [1.49916921e+09 1.49916921e+09 1.49916921e+09 ... 1.49919843e+09\n",
      " 1.49919843e+09 1.49919843e+09]\n"
     ]
    }
   ],
   "source": [
    "network_traffic_df = pd.read_csv('network_traffic_features.csv')\n",
    "\n",
    "# Convert the DataFrame to a NumPy array, retaining rows with \"ff:ff:ff:ff:ff:ff\"\n",
    "network_traffic_data = network_traffic_df.values\n",
    "\n",
    "print(network_traffic_data)\n",
    "\n",
    "\n",
    "# Display unique values in each column\n",
    "for column in network_traffic_df.columns:\n",
    "    unique_values = network_traffic_df[column].unique()\n",
    "    print(f\"Column: {column}, Unique Values: {unique_values}\")"
   ]
  },
  {
   "cell_type": "code",
   "execution_count": 6,
   "metadata": {
    "colab": {
     "base_uri": "https://localhost:8080/"
    },
    "id": "s2XlyL0-Pg5i",
    "outputId": "10f6a573-3600-4b6d-9851-0b34bc692c81",
    "scrolled": true
   },
   "outputs": [
    {
     "name": "stdout",
     "output_type": "stream",
     "text": [
      "                    eth_src            eth_dst         src_ip         dst_ip  \\\n",
      "0                       NaN                NaN    13.107.4.50  192.168.10.15   \n",
      "1         00:1e:4f:d4:ca:28  33:33:00:01:00:02    13.107.4.50  192.168.10.15   \n",
      "2         00:1e:4f:d4:ca:28  33:33:00:01:00:02    13.107.4.50  192.168.10.15   \n",
      "3         00:1e:4f:d4:ca:28  33:33:00:01:00:02    13.107.4.50  192.168.10.15   \n",
      "4         00:1e:4f:d4:ca:28  33:33:00:01:00:02    13.107.4.50  192.168.10.15   \n",
      "...                     ...                ...            ...            ...   \n",
      "11551949  b8:ac:6f:36:07:ee  00:c1:b1:14:eb:31  192.168.10.14   172.217.10.6   \n",
      "11551950  00:c1:b1:14:eb:31  b8:ac:6f:36:07:ee    72.21.91.29  192.168.10.14   \n",
      "11551951  00:c1:b1:14:eb:31  b8:ac:6f:36:07:ee    72.21.91.29  192.168.10.14   \n",
      "11551952  00:c1:b1:14:eb:31  b8:ac:6f:36:0b:a8  217.117.75.46  192.168.10.51   \n",
      "11551953  00:c1:b1:14:eb:31  b8:ac:6f:36:0b:a8  217.117.75.46  192.168.10.51   \n",
      "\n",
      "          src_port  dst_port  timestamp  protocol_1  protocol_2  protocol_TCP  \\\n",
      "0         0.336667  0.414448   0.000000       False       False          True   \n",
      "1         0.336667  0.414448   0.000083       False       False          True   \n",
      "2         0.336667  0.414448   0.000083       False       False          True   \n",
      "3         0.336667  0.414448   0.000083       False       False          True   \n",
      "4         0.336667  0.414448   0.000083       False       False          True   \n",
      "...            ...       ...        ...         ...         ...           ...   \n",
      "11551949  0.957505  0.006441   0.999997       False       False          True   \n",
      "11551950  0.000901  0.957322   0.999998       False       False          True   \n",
      "11551951  0.000901  0.957307   0.999998       False       False          True   \n",
      "11551952  0.006441  0.666255   1.000000       False       False          True   \n",
      "11551953  0.006441  0.666545   1.000000       False       False          True   \n",
      "\n",
      "          protocol_UDP  \n",
      "0                False  \n",
      "1                False  \n",
      "2                False  \n",
      "3                False  \n",
      "4                False  \n",
      "...                ...  \n",
      "11551949         False  \n",
      "11551950         False  \n",
      "11551951         False  \n",
      "11551952         False  \n",
      "11551953         False  \n",
      "\n",
      "[11551954 rows x 11 columns]\n"
     ]
    }
   ],
   "source": [
    "from sklearn.preprocessing import MinMaxScaler  # Import MinMaxScaler\n",
    "preprocessed_df = network_traffic_df.copy()\n",
    "\n",
    "preprocessed_df['src_ip'].fillna(preprocessed_df['src_ip'].mode()[0], inplace=True)\n",
    "preprocessed_df['dst_ip'].fillna(preprocessed_df['dst_ip'].mode()[0], inplace=True)\n",
    "preprocessed_df['src_port'].fillna(preprocessed_df['src_port'].mean(), inplace=True)\n",
    "preprocessed_df['dst_port'].fillna(preprocessed_df['dst_port'].mean(), inplace=True)\n",
    "preprocessed_df['protocol'].fillna(preprocessed_df['protocol'].mode()[0], inplace=True)\n",
    "\n",
    "preprocessed_df = pd.get_dummies(preprocessed_df, columns=['protocol'])\n",
    "\n",
    "scaler = MinMaxScaler()\n",
    "numeric_cols = ['src_port', 'dst_port', 'timestamp']\n",
    "preprocessed_df[numeric_cols] = scaler.fit_transform(preprocessed_df[numeric_cols])\n",
    "\n",
    "print(preprocessed_df)"
   ]
  },
  {
   "cell_type": "code",
   "execution_count": 7,
   "metadata": {
    "id": "Idu3DiEzPsgw"
   },
   "outputs": [],
   "source": [
    "# 1. Label encode the columns containing MAC addresses (eth_src and eth_dst) into numeric values:\n",
    "le = LabelEncoder()\n",
    "preprocessed_df['eth_src'] = le.fit_transform(preprocessed_df['eth_src'])\n",
    "preprocessed_df['eth_dst'] = le.fit_transform(preprocessed_df['eth_dst'])\n",
    "\n",
    "# 2. Convert the necessary columns to float32\n",
    "numeric_cols = ['src_port', 'dst_port', 'timestamp']\n",
    "preprocessed_df[numeric_cols] = preprocessed_df[numeric_cols].astype('float32')\n",
    "\n",
    "# 3. Normalize the numeric columns using Min-Max scaling.\n",
    "scaler = MinMaxScaler()\n",
    "preprocessed_df[numeric_cols] = scaler.fit_transform(preprocessed_df[numeric_cols])"
   ]
  },
  {
   "cell_type": "code",
   "execution_count": 17,
   "metadata": {
    "colab": {
     "base_uri": "https://localhost:8080/"
    },
    "id": "a5ANgo4BP4sj",
    "outputId": "0e53a473-11dd-470b-bdab-65b43f9b4895",
    "scrolled": true
   },
   "outputs": [
    {
     "name": "stdout",
     "output_type": "stream",
     "text": [
      "eth_src           int64\n",
      "eth_dst           int64\n",
      "src_ip           object\n",
      "dst_ip           object\n",
      "src_port        float32\n",
      "dst_port        float32\n",
      "timestamp       float32\n",
      "protocol_1         bool\n",
      "protocol_2         bool\n",
      "protocol_TCP       bool\n",
      "protocol_UDP       bool\n",
      "dtype: object\n",
      "\n",
      "Columns with string (object) data type:\n",
      "['src_ip', 'dst_ip']\n"
     ]
    }
   ],
   "source": [
    "# Check the data types of each column\n",
    "column_types = preprocessed_df.dtypes\n",
    "\n",
    "# Print out the data types of all columns\n",
    "print(column_types)\n",
    "\n",
    "# List columns that are of string (object) type\n",
    "string_columns = column_types[column_types == 'object'].index.tolist()\n",
    "\n",
    "print(\"\\nColumns with string (object) data type:\")\n",
    "print(string_columns)"
   ]
  },
  {
   "cell_type": "code",
   "execution_count": 8,
   "metadata": {
    "colab": {
     "base_uri": "https://localhost:8080/"
    },
    "id": "ackJ8orYP8Z7",
    "outputId": "1fc0c4d9-ba71-42f8-ab1c-cfcb01ac56d9"
   },
   "outputs": [
    {
     "name": "stdout",
     "output_type": "stream",
     "text": [
      "Training data shape: (9241563, 17)\n",
      "Testing data shape: (2310391, 17)\n"
     ]
    }
   ],
   "source": [
    "from sklearn.model_selection import train_test_split\n",
    "\n",
    "# Define a function to process IP columns\n",
    "def process_ip_column(df, ip_col):\n",
    "    # Split the IP address into its components\n",
    "    df[[ip_col + '_part1', ip_col + '_part2', ip_col + '_part3', ip_col + '_part4']] = df[ip_col].str.split('.', expand=True)\n",
    "\n",
    "    # Convert these components to numeric type\n",
    "    for part in ['_part1', '_part2', '_part3', '_part4']:\n",
    "        df[ip_col + part] = pd.to_numeric(df[ip_col + part])\n",
    "\n",
    "    # Drop the original IP column\n",
    "    df = df.drop(columns=[ip_col])\n",
    "\n",
    "    return df\n",
    "\n",
    "# Process each IP column\n",
    "preprocessed_df = process_ip_column(preprocessed_df, 'src_ip')\n",
    "preprocessed_df = process_ip_column(preprocessed_df, 'dst_ip')\n",
    "\n",
    "# Now convert the entire DataFrame to float32 type\n",
    "preprocessed_df = preprocessed_df.astype('float32')\n",
    "\n",
    "# Splitting the preprocessed data into 80% training and 20% testing\n",
    "X_train, X_test_NT = train_test_split(preprocessed_df, test_size=0.2, random_state=42)\n",
    "\n",
    "print(f\"Training data shape: {X_train.shape}\")\n",
    "print(f\"Testing data shape: {X_test_NT.shape}\")\n"
   ]
  },
  {
   "cell_type": "code",
   "execution_count": 13,
   "metadata": {},
   "outputs": [],
   "source": [
    "from keras.layers import Input, Dense, BatchNormalization, Dropout, LeakyReLU\n",
    "from keras.models import Model\n",
    "from keras.optimizers import Adam\n",
    "from keras.callbacks import EarlyStopping, ReduceLROnPlateau, LearningRateScheduler\n",
    "import numpy as np\n",
    "\n",
    "# Define the dimensions of the encoding layer\n",
    "encoding_dim = 64  # Example: Reducing to 64 dimensions\n",
    "\n",
    "# Create an autoencoder model\n",
    "input_shape = X_train.shape[1]  # Use the shape of the training data\n",
    "input_layer = Input(shape=(input_shape,))\n",
    "\n",
    "# Using LeakyReLU activation\n",
    "leaky_relu = LeakyReLU(alpha=0.01)\n",
    "\n",
    "# Encoding layers\n",
    "encoded = Dense(128, kernel_initializer='he_normal')(input_layer)\n",
    "encoded = BatchNormalization()(encoded)\n",
    "encoded = leaky_relu(encoded)\n",
    "encoded = Dropout(0.3)(encoded)  # Adjusted dropout rate\n",
    "encoded = Dense(encoding_dim, kernel_initializer='he_normal')(encoded)\n",
    "encoded = BatchNormalization()(encoded)\n",
    "encoded = leaky_relu(encoded)\n",
    "\n",
    "# Decoding layers\n",
    "decoded = Dense(128, kernel_initializer='he_normal')(encoded)\n",
    "decoded = BatchNormalization()(decoded)\n",
    "decoded = leaky_relu(decoded)\n",
    "decoded = Dropout(0.3)(decoded)  # Adjusted dropout rate\n",
    "decoded = Dense(input_shape, activation='linear', kernel_initializer='he_normal')(decoded)\n",
    "\n",
    "# Full autoencoder model from input to reconstructed output\n",
    "autoencoder_NT = Model(input_layer, decoded)\n",
    "\n",
    "# Separate encoder model for obtaining the compressed representation\n",
    "encoder = Model(input_layer, encoded)\n",
    "\n",
    "# Learning rate scheduler\n",
    "def scheduler(epoch, lr):\n",
    "    if epoch < 10:\n",
    "        return lr\n",
    "    else:\n",
    "        return lr * tf.math.exp(-0.1)\n",
    "\n",
    "# Compile the autoencoder model with adjusted learning rate\n",
    "opt = Adam(learning_rate=0.001)  # Adjust the learning rate if necessary\n",
    "autoencoder_NT.compile(optimizer=opt, loss='mean_squared_error')\n",
    "\n",
    "# Define early stopping callback to monitor validation loss\n",
    "early_stopping = EarlyStopping(monitor='val_loss', patience=20, restore_best_weights=True)\n",
    "\n",
    "# Reduce learning rate if validation loss does not improve\n",
    "reduce_lr = ReduceLROnPlateau(monitor='val_loss', factor=0.8, patience=5, min_lr=0.00001, verbose=1)\n",
    "\n",
    "# Learning rate scheduler callback\n",
    "lr_scheduler = LearningRateScheduler(scheduler)"
   ]
  },
  {
   "cell_type": "code",
   "execution_count": null,
   "metadata": {
    "colab": {
     "base_uri": "https://localhost:8080/"
    },
    "id": "-ii9OMdtQAyg",
    "outputId": "8059b6d1-1a8a-4b67-c6e3-58fa7de01566",
    "scrolled": true
   },
   "outputs": [
    {
     "name": "stdout",
     "output_type": "stream",
     "text": [
      "Epoch 1/100\n",
      "288799/288799 [==============================] - 1043s 4ms/step - loss: 143.4438 - val_loss: 13.7301 - lr: 0.0010\n",
      "Epoch 2/100\n",
      "288799/288799 [==============================] - 1058s 4ms/step - loss: 105.7166 - val_loss: 16.6976 - lr: 0.0010\n",
      "Epoch 3/100\n",
      "288799/288799 [==============================] - 1029s 4ms/step - loss: 94.1864 - val_loss: 13.9355 - lr: 0.0010\n",
      "Epoch 4/100\n",
      "288799/288799 [==============================] - 1109s 4ms/step - loss: 87.5477 - val_loss: 15.2567 - lr: 0.0010\n",
      "Epoch 5/100\n",
      "288799/288799 [==============================] - 1128s 4ms/step - loss: 83.3179 - val_loss: 13.1316 - lr: 0.0010\n",
      "Epoch 6/100\n",
      "288799/288799 [==============================] - 1121s 4ms/step - loss: 79.8342 - val_loss: 13.9051 - lr: 0.0010\n",
      "Epoch 7/100\n",
      "288799/288799 [==============================] - 1069s 4ms/step - loss: 77.6544 - val_loss: 13.3860 - lr: 0.0010\n",
      "Epoch 8/100\n",
      "288799/288799 [==============================] - 1069s 4ms/step - loss: 76.6304 - val_loss: 13.0014 - lr: 0.0010\n",
      "Epoch 9/100\n",
      "288799/288799 [==============================] - 1092s 4ms/step - loss: 75.9147 - val_loss: 13.0890 - lr: 0.0010\n",
      "Epoch 10/100\n",
      "288799/288799 [==============================] - 1088s 4ms/step - loss: 75.2547 - val_loss: 14.1421 - lr: 0.0010\n",
      "Epoch 11/100\n",
      "129774/288799 [============>.................] - ETA: 9:31 - loss: 74.5948"
     ]
    },
    {
     "name": "stderr",
     "output_type": "stream",
     "text": [
      "IOPub message rate exceeded.\n",
      "The Jupyter server will temporarily stop sending output\n",
      "to the client in order to avoid crashing it.\n",
      "To change this limit, set the config variable\n",
      "`--ServerApp.iopub_msg_rate_limit`.\n",
      "\n",
      "Current values:\n",
      "ServerApp.iopub_msg_rate_limit=1000.0 (msgs/sec)\n",
      "ServerApp.rate_limit_window=3.0 (secs)\n",
      "\n"
     ]
    },
    {
     "name": "stdout",
     "output_type": "stream",
     "text": [
      "288799/288799 [==============================] - 1118s 4ms/step - loss: 74.5061 - val_loss: 13.9464 - lr: 9.0484e-04\n",
      "Epoch 12/100\n",
      "288799/288799 [==============================] - 1046s 4ms/step - loss: 73.9891 - val_loss: 13.1592 - lr: 8.1873e-04\n",
      "Epoch 13/100\n",
      "288796/288799 [============================>.] - ETA: 0s - loss: 73.6381\n",
      "Epoch 13: ReduceLROnPlateau reducing learning rate to 0.0005926544778048992.\n",
      "288799/288799 [==============================] - 1024s 4ms/step - loss: 73.6385 - val_loss: 14.5262 - lr: 5.9265e-04\n",
      "Epoch 14/100\n",
      "288799/288799 [==============================] - 1028s 4ms/step - loss: 73.2533 - val_loss: 13.4939 - lr: 5.3626e-04\n",
      "Epoch 15/100\n",
      "288799/288799 [==============================] - 1032s 4ms/step - loss: 72.9821 - val_loss: 14.0559 - lr: 4.8522e-04\n",
      "Epoch 16/100\n",
      "288799/288799 [==============================] - 1056s 4ms/step - loss: 72.7870 - val_loss: 14.2206 - lr: 4.3905e-04\n",
      "Epoch 17/100\n",
      "288799/288799 [==============================] - 1073s 4ms/step - loss: 72.6267 - val_loss: 14.6182 - lr: 3.9727e-04\n",
      "Epoch 18/100\n",
      "288791/288799 [============================>.] - ETA: 0s - loss: 72.4408\n",
      "Epoch 18: ReduceLROnPlateau reducing learning rate to 0.00028757038526237014.\n",
      "288799/288799 [==============================] - 1051s 4ms/step - loss: 72.4406 - val_loss: 14.3578 - lr: 2.8757e-04\n",
      "Epoch 19/100\n",
      "288799/288799 [==============================] - 1179s 4ms/step - loss: 72.3688 - val_loss: 15.0136 - lr: 2.6020e-04\n",
      "Epoch 20/100\n",
      "288799/288799 [==============================] - 1181s 4ms/step - loss: 72.1611 - val_loss: 13.9057 - lr: 2.3544e-04\n",
      "Epoch 21/100\n",
      "288799/288799 [==============================] - 1319s 5ms/step - loss: 72.1215 - val_loss: 13.0839 - lr: 2.1304e-04\n",
      "Epoch 22/100\n",
      "288799/288799 [==============================] - 1444s 5ms/step - loss: 72.0608 - val_loss: 13.0532 - lr: 1.9276e-04\n",
      "Epoch 23/100\n",
      "140905/288799 [=============>................] - ETA: 12:13 - loss: 71.9467"
     ]
    },
    {
     "name": "stderr",
     "output_type": "stream",
     "text": [
      "IOPub message rate exceeded.\n",
      "The Jupyter server will temporarily stop sending output\n",
      "to the client in order to avoid crashing it.\n",
      "To change this limit, set the config variable\n",
      "`--ServerApp.iopub_msg_rate_limit`.\n",
      "\n",
      "Current values:\n",
      "ServerApp.iopub_msg_rate_limit=1000.0 (msgs/sec)\n",
      "ServerApp.rate_limit_window=3.0 (secs)\n",
      "\n"
     ]
    },
    {
     "name": "stdout",
     "output_type": "stream",
     "text": [
      "288799/288799 [==============================] - 1031s 4ms/step - loss: 71.9347 - val_loss: 13.0272 - lr: 1.4280e-04\n",
      "Epoch 26/100\n",
      "177980/288799 [=================>............] - ETA: 6:15 - loss: 71.8842"
     ]
    },
    {
     "name": "stderr",
     "output_type": "stream",
     "text": [
      "IOPub message rate exceeded.\n",
      "The Jupyter server will temporarily stop sending output\n",
      "to the client in order to avoid crashing it.\n",
      "To change this limit, set the config variable\n",
      "`--ServerApp.iopub_msg_rate_limit`.\n",
      "\n",
      "Current values:\n",
      "ServerApp.iopub_msg_rate_limit=1000.0 (msgs/sec)\n",
      "ServerApp.rate_limit_window=3.0 (secs)\n",
      "\n"
     ]
    },
    {
     "name": "stdout",
     "output_type": "stream",
     "text": [
      "288799/288799 [==============================] - 1054s 4ms/step - loss: 71.8822 - val_loss: 12.9855 - lr: 1.2921e-04\n",
      "Epoch 27/100\n",
      "288799/288799 [==============================] - 1073s 4ms/step - loss: 71.8336 - val_loss: 12.9002 - lr: 1.1692e-04\n",
      "Epoch 28/100\n",
      "288799/288799 [==============================] - ETA: 0s - loss: 71.8138\n",
      "Epoch 28: ReduceLROnPlateau reducing learning rate to 8.46329377964139e-05.\n",
      "288799/288799 [==============================] - 1046s 4ms/step - loss: 71.8138 - val_loss: 13.3187 - lr: 8.4633e-05\n",
      "Epoch 29/100\n",
      "288799/288799 [==============================] - 1027s 4ms/step - loss: 71.8034 - val_loss: 13.4375 - lr: 7.6579e-05\n",
      "Epoch 30/100\n",
      "288799/288799 [==============================] - 1033s 4ms/step - loss: 71.7059 - val_loss: 13.5382 - lr: 6.9292e-05\n",
      "Epoch 31/100\n",
      "288799/288799 [==============================] - 1512s 5ms/step - loss: 71.7607 - val_loss: 13.1118 - lr: 6.2698e-05\n",
      "Epoch 32/100\n",
      "288799/288799 [==============================] - 1301s 5ms/step - loss: 71.7502 - val_loss: 13.9222 - lr: 5.6731e-05\n",
      "Epoch 33/100\n",
      "288799/288799 [==============================] - 1106s 4ms/step - loss: 71.7763 - val_loss: 12.3882 - lr: 5.1332e-05\n",
      "Epoch 34/100\n",
      "288799/288799 [==============================] - 1080s 4ms/step - loss: 71.6670 - val_loss: 14.5626 - lr: 4.6448e-05\n",
      "Epoch 35/100\n",
      "288799/288799 [==============================] - 1076s 4ms/step - loss: 71.6630 - val_loss: 12.7101 - lr: 4.2027e-05\n",
      "Epoch 36/100\n",
      "288799/288799 [==============================] - 1110s 4ms/step - loss: 71.6590 - val_loss: 13.7195 - lr: 3.8028e-05\n",
      "Epoch 37/100\n",
      "248183/288799 [========================>.....] - ETA: 2:24 - loss: 71.6305"
     ]
    }
   ],
   "source": [
    "# Train the autoencoder\n",
    "num_epochs = 100\n",
    "batch_size = 32\n",
    "history = autoencoder_NT.fit(X_train, X_train,\n",
    "                              epochs=num_epochs,\n",
    "                              batch_size=batch_size,\n",
    "                              validation_data=(X_test_NT, X_test_NT),\n",
    "                              callbacks=[early_stopping, reduce_lr, lr_scheduler])\n",
    "\n"
   ]
  },
  {
   "cell_type": "markdown",
   "metadata": {
    "id": "fLksd9m1QTwj"
   },
   "source": [
    "*Evaluation for Network Traffic Autoencoder:*"
   ]
  },
  {
   "cell_type": "code",
   "execution_count": null,
   "metadata": {},
   "outputs": [],
   "source": [
    "# Save the autoencoder model\n",
    "autoencoder_NT.save('autoencoder_NT_model.h5')\n",
    "\n",
    "# Save the encoder model\n",
    "encoder.save('encoder_NT_model.h5')\n"
   ]
  },
  {
   "cell_type": "code",
   "execution_count": 15,
   "metadata": {},
   "outputs": [
    {
     "name": "stdout",
     "output_type": "stream",
     "text": [
      "WARNING:tensorflow:No training configuration found in the save file, so the model was *not* compiled. Compile it manually.\n"
     ]
    }
   ],
   "source": [
    "#compile the model\n",
    "# Import necessary libraries\n",
    "from tensorflow.keras.models import load_model\n",
    "from tensorflow.keras.optimizers import Adam  # You can choose another optimizer if you prefer\n",
    "\n",
    "# Load the autoencoder model\n",
    "autoencoder_NT = load_model('autoencoder_NT_model.h5')\n",
    "\n",
    "# Compile the autoencoder model if you plan to do training or evaluation\n",
    "autoencoder_NT.compile(optimizer=Adam(learning_rate=1e-3),\n",
    "                       loss='mean_squared_error',  # Replace with the loss function you used during training\n",
    "                       metrics=['accuracy'])  # Replace with any metrics you used during training\n",
    "\n",
    "# Load the encoder model\n",
    "encoder_NT = load_model('encoder_NT_model.h5')\n",
    "\n",
    "# Compile the encoder model if you plan to do training or evaluation\n",
    "encoder_NT.compile(optimizer=Adam(learning_rate=1e-3),\n",
    "                   loss='mean_squared_error',  # Replace with the loss function you used during training\n",
    "                   metrics=['accuracy'])  # Replace with any metrics you used during training\n"
   ]
  },
  {
   "cell_type": "code",
   "execution_count": 21,
   "metadata": {
    "colab": {
     "base_uri": "https://localhost:8080/"
    },
    "id": "C-I-Qt6cQQCQ",
    "outputId": "25980ef5-2803-40a3-ff08-2b89c3f3e34f"
   },
   "outputs": [
    {
     "name": "stdout",
     "output_type": "stream",
     "text": [
      "72200/72200 [==============================] - 194s 3ms/step\n",
      "Mean Squared Error (MSE): 12.241012573242188\n"
     ]
    }
   ],
   "source": [
    "#Reconstruction Error: (A lower MSE indicates better reconstruction)\n",
    "reconstructed_data = autoencoder_NT.predict(X_test_NT)\n",
    "mse_NT = np.mean(np.square(X_test_NT - reconstructed_data))\n",
    "print(f\"Mean Squared Error (MSE): {mse_NT}\")"
   ]
  },
  {
   "cell_type": "code",
   "execution_count": 22,
   "metadata": {
    "colab": {
     "base_uri": "https://localhost:8080/"
    },
    "id": "_gYRXhYTQfqz",
    "outputId": "8ee8ab21-d4f4-4bdc-acd6-dd7cdc192838"
   },
   "outputs": [
    {
     "name": "stdout",
     "output_type": "stream",
     "text": [
      "72200/72200 [==============================] - 193s 3ms/step\n",
      "Number of anomalies: 2310391\n"
     ]
    }
   ],
   "source": [
    "#Anomaly Detection:\n",
    "\n",
    "\n",
    "reconstructed_data = autoencoder_NT.predict(X_test_NT)\n",
    "mse = np.mean(np.square(X_test_NT - reconstructed_data), axis=1)\n",
    "\n",
    "# Set a threshold for anomaly detection\n",
    "threshold = 0.1\n",
    "\n",
    "# Identify anomalies\n",
    "anomalies = X_test_NT[mse > threshold]\n",
    "\n",
    "print(f\"Number of anomalies: {anomalies.shape[0]}\")"
   ]
  },
  {
   "cell_type": "markdown",
   "metadata": {
    "id": "zYVB6SWyQpnB"
   },
   "source": [
    "**Pyload Charactristics Group Autoencoder:**"
   ]
  },
  {
   "cell_type": "code",
   "execution_count": 16,
   "metadata": {
    "colab": {
     "base_uri": "https://localhost:8080/"
    },
    "id": "lFtkobMuQyu7",
    "outputId": "29f298f8-db39-42c9-d9f4-f05a884b153a",
    "scrolled": true
   },
   "outputs": [
    {
     "name": "stdout",
     "output_type": "stream",
     "text": [
      "[['2017-07-04 11:53:32' nan nan ... nan nan nan]\n",
      " ['2017-07-04 11:53:34' '00:1e:4f:d4:ca:28' '33:33:00:01:00:02' ... nan\n",
      "  nan nan]\n",
      " ['2017-07-04 11:53:34' '00:1e:4f:d4:ca:28' '33:33:00:01:00:02' ... nan\n",
      "  nan nan]\n",
      " ...\n",
      " ['2017-07-04 20:00:31' '00:c1:b1:14:eb:31' 'b8:ac:6f:36:07:ee' ... 80.0\n",
      "  62738.0 nan]\n",
      " ['2017-07-04 20:00:31' '00:c1:b1:14:eb:31' 'b8:ac:6f:36:0b:a8' ... 443.0\n",
      "  43670.0 nan]\n",
      " ['2017-07-04 20:00:31' '00:c1:b1:14:eb:31' 'b8:ac:6f:36:0b:a8' ... 443.0\n",
      "  43689.0 nan]]\n",
      "Column: timestamp, Unique Values: ['2017-07-04 11:53:32' '2017-07-04 11:53:34' '2017-07-04 11:53:35' ...\n",
      " '2017-07-04 20:00:29' '2017-07-04 20:00:30' '2017-07-04 20:00:31']\n",
      "Column: eth_src, Unique Values: [nan '00:1e:4f:d4:ca:28' '24:6e:96:4a:37:7a' 'b8:ac:6f:36:0a:8b'\n",
      " '18:66:da:9b:e3:7d' '00:c1:b1:14:eb:31' '00:19:b9:0a:69:f1'\n",
      " 'b8:ac:6f:1d:1f:6c' 'b8:ac:6f:36:0b:a8' 'b8:ac:6f:36:07:ee'\n",
      " 'b8:ac:6f:36:08:f5' '00:23:ae:9b:95:67' '00:23:ae:9b:ad:b3'\n",
      " 'b8:ac:6f:36:04:e3' '00:23:ae:9b:8a:bf' '00:25:00:a8:c4:60']\n",
      "Column: eth_dst, Unique Values: [nan '33:33:00:01:00:02' '33:33:00:00:00:01' '33:33:00:00:00:fb'\n",
      " '18:66:da:9b:e3:7d' 'b8:ac:6f:36:0a:8b' '00:c1:b1:14:eb:31'\n",
      " 'ff:ff:ff:ff:ff:ff' '01:00:5e:00:00:fb' '00:1e:4f:d4:ca:28'\n",
      " '00:19:b9:0a:69:f1' '33:33:00:01:00:03' '01:00:5e:00:00:fc'\n",
      " '01:00:5e:00:00:16' '33:33:00:00:00:16' '33:33:ff:36:0b:a8'\n",
      " '33:33:00:00:00:02' 'b8:ac:6f:36:0b:a8' '33:33:ff:73:ed:41'\n",
      " 'b8:ac:6f:1d:1f:6c' 'b8:ac:6f:36:08:f5' '33:33:ff:9b:95:67'\n",
      " '00:23:ae:9b:95:67' '33:33:ff:9b:ad:b3' '00:23:ae:9b:ad:b3'\n",
      " 'b8:ac:6f:36:07:ee' '01:80:c2:00:00:0e' '33:33:ff:fc:82:3f'\n",
      " 'b8:ac:6f:36:04:e3' '00:23:ae:9b:8a:bf' '01:00:5e:7f:ff:fa'\n",
      " '01:00:5e:00:01:18' '00:25:00:a8:c4:60' '33:33:ff:f6:bd:7b'\n",
      " '33:33:ff:94:ac:8f' '33:33:ff:2f:ae:4c' '33:33:ff:70:07:dd'\n",
      " '33:33:ff:0f:3d:73']\n",
      "Column: src_ip, Unique Values: [nan '192.168.10.5' '192.168.10.3' ... '74.217.63.51' '54.231.82.242'\n",
      " '23.21.240.128']\n",
      "Column: dst_ip, Unique Values: [nan '192.168.10.3' '192.168.10.5' ... '74.217.63.51' '54.231.82.242'\n",
      " '23.21.240.128']\n",
      "Column: src_port, Unique Values: [   nan 49159.   445. ... 64487. 64488. 64489.]\n",
      "Column: dst_port, Unique Values: [   nan   445. 49159. ... 64488. 64487. 64489.]\n",
      "Column: payload_size, Unique Values: [  nan  144.  148. ... 4739. 3460. 4633.]\n",
      "<class 'pandas.core.frame.DataFrame'>\n",
      "RangeIndex: 11551954 entries, 0 to 11551953\n",
      "Data columns (total 8 columns):\n",
      " #   Column        Dtype  \n",
      "---  ------        -----  \n",
      " 0   timestamp     object \n",
      " 1   eth_src       object \n",
      " 2   eth_dst       object \n",
      " 3   src_ip        object \n",
      " 4   dst_ip        object \n",
      " 5   src_port      float64\n",
      " 6   dst_port      float64\n",
      " 7   payload_size  float64\n",
      "dtypes: float64(3), object(5)\n",
      "memory usage: 4.2 GB\n"
     ]
    }
   ],
   "source": [
    "payload_characteristics_df = pd.read_csv('payload_characteristics_features.csv')\n",
    "\n",
    "# Convert the DataFrame to a NumPy array, retaining rows with \"ff:ff:ff:ff:ff:ff\"\n",
    "payload_characteristics_data = payload_characteristics_df.values\n",
    "\n",
    "print(payload_characteristics_data)\n",
    "\n",
    "\n",
    "# Display unique values in each column\n",
    "for column in payload_characteristics_df.columns:\n",
    "    unique_values = payload_characteristics_df[column].unique()\n",
    "    print(f\"Column: {column}, Unique Values: {unique_values}\")\n",
    "\n",
    "payload_characteristics_df.info(memory_usage='deep')"
   ]
  },
  {
   "cell_type": "code",
   "execution_count": 17,
   "metadata": {
    "colab": {
     "base_uri": "https://localhost:8080/"
    },
    "id": "Yd63TwRontzA",
    "outputId": "e87c57dc-f4ab-4363-824c-32a74774a20c",
    "scrolled": true
   },
   "outputs": [
    {
     "name": "stdout",
     "output_type": "stream",
     "text": [
      "          timestamp   eth_src   eth_dst    src_ip    dst_ip  src_port  \\\n",
      "0          0.000000  0.600000  0.810811  1.000000  1.000000  1.000000   \n",
      "1          0.000035  0.066667  0.486486  1.000000  1.000000  1.000000   \n",
      "2          0.000035  0.066667  0.486486  1.000000  1.000000  1.000000   \n",
      "3          0.000035  0.066667  0.486486  1.000000  1.000000  1.000000   \n",
      "4          0.000035  0.066667  0.486486  1.000000  1.000000  1.000000   \n",
      "...             ...       ...       ...       ...       ...       ...   \n",
      "11551949   0.999965  0.800000  0.162162  0.301138  0.217028  0.858245   \n",
      "11551950   1.000000  0.400000  0.891892  0.924271  0.300636  0.948852   \n",
      "11551951   1.000000  0.400000  0.891892  0.924271  0.300636  0.948852   \n",
      "11551952   1.000000  0.400000  0.972973  0.413131  0.301813  0.372594   \n",
      "11551953   1.000000  0.400000  0.972973  0.413131  0.301813  0.372594   \n",
      "\n",
      "          dst_port  payload_size  \n",
      "0         1.000000           1.0  \n",
      "1         1.000000           1.0  \n",
      "2         1.000000           1.0  \n",
      "3         1.000000           1.0  \n",
      "4         1.000000           1.0  \n",
      "...            ...           ...  \n",
      "11551949  0.372303           1.0  \n",
      "11551950  0.858080           1.0  \n",
      "11551951  0.858055           1.0  \n",
      "11551952  0.360057           1.0  \n",
      "11551953  0.360496           1.0  \n",
      "\n",
      "[11551954 rows x 8 columns]\n"
     ]
    }
   ],
   "source": [
    "import pandas as pd\n",
    "from sklearn.preprocessing import LabelEncoder, MinMaxScaler\n",
    "from sklearn.impute import SimpleImputer\n",
    "\n",
    "data = payload_characteristics_df.copy()\n",
    "\n",
    "# Handling Missing Data\n",
    "imputer = SimpleImputer(strategy='constant', fill_value='UNKNOWN')\n",
    "data_filled = pd.DataFrame(imputer.fit_transform(data), columns=data.columns)\n",
    "\n",
    "# Convert everything to string\n",
    "data_filled = data_filled.astype(str)\n",
    "\n",
    "# Label Encoding\n",
    "label_encoders = {}  # store label encoders for potential inverse transform later\n",
    "\n",
    "for column in data_filled.columns:\n",
    "    le = LabelEncoder()\n",
    "    data_filled[column] = le.fit_transform(data_filled[column])\n",
    "    label_encoders[column] = le\n",
    "\n",
    "# Feature Scaling\n",
    "scaler = MinMaxScaler()\n",
    "scaled_data = scaler.fit_transform(data_filled)\n",
    "scaled_df = pd.DataFrame(scaled_data, columns=data_filled.columns)\n",
    "\n",
    "print(scaled_df)\n",
    "\n",
    "\n"
   ]
  },
  {
   "cell_type": "code",
   "execution_count": 19,
   "metadata": {},
   "outputs": [],
   "source": [
    "# Assuming scaled_df is your preprocessed dataframe\n",
    "data = scaled_df.values\n",
    "\n",
    "# Split the data into training and test sets\n",
    "X_train, X_test_PCH = train_test_split(data, test_size=0.2, random_state=42)"
   ]
  },
  {
   "cell_type": "code",
   "execution_count": 14,
   "metadata": {
    "colab": {
     "base_uri": "https://localhost:8080/"
    },
    "id": "I06ijJPyQ7u_",
    "outputId": "9871a9cc-bd80-4d1c-d865-557750c95a2c"
   },
   "outputs": [],
   "source": [
    "\n",
    "\n",
    "# Autoencoder architecture\n",
    "input_dim = X_train.shape[1]  # Number of features/columns\n",
    "encoding_dim = int(input_dim / 2)  # Arbitrary reduction factor, you can adjust this\n",
    "\n",
    "# Define the encoder\n",
    "input_layer = Input(shape=(input_dim,))\n",
    "encoder = Dense(encoding_dim, activation='relu')(input_layer)\n",
    "\n",
    "# Define the decoder\n",
    "decoder = Dense(input_dim, activation='sigmoid')(encoder)\n",
    "\n",
    "# Compile the autoencoder model\n",
    "autoencoder_PCH = Model(inputs=input_layer, outputs=decoder)\n",
    "autoencoder_PCH.compile(optimizer=Adam(learning_rate=0.001), loss='mean_squared_error')\n",
    "\n"
   ]
  },
  {
   "cell_type": "code",
   "execution_count": 15,
   "metadata": {
    "scrolled": true
   },
   "outputs": [
    {
     "name": "stdout",
     "output_type": "stream",
     "text": [
      "Epoch 1/50\n"
     ]
    },
    {
     "name": "stderr",
     "output_type": "stream",
     "text": [
      "2023-10-23 08:52:38.061324: I tensorflow/compiler/xla/service/service.cc:168] XLA service 0x1538d8037da0 initialized for platform CUDA (this does not guarantee that XLA will be used). Devices:\n",
      "2023-10-23 08:52:38.061368: I tensorflow/compiler/xla/service/service.cc:176]   StreamExecutor device (0): Tesla V100-PCIE-32GB, Compute Capability 7.0\n",
      "2023-10-23 08:52:38.071432: I tensorflow/compiler/mlir/tensorflow/utils/dump_mlir_util.cc:269] disabling MLIR crash reproducer, set env var `MLIR_CRASH_REPRODUCER_DIRECTORY` to enable.\n",
      "2023-10-23 08:52:38.238688: I tensorflow/compiler/xla/stream_executor/cuda/cuda_dnn.cc:442] Loaded cuDNN version 8902\n",
      "2023-10-23 08:52:38.336071: I ./tensorflow/compiler/jit/device_compiler.h:186] Compiled cluster using XLA!  This line is logged at most once for the lifetime of the process.\n"
     ]
    },
    {
     "name": "stdout",
     "output_type": "stream",
     "text": [
      "36100/36100 [==============================] - 67s 2ms/step - loss: 0.0218 - val_loss: 0.0191\n",
      "Epoch 2/50\n",
      "36100/36100 [==============================] - 65s 2ms/step - loss: 0.0192 - val_loss: 0.0191\n",
      "Epoch 3/50\n",
      "36100/36100 [==============================] - 65s 2ms/step - loss: 0.0192 - val_loss: 0.0191\n",
      "Epoch 4/50\n",
      "36100/36100 [==============================] - 65s 2ms/step - loss: 0.0192 - val_loss: 0.0191\n",
      "Epoch 5/50\n",
      "36100/36100 [==============================] - 66s 2ms/step - loss: 0.0192 - val_loss: 0.0191\n",
      "Epoch 6/50\n",
      "36100/36100 [==============================] - 65s 2ms/step - loss: 0.0192 - val_loss: 0.0191\n",
      "Epoch 7/50\n",
      "36100/36100 [==============================] - 65s 2ms/step - loss: 0.0192 - val_loss: 0.0192\n",
      "Epoch 8/50\n",
      "36100/36100 [==============================] - 64s 2ms/step - loss: 0.0192 - val_loss: 0.0191\n",
      "Epoch 9/50\n",
      "36100/36100 [==============================] - 65s 2ms/step - loss: 0.0192 - val_loss: 0.0191\n",
      "Epoch 10/50\n",
      "36100/36100 [==============================] - 66s 2ms/step - loss: 0.0192 - val_loss: 0.0191\n",
      "Epoch 11/50\n",
      "36100/36100 [==============================] - 65s 2ms/step - loss: 0.0191 - val_loss: 0.0192\n",
      "Epoch 12/50\n",
      "36100/36100 [==============================] - 65s 2ms/step - loss: 0.0191 - val_loss: 0.0191\n",
      "Epoch 13/50\n",
      "36100/36100 [==============================] - 70s 2ms/step - loss: 0.0191 - val_loss: 0.0191\n",
      "Epoch 14/50\n",
      "36100/36100 [==============================] - 71s 2ms/step - loss: 0.0191 - val_loss: 0.0191\n",
      "Epoch 15/50\n",
      "36100/36100 [==============================] - 68s 2ms/step - loss: 0.0191 - val_loss: 0.0191\n",
      "Epoch 16/50\n",
      "36100/36100 [==============================] - 65s 2ms/step - loss: 0.0191 - val_loss: 0.0191\n",
      "Epoch 17/50\n",
      "36100/36100 [==============================] - 67s 2ms/step - loss: 0.0191 - val_loss: 0.0191\n",
      "Epoch 18/50\n",
      "36100/36100 [==============================] - 69s 2ms/step - loss: 0.0191 - val_loss: 0.0191\n",
      "Epoch 19/50\n",
      "36100/36100 [==============================] - 69s 2ms/step - loss: 0.0191 - val_loss: 0.0191\n",
      "Epoch 20/50\n",
      "36100/36100 [==============================] - 66s 2ms/step - loss: 0.0191 - val_loss: 0.0191\n",
      "Epoch 21/50\n",
      "36100/36100 [==============================] - 68s 2ms/step - loss: 0.0191 - val_loss: 0.0191\n",
      "Epoch 22/50\n",
      "36100/36100 [==============================] - 69s 2ms/step - loss: 0.0191 - val_loss: 0.0191\n",
      "Epoch 23/50\n",
      "36100/36100 [==============================] - 71s 2ms/step - loss: 0.0191 - val_loss: 0.0191\n",
      "Epoch 24/50\n",
      "36100/36100 [==============================] - 73s 2ms/step - loss: 0.0191 - val_loss: 0.0191\n",
      "Epoch 25/50\n",
      "36100/36100 [==============================] - 71s 2ms/step - loss: 0.0191 - val_loss: 0.0191\n",
      "Epoch 26/50\n",
      "36100/36100 [==============================] - 68s 2ms/step - loss: 0.0191 - val_loss: 0.0191\n",
      "Epoch 27/50\n",
      "36100/36100 [==============================] - 69s 2ms/step - loss: 0.0191 - val_loss: 0.0191\n",
      "Epoch 28/50\n",
      "36100/36100 [==============================] - 70s 2ms/step - loss: 0.0191 - val_loss: 0.0191\n",
      "Epoch 29/50\n",
      "36100/36100 [==============================] - 68s 2ms/step - loss: 0.0191 - val_loss: 0.0191\n",
      "Epoch 30/50\n",
      "36100/36100 [==============================] - 65s 2ms/step - loss: 0.0191 - val_loss: 0.0191\n",
      "Epoch 31/50\n",
      "36100/36100 [==============================] - 65s 2ms/step - loss: 0.0191 - val_loss: 0.0191\n",
      "Epoch 32/50\n",
      "36100/36100 [==============================] - 65s 2ms/step - loss: 0.0191 - val_loss: 0.0191\n",
      "Epoch 33/50\n",
      "36100/36100 [==============================] - 70s 2ms/step - loss: 0.0191 - val_loss: 0.0191\n",
      "Epoch 34/50\n",
      "36100/36100 [==============================] - 70s 2ms/step - loss: 0.0191 - val_loss: 0.0191\n",
      "Epoch 35/50\n",
      "36100/36100 [==============================] - 71s 2ms/step - loss: 0.0191 - val_loss: 0.0191\n",
      "Epoch 36/50\n",
      "36100/36100 [==============================] - 73s 2ms/step - loss: 0.0191 - val_loss: 0.0191\n",
      "Epoch 37/50\n",
      "36100/36100 [==============================] - 71s 2ms/step - loss: 0.0191 - val_loss: 0.0191\n",
      "Epoch 38/50\n",
      "36100/36100 [==============================] - 71s 2ms/step - loss: 0.0191 - val_loss: 0.0191\n",
      "Epoch 39/50\n",
      "36100/36100 [==============================] - 71s 2ms/step - loss: 0.0189 - val_loss: 0.0188\n",
      "Epoch 40/50\n",
      "36100/36100 [==============================] - 70s 2ms/step - loss: 0.0188 - val_loss: 0.0188\n",
      "Epoch 41/50\n",
      "36100/36100 [==============================] - 71s 2ms/step - loss: 0.0188 - val_loss: 0.0188\n",
      "Epoch 42/50\n",
      "36100/36100 [==============================] - 69s 2ms/step - loss: 0.0188 - val_loss: 0.0188\n",
      "Epoch 43/50\n",
      "36100/36100 [==============================] - 67s 2ms/step - loss: 0.0188 - val_loss: 0.0188\n",
      "Epoch 44/50\n",
      "36100/36100 [==============================] - 66s 2ms/step - loss: 0.0188 - val_loss: 0.0188\n",
      "Epoch 45/50\n",
      "36100/36100 [==============================] - 66s 2ms/step - loss: 0.0188 - val_loss: 0.0188\n",
      "Epoch 46/50\n",
      "36100/36100 [==============================] - 66s 2ms/step - loss: 0.0188 - val_loss: 0.0188\n",
      "Epoch 47/50\n",
      "36100/36100 [==============================] - 66s 2ms/step - loss: 0.0188 - val_loss: 0.0188\n",
      "Epoch 48/50\n",
      "36100/36100 [==============================] - 65s 2ms/step - loss: 0.0188 - val_loss: 0.0188\n",
      "Epoch 49/50\n",
      "36100/36100 [==============================] - 65s 2ms/step - loss: 0.0188 - val_loss: 0.0188\n",
      "Epoch 50/50\n",
      "36100/36100 [==============================] - 66s 2ms/step - loss: 0.0188 - val_loss: 0.0188\n",
      "72200/72200 [==============================] - 64s 892us/step\n",
      "Reconstruction error: 0.01880791183023709\n"
     ]
    }
   ],
   "source": [
    "# Train the model\n",
    "history = autoencoder_PCH.fit(\n",
    "    X_train, X_train,\n",
    "    epochs=50,\n",
    "    batch_size=256,\n",
    "    shuffle=True,\n",
    "    validation_data=(X_test_PCH, X_test_PCH)\n",
    ")\n",
    "\n",
    "# Now you can use this autoencoder to predict/reconstruct the input data\n",
    "X_test_predicted = autoencoder_PCH.predict(X_test_PCH)\n",
    "\n",
    "# Measure the reconstruction error\n",
    "reconstruction_error = np.mean(np.power(X_test_PCH - X_test_predicted, 2), axis=1)\n",
    "\n",
    "print(\"Reconstruction error:\", np.mean(reconstruction_error))"
   ]
  },
  {
   "cell_type": "code",
   "execution_count": 16,
   "metadata": {},
   "outputs": [
    {
     "name": "stdout",
     "output_type": "stream",
     "text": [
      "Model saved to autoencoder_PCH_model.h5\n"
     ]
    },
    {
     "name": "stderr",
     "output_type": "stream",
     "text": [
      "/home2020/home/icube/fstodt/.conda/envs/AnomalyDetection/lib/python3.9/site-packages/keras/src/engine/training.py:3079: UserWarning: You are saving your model as an HDF5 file via `model.save()`. This file format is considered legacy. We recommend using instead the native Keras format, e.g. `model.save('my_model.keras')`.\n",
      "  saving_api.save_model(\n"
     ]
    }
   ],
   "source": [
    "#save model\n",
    "# Save the autoencoder model\n",
    "model_filename = \"autoencoder_PCH_model.h5\"\n",
    "autoencoder_PCH.save(model_filename)\n",
    "print(f\"Model saved to {model_filename}\")\n"
   ]
  },
  {
   "cell_type": "code",
   "execution_count": 21,
   "metadata": {},
   "outputs": [],
   "source": [
    "#Load the model\n",
    "# Import necessary libraries\n",
    "from tensorflow.keras.models import load_model\n",
    "\n",
    "# Load the autoencoder model\n",
    "autoencoder_PCH = load_model('autoencoder_PCH_model.h5')"
   ]
  },
  {
   "cell_type": "markdown",
   "metadata": {
    "id": "c71RWE-hRQq3"
   },
   "source": [
    "*Evaluation for Payload Charactristic Autoencoder:*"
   ]
  },
  {
   "cell_type": "code",
   "execution_count": 27,
   "metadata": {
    "colab": {
     "base_uri": "https://localhost:8080/"
    },
    "id": "8wdraurHRHpb",
    "outputId": "d537a66b-8630-4db2-d129-da9c77dd0b55"
   },
   "outputs": [
    {
     "name": "stdout",
     "output_type": "stream",
     "text": [
      "72200/72200 [==============================] - 82s 1ms/step\n",
      "Mean Squared Error (MSE): 0.020417942684735454\n"
     ]
    }
   ],
   "source": [
    "#Reconstruction Error: (A lower MSE indicates better reconstruction)\n",
    "\n",
    "# Assuming you have trained autoencoder and a test dataset X_test\n",
    "reconstructed_data = autoencoder_PCH.predict(X_test_PCH)\n",
    "mse_PCH = np.mean(np.square(X_test_PCH - reconstructed_data))\n",
    "print(f\"Mean Squared Error (MSE): {mse_PCH}\")"
   ]
  },
  {
   "cell_type": "code",
   "execution_count": 28,
   "metadata": {
    "colab": {
     "base_uri": "https://localhost:8080/"
    },
    "id": "ZW0HdOKRRPYf",
    "outputId": "c44bea73-0e07-432b-9130-b24fd7f5a6e3"
   },
   "outputs": [
    {
     "name": "stdout",
     "output_type": "stream",
     "text": [
      "72200/72200 [==============================] - 81s 1ms/step\n",
      "Number of anomalies: 24562\n"
     ]
    }
   ],
   "source": [
    "#Anomaly Detection:\n",
    "\n",
    "# Assuming you have trained autoencoder, a test dataset X_test, and a threshold value\n",
    "reconstructed_data = autoencoder_PCH.predict(X_test_PCH)\n",
    "mse_PCH = np.mean(np.square(X_test_PCH - reconstructed_data), axis=1)\n",
    "\n",
    "# Set a threshold for anomaly detection\n",
    "threshold = 0.1\n",
    "\n",
    "# Identify anomalies\n",
    "anomalies = X_test_PCH[mse_PCH > threshold]\n",
    "\n",
    "print(f\"Number of anomalies: {anomalies.shape[0]}\")"
   ]
  },
  {
   "cell_type": "markdown",
   "metadata": {
    "id": "wGXh3s0JesG1"
   },
   "source": [
    "**Protocol Specific Group Autoencoder:**"
   ]
  },
  {
   "cell_type": "code",
   "execution_count": 22,
   "metadata": {
    "colab": {
     "base_uri": "https://localhost:8080/"
    },
    "id": "nwGDffvce6PQ",
    "outputId": "9ba1d54f-84fa-4486-96a4-15ece9c71cb4"
   },
   "outputs": [
    {
     "name": "stdout",
     "output_type": "stream",
     "text": [
      "[[nan nan nan ... nan nan '2017-07-04 11:53:32']\n",
      " ['00:1e:4f:d4:ca:28' '33:33:00:01:00:02' nan ... nan nan\n",
      "  '2017-07-04 11:53:34']\n",
      " ['00:1e:4f:d4:ca:28' '33:33:00:01:00:02' nan ... nan nan\n",
      "  '2017-07-04 11:53:34']\n",
      " ...\n",
      " ['00:c1:b1:14:eb:31' 'b8:ac:6f:36:07:ee' '72.21.91.29' ... 80.0 62738.0\n",
      "  '2017-07-04 20:00:31']\n",
      " ['00:c1:b1:14:eb:31' 'b8:ac:6f:36:0b:a8' '217.117.75.46' ... 443.0\n",
      "  43670.0 '2017-07-04 20:00:31']\n",
      " ['00:c1:b1:14:eb:31' 'b8:ac:6f:36:0b:a8' '217.117.75.46' ... 443.0\n",
      "  43689.0 '2017-07-04 20:00:31']]\n",
      "Column: eth_src, Unique Values: [nan '00:1e:4f:d4:ca:28' '24:6e:96:4a:37:7a' 'b8:ac:6f:36:0a:8b'\n",
      " '18:66:da:9b:e3:7d' '00:c1:b1:14:eb:31' '00:19:b9:0a:69:f1'\n",
      " 'b8:ac:6f:1d:1f:6c' 'b8:ac:6f:36:0b:a8' 'b8:ac:6f:36:07:ee'\n",
      " 'b8:ac:6f:36:08:f5' '00:23:ae:9b:95:67' '00:23:ae:9b:ad:b3'\n",
      " '00:23:ae:9b:8a:bf' '00:25:00:a8:c4:60' 'b8:ac:6f:36:04:e3']\n",
      "Column: eth_dst, Unique Values: [nan '33:33:00:01:00:02' '33:33:00:00:00:01' '33:33:00:00:00:fb'\n",
      " '18:66:da:9b:e3:7d' 'b8:ac:6f:36:0a:8b' '00:c1:b1:14:eb:31'\n",
      " 'ff:ff:ff:ff:ff:ff' '01:00:5e:00:00:fb' '00:1e:4f:d4:ca:28'\n",
      " '00:19:b9:0a:69:f1' '33:33:00:01:00:03' '01:00:5e:00:00:fc'\n",
      " '01:00:5e:00:00:16' '33:33:00:00:00:16' '33:33:ff:36:0b:a8'\n",
      " '33:33:00:00:00:02' 'b8:ac:6f:36:0b:a8' '33:33:ff:73:ed:41'\n",
      " 'b8:ac:6f:1d:1f:6c' 'b8:ac:6f:36:08:f5' '33:33:ff:9b:95:67'\n",
      " '00:23:ae:9b:95:67' '33:33:ff:9b:ad:b3' '00:23:ae:9b:ad:b3'\n",
      " 'b8:ac:6f:36:07:ee' '01:80:c2:00:00:0e' '00:23:ae:9b:8a:bf'\n",
      " '00:25:00:a8:c4:60' '01:00:5e:7f:ff:fa' 'b8:ac:6f:36:04:e3'\n",
      " '33:33:ff:f6:bd:7b' '01:00:5e:00:01:18']\n",
      "Column: src_ip, Unique Values: [nan '192.168.10.5' '192.168.10.3' ... '54.231.82.242' '23.21.240.128'\n",
      " '31.13.71.52']\n",
      "Column: dst_ip, Unique Values: [nan '192.168.10.3' '192.168.10.5' ... '54.231.82.242' '23.21.240.128'\n",
      " '31.13.71.52']\n",
      "Column: src_port, Unique Values: [   nan 49159.   445. ... 64487. 64488. 64489.]\n",
      "Column: dst_port, Unique Values: [   nan   445. 49159. ... 64488. 64487. 64489.]\n",
      "Column: timestamp, Unique Values: ['2017-07-04 11:53:32' '2017-07-04 11:53:34' '2017-07-04 11:53:35' ...\n",
      " '2017-07-04 20:00:29' '2017-07-04 20:00:30' '2017-07-04 20:00:31']\n"
     ]
    }
   ],
   "source": [
    "import pandas as pd\n",
    "\n",
    "# Correct the CSV programmatically\n",
    "corrected_lines = []\n",
    "with open('protocol_specific_features.csv', 'r') as file:\n",
    "    lines = file.readlines()\n",
    "    for line in lines:\n",
    "        if line.count(\",\") == 6:  # Adjust based on expected number of commas\n",
    "            corrected_lines.append(line)\n",
    "        else:\n",
    "            # Discard the line\n",
    "            pass\n",
    "\n",
    "# Use an in-memory CSV for pandas to read from\n",
    "from io import StringIO\n",
    "corrected_csv = StringIO('\\n'.join(corrected_lines))\n",
    "\n",
    "# Now, read the corrected CSV content into a DataFrame\n",
    "protocol_specific_df = pd.read_csv(corrected_csv)\n",
    "\n",
    "# Convert the DataFrame to a NumPy array, retaining rows with \"ff:ff:ff:ff:ff:ff\"\n",
    "protocol_specific_data = protocol_specific_df.values\n",
    "\n",
    "print(protocol_specific_data)\n",
    "\n",
    "# Display unique values in each column\n",
    "for column in protocol_specific_df.columns:\n",
    "    unique_values = protocol_specific_df[column].unique()\n",
    "    print(f\"Column: {column}, Unique Values: {unique_values}\")\n"
   ]
  },
  {
   "cell_type": "code",
   "execution_count": 23,
   "metadata": {
    "colab": {
     "base_uri": "https://localhost:8080/"
    },
    "id": "esEb5eT8fBBE",
    "outputId": "c6e9a7dc-66ec-40ae-e5bd-7bc84539efcb"
   },
   "outputs": [
    {
     "name": "stdout",
     "output_type": "stream",
     "text": [
      "[[0.4        0.03125    0.11506435 ... 0.95615586 0.50251791 0.15378747]\n",
      " [0.4        0.84375    0.11506435 ... 0.95615586 0.4864884  0.10692098]\n",
      " [0.93333333 0.1875     0.30264951 ... 0.41082667 0.36133768 0.4200545 ]\n",
      " ...\n",
      " [0.4        0.8125     0.30461771 ... 0.36196167 0.60656784 0.47226158]\n",
      " [0.93333333 0.1875     0.30264951 ... 0.48893289 0.36133768 0.73253406]\n",
      " [0.4        0.15625    0.72914459 ... 0.36196167 0.57876445 0.46910082]]\n",
      "[[0.4        0.84375    0.11506435 ... 0.95615586 0.4864884  0.13297003]\n",
      " [0.4        0.78125    0.10340651 ... 0.36196167 0.86757926 0.65569482]\n",
      " [0.86666667 0.1875     0.30234671 ... 0.84707588 0.36133768 0.95019074]\n",
      " ...\n",
      " [0.86666667 0.40625    0.30234671 ... 1.         1.         0.25405995]\n",
      " [0.4        0.84375    0.11506435 ... 0.95615586 0.4864884  0.13002725]\n",
      " [0.6        0.40625    0.30295231 ... 1.         1.         0.1173842 ]]\n"
     ]
    }
   ],
   "source": [
    "import pandas as pd\n",
    "import numpy as np\n",
    "from sklearn.model_selection import train_test_split\n",
    "from sklearn.preprocessing import MinMaxScaler, LabelEncoder\n",
    "from sklearn.compose import ColumnTransformer\n",
    "from sklearn.pipeline import Pipeline\n",
    "\n",
    "\n",
    "# Fill NaN values with a placeholder (e.g., 'missing' for categorical data)\n",
    "preprocessed_df = protocol_specific_df.copy()\n",
    "preprocessed_df = preprocessed_df.fillna('missing')\n",
    "\n",
    "# Adjusted label_encode function\n",
    "def label_encode(df):\n",
    "    for col in df.columns:\n",
    "        # If mixed data types, convert everything to string\n",
    "        if df[col].apply(type).nunique() > 1:\n",
    "            df[col] = df[col].astype(str)\n",
    "        \n",
    "        le = LabelEncoder()\n",
    "        df[col] = le.fit_transform(df[col])\n",
    "    return df\n",
    "\n",
    "# Apply Label Encoding\n",
    "preprocessed_df = label_encode(preprocessed_df)\n",
    "\n",
    "# Create a pipeline\n",
    "pipeline = Pipeline([\n",
    "    ('scaler', MinMaxScaler())\n",
    "])\n",
    "\n",
    "# Apply transformations\n",
    "data_processed = pipeline.fit_transform(preprocessed_df)\n",
    "\n",
    "# Split the data into training and validation sets\n",
    "X_train, X_test_PS = train_test_split(data_processed, test_size=0.2, random_state=42)\n",
    "\n",
    "print(X_train)\n",
    "print(X_test_PS)\n",
    "\n"
   ]
  },
  {
   "cell_type": "code",
   "execution_count": 5,
   "metadata": {
    "id": "vGEZIcvafGd0"
   },
   "outputs": [
    {
     "name": "stderr",
     "output_type": "stream",
     "text": [
      "2023-10-23 21:37:43.317820: I metal_plugin/src/device/metal_device.cc:1154] Metal device set to: Apple M2 Pro\n",
      "2023-10-23 21:37:43.317853: I metal_plugin/src/device/metal_device.cc:296] systemMemory: 32.00 GB\n",
      "2023-10-23 21:37:43.317861: I metal_plugin/src/device/metal_device.cc:313] maxCacheSize: 10.67 GB\n",
      "2023-10-23 21:37:43.317891: I tensorflow/core/common_runtime/pluggable_device/pluggable_device_factory.cc:306] Could not identify NUMA node of platform GPU ID 0, defaulting to 0. Your kernel may not have been built with NUMA support.\n",
      "2023-10-23 21:37:43.317909: I tensorflow/core/common_runtime/pluggable_device/pluggable_device_factory.cc:272] Created TensorFlow device (/job:localhost/replica:0/task:0/device:GPU:0 with 0 MB memory) -> physical PluggableDevice (device: 0, name: METAL, pci bus id: <undefined>)\n"
     ]
    }
   ],
   "source": [
    "#Define and build the autoencoder:\n",
    "from tensorflow.keras.layers import Dropout\n",
    "from tensorflow.keras.regularizers import l1\n",
    "\n",
    "# Define and build the autoencoder:\n",
    "input_dim = X_train.shape[1]\n",
    "\n",
    "# Define the encoder layers\n",
    "input_layer = Input(shape=(input_dim,))\n",
    "encoder = Dense(512, activation='relu', activity_regularizer=l1(10e-5))(input_layer)\n",
    "encoder = Dropout(0.1)(encoder)\n",
    "encoder = Dense(256, activation='relu', activity_regularizer=l1(10e-5))(encoder)\n",
    "encoder = Dropout(0.1)(encoder)\n",
    "encoder = Dense(128, activation='relu', activity_regularizer=l1(10e-5))(encoder)\n",
    "\n",
    "# Define the bottleneck (compressed representation)\n",
    "bottleneck = Dense(64, activation='relu')(encoder)\n",
    "\n",
    "# Define the decoder layers\n",
    "decoder = Dense(128, activation='relu')(bottleneck)\n",
    "decoder = Dense(256, activation='relu')(decoder)\n",
    "decoder = Dense(512, activation='relu')(decoder)\n",
    "output_layer = Dense(input_dim, activation='sigmoid')(decoder)\n",
    "\n",
    "# Compile the autoencoder\n",
    "autoencoder_PS = Model(inputs=input_layer, outputs=output_layer)\n",
    "autoencoder_PS.compile(optimizer=tf.keras.optimizers.Adam(learning_rate=0.001), loss='mse')\n",
    "\n"
   ]
  },
  {
   "cell_type": "code",
   "execution_count": 6,
   "metadata": {
    "colab": {
     "base_uri": "https://localhost:8080/"
    },
    "id": "yJ6EM9ZAfXzY",
    "outputId": "fae829cf-f6ff-4a68-c547-429230d0f7ca",
    "scrolled": true
   },
   "outputs": [
    {
     "name": "stdout",
     "output_type": "stream",
     "text": [
      "Epoch 1/50\n"
     ]
    },
    {
     "name": "stderr",
     "output_type": "stream",
     "text": [
      "2023-10-23 21:37:49.733252: I tensorflow/core/grappler/optimizers/custom_graph_optimizer_registry.cc:117] Plugin optimizer for device_type GPU is enabled.\n",
      "2023-10-23 21:37:49.782660: E tensorflow/core/grappler/optimizers/meta_optimizer.cc:961] model_pruner failed: INVALID_ARGUMENT: Graph does not contain terminal node Adam/AssignAddVariableOp.\n"
     ]
    },
    {
     "name": "stdout",
     "output_type": "stream",
     "text": [
      "23944/23944 [==============================] - 254s 10ms/step - loss: 0.1999 - val_loss: 0.2017\n",
      "Epoch 2/50\n",
      "23944/23944 [==============================] - 251s 10ms/step - loss: 0.2021 - val_loss: 0.2021\n",
      "Epoch 3/50\n",
      "23944/23944 [==============================] - 254s 11ms/step - loss: 0.2023 - val_loss: 0.2022\n",
      "Epoch 4/50\n",
      "23944/23944 [==============================] - 255s 11ms/step - loss: 0.2024 - val_loss: 0.2023\n",
      "Epoch 5/50\n",
      "23944/23944 [==============================] - 254s 11ms/step - loss: 0.2024 - val_loss: 0.2023\n",
      "Epoch 6/50\n",
      "23944/23944 [==============================] - 252s 11ms/step - loss: 0.2025 - val_loss: 0.2024\n",
      "Epoch 7/50\n",
      "23944/23944 [==============================] - 256s 11ms/step - loss: 0.2026 - val_loss: 0.2025\n",
      "Epoch 8/50\n",
      "23944/23944 [==============================] - 261s 11ms/step - loss: 0.2026 - val_loss: 0.2025\n",
      "Epoch 9/50\n",
      "23944/23944 [==============================] - 260s 11ms/step - loss: 0.2027 - val_loss: 0.2026\n",
      "Epoch 10/50\n",
      "23944/23944 [==============================] - 265s 11ms/step - loss: 0.2027 - val_loss: 0.2026\n",
      "Epoch 11/50\n",
      "23944/23944 [==============================] - 261s 11ms/step - loss: 0.2027 - val_loss: 0.2026\n",
      "Epoch 12/50\n",
      "23944/23944 [==============================] - 264s 11ms/step - loss: 0.2027 - val_loss: 0.2026\n",
      "Epoch 13/50\n",
      "23944/23944 [==============================] - 261s 11ms/step - loss: 0.2027 - val_loss: 0.2026\n",
      "Epoch 14/50\n",
      "23944/23944 [==============================] - 262s 11ms/step - loss: 0.2028 - val_loss: 0.2027\n",
      "Epoch 15/50\n",
      "23944/23944 [==============================] - 261s 11ms/step - loss: 0.2028 - val_loss: 0.2027\n",
      "Epoch 16/50\n",
      "23944/23944 [==============================] - 260s 11ms/step - loss: 0.2028 - val_loss: 0.2027\n",
      "Epoch 17/50\n",
      "23944/23944 [==============================] - 261s 11ms/step - loss: 0.2028 - val_loss: 0.2027\n",
      "Epoch 18/50\n",
      "23944/23944 [==============================] - 264s 11ms/step - loss: 0.2028 - val_loss: 0.2027\n",
      "Epoch 19/50\n",
      "23944/23944 [==============================] - 264s 11ms/step - loss: 0.2028 - val_loss: 0.2027\n",
      "Epoch 20/50\n",
      "23944/23944 [==============================] - 263s 11ms/step - loss: 0.2028 - val_loss: 0.2027\n",
      "Epoch 21/50\n",
      "23944/23944 [==============================] - 262s 11ms/step - loss: 0.2029 - val_loss: 0.2027\n",
      "Epoch 22/50\n",
      "23944/23944 [==============================] - 265s 11ms/step - loss: 0.2029 - val_loss: 0.2027\n",
      "Epoch 23/50\n",
      "23944/23944 [==============================] - 267s 11ms/step - loss: 0.2029 - val_loss: 0.2028\n",
      "Epoch 24/50\n",
      "23944/23944 [==============================] - 1175s 49ms/step - loss: 0.2029 - val_loss: 0.2028\n",
      "Epoch 25/50\n",
      "23944/23944 [==============================] - 1260s 53ms/step - loss: 0.2029 - val_loss: 0.2028\n",
      "Epoch 26/50\n",
      "23944/23944 [==============================] - 2104s 88ms/step - loss: 0.2029 - val_loss: 0.2028\n",
      "Epoch 27/50\n",
      "23944/23944 [==============================] - 1200s 50ms/step - loss: 0.2029 - val_loss: 0.2028\n",
      "Epoch 28/50\n",
      "23944/23944 [==============================] - 1787s 75ms/step - loss: 0.2029 - val_loss: 0.2028\n",
      "Epoch 29/50\n",
      "23944/23944 [==============================] - 1178s 49ms/step - loss: 0.2029 - val_loss: 0.2028\n",
      "Epoch 30/50\n",
      "23944/23944 [==============================] - 1248s 52ms/step - loss: 0.2029 - val_loss: 0.2028\n",
      "Epoch 31/50\n",
      "23944/23944 [==============================] - 1228s 51ms/step - loss: 0.2029 - val_loss: 0.2028\n",
      "Epoch 32/50\n",
      "23944/23944 [==============================] - 2078s 87ms/step - loss: 0.2029 - val_loss: 0.2028\n",
      "Epoch 33/50\n",
      "23944/23944 [==============================] - 1194s 50ms/step - loss: 0.2029 - val_loss: 0.2028\n",
      "Epoch 34/50\n",
      "23944/23944 [==============================] - 1190s 50ms/step - loss: 0.2030 - val_loss: 0.2028\n",
      "Epoch 35/50\n",
      "23944/23944 [==============================] - 2272s 95ms/step - loss: 0.2030 - val_loss: 0.2028\n",
      "Epoch 36/50\n",
      "23944/23944 [==============================] - 623s 26ms/step - loss: 0.2030 - val_loss: 0.2028\n",
      "Epoch 37/50\n",
      "23944/23944 [==============================] - 1218s 51ms/step - loss: 0.2030 - val_loss: 0.2028\n",
      "Epoch 38/50\n",
      "23944/23944 [==============================] - 2114s 88ms/step - loss: 0.2030 - val_loss: 0.2028\n",
      "Epoch 39/50\n",
      "23944/23944 [==============================] - 1384s 58ms/step - loss: 0.2030 - val_loss: 0.2028\n",
      "Epoch 40/50\n",
      "23944/23944 [==============================] - 1198s 50ms/step - loss: 0.2030 - val_loss: 0.2028\n",
      "Epoch 41/50\n",
      "23944/23944 [==============================] - 1295s 54ms/step - loss: 0.2030 - val_loss: 0.2028\n",
      "Epoch 42/50\n",
      "23944/23944 [==============================] - 2096s 88ms/step - loss: 0.2030 - val_loss: 0.2028\n",
      "Epoch 43/50\n",
      "23944/23944 [==============================] - 509s 21ms/step - loss: 0.2030 - val_loss: 0.2028\n",
      "Epoch 44/50\n",
      "23944/23944 [==============================] - 1170s 49ms/step - loss: 0.2030 - val_loss: 0.2028\n",
      "Epoch 45/50\n",
      "23944/23944 [==============================] - 1225s 51ms/step - loss: 0.2030 - val_loss: 0.2029\n",
      "Epoch 46/50\n",
      "23944/23944 [==============================] - 2212s 92ms/step - loss: 0.2030 - val_loss: 0.2029\n",
      "Epoch 47/50\n",
      "23944/23944 [==============================] - 254s 11ms/step - loss: 0.2030 - val_loss: 0.2029\n",
      "Epoch 48/50\n",
      "23944/23944 [==============================] - 1419s 59ms/step - loss: 0.2030 - val_loss: 0.2029\n",
      "Epoch 49/50\n",
      "23944/23944 [==============================] - 1232s 51ms/step - loss: 0.2030 - val_loss: 0.2029\n",
      "Epoch 50/50\n",
      "23944/23944 [==============================] - 260s 11ms/step - loss: 0.2030 - val_loss: 0.2029\n"
     ]
    }
   ],
   "source": [
    "#Train the autoencoder:\n",
    "history = autoencoder_PS.fit(X_train, X_train,\n",
    "                             epochs=50,\n",
    "                             batch_size=256,\n",
    "                             shuffle=True,\n",
    "                             validation_data=(X_test_PS, X_test_PS))\n",
    "\n"
   ]
  },
  {
   "cell_type": "code",
   "execution_count": 7,
   "metadata": {},
   "outputs": [
    {
     "name": "stdout",
     "output_type": "stream",
     "text": [
      "Model saved to autoencoder_PS_model.h5\n"
     ]
    },
    {
     "name": "stderr",
     "output_type": "stream",
     "text": [
      "/Users/christinastodt/anaconda3/envs/AnomalyTest/lib/python3.9/site-packages/keras/src/engine/training.py:3079: UserWarning: You are saving your model as an HDF5 file via `model.save()`. This file format is considered legacy. We recommend using instead the native Keras format, e.g. `model.save('my_model.keras')`.\n",
      "  saving_api.save_model(\n"
     ]
    }
   ],
   "source": [
    "#save the model\n",
    "model_filename = \"autoencoder_PS_model.h5\"\n",
    "autoencoder_PS.save(model_filename)\n",
    "print(f\"Model saved to {model_filename}\")"
   ]
  },
  {
   "cell_type": "code",
   "execution_count": 24,
   "metadata": {},
   "outputs": [],
   "source": [
    "#Load the Model\n",
    "# Import necessary libraries\n",
    "from tensorflow.keras.models import load_model\n",
    "\n",
    "# Load the autoencoder model\n",
    "autoencoder_PS = load_model('autoencoder_PS_model.h5')"
   ]
  },
  {
   "cell_type": "markdown",
   "metadata": {
    "id": "rTyc9Cnpfk9E"
   },
   "source": [
    "*Evaluation for Protocol Specific Group Autoencoder:*"
   ]
  },
  {
   "cell_type": "code",
   "execution_count": 9,
   "metadata": {
    "colab": {
     "base_uri": "https://localhost:8080/"
    },
    "id": "5EtbkXUYfcsS",
    "outputId": "d1a6cbbc-2bf5-494a-d6d8-7f0424bcf997"
   },
   "outputs": [
    {
     "name": "stdout",
     "output_type": "stream",
     "text": [
      "Model saved to autoencoder_PS_model.h5\n",
      "239437/239437 [==============================] - 953s 4ms/step - loss: 0.2029\n",
      "Reconstruction error: 0.20288018882274628\n",
      "239437/239437 [==============================] - 965s 4ms/step - loss: 0.2029\n",
      "Mean Squared Error: 0.20288018882274628\n"
     ]
    }
   ],
   "source": [
    "#Reconstruction Error: (A lower MSE indicates better reconstruction)\n",
    "\n",
    "reconstruction_error = autoencoder_PS.evaluate(data_processed, data_processed)\n",
    "print(f\"Reconstruction error: {reconstruction_error}\")\n",
    "\n",
    "mse_PS = autoencoder_PS.evaluate(data_processed, data_processed)\n",
    "print(f\"Mean Squared Error: {mse_PS}\")"
   ]
  },
  {
   "cell_type": "markdown",
   "metadata": {
    "id": "vFSly9J7gUgT"
   },
   "source": [
    "**Session Behaviour Group Autoencoder:**"
   ]
  },
  {
   "cell_type": "code",
   "execution_count": 25,
   "metadata": {
    "colab": {
     "base_uri": "https://localhost:8080/"
    },
    "id": "hublravUgn8P",
    "outputId": "bcea85be-4e47-4d29-a186-0e6f46e935db"
   },
   "outputs": [
    {
     "name": "stdout",
     "output_type": "stream",
     "text": [
      "[['192.168.10.5' nan]\n",
      " ['192.168.10.5' 4e-06]\n",
      " ['192.168.10.3' nan]\n",
      " ...\n",
      " ['72.21.91.29' 1e-06]\n",
      " ['217.117.75.46' 10.148366]\n",
      " ['217.117.75.46' 0.010642]]\n",
      "Column: src_ip, Unique Values: ['192.168.10.5' '192.168.10.3' '192.168.10.1' ... '74.217.63.51'\n",
      " '54.231.82.242' '23.21.240.128']\n",
      "Column: inter_arrival_time, Unique Values: [          nan 4.0000000e-06 3.0000000e-06 ... 6.4915600e-01 1.4399840e+00\n",
      " 1.0148366e+01]\n"
     ]
    }
   ],
   "source": [
    "session_behaviour_df = pd.read_csv('session_behaviour_features.csv')\n",
    "\n",
    "# Convert the DataFrame to a NumPy array, retaining rows with \"ff:ff:ff:ff:ff:ff\"\n",
    "session_behaviour_data = session_behaviour_df.values\n",
    "\n",
    "print(session_behaviour_data)\n",
    "\n",
    "\n",
    "# Display unique values in each column\n",
    "for column in session_behaviour_df.columns:\n",
    "    unique_values = session_behaviour_df[column].unique()\n",
    "    print(f\"Column: {column}, Unique Values: {unique_values}\")"
   ]
  },
  {
   "cell_type": "code",
   "execution_count": 26,
   "metadata": {
    "colab": {
     "base_uri": "https://localhost:8080/"
    },
    "id": "2BBaViPngvIb",
    "outputId": "17027e92-69d3-44f7-d7a0-887fe8db76bf"
   },
   "outputs": [
    {
     "name": "stdout",
     "output_type": "stream",
     "text": [
      "Non-numeric columns: Index([], dtype='object')\n"
     ]
    }
   ],
   "source": [
    "#preprocess data:\n",
    "\n",
    "import pandas as pd\n",
    "from sklearn.preprocessing import MinMaxScaler\n",
    "from sklearn.model_selection import train_test_split\n",
    "import numpy as np\n",
    "\n",
    "def ip_to_int(ip_str):\n",
    "    '''Convert IP string to integer.'''\n",
    "    octets = list(map(int, ip_str.split('.')))\n",
    "    return sum([octets[i] * (256 ** (3 - i)) for i in range(4)])\n",
    "\n",
    "# Convert datetime column to Unix timestamp\n",
    "if 'session_start_timestamp' in session_behaviour_df.columns:\n",
    "    session_behaviour_df['session_start_timestamp'] = pd.to_datetime(session_behaviour_df['session_start_timestamp'])\n",
    "    session_behaviour_df['unix_timestamp'] = session_behaviour_df['session_start_timestamp'].astype(int) / 10**9\n",
    "    session_behaviour_df.drop('session_start_timestamp', axis=1, inplace=True)\n",
    "\n",
    "# Convert 'src_ip' to its integer representation\n",
    "if 'src_ip' in session_behaviour_df.columns:\n",
    "    session_behaviour_df['src_ip'] = session_behaviour_df['src_ip'].apply(ip_to_int)\n",
    "\n",
    "# Handle Missing Values for 'inter_arrival_time'\n",
    "if 'inter_arrival_time' in session_behaviour_df.columns:\n",
    "    session_behaviour_df['inter_arrival_time'].fillna(session_behaviour_df['inter_arrival_time'].median(), inplace=True)\n",
    "\n",
    "# Check for non-numeric columns (should be empty after IP conversion)\n",
    "non_numeric_columns = session_behaviour_df.select_dtypes(exclude=[np.number]).columns\n",
    "print(f\"Non-numeric columns: {non_numeric_columns}\")\n",
    "\n",
    "# Scale the Data\n",
    "scaler = MinMaxScaler()\n",
    "scaled_data = scaler.fit_transform(session_behaviour_df)\n",
    "scaled_df = pd.DataFrame(scaled_data, columns=session_behaviour_df.columns)\n",
    "\n",
    "# Split the data for training\n",
    "X_train, X_test_SB = train_test_split(scaled_df, test_size=0.2, random_state=42)\n",
    "\n",
    "\n",
    "\n"
   ]
  },
  {
   "cell_type": "code",
   "execution_count": 6,
   "metadata": {
    "colab": {
     "base_uri": "https://localhost:8080/"
    },
    "id": "FjkpVWDfgyr4",
    "outputId": "e801ee47-d4cf-4281-ad49-2a10b2115eae",
    "scrolled": true
   },
   "outputs": [
    {
     "name": "stderr",
     "output_type": "stream",
     "text": [
      "2023-10-24 10:03:14.977286: I metal_plugin/src/device/metal_device.cc:1154] Metal device set to: Apple M2 Pro\n",
      "2023-10-24 10:03:14.977303: I metal_plugin/src/device/metal_device.cc:296] systemMemory: 32.00 GB\n",
      "2023-10-24 10:03:14.977312: I metal_plugin/src/device/metal_device.cc:313] maxCacheSize: 10.67 GB\n",
      "2023-10-24 10:03:14.977338: I tensorflow/core/common_runtime/pluggable_device/pluggable_device_factory.cc:306] Could not identify NUMA node of platform GPU ID 0, defaulting to 0. Your kernel may not have been built with NUMA support.\n",
      "2023-10-24 10:03:14.977352: I tensorflow/core/common_runtime/pluggable_device/pluggable_device_factory.cc:272] Created TensorFlow device (/job:localhost/replica:0/task:0/device:GPU:0 with 0 MB memory) -> physical PluggableDevice (device: 0, name: METAL, pci bus id: <undefined>)\n"
     ]
    },
    {
     "name": "stdout",
     "output_type": "stream",
     "text": [
      "Epoch 1/100\n"
     ]
    },
    {
     "name": "stderr",
     "output_type": "stream",
     "text": [
      "2023-10-24 10:03:15.722301: I tensorflow/core/grappler/optimizers/custom_graph_optimizer_registry.cc:117] Plugin optimizer for device_type GPU is enabled.\n",
      "2023-10-24 10:03:15.738694: E tensorflow/core/grappler/optimizers/meta_optimizer.cc:961] model_pruner failed: INVALID_ARGUMENT: Graph does not contain terminal node Adam/AssignAddVariableOp.\n"
     ]
    },
    {
     "name": "stdout",
     "output_type": "stream",
     "text": [
      "286744/286744 [==============================] - 1316s 5ms/step - loss: 3.1692e-04 - val_loss: 2.4716e-04\n",
      "Epoch 2/100\n",
      "286744/286744 [==============================] - 1312s 5ms/step - loss: 2.5961e-04 - val_loss: 2.5014e-04\n",
      "Epoch 3/100\n",
      "286744/286744 [==============================] - 1322s 5ms/step - loss: 2.7129e-04 - val_loss: 2.7773e-04\n",
      "Epoch 4/100\n",
      "286744/286744 [==============================] - 1324s 5ms/step - loss: 2.8294e-04 - val_loss: 2.4582e-04\n",
      "Epoch 5/100\n",
      "286744/286744 [==============================] - 1334s 5ms/step - loss: 3.0304e-04 - val_loss: 2.4584e-04\n",
      "Epoch 6/100\n",
      "286744/286744 [==============================] - 1527s 5ms/step - loss: 3.5712e-04 - val_loss: 2.5593e-04\n",
      "Epoch 7/100\n",
      "286744/286744 [==============================] - 1325s 5ms/step - loss: 0.0011 - val_loss: 2.4990e-04\n",
      "Epoch 8/100\n",
      "286744/286744 [==============================] - 1336s 5ms/step - loss: 0.0020 - val_loss: 0.0149\n",
      "Epoch 9/100\n",
      "286744/286744 [==============================] - 1347s 5ms/step - loss: 0.0050 - val_loss: 0.0014\n",
      "Epoch 10/100\n",
      "286744/286744 [==============================] - 5768s 20ms/step - loss: 0.0130 - val_loss: 2.6259e-04\n",
      "Epoch 11/100\n",
      "286744/286744 [==============================] - 2577s 9ms/step - loss: 0.0102 - val_loss: 2.5408e-04\n",
      "Epoch 12/100\n",
      "286744/286744 [==============================] - 1358s 5ms/step - loss: 0.0150 - val_loss: 0.0174\n",
      "Epoch 13/100\n",
      "286744/286744 [==============================] - 1367s 5ms/step - loss: 0.0166 - val_loss: 2.6232e-04\n",
      "Epoch 14/100\n",
      "286741/286744 [============================>.] - ETA: 0s - loss: 0.0140Restoring model weights from the end of the best epoch: 4.\n",
      "286744/286744 [==============================] - 1369s 5ms/step - loss: 0.0140 - val_loss: 0.0174\n",
      "Epoch 14: early stopping\n"
     ]
    }
   ],
   "source": [
    "#Autoencoder:\n",
    "from tensorflow.keras.layers import Input, Dense\n",
    "from tensorflow.keras.models import Model\n",
    "from tensorflow.keras.callbacks import EarlyStopping\n",
    "\n",
    "# Define the dimensions of the encoding layer\n",
    "encoding_dim = 64  # Example: Reducing to 64 dimensions\n",
    "\n",
    "# Create an autoencoder model\n",
    "input_shape = X_train.shape[1]  # Number of features in the dataset\n",
    "input_layer = Input(shape=(input_shape,))\n",
    "encoded = Dense(encoding_dim, activation='relu')(input_layer)\n",
    "decoded = Dense(input_shape, activation='sigmoid')(encoded)\n",
    "\n",
    "autoencoder_SB = Model(input_layer, decoded)\n",
    "\n",
    "# Compile the autoencoder model\n",
    "autoencoder_SB.compile(optimizer='adam', loss='mean_squared_error')\n",
    "\n",
    "# Initialize EarlyStopping callback\n",
    "early_stopping = EarlyStopping(monitor='val_loss', \n",
    "                               patience=10,  # Number of epochs with no improvement after which training will be stopped\n",
    "                               verbose=1,    # To log the epoch number in which training was stopped\n",
    "                               restore_best_weights=True)  # Restore model weights from the epoch with the best value of the monitored quantity.\n",
    "\n",
    "# Train the autoencoder\n",
    "num_epochs = 100\n",
    "batch_size = 32\n",
    "\n",
    "history = autoencoder_SB.fit(X_train, X_train,\n",
    "                             epochs=num_epochs,\n",
    "                             batch_size=batch_size,\n",
    "                             validation_data=(X_test_SB, X_test_SB),\n",
    "                             callbacks=[early_stopping])\n",
    "\n"
   ]
  },
  {
   "cell_type": "markdown",
   "metadata": {
    "id": "z9y9o1s5hF35"
   },
   "source": [
    "*Evaluate for Session Behaviour Group Autoencoder:*"
   ]
  },
  {
   "cell_type": "code",
   "execution_count": 7,
   "metadata": {},
   "outputs": [
    {
     "name": "stdout",
     "output_type": "stream",
     "text": [
      "Model saved to autoencoder_SB_model.h5\n"
     ]
    },
    {
     "name": "stderr",
     "output_type": "stream",
     "text": [
      "/Users/christinastodt/anaconda3/envs/AnomalyTest/lib/python3.9/site-packages/keras/src/engine/training.py:3079: UserWarning: You are saving your model as an HDF5 file via `model.save()`. This file format is considered legacy. We recommend using instead the native Keras format, e.g. `model.save('my_model.keras')`.\n",
      "  saving_api.save_model(\n"
     ]
    }
   ],
   "source": [
    "#save the model\n",
    "model_filename = \"autoencoder_SB_model.h5\"\n",
    "autoencoder_SB.save(model_filename)\n",
    "print(f\"Model saved to {model_filename}\")"
   ]
  },
  {
   "cell_type": "code",
   "execution_count": 36,
   "metadata": {},
   "outputs": [],
   "source": [
    "#load the model\n",
    "# Import necessary libraries\n",
    "from tensorflow.keras.models import load_model\n",
    "\n",
    "# Load the autoencoder model\n",
    "autoencoder_SB = load_model('autoencoder_SB_model.h5')"
   ]
  },
  {
   "cell_type": "code",
   "execution_count": 8,
   "metadata": {
    "colab": {
     "base_uri": "https://localhost:8080/"
    },
    "id": "uDWVNtDuhBpW",
    "outputId": "d0168bf9-cb43-4c31-f476-2f71f6d0ab88"
   },
   "outputs": [
    {
     "name": "stdout",
     "output_type": "stream",
     "text": [
      "Model saved to autoencoder_SB_model.h5\n",
      "71686/71686 [==============================] - 82s 1ms/step\n",
      "Mean Squared Error (MSE): 0.0002458160337110755\n"
     ]
    }
   ],
   "source": [
    "#Reconstruction Error: (A lower MSE indicates better reconstruction)\n",
    "model_filename = \"autoencoder_SB_model.h5\"\n",
    "autoencoder_SB.save(model_filename)\n",
    "print(f\"Model saved to {model_filename}\")\n",
    "\n",
    "# Assuming you have trained autoencoder and a test dataset X_test\n",
    "reconstructed_data = autoencoder_SB.predict(X_test_SB)\n",
    "mse_SB = np.mean(np.square(X_test_SB - reconstructed_data))\n",
    "print(f\"Mean Squared Error (MSE): {mse_SB}\")"
   ]
  },
  {
   "cell_type": "markdown",
   "metadata": {
    "id": "WQR7OpD8UW29"
   },
   "source": [
    "#  Ensemble Learning:"
   ]
  },
  {
   "cell_type": "code",
   "execution_count": 28,
   "metadata": {
    "colab": {
     "base_uri": "https://localhost:8080/"
    },
    "id": "4ZM91b-dA5Ag",
    "outputId": "5cb05c00-8fb9-4796-fe8a-5729ddfab8d6"
   },
   "outputs": [
    {
     "name": "stdout",
     "output_type": "stream",
     "text": [
      "(181882, 7)\n",
      "(2310391, 17)\n",
      "(2310391, 8)\n",
      "(1532391, 7)\n",
      "(2293948, 2)\n"
     ]
    }
   ],
   "source": [
    "print(X_test_NF.shape)\n",
    "print(X_test_NT.shape)\n",
    "print(X_test_PCH.shape)\n",
    "print(X_test_PS.shape)\n",
    "print(X_test_SB.shape)\n",
    "# ... and so on for the others\n"
   ]
  },
  {
   "cell_type": "code",
   "execution_count": 37,
   "metadata": {
    "colab": {
     "base_uri": "https://localhost:8080/"
    },
    "id": "7nrPLDXXUiP1",
    "outputId": "c5d0029a-2832-4997-a5dd-a78828837b59"
   },
   "outputs": [
    {
     "name": "stdout",
     "output_type": "stream",
     "text": [
      "5684/5684 [==============================] - 7s 1ms/step\n",
      "72200/72200 [==============================] - 80s 1ms/step\n",
      "47888/47888 [==============================] - 79s 2ms/step\n",
      "71686/71686 [==============================] - 80s 1ms/step\n"
     ]
    }
   ],
   "source": [
    "# 1. Compute Anomaly Scores\n",
    "reconstructed_NF = autoencoder_NF.predict(X_test_NF)\n",
    "errors_NF = np.mean(np.square(X_test_NF - reconstructed_NF), axis=1)\n",
    "\n",
    "#reconstructed_NT = autoencoder_NT.predict(X_test_NT)\n",
    "#errors_NT = np.mean(np.square(X_test_NT - reconstructed_NT), axis=1)\n",
    "\n",
    "reconstructed_PCH = autoencoder_PCH.predict(X_test_PCH)\n",
    "errors_PCH = np.mean(np.square(X_test_PCH - reconstructed_PCH), axis=1)\n",
    "\n",
    "reconstructed_PS = autoencoder_PS.predict(X_test_PS)\n",
    "errors_PS = np.mean(np.square(X_test_PS - reconstructed_PS), axis=1)\n",
    "\n",
    "reconstructed_SB = autoencoder_SB.predict(X_test_SB)\n",
    "errors_SB = np.mean(np.square(X_test_SB - reconstructed_SB), axis=1)\n",
    "\n",
    "\n"
   ]
  },
  {
   "cell_type": "code",
   "execution_count": 39,
   "metadata": {
    "id": "msIZnvThv_u1"
   },
   "outputs": [],
   "source": [
    "# Convert the error lists to numpy arrays (if they aren't already)\n",
    "errors_NF = np.array(errors_NF)\n",
    "#errors_NT = np.array(errors_NT)\n",
    "errors_PCH = np.array(errors_PCH)\n",
    "errors_PS = np.array(errors_PS)\n",
    "errors_SB = np.array(errors_SB)\n",
    "\n",
    "# Determine the minimum length\n",
    "#min_length = min(len(errors_NF), len(errors_NT), len(errors_PCH), len(errors_PS), len(errors_SB))\n",
    "min_length = min(len(errors_NF), len(errors_PCH), len(errors_PS), len(errors_SB))\n",
    "\n",
    "# Trim each error array to the minimum length\n",
    "errors_NF = errors_NF[:min_length]\n",
    "#errors_NT = errors_NT[:min_length]\n",
    "errors_PCH = errors_PCH[:min_length]\n",
    "errors_PS = errors_PS[:min_length]\n",
    "errors_SB = errors_SB[:min_length]\n",
    "\n",
    "# Ensure all errors are of the same shape\n",
    "#assert len(errors_NF) == len(errors_NT) == len(errors_PCH) == len(errors_PS) == len(errors_SB)\n",
    "assert len(errors_NF) ==  len(errors_PCH) == len(errors_PS) == len(errors_SB)"
   ]
  },
  {
   "cell_type": "code",
   "execution_count": 40,
   "metadata": {
    "id": "1NZPAlZcwEs7"
   },
   "outputs": [],
   "source": [
    "# 2. Ensemble Anomaly Scores\n",
    "#ensemble_errors = (errors_NF + errors_NT + errors_PCH + errors_PS + errors_SB) / 5\n",
    "ensemble_errors = (errors_NF +  errors_PCH + errors_PS + errors_SB) / 4"
   ]
  },
  {
   "cell_type": "code",
   "execution_count": 41,
   "metadata": {
    "id": "Nq_p3fwEwKU_"
   },
   "outputs": [],
   "source": [
    "# 3. Determine Anomalies\n",
    "ensemble_threshold = np.percentile(ensemble_errors, 95)  # for example, setting threshold at 95th percentile of ensemble error\n",
    "anomalies = ensemble_errors > ensemble_threshold\n"
   ]
  },
  {
   "cell_type": "markdown",
   "metadata": {
    "id": "p1fNUjFAw4Mm"
   },
   "source": [
    "# Evaluation"
   ]
  },
  {
   "cell_type": "code",
   "execution_count": 42,
   "metadata": {},
   "outputs": [
    {
     "name": "stdout",
     "output_type": "stream",
     "text": [
      "Requirement already satisfied: matplotlib in /Users/christinastodt/anaconda3/envs/AnomalyTest/lib/python3.9/site-packages (3.8.0)\n",
      "Requirement already satisfied: contourpy>=1.0.1 in /Users/christinastodt/anaconda3/envs/AnomalyTest/lib/python3.9/site-packages (from matplotlib) (1.1.1)\n",
      "Requirement already satisfied: cycler>=0.10 in /Users/christinastodt/anaconda3/envs/AnomalyTest/lib/python3.9/site-packages (from matplotlib) (0.12.1)\n",
      "Requirement already satisfied: fonttools>=4.22.0 in /Users/christinastodt/anaconda3/envs/AnomalyTest/lib/python3.9/site-packages (from matplotlib) (4.43.1)\n",
      "Requirement already satisfied: kiwisolver>=1.0.1 in /Users/christinastodt/anaconda3/envs/AnomalyTest/lib/python3.9/site-packages (from matplotlib) (1.4.5)\n",
      "Requirement already satisfied: numpy<2,>=1.21 in /Users/christinastodt/anaconda3/envs/AnomalyTest/lib/python3.9/site-packages (from matplotlib) (1.26.0)\n",
      "Requirement already satisfied: packaging>=20.0 in /Users/christinastodt/anaconda3/envs/AnomalyTest/lib/python3.9/site-packages (from matplotlib) (23.1)\n",
      "Requirement already satisfied: pillow>=6.2.0 in /Users/christinastodt/anaconda3/envs/AnomalyTest/lib/python3.9/site-packages (from matplotlib) (10.1.0)\n",
      "Requirement already satisfied: pyparsing>=2.3.1 in /Users/christinastodt/anaconda3/envs/AnomalyTest/lib/python3.9/site-packages (from matplotlib) (3.1.1)\n",
      "Requirement already satisfied: python-dateutil>=2.7 in /Users/christinastodt/anaconda3/envs/AnomalyTest/lib/python3.9/site-packages (from matplotlib) (2.8.2)\n",
      "Requirement already satisfied: importlib-resources>=3.2.0 in /Users/christinastodt/anaconda3/envs/AnomalyTest/lib/python3.9/site-packages (from matplotlib) (6.1.0)\n",
      "Requirement already satisfied: zipp>=3.1.0 in /Users/christinastodt/anaconda3/envs/AnomalyTest/lib/python3.9/site-packages (from importlib-resources>=3.2.0->matplotlib) (3.11.0)\n",
      "Requirement already satisfied: six>=1.5 in /Users/christinastodt/anaconda3/envs/AnomalyTest/lib/python3.9/site-packages (from python-dateutil>=2.7->matplotlib) (1.16.0)\n",
      "Note: you may need to restart the kernel to use updated packages.\n"
     ]
    }
   ],
   "source": [
    "pip install matplotlib\n"
   ]
  },
  {
   "cell_type": "code",
   "execution_count": 43,
   "metadata": {},
   "outputs": [
    {
     "name": "stdout",
     "output_type": "stream",
     "text": [
      "Requirement already satisfied: seaborn in /Users/christinastodt/anaconda3/envs/AnomalyTest/lib/python3.9/site-packages (0.13.0)\n",
      "Requirement already satisfied: numpy!=1.24.0,>=1.20 in /Users/christinastodt/anaconda3/envs/AnomalyTest/lib/python3.9/site-packages (from seaborn) (1.26.0)\n",
      "Requirement already satisfied: pandas>=1.2 in /Users/christinastodt/anaconda3/envs/AnomalyTest/lib/python3.9/site-packages (from seaborn) (2.1.1)\n",
      "Requirement already satisfied: matplotlib!=3.6.1,>=3.3 in /Users/christinastodt/anaconda3/envs/AnomalyTest/lib/python3.9/site-packages (from seaborn) (3.8.0)\n",
      "Requirement already satisfied: contourpy>=1.0.1 in /Users/christinastodt/anaconda3/envs/AnomalyTest/lib/python3.9/site-packages (from matplotlib!=3.6.1,>=3.3->seaborn) (1.1.1)\n",
      "Requirement already satisfied: cycler>=0.10 in /Users/christinastodt/anaconda3/envs/AnomalyTest/lib/python3.9/site-packages (from matplotlib!=3.6.1,>=3.3->seaborn) (0.12.1)\n",
      "Requirement already satisfied: fonttools>=4.22.0 in /Users/christinastodt/anaconda3/envs/AnomalyTest/lib/python3.9/site-packages (from matplotlib!=3.6.1,>=3.3->seaborn) (4.43.1)\n",
      "Requirement already satisfied: kiwisolver>=1.0.1 in /Users/christinastodt/anaconda3/envs/AnomalyTest/lib/python3.9/site-packages (from matplotlib!=3.6.1,>=3.3->seaborn) (1.4.5)\n",
      "Requirement already satisfied: packaging>=20.0 in /Users/christinastodt/anaconda3/envs/AnomalyTest/lib/python3.9/site-packages (from matplotlib!=3.6.1,>=3.3->seaborn) (23.1)\n",
      "Requirement already satisfied: pillow>=6.2.0 in /Users/christinastodt/anaconda3/envs/AnomalyTest/lib/python3.9/site-packages (from matplotlib!=3.6.1,>=3.3->seaborn) (10.1.0)\n",
      "Requirement already satisfied: pyparsing>=2.3.1 in /Users/christinastodt/anaconda3/envs/AnomalyTest/lib/python3.9/site-packages (from matplotlib!=3.6.1,>=3.3->seaborn) (3.1.1)\n",
      "Requirement already satisfied: python-dateutil>=2.7 in /Users/christinastodt/anaconda3/envs/AnomalyTest/lib/python3.9/site-packages (from matplotlib!=3.6.1,>=3.3->seaborn) (2.8.2)\n",
      "Requirement already satisfied: importlib-resources>=3.2.0 in /Users/christinastodt/anaconda3/envs/AnomalyTest/lib/python3.9/site-packages (from matplotlib!=3.6.1,>=3.3->seaborn) (6.1.0)\n",
      "Requirement already satisfied: pytz>=2020.1 in /Users/christinastodt/anaconda3/envs/AnomalyTest/lib/python3.9/site-packages (from pandas>=1.2->seaborn) (2023.3.post1)\n",
      "Requirement already satisfied: tzdata>=2022.1 in /Users/christinastodt/anaconda3/envs/AnomalyTest/lib/python3.9/site-packages (from pandas>=1.2->seaborn) (2023.3)\n",
      "Requirement already satisfied: zipp>=3.1.0 in /Users/christinastodt/anaconda3/envs/AnomalyTest/lib/python3.9/site-packages (from importlib-resources>=3.2.0->matplotlib!=3.6.1,>=3.3->seaborn) (3.11.0)\n",
      "Requirement already satisfied: six>=1.5 in /Users/christinastodt/anaconda3/envs/AnomalyTest/lib/python3.9/site-packages (from python-dateutil>=2.7->matplotlib!=3.6.1,>=3.3->seaborn) (1.16.0)\n",
      "Note: you may need to restart the kernel to use updated packages.\n"
     ]
    }
   ],
   "source": [
    "pip install seaborn\n"
   ]
  },
  {
   "cell_type": "code",
   "execution_count": 44,
   "metadata": {
    "colab": {
     "base_uri": "https://localhost:8080/",
     "height": 707
    },
    "id": "YPK6qMvuw84z",
    "outputId": "9beb3c00-41ad-4e34-8d5f-9149b9097809"
   },
   "outputs": [
    {
     "data": {
      "image/png": "[encoded data removed]",
      "text/plain": [
       "<Figure size 1400x700 with 1 Axes>"
      ]
     },
     "metadata": {},
     "output_type": "display_data"
    }
   ],
   "source": [
    "import matplotlib.pyplot as plt\n",
    "import seaborn as sns\n",
    "\n",
    "# Assuming you have timestamps or some sequential data in a variable called `timestamps`\n",
    "# This is just a placeholder; replace with your actual timestamp data\n",
    "timestamps = range(len(ensemble_errors))\n",
    "\n",
    "plt.figure(figsize=(14,7))\n",
    "plt.plot(timestamps, ensemble_errors, label='Anomaly Score')\n",
    "plt.axhline(y=ensemble_threshold, color='r', linestyle='--', label='Threshold')\n",
    "plt.title('Anomaly Scores vs. Timestamp')\n",
    "plt.xlabel('Timestamp')\n",
    "plt.ylabel('Anomaly Score')\n",
    "plt.legend()\n",
    "plt.tight_layout()\n",
    "plt.show()\n"
   ]
  },
  {
   "cell_type": "code",
   "execution_count": 45,
   "metadata": {
    "colab": {
     "base_uri": "https://localhost:8080/",
     "height": 472
    },
    "id": "gByC6d4WyrT9",
    "outputId": "83569d36-b659-4244-edf3-98e4ba5c4ea0"
   },
   "outputs": [
    {
     "data": {
      "image/png": "[encoded data removed]",
      "text/plain": [
       "<Figure size 640x480 with 1 Axes>"
      ]
     },
     "metadata": {},
     "output_type": "display_data"
    }
   ],
   "source": [
    "import matplotlib.pyplot as plt\n",
    "\n",
    "plt.hist(ensemble_errors, bins=100)\n",
    "plt.xlabel(\"Ensemble Error\")\n",
    "plt.ylabel(\"Number of Data Points\")\n",
    "plt.title(\"Distribution of Ensemble Errors\")\n",
    "plt.show()\n"
   ]
  },
  {
   "cell_type": "code",
   "execution_count": 46,
   "metadata": {
    "colab": {
     "base_uri": "https://localhost:8080/"
    },
    "id": "Ze1qG1ZGyxQB",
    "outputId": "88242a2b-1aa6-47c8-ca7d-c9cc9cc7bfda"
   },
   "outputs": [
    {
     "name": "stdout",
     "output_type": "stream",
     "text": [
      "Percentage of data points considered anomalies: 8.53%\n"
     ]
    }
   ],
   "source": [
    "mean_error = np.mean(ensemble_errors)\n",
    "std_error = np.std(ensemble_errors)\n",
    "\n",
    "# Using mean + 2*std as threshold, for instance\n",
    "threshold = mean_error + 2*std_error\n",
    "anomalies = ensemble_errors > threshold\n",
    "\n",
    "print(f\"Percentage of data points considered anomalies: {np.mean(anomalies) * 100:.2f}%\")\n"
   ]
  },
  {
   "cell_type": "markdown",
   "metadata": {
    "id": "Rn4Yrrc7OLtZ"
   },
   "source": [
    "Reconstruction & Loss Calculation:"
   ]
  },
  {
   "cell_type": "code",
   "execution_count": 48,
   "metadata": {
    "id": "iiEfoU3BOhAr"
   },
   "outputs": [],
   "source": [
    "# Ensemble Anomaly Scores\n",
    "#ensemble_errors = (errors_NF + errors_NT + errors_PCH + errors_PS + errors_SB) / 5\n",
    "ensemble_errors = (errors_NF + errors_PCH + errors_PS + errors_SB) / 5\n",
    "normal_test_loss = ensemble_errors\n"
   ]
  },
  {
   "cell_type": "markdown",
   "metadata": {
    "id": "JjamUbHaO8oK"
   },
   "source": [
    "Plot Histogram of Loss on Normal Test Data"
   ]
  },
  {
   "cell_type": "code",
   "execution_count": 49,
   "metadata": {
    "colab": {
     "base_uri": "https://localhost:8080/",
     "height": 452
    },
    "id": "NKDNMWxjPAzl",
    "outputId": "25ca6d4e-12c7-4735-d069-52001b76b93b"
   },
   "outputs": [
    {
     "data": {
      "image/png": "[encoded data removed]",
      "text/plain": [
       "<Figure size 640x480 with 1 Axes>"
      ]
     },
     "metadata": {},
     "output_type": "display_data"
    }
   ],
   "source": [
    "plt.hist(normal_test_loss, bins=50)\n",
    "plt.title(\"Loss on Normal Test Data\")\n",
    "plt.show()\n"
   ]
  },
  {
   "cell_type": "markdown",
   "metadata": {
    "id": "cTnJJnGOPEkw"
   },
   "source": [
    "Calculate Threshold for Anomalies:"
   ]
  },
  {
   "cell_type": "code",
   "execution_count": 50,
   "metadata": {
    "id": "QMW7ehV7PIuw"
   },
   "outputs": [],
   "source": [
    "threshold = np.mean(normal_test_loss) + 2*np.std(normal_test_loss)\n"
   ]
  },
  {
   "cell_type": "markdown",
   "metadata": {
    "id": "kdaY0B3HPMKn"
   },
   "source": [
    "Compute Loss on Anomaly Test Data:"
   ]
  },
  {
   "cell_type": "code",
   "execution_count": 51,
   "metadata": {
    "colab": {
     "base_uri": "https://localhost:8080/",
     "height": 879
    },
    "id": "rt15H_1-PjBV",
    "outputId": "3ced2b22-581b-445d-90cb-1ea0a5291f46"
   },
   "outputs": [
    {
     "name": "stderr",
     "output_type": "stream",
     "text": [
      "/Users/christinastodt/anaconda3/envs/AnomalyTest/lib/python3.9/site-packages/matplotlib/axes/_axes.py:6854: RuntimeWarning: Converting input from bool to <class 'numpy.uint8'> for compatibility.\n",
      "  m, bins = np.histogram(x[i], bins, weights=w[i], **hist_kwargs)\n"
     ]
    },
    {
     "ename": "TypeError",
     "evalue": "numpy boolean subtract, the `-` operator, is not supported, use the bitwise_xor, the `^` operator, or the logical_xor function instead.",
     "output_type": "error",
     "traceback": [
      "\u001b[0;31m---------------------------------------------------------------------------\u001b[0m",
      "\u001b[0;31mKeyError\u001b[0m                                  Traceback (most recent call last)",
      "File \u001b[0;32m~/anaconda3/envs/AnomalyTest/lib/python3.9/site-packages/numpy/lib/histograms.py:351\u001b[0m, in \u001b[0;36m_unsigned_subtract\u001b[0;34m(a, b)\u001b[0m\n\u001b[1;32m    350\u001b[0m \u001b[38;5;28;01mtry\u001b[39;00m:\n\u001b[0;32m--> 351\u001b[0m     dt \u001b[38;5;241m=\u001b[39m \u001b[43msigned_to_unsigned\u001b[49m\u001b[43m[\u001b[49m\u001b[43mdt\u001b[49m\u001b[38;5;241;43m.\u001b[39;49m\u001b[43mtype\u001b[49m\u001b[43m]\u001b[49m\n\u001b[1;32m    352\u001b[0m \u001b[38;5;28;01mexcept\u001b[39;00m \u001b[38;5;167;01mKeyError\u001b[39;00m:\n",
      "\u001b[0;31mKeyError\u001b[0m: <class 'numpy.bool_'>",
      "\nDuring handling of the above exception, another exception occurred:\n",
      "\u001b[0;31mTypeError\u001b[0m                                 Traceback (most recent call last)",
      "Cell \u001b[0;32mIn[51], line 1\u001b[0m\n\u001b[0;32m----> 1\u001b[0m \u001b[43mplt\u001b[49m\u001b[38;5;241;43m.\u001b[39;49m\u001b[43mhist\u001b[49m\u001b[43m(\u001b[49m\u001b[43manomalies\u001b[49m\u001b[43m,\u001b[49m\u001b[43m \u001b[49m\u001b[43mbins\u001b[49m\u001b[38;5;241;43m=\u001b[39;49m\u001b[38;5;241;43m50\u001b[39;49m\u001b[43m)\u001b[49m\n\u001b[1;32m      2\u001b[0m plt\u001b[38;5;241m.\u001b[39mtitle(\u001b[38;5;124m\"\u001b[39m\u001b[38;5;124mLoss on Anomaly Test Data\u001b[39m\u001b[38;5;124m\"\u001b[39m)\n\u001b[1;32m      3\u001b[0m plt\u001b[38;5;241m.\u001b[39mshow()\n",
      "File \u001b[0;32m~/anaconda3/envs/AnomalyTest/lib/python3.9/site-packages/matplotlib/pyplot.py:3224\u001b[0m, in \u001b[0;36mhist\u001b[0;34m(x, bins, range, density, weights, cumulative, bottom, histtype, align, orientation, rwidth, log, color, label, stacked, data, **kwargs)\u001b[0m\n\u001b[1;32m   3199\u001b[0m \u001b[38;5;129m@_copy_docstring_and_deprecators\u001b[39m(Axes\u001b[38;5;241m.\u001b[39mhist)\n\u001b[1;32m   3200\u001b[0m \u001b[38;5;28;01mdef\u001b[39;00m \u001b[38;5;21mhist\u001b[39m(\n\u001b[1;32m   3201\u001b[0m     x: ArrayLike \u001b[38;5;241m|\u001b[39m Sequence[ArrayLike],\n\u001b[0;32m   (...)\u001b[0m\n\u001b[1;32m   3222\u001b[0m     BarContainer \u001b[38;5;241m|\u001b[39m Polygon \u001b[38;5;241m|\u001b[39m \u001b[38;5;28mlist\u001b[39m[BarContainer \u001b[38;5;241m|\u001b[39m Polygon],\n\u001b[1;32m   3223\u001b[0m ]:\n\u001b[0;32m-> 3224\u001b[0m     \u001b[38;5;28;01mreturn\u001b[39;00m \u001b[43mgca\u001b[49m\u001b[43m(\u001b[49m\u001b[43m)\u001b[49m\u001b[38;5;241;43m.\u001b[39;49m\u001b[43mhist\u001b[49m\u001b[43m(\u001b[49m\n\u001b[1;32m   3225\u001b[0m \u001b[43m        \u001b[49m\u001b[43mx\u001b[49m\u001b[43m,\u001b[49m\n\u001b[1;32m   3226\u001b[0m \u001b[43m        \u001b[49m\u001b[43mbins\u001b[49m\u001b[38;5;241;43m=\u001b[39;49m\u001b[43mbins\u001b[49m\u001b[43m,\u001b[49m\n\u001b[1;32m   3227\u001b[0m \u001b[43m        \u001b[49m\u001b[38;5;28;43mrange\u001b[39;49m\u001b[38;5;241;43m=\u001b[39;49m\u001b[38;5;28;43mrange\u001b[39;49m\u001b[43m,\u001b[49m\n\u001b[1;32m   3228\u001b[0m \u001b[43m        \u001b[49m\u001b[43mdensity\u001b[49m\u001b[38;5;241;43m=\u001b[39;49m\u001b[43mdensity\u001b[49m\u001b[43m,\u001b[49m\n\u001b[1;32m   3229\u001b[0m \u001b[43m        \u001b[49m\u001b[43mweights\u001b[49m\u001b[38;5;241;43m=\u001b[39;49m\u001b[43mweights\u001b[49m\u001b[43m,\u001b[49m\n\u001b[1;32m   3230\u001b[0m \u001b[43m        \u001b[49m\u001b[43mcumulative\u001b[49m\u001b[38;5;241;43m=\u001b[39;49m\u001b[43mcumulative\u001b[49m\u001b[43m,\u001b[49m\n\u001b[1;32m   3231\u001b[0m \u001b[43m        \u001b[49m\u001b[43mbottom\u001b[49m\u001b[38;5;241;43m=\u001b[39;49m\u001b[43mbottom\u001b[49m\u001b[43m,\u001b[49m\n\u001b[1;32m   3232\u001b[0m \u001b[43m        \u001b[49m\u001b[43mhisttype\u001b[49m\u001b[38;5;241;43m=\u001b[39;49m\u001b[43mhisttype\u001b[49m\u001b[43m,\u001b[49m\n\u001b[1;32m   3233\u001b[0m \u001b[43m        \u001b[49m\u001b[43malign\u001b[49m\u001b[38;5;241;43m=\u001b[39;49m\u001b[43malign\u001b[49m\u001b[43m,\u001b[49m\n\u001b[1;32m   3234\u001b[0m \u001b[43m        \u001b[49m\u001b[43morientation\u001b[49m\u001b[38;5;241;43m=\u001b[39;49m\u001b[43morientation\u001b[49m\u001b[43m,\u001b[49m\n\u001b[1;32m   3235\u001b[0m \u001b[43m        \u001b[49m\u001b[43mrwidth\u001b[49m\u001b[38;5;241;43m=\u001b[39;49m\u001b[43mrwidth\u001b[49m\u001b[43m,\u001b[49m\n\u001b[1;32m   3236\u001b[0m \u001b[43m        \u001b[49m\u001b[43mlog\u001b[49m\u001b[38;5;241;43m=\u001b[39;49m\u001b[43mlog\u001b[49m\u001b[43m,\u001b[49m\n\u001b[1;32m   3237\u001b[0m \u001b[43m        \u001b[49m\u001b[43mcolor\u001b[49m\u001b[38;5;241;43m=\u001b[39;49m\u001b[43mcolor\u001b[49m\u001b[43m,\u001b[49m\n\u001b[1;32m   3238\u001b[0m \u001b[43m        \u001b[49m\u001b[43mlabel\u001b[49m\u001b[38;5;241;43m=\u001b[39;49m\u001b[43mlabel\u001b[49m\u001b[43m,\u001b[49m\n\u001b[1;32m   3239\u001b[0m \u001b[43m        \u001b[49m\u001b[43mstacked\u001b[49m\u001b[38;5;241;43m=\u001b[39;49m\u001b[43mstacked\u001b[49m\u001b[43m,\u001b[49m\n\u001b[1;32m   3240\u001b[0m \u001b[43m        \u001b[49m\u001b[38;5;241;43m*\u001b[39;49m\u001b[38;5;241;43m*\u001b[39;49m\u001b[43m(\u001b[49m\u001b[43m{\u001b[49m\u001b[38;5;124;43m\"\u001b[39;49m\u001b[38;5;124;43mdata\u001b[39;49m\u001b[38;5;124;43m\"\u001b[39;49m\u001b[43m:\u001b[49m\u001b[43m \u001b[49m\u001b[43mdata\u001b[49m\u001b[43m}\u001b[49m\u001b[43m \u001b[49m\u001b[38;5;28;43;01mif\u001b[39;49;00m\u001b[43m \u001b[49m\u001b[43mdata\u001b[49m\u001b[43m \u001b[49m\u001b[38;5;129;43;01mis\u001b[39;49;00m\u001b[43m \u001b[49m\u001b[38;5;129;43;01mnot\u001b[39;49;00m\u001b[43m \u001b[49m\u001b[38;5;28;43;01mNone\u001b[39;49;00m\u001b[43m \u001b[49m\u001b[38;5;28;43;01melse\u001b[39;49;00m\u001b[43m \u001b[49m\u001b[43m{\u001b[49m\u001b[43m}\u001b[49m\u001b[43m)\u001b[49m\u001b[43m,\u001b[49m\n\u001b[1;32m   3241\u001b[0m \u001b[43m        \u001b[49m\u001b[38;5;241;43m*\u001b[39;49m\u001b[38;5;241;43m*\u001b[39;49m\u001b[43mkwargs\u001b[49m\u001b[43m,\u001b[49m\n\u001b[1;32m   3242\u001b[0m \u001b[43m    \u001b[49m\u001b[43m)\u001b[49m\n",
      "File \u001b[0;32m~/anaconda3/envs/AnomalyTest/lib/python3.9/site-packages/matplotlib/__init__.py:1465\u001b[0m, in \u001b[0;36m_preprocess_data.<locals>.inner\u001b[0;34m(ax, data, *args, **kwargs)\u001b[0m\n\u001b[1;32m   1462\u001b[0m \u001b[38;5;129m@functools\u001b[39m\u001b[38;5;241m.\u001b[39mwraps(func)\n\u001b[1;32m   1463\u001b[0m \u001b[38;5;28;01mdef\u001b[39;00m \u001b[38;5;21minner\u001b[39m(ax, \u001b[38;5;241m*\u001b[39margs, data\u001b[38;5;241m=\u001b[39m\u001b[38;5;28;01mNone\u001b[39;00m, \u001b[38;5;241m*\u001b[39m\u001b[38;5;241m*\u001b[39mkwargs):\n\u001b[1;32m   1464\u001b[0m     \u001b[38;5;28;01mif\u001b[39;00m data \u001b[38;5;129;01mis\u001b[39;00m \u001b[38;5;28;01mNone\u001b[39;00m:\n\u001b[0;32m-> 1465\u001b[0m         \u001b[38;5;28;01mreturn\u001b[39;00m \u001b[43mfunc\u001b[49m\u001b[43m(\u001b[49m\u001b[43max\u001b[49m\u001b[43m,\u001b[49m\u001b[43m \u001b[49m\u001b[38;5;241;43m*\u001b[39;49m\u001b[38;5;28;43mmap\u001b[39;49m\u001b[43m(\u001b[49m\u001b[43msanitize_sequence\u001b[49m\u001b[43m,\u001b[49m\u001b[43m \u001b[49m\u001b[43margs\u001b[49m\u001b[43m)\u001b[49m\u001b[43m,\u001b[49m\u001b[43m \u001b[49m\u001b[38;5;241;43m*\u001b[39;49m\u001b[38;5;241;43m*\u001b[39;49m\u001b[43mkwargs\u001b[49m\u001b[43m)\u001b[49m\n\u001b[1;32m   1467\u001b[0m     bound \u001b[38;5;241m=\u001b[39m new_sig\u001b[38;5;241m.\u001b[39mbind(ax, \u001b[38;5;241m*\u001b[39margs, \u001b[38;5;241m*\u001b[39m\u001b[38;5;241m*\u001b[39mkwargs)\n\u001b[1;32m   1468\u001b[0m     auto_label \u001b[38;5;241m=\u001b[39m (bound\u001b[38;5;241m.\u001b[39marguments\u001b[38;5;241m.\u001b[39mget(label_namer)\n\u001b[1;32m   1469\u001b[0m                   \u001b[38;5;129;01mor\u001b[39;00m bound\u001b[38;5;241m.\u001b[39mkwargs\u001b[38;5;241m.\u001b[39mget(label_namer))\n",
      "File \u001b[0;32m~/anaconda3/envs/AnomalyTest/lib/python3.9/site-packages/matplotlib/axes/_axes.py:6854\u001b[0m, in \u001b[0;36mAxes.hist\u001b[0;34m(self, x, bins, range, density, weights, cumulative, bottom, histtype, align, orientation, rwidth, log, color, label, stacked, **kwargs)\u001b[0m\n\u001b[1;32m   6850\u001b[0m \u001b[38;5;66;03m# Loop through datasets\u001b[39;00m\n\u001b[1;32m   6851\u001b[0m \u001b[38;5;28;01mfor\u001b[39;00m i \u001b[38;5;129;01min\u001b[39;00m \u001b[38;5;28mrange\u001b[39m(nx):\n\u001b[1;32m   6852\u001b[0m     \u001b[38;5;66;03m# this will automatically overwrite bins,\u001b[39;00m\n\u001b[1;32m   6853\u001b[0m     \u001b[38;5;66;03m# so that each histogram uses the same bins\u001b[39;00m\n\u001b[0;32m-> 6854\u001b[0m     m, bins \u001b[38;5;241m=\u001b[39m \u001b[43mnp\u001b[49m\u001b[38;5;241;43m.\u001b[39;49m\u001b[43mhistogram\u001b[49m\u001b[43m(\u001b[49m\u001b[43mx\u001b[49m\u001b[43m[\u001b[49m\u001b[43mi\u001b[49m\u001b[43m]\u001b[49m\u001b[43m,\u001b[49m\u001b[43m \u001b[49m\u001b[43mbins\u001b[49m\u001b[43m,\u001b[49m\u001b[43m \u001b[49m\u001b[43mweights\u001b[49m\u001b[38;5;241;43m=\u001b[39;49m\u001b[43mw\u001b[49m\u001b[43m[\u001b[49m\u001b[43mi\u001b[49m\u001b[43m]\u001b[49m\u001b[43m,\u001b[49m\u001b[43m \u001b[49m\u001b[38;5;241;43m*\u001b[39;49m\u001b[38;5;241;43m*\u001b[39;49m\u001b[43mhist_kwargs\u001b[49m\u001b[43m)\u001b[49m\n\u001b[1;32m   6855\u001b[0m     tops\u001b[38;5;241m.\u001b[39mappend(m)\n\u001b[1;32m   6856\u001b[0m tops \u001b[38;5;241m=\u001b[39m np\u001b[38;5;241m.\u001b[39marray(tops, \u001b[38;5;28mfloat\u001b[39m)  \u001b[38;5;66;03m# causes problems later if it's an int\u001b[39;00m\n",
      "File \u001b[0;32m~/anaconda3/envs/AnomalyTest/lib/python3.9/site-packages/numpy/lib/histograms.py:811\u001b[0m, in \u001b[0;36mhistogram\u001b[0;34m(a, bins, range, density, weights)\u001b[0m\n\u001b[1;32m    809\u001b[0m \u001b[38;5;66;03m# Pre-compute histogram scaling factor\u001b[39;00m\n\u001b[1;32m    810\u001b[0m norm_numerator \u001b[38;5;241m=\u001b[39m n_equal_bins\n\u001b[0;32m--> 811\u001b[0m norm_denom \u001b[38;5;241m=\u001b[39m \u001b[43m_unsigned_subtract\u001b[49m\u001b[43m(\u001b[49m\u001b[43mlast_edge\u001b[49m\u001b[43m,\u001b[49m\u001b[43m \u001b[49m\u001b[43mfirst_edge\u001b[49m\u001b[43m)\u001b[49m\n\u001b[1;32m    813\u001b[0m \u001b[38;5;66;03m# We iterate over blocks here for two reasons: the first is that for\u001b[39;00m\n\u001b[1;32m    814\u001b[0m \u001b[38;5;66;03m# large arrays, it is actually faster (for example for a 10^8 array it\u001b[39;00m\n\u001b[1;32m    815\u001b[0m \u001b[38;5;66;03m# is 2x as fast) and it results in a memory footprint 3x lower in the\u001b[39;00m\n\u001b[1;32m    816\u001b[0m \u001b[38;5;66;03m# limit of large arrays.\u001b[39;00m\n\u001b[1;32m    817\u001b[0m \u001b[38;5;28;01mfor\u001b[39;00m i \u001b[38;5;129;01min\u001b[39;00m _range(\u001b[38;5;241m0\u001b[39m, \u001b[38;5;28mlen\u001b[39m(a), BLOCK):\n",
      "File \u001b[0;32m~/anaconda3/envs/AnomalyTest/lib/python3.9/site-packages/numpy/lib/histograms.py:353\u001b[0m, in \u001b[0;36m_unsigned_subtract\u001b[0;34m(a, b)\u001b[0m\n\u001b[1;32m    351\u001b[0m     dt \u001b[38;5;241m=\u001b[39m signed_to_unsigned[dt\u001b[38;5;241m.\u001b[39mtype]\n\u001b[1;32m    352\u001b[0m \u001b[38;5;28;01mexcept\u001b[39;00m \u001b[38;5;167;01mKeyError\u001b[39;00m:\n\u001b[0;32m--> 353\u001b[0m     \u001b[38;5;28;01mreturn\u001b[39;00m \u001b[43mnp\u001b[49m\u001b[38;5;241;43m.\u001b[39;49m\u001b[43msubtract\u001b[49m\u001b[43m(\u001b[49m\u001b[43ma\u001b[49m\u001b[43m,\u001b[49m\u001b[43m \u001b[49m\u001b[43mb\u001b[49m\u001b[43m,\u001b[49m\u001b[43m \u001b[49m\u001b[43mdtype\u001b[49m\u001b[38;5;241;43m=\u001b[39;49m\u001b[43mdt\u001b[49m\u001b[43m)\u001b[49m\n\u001b[1;32m    354\u001b[0m \u001b[38;5;28;01melse\u001b[39;00m:\n\u001b[1;32m    355\u001b[0m     \u001b[38;5;66;03m# we know the inputs are integers, and we are deliberately casting\u001b[39;00m\n\u001b[1;32m    356\u001b[0m     \u001b[38;5;66;03m# signed to unsigned\u001b[39;00m\n\u001b[1;32m    357\u001b[0m     \u001b[38;5;28;01mreturn\u001b[39;00m np\u001b[38;5;241m.\u001b[39msubtract(a, b, casting\u001b[38;5;241m=\u001b[39m\u001b[38;5;124m'\u001b[39m\u001b[38;5;124munsafe\u001b[39m\u001b[38;5;124m'\u001b[39m, dtype\u001b[38;5;241m=\u001b[39mdt)\n",
      "\u001b[0;31mTypeError\u001b[0m: numpy boolean subtract, the `-` operator, is not supported, use the bitwise_xor, the `^` operator, or the logical_xor function instead."
     ]
    },
    {
     "data": {
      "image/png": "[encoded data removed]",
      "text/plain": [
       "<Figure size 640x480 with 1 Axes>"
      ]
     },
     "metadata": {},
     "output_type": "display_data"
    }
   ],
   "source": [
    "plt.hist(anomalies, bins=50)\n",
    "plt.title(\"Loss on Anomaly Test Data\")\n",
    "plt.show()\n"
   ]
  },
  {
   "cell_type": "markdown",
   "metadata": {
    "id": "AC9xhh7kPkRO"
   },
   "source": [
    "Plot Both Losses Together with the Threshold"
   ]
  },
  {
   "cell_type": "code",
   "execution_count": 52,
   "metadata": {
    "colab": {
     "base_uri": "https://localhost:8080/",
     "height": 856
    },
    "id": "iDJsiMk5Pn4I",
    "outputId": "ea7092fc-dbe4-47e8-dbef-8a079bea10d4"
   },
   "outputs": [
    {
     "ename": "TypeError",
     "evalue": "numpy boolean subtract, the `-` operator, is not supported, use the bitwise_xor, the `^` operator, or the logical_xor function instead.",
     "output_type": "error",
     "traceback": [
      "\u001b[0;31m---------------------------------------------------------------------------\u001b[0m",
      "\u001b[0;31mKeyError\u001b[0m                                  Traceback (most recent call last)",
      "File \u001b[0;32m~/anaconda3/envs/AnomalyTest/lib/python3.9/site-packages/numpy/lib/histograms.py:351\u001b[0m, in \u001b[0;36m_unsigned_subtract\u001b[0;34m(a, b)\u001b[0m\n\u001b[1;32m    350\u001b[0m \u001b[38;5;28;01mtry\u001b[39;00m:\n\u001b[0;32m--> 351\u001b[0m     dt \u001b[38;5;241m=\u001b[39m \u001b[43msigned_to_unsigned\u001b[49m\u001b[43m[\u001b[49m\u001b[43mdt\u001b[49m\u001b[38;5;241;43m.\u001b[39;49m\u001b[43mtype\u001b[49m\u001b[43m]\u001b[49m\n\u001b[1;32m    352\u001b[0m \u001b[38;5;28;01mexcept\u001b[39;00m \u001b[38;5;167;01mKeyError\u001b[39;00m:\n",
      "\u001b[0;31mKeyError\u001b[0m: <class 'numpy.bool_'>",
      "\nDuring handling of the above exception, another exception occurred:\n",
      "\u001b[0;31mTypeError\u001b[0m                                 Traceback (most recent call last)",
      "Cell \u001b[0;32mIn[52], line 2\u001b[0m\n\u001b[1;32m      1\u001b[0m plt\u001b[38;5;241m.\u001b[39mhist(normal_test_loss, bins\u001b[38;5;241m=\u001b[39m\u001b[38;5;241m50\u001b[39m, label\u001b[38;5;241m=\u001b[39m\u001b[38;5;124m'\u001b[39m\u001b[38;5;124mnormal\u001b[39m\u001b[38;5;124m'\u001b[39m)\n\u001b[0;32m----> 2\u001b[0m \u001b[43mplt\u001b[49m\u001b[38;5;241;43m.\u001b[39;49m\u001b[43mhist\u001b[49m\u001b[43m(\u001b[49m\u001b[43manomalies\u001b[49m\u001b[43m,\u001b[49m\u001b[43m \u001b[49m\u001b[43mbins\u001b[49m\u001b[38;5;241;43m=\u001b[39;49m\u001b[38;5;241;43m50\u001b[39;49m\u001b[43m,\u001b[49m\u001b[43m \u001b[49m\u001b[43mlabel\u001b[49m\u001b[38;5;241;43m=\u001b[39;49m\u001b[38;5;124;43m'\u001b[39;49m\u001b[38;5;124;43manomaly\u001b[39;49m\u001b[38;5;124;43m'\u001b[39;49m\u001b[43m)\u001b[49m\n\u001b[1;32m      3\u001b[0m plt\u001b[38;5;241m.\u001b[39maxvline(threshold, color\u001b[38;5;241m=\u001b[39m\u001b[38;5;124m'\u001b[39m\u001b[38;5;124mr\u001b[39m\u001b[38;5;124m'\u001b[39m, linewidth\u001b[38;5;241m=\u001b[39m\u001b[38;5;241m3\u001b[39m, linestyle\u001b[38;5;241m=\u001b[39m\u001b[38;5;124m'\u001b[39m\u001b[38;5;124mdashed\u001b[39m\u001b[38;5;124m'\u001b[39m, label\u001b[38;5;241m=\u001b[39m\u001b[38;5;124m'\u001b[39m\u001b[38;5;124mThreshold: \u001b[39m\u001b[38;5;132;01m{:0.3f}\u001b[39;00m\u001b[38;5;124m'\u001b[39m\u001b[38;5;241m.\u001b[39mformat(threshold))\n\u001b[1;32m      4\u001b[0m plt\u001b[38;5;241m.\u001b[39mlegend(loc\u001b[38;5;241m=\u001b[39m\u001b[38;5;124m'\u001b[39m\u001b[38;5;124mupper right\u001b[39m\u001b[38;5;124m'\u001b[39m)\n",
      "File \u001b[0;32m~/anaconda3/envs/AnomalyTest/lib/python3.9/site-packages/matplotlib/pyplot.py:3224\u001b[0m, in \u001b[0;36mhist\u001b[0;34m(x, bins, range, density, weights, cumulative, bottom, histtype, align, orientation, rwidth, log, color, label, stacked, data, **kwargs)\u001b[0m\n\u001b[1;32m   3199\u001b[0m \u001b[38;5;129m@_copy_docstring_and_deprecators\u001b[39m(Axes\u001b[38;5;241m.\u001b[39mhist)\n\u001b[1;32m   3200\u001b[0m \u001b[38;5;28;01mdef\u001b[39;00m \u001b[38;5;21mhist\u001b[39m(\n\u001b[1;32m   3201\u001b[0m     x: ArrayLike \u001b[38;5;241m|\u001b[39m Sequence[ArrayLike],\n\u001b[0;32m   (...)\u001b[0m\n\u001b[1;32m   3222\u001b[0m     BarContainer \u001b[38;5;241m|\u001b[39m Polygon \u001b[38;5;241m|\u001b[39m \u001b[38;5;28mlist\u001b[39m[BarContainer \u001b[38;5;241m|\u001b[39m Polygon],\n\u001b[1;32m   3223\u001b[0m ]:\n\u001b[0;32m-> 3224\u001b[0m     \u001b[38;5;28;01mreturn\u001b[39;00m \u001b[43mgca\u001b[49m\u001b[43m(\u001b[49m\u001b[43m)\u001b[49m\u001b[38;5;241;43m.\u001b[39;49m\u001b[43mhist\u001b[49m\u001b[43m(\u001b[49m\n\u001b[1;32m   3225\u001b[0m \u001b[43m        \u001b[49m\u001b[43mx\u001b[49m\u001b[43m,\u001b[49m\n\u001b[1;32m   3226\u001b[0m \u001b[43m        \u001b[49m\u001b[43mbins\u001b[49m\u001b[38;5;241;43m=\u001b[39;49m\u001b[43mbins\u001b[49m\u001b[43m,\u001b[49m\n\u001b[1;32m   3227\u001b[0m \u001b[43m        \u001b[49m\u001b[38;5;28;43mrange\u001b[39;49m\u001b[38;5;241;43m=\u001b[39;49m\u001b[38;5;28;43mrange\u001b[39;49m\u001b[43m,\u001b[49m\n\u001b[1;32m   3228\u001b[0m \u001b[43m        \u001b[49m\u001b[43mdensity\u001b[49m\u001b[38;5;241;43m=\u001b[39;49m\u001b[43mdensity\u001b[49m\u001b[43m,\u001b[49m\n\u001b[1;32m   3229\u001b[0m \u001b[43m        \u001b[49m\u001b[43mweights\u001b[49m\u001b[38;5;241;43m=\u001b[39;49m\u001b[43mweights\u001b[49m\u001b[43m,\u001b[49m\n\u001b[1;32m   3230\u001b[0m \u001b[43m        \u001b[49m\u001b[43mcumulative\u001b[49m\u001b[38;5;241;43m=\u001b[39;49m\u001b[43mcumulative\u001b[49m\u001b[43m,\u001b[49m\n\u001b[1;32m   3231\u001b[0m \u001b[43m        \u001b[49m\u001b[43mbottom\u001b[49m\u001b[38;5;241;43m=\u001b[39;49m\u001b[43mbottom\u001b[49m\u001b[43m,\u001b[49m\n\u001b[1;32m   3232\u001b[0m \u001b[43m        \u001b[49m\u001b[43mhisttype\u001b[49m\u001b[38;5;241;43m=\u001b[39;49m\u001b[43mhisttype\u001b[49m\u001b[43m,\u001b[49m\n\u001b[1;32m   3233\u001b[0m \u001b[43m        \u001b[49m\u001b[43malign\u001b[49m\u001b[38;5;241;43m=\u001b[39;49m\u001b[43malign\u001b[49m\u001b[43m,\u001b[49m\n\u001b[1;32m   3234\u001b[0m \u001b[43m        \u001b[49m\u001b[43morientation\u001b[49m\u001b[38;5;241;43m=\u001b[39;49m\u001b[43morientation\u001b[49m\u001b[43m,\u001b[49m\n\u001b[1;32m   3235\u001b[0m \u001b[43m        \u001b[49m\u001b[43mrwidth\u001b[49m\u001b[38;5;241;43m=\u001b[39;49m\u001b[43mrwidth\u001b[49m\u001b[43m,\u001b[49m\n\u001b[1;32m   3236\u001b[0m \u001b[43m        \u001b[49m\u001b[43mlog\u001b[49m\u001b[38;5;241;43m=\u001b[39;49m\u001b[43mlog\u001b[49m\u001b[43m,\u001b[49m\n\u001b[1;32m   3237\u001b[0m \u001b[43m        \u001b[49m\u001b[43mcolor\u001b[49m\u001b[38;5;241;43m=\u001b[39;49m\u001b[43mcolor\u001b[49m\u001b[43m,\u001b[49m\n\u001b[1;32m   3238\u001b[0m \u001b[43m        \u001b[49m\u001b[43mlabel\u001b[49m\u001b[38;5;241;43m=\u001b[39;49m\u001b[43mlabel\u001b[49m\u001b[43m,\u001b[49m\n\u001b[1;32m   3239\u001b[0m \u001b[43m        \u001b[49m\u001b[43mstacked\u001b[49m\u001b[38;5;241;43m=\u001b[39;49m\u001b[43mstacked\u001b[49m\u001b[43m,\u001b[49m\n\u001b[1;32m   3240\u001b[0m \u001b[43m        \u001b[49m\u001b[38;5;241;43m*\u001b[39;49m\u001b[38;5;241;43m*\u001b[39;49m\u001b[43m(\u001b[49m\u001b[43m{\u001b[49m\u001b[38;5;124;43m\"\u001b[39;49m\u001b[38;5;124;43mdata\u001b[39;49m\u001b[38;5;124;43m\"\u001b[39;49m\u001b[43m:\u001b[49m\u001b[43m \u001b[49m\u001b[43mdata\u001b[49m\u001b[43m}\u001b[49m\u001b[43m \u001b[49m\u001b[38;5;28;43;01mif\u001b[39;49;00m\u001b[43m \u001b[49m\u001b[43mdata\u001b[49m\u001b[43m \u001b[49m\u001b[38;5;129;43;01mis\u001b[39;49;00m\u001b[43m \u001b[49m\u001b[38;5;129;43;01mnot\u001b[39;49;00m\u001b[43m \u001b[49m\u001b[38;5;28;43;01mNone\u001b[39;49;00m\u001b[43m \u001b[49m\u001b[38;5;28;43;01melse\u001b[39;49;00m\u001b[43m \u001b[49m\u001b[43m{\u001b[49m\u001b[43m}\u001b[49m\u001b[43m)\u001b[49m\u001b[43m,\u001b[49m\n\u001b[1;32m   3241\u001b[0m \u001b[43m        \u001b[49m\u001b[38;5;241;43m*\u001b[39;49m\u001b[38;5;241;43m*\u001b[39;49m\u001b[43mkwargs\u001b[49m\u001b[43m,\u001b[49m\n\u001b[1;32m   3242\u001b[0m \u001b[43m    \u001b[49m\u001b[43m)\u001b[49m\n",
      "File \u001b[0;32m~/anaconda3/envs/AnomalyTest/lib/python3.9/site-packages/matplotlib/__init__.py:1465\u001b[0m, in \u001b[0;36m_preprocess_data.<locals>.inner\u001b[0;34m(ax, data, *args, **kwargs)\u001b[0m\n\u001b[1;32m   1462\u001b[0m \u001b[38;5;129m@functools\u001b[39m\u001b[38;5;241m.\u001b[39mwraps(func)\n\u001b[1;32m   1463\u001b[0m \u001b[38;5;28;01mdef\u001b[39;00m \u001b[38;5;21minner\u001b[39m(ax, \u001b[38;5;241m*\u001b[39margs, data\u001b[38;5;241m=\u001b[39m\u001b[38;5;28;01mNone\u001b[39;00m, \u001b[38;5;241m*\u001b[39m\u001b[38;5;241m*\u001b[39mkwargs):\n\u001b[1;32m   1464\u001b[0m     \u001b[38;5;28;01mif\u001b[39;00m data \u001b[38;5;129;01mis\u001b[39;00m \u001b[38;5;28;01mNone\u001b[39;00m:\n\u001b[0;32m-> 1465\u001b[0m         \u001b[38;5;28;01mreturn\u001b[39;00m \u001b[43mfunc\u001b[49m\u001b[43m(\u001b[49m\u001b[43max\u001b[49m\u001b[43m,\u001b[49m\u001b[43m \u001b[49m\u001b[38;5;241;43m*\u001b[39;49m\u001b[38;5;28;43mmap\u001b[39;49m\u001b[43m(\u001b[49m\u001b[43msanitize_sequence\u001b[49m\u001b[43m,\u001b[49m\u001b[43m \u001b[49m\u001b[43margs\u001b[49m\u001b[43m)\u001b[49m\u001b[43m,\u001b[49m\u001b[43m \u001b[49m\u001b[38;5;241;43m*\u001b[39;49m\u001b[38;5;241;43m*\u001b[39;49m\u001b[43mkwargs\u001b[49m\u001b[43m)\u001b[49m\n\u001b[1;32m   1467\u001b[0m     bound \u001b[38;5;241m=\u001b[39m new_sig\u001b[38;5;241m.\u001b[39mbind(ax, \u001b[38;5;241m*\u001b[39margs, \u001b[38;5;241m*\u001b[39m\u001b[38;5;241m*\u001b[39mkwargs)\n\u001b[1;32m   1468\u001b[0m     auto_label \u001b[38;5;241m=\u001b[39m (bound\u001b[38;5;241m.\u001b[39marguments\u001b[38;5;241m.\u001b[39mget(label_namer)\n\u001b[1;32m   1469\u001b[0m                   \u001b[38;5;129;01mor\u001b[39;00m bound\u001b[38;5;241m.\u001b[39mkwargs\u001b[38;5;241m.\u001b[39mget(label_namer))\n",
      "File \u001b[0;32m~/anaconda3/envs/AnomalyTest/lib/python3.9/site-packages/matplotlib/axes/_axes.py:6854\u001b[0m, in \u001b[0;36mAxes.hist\u001b[0;34m(self, x, bins, range, density, weights, cumulative, bottom, histtype, align, orientation, rwidth, log, color, label, stacked, **kwargs)\u001b[0m\n\u001b[1;32m   6850\u001b[0m \u001b[38;5;66;03m# Loop through datasets\u001b[39;00m\n\u001b[1;32m   6851\u001b[0m \u001b[38;5;28;01mfor\u001b[39;00m i \u001b[38;5;129;01min\u001b[39;00m \u001b[38;5;28mrange\u001b[39m(nx):\n\u001b[1;32m   6852\u001b[0m     \u001b[38;5;66;03m# this will automatically overwrite bins,\u001b[39;00m\n\u001b[1;32m   6853\u001b[0m     \u001b[38;5;66;03m# so that each histogram uses the same bins\u001b[39;00m\n\u001b[0;32m-> 6854\u001b[0m     m, bins \u001b[38;5;241m=\u001b[39m \u001b[43mnp\u001b[49m\u001b[38;5;241;43m.\u001b[39;49m\u001b[43mhistogram\u001b[49m\u001b[43m(\u001b[49m\u001b[43mx\u001b[49m\u001b[43m[\u001b[49m\u001b[43mi\u001b[49m\u001b[43m]\u001b[49m\u001b[43m,\u001b[49m\u001b[43m \u001b[49m\u001b[43mbins\u001b[49m\u001b[43m,\u001b[49m\u001b[43m \u001b[49m\u001b[43mweights\u001b[49m\u001b[38;5;241;43m=\u001b[39;49m\u001b[43mw\u001b[49m\u001b[43m[\u001b[49m\u001b[43mi\u001b[49m\u001b[43m]\u001b[49m\u001b[43m,\u001b[49m\u001b[43m \u001b[49m\u001b[38;5;241;43m*\u001b[39;49m\u001b[38;5;241;43m*\u001b[39;49m\u001b[43mhist_kwargs\u001b[49m\u001b[43m)\u001b[49m\n\u001b[1;32m   6855\u001b[0m     tops\u001b[38;5;241m.\u001b[39mappend(m)\n\u001b[1;32m   6856\u001b[0m tops \u001b[38;5;241m=\u001b[39m np\u001b[38;5;241m.\u001b[39marray(tops, \u001b[38;5;28mfloat\u001b[39m)  \u001b[38;5;66;03m# causes problems later if it's an int\u001b[39;00m\n",
      "File \u001b[0;32m~/anaconda3/envs/AnomalyTest/lib/python3.9/site-packages/numpy/lib/histograms.py:811\u001b[0m, in \u001b[0;36mhistogram\u001b[0;34m(a, bins, range, density, weights)\u001b[0m\n\u001b[1;32m    809\u001b[0m \u001b[38;5;66;03m# Pre-compute histogram scaling factor\u001b[39;00m\n\u001b[1;32m    810\u001b[0m norm_numerator \u001b[38;5;241m=\u001b[39m n_equal_bins\n\u001b[0;32m--> 811\u001b[0m norm_denom \u001b[38;5;241m=\u001b[39m \u001b[43m_unsigned_subtract\u001b[49m\u001b[43m(\u001b[49m\u001b[43mlast_edge\u001b[49m\u001b[43m,\u001b[49m\u001b[43m \u001b[49m\u001b[43mfirst_edge\u001b[49m\u001b[43m)\u001b[49m\n\u001b[1;32m    813\u001b[0m \u001b[38;5;66;03m# We iterate over blocks here for two reasons: the first is that for\u001b[39;00m\n\u001b[1;32m    814\u001b[0m \u001b[38;5;66;03m# large arrays, it is actually faster (for example for a 10^8 array it\u001b[39;00m\n\u001b[1;32m    815\u001b[0m \u001b[38;5;66;03m# is 2x as fast) and it results in a memory footprint 3x lower in the\u001b[39;00m\n\u001b[1;32m    816\u001b[0m \u001b[38;5;66;03m# limit of large arrays.\u001b[39;00m\n\u001b[1;32m    817\u001b[0m \u001b[38;5;28;01mfor\u001b[39;00m i \u001b[38;5;129;01min\u001b[39;00m _range(\u001b[38;5;241m0\u001b[39m, \u001b[38;5;28mlen\u001b[39m(a), BLOCK):\n",
      "File \u001b[0;32m~/anaconda3/envs/AnomalyTest/lib/python3.9/site-packages/numpy/lib/histograms.py:353\u001b[0m, in \u001b[0;36m_unsigned_subtract\u001b[0;34m(a, b)\u001b[0m\n\u001b[1;32m    351\u001b[0m     dt \u001b[38;5;241m=\u001b[39m signed_to_unsigned[dt\u001b[38;5;241m.\u001b[39mtype]\n\u001b[1;32m    352\u001b[0m \u001b[38;5;28;01mexcept\u001b[39;00m \u001b[38;5;167;01mKeyError\u001b[39;00m:\n\u001b[0;32m--> 353\u001b[0m     \u001b[38;5;28;01mreturn\u001b[39;00m \u001b[43mnp\u001b[49m\u001b[38;5;241;43m.\u001b[39;49m\u001b[43msubtract\u001b[49m\u001b[43m(\u001b[49m\u001b[43ma\u001b[49m\u001b[43m,\u001b[49m\u001b[43m \u001b[49m\u001b[43mb\u001b[49m\u001b[43m,\u001b[49m\u001b[43m \u001b[49m\u001b[43mdtype\u001b[49m\u001b[38;5;241;43m=\u001b[39;49m\u001b[43mdt\u001b[49m\u001b[43m)\u001b[49m\n\u001b[1;32m    354\u001b[0m \u001b[38;5;28;01melse\u001b[39;00m:\n\u001b[1;32m    355\u001b[0m     \u001b[38;5;66;03m# we know the inputs are integers, and we are deliberately casting\u001b[39;00m\n\u001b[1;32m    356\u001b[0m     \u001b[38;5;66;03m# signed to unsigned\u001b[39;00m\n\u001b[1;32m    357\u001b[0m     \u001b[38;5;28;01mreturn\u001b[39;00m np\u001b[38;5;241m.\u001b[39msubtract(a, b, casting\u001b[38;5;241m=\u001b[39m\u001b[38;5;124m'\u001b[39m\u001b[38;5;124munsafe\u001b[39m\u001b[38;5;124m'\u001b[39m, dtype\u001b[38;5;241m=\u001b[39mdt)\n",
      "\u001b[0;31mTypeError\u001b[0m: numpy boolean subtract, the `-` operator, is not supported, use the bitwise_xor, the `^` operator, or the logical_xor function instead."
     ]
    },
    {
     "data": {
      "image/png": "[encoded data removed]",
      "text/plain": [
       "<Figure size 640x480 with 1 Axes>"
      ]
     },
     "metadata": {},
     "output_type": "display_data"
    }
   ],
   "source": [
    "plt.hist(normal_test_loss, bins=50, label='normal')\n",
    "plt.hist(anomalies, bins=50, label='anomaly')\n",
    "plt.axvline(threshold, color='r', linewidth=3, linestyle='dashed', label='Threshold: {:0.3f}'.format(threshold))\n",
    "plt.legend(loc='upper right')\n",
    "plt.title(\"Normal and Anomaly Loss\")\n",
    "plt.show()\n"
   ]
  },
  {
   "cell_type": "markdown",
   "metadata": {
    "id": "2L18olxUPtQq"
   },
   "source": [
    "Evaluate Accuracy for Normal & Anomalous Data"
   ]
  },
  {
   "cell_type": "code",
   "execution_count": 53,
   "metadata": {
    "colab": {
     "base_uri": "https://localhost:8080/"
    },
    "id": "PX6TnBVRPuzW",
    "outputId": "e1b13403-2ea7-4fc3-e22f-0cadfa286bf8"
   },
   "outputs": [
    {
     "name": "stdout",
     "output_type": "stream",
     "text": [
      "Accuracy on normal data: 91.47%\n",
      "Accuracy on anomaly data: 0.00%\n"
     ]
    }
   ],
   "source": [
    "# Normal data predictions\n",
    "preds_normal = normal_test_loss < threshold\n",
    "accuracy_normal = np.mean(preds_normal)\n",
    "\n",
    "# Anomaly data predictions\n",
    "preds_anomaly = anomalies > threshold\n",
    "accuracy_anomaly = np.mean(preds_anomaly)\n",
    "\n",
    "print(f\"Accuracy on normal data: {accuracy_normal * 100:.2f}%\")\n",
    "print(f\"Accuracy on anomaly data: {accuracy_anomaly * 100:.2f}%\")\n"
   ]
  },
  {
   "cell_type": "code",
   "execution_count": 55,
   "metadata": {},
   "outputs": [
    {
     "name": "stdout",
     "output_type": "stream",
     "text": [
      "5684/5684 [==============================] - 7s 1ms/step\n"
     ]
    }
   ],
   "source": [
    "reconstructed_NF = autoencoder_NF.predict(X_test_NF)\n",
    "errors_NF = np.mean(np.square(X_test_NF - reconstructed_NF), axis=1)"
   ]
  },
  {
   "cell_type": "code",
   "execution_count": 56,
   "metadata": {},
   "outputs": [
    {
     "data": {
      "image/png": "[encoded data removed]",
      "text/plain": [
       "<Figure size 640x480 with 1 Axes>"
      ]
     },
     "metadata": {},
     "output_type": "display_data"
    }
   ],
   "source": [
    "import matplotlib.pyplot as plt\n",
    "\n",
    "plt.hist(errors_NF, bins=50)\n",
    "plt.xlabel('Reconstruction error')\n",
    "plt.ylabel('Number of samples')\n",
    "plt.title('Distribution of Reconstruction Errors')\n",
    "plt.show()"
   ]
  },
  {
   "cell_type": "code",
   "execution_count": 57,
   "metadata": {},
   "outputs": [
    {
     "name": "stdout",
     "output_type": "stream",
     "text": [
      "1/1 [==============================] - 0s 437ms/step\n"
     ]
    },
    {
     "ename": "ValueError",
     "evalue": "cannot reshape array of size 7 into shape (28,28)",
     "output_type": "error",
     "traceback": [
      "\u001b[0;31m---------------------------------------------------------------------------\u001b[0m",
      "\u001b[0;31mValueError\u001b[0m                                Traceback (most recent call last)",
      "Cell \u001b[0;32mIn[57], line 7\u001b[0m\n\u001b[1;32m      5\u001b[0m fig, axes \u001b[38;5;241m=\u001b[39m plt\u001b[38;5;241m.\u001b[39msubplots(n, \u001b[38;5;241m2\u001b[39m, figsize\u001b[38;5;241m=\u001b[39m(\u001b[38;5;241m10\u001b[39m, \u001b[38;5;241m20\u001b[39m))\n\u001b[1;32m      6\u001b[0m \u001b[38;5;28;01mfor\u001b[39;00m i \u001b[38;5;129;01min\u001b[39;00m \u001b[38;5;28mrange\u001b[39m(n):\n\u001b[0;32m----> 7\u001b[0m     axes[i, \u001b[38;5;241m0\u001b[39m]\u001b[38;5;241m.\u001b[39mimshow(\u001b[43msamples\u001b[49m\u001b[38;5;241;43m.\u001b[39;49m\u001b[43miloc\u001b[49m\u001b[43m[\u001b[49m\u001b[43mi\u001b[49m\u001b[43m]\u001b[49m\u001b[38;5;241;43m.\u001b[39;49m\u001b[43mvalues\u001b[49m\u001b[38;5;241;43m.\u001b[39;49m\u001b[43mreshape\u001b[49m\u001b[43m(\u001b[49m\u001b[38;5;241;43m28\u001b[39;49m\u001b[43m,\u001b[49m\u001b[43m \u001b[49m\u001b[38;5;241;43m28\u001b[39;49m\u001b[43m)\u001b[49m, cmap\u001b[38;5;241m=\u001b[39m\u001b[38;5;124m'\u001b[39m\u001b[38;5;124mgray\u001b[39m\u001b[38;5;124m'\u001b[39m)\n\u001b[1;32m      8\u001b[0m     axes[i, \u001b[38;5;241m0\u001b[39m]\u001b[38;5;241m.\u001b[39mset_title(\u001b[38;5;124m'\u001b[39m\u001b[38;5;124mOriginal\u001b[39m\u001b[38;5;124m'\u001b[39m)\n\u001b[1;32m      9\u001b[0m     axes[i, \u001b[38;5;241m1\u001b[39m]\u001b[38;5;241m.\u001b[39mimshow(reconstructed_samples[i]\u001b[38;5;241m.\u001b[39mreshape(\u001b[38;5;241m28\u001b[39m, \u001b[38;5;241m28\u001b[39m), cmap\u001b[38;5;241m=\u001b[39m\u001b[38;5;124m'\u001b[39m\u001b[38;5;124mgray\u001b[39m\u001b[38;5;124m'\u001b[39m)\n",
      "\u001b[0;31mValueError\u001b[0m: cannot reshape array of size 7 into shape (28,28)"
     ]
    },
    {
     "data": {
      "image/png": "[encoded data removed]",
      "text/plain": [
       "<Figure size 1000x2000 with 20 Axes>"
      ]
     },
     "metadata": {},
     "output_type": "display_data"
    }
   ],
   "source": [
    "n = 10  # number of samples to visualize\n",
    "samples = X_test_NF.iloc[:n]\n",
    "reconstructed_samples = autoencoder_NF.predict(samples)\n",
    "\n",
    "fig, axes = plt.subplots(n, 2, figsize=(10, 20))\n",
    "for i in range(n):\n",
    "    axes[i, 0].imshow(samples.iloc[i].values.reshape(28, 28), cmap='gray')\n",
    "    axes[i, 0].set_title('Original')\n",
    "    axes[i, 1].imshow(reconstructed_samples[i].reshape(28, 28), cmap='gray')\n",
    "    axes[i, 1].set_title('Reconstructed')\n",
    "\n",
    "plt.tight_layout()\n",
    "plt.show()\n"
   ]
  },
  {
   "cell_type": "markdown",
   "metadata": {},
   "source": [
    "Tests for paper:"
   ]
  },
  {
   "cell_type": "code",
   "execution_count": null,
   "metadata": {},
   "outputs": [],
   "source": []
  }
 ],
 "metadata": {
  "accelerator": "GPU",
  "colab": {
   "gpuType": "T4",
   "machine_shape": "hm",
   "provenance": []
  },
  "kernelspec": {
   "display_name": "AnomalyTest",
   "language": "python",
   "name": "anomalytest"
  },
  "language_info": {
   "codemirror_mode": {
    "name": "ipython",
    "version": 3
   },
   "file_extension": ".py",
   "mimetype": "text/x-python",
   "name": "python",
   "nbconvert_exporter": "python",
   "pygments_lexer": "ipython3",
   "version": "3.9.18"
  }
 },
 "nbformat": 4,
 "nbformat_minor": 4
}
