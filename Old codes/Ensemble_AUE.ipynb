{
  "cells": [
    {
      "cell_type": "markdown",
      "metadata": {
        "id": "CgopDp6wm0wQ"
      },
      "source": [
        "\n",
        "# Ensemble Learning of Autoencoders:\n",
        "\n"
      ]
    },
    {
      "cell_type": "code",
      "source": [
        "from google.colab import drive\n",
        "drive.mount('/content/drive')"
      ],
      "metadata": {
        "id": "-JsJbYTQJhcn"
      },
      "execution_count": null,
      "outputs": []
    },
    {
      "cell_type": "code",
      "execution_count": null,
      "metadata": {
        "id": "Ea49IZDLKEhP"
      },
      "outputs": [],
      "source": [
        "!pip install tensorflow"
      ]
    },
    {
      "cell_type": "code",
      "execution_count": 4,
      "metadata": {
        "id": "RTojLsgtPMrO"
      },
      "outputs": [],
      "source": [
        "import numpy as np\n",
        "import pandas as pd\n",
        "import tensorflow as tf\n",
        "from tensorflow.keras.layers import Input, Dense\n",
        "from tensorflow.keras.models import Model\n",
        "from sklearn.preprocessing import MinMaxScaler\n",
        "from sklearn.preprocessing import LabelEncoder\n",
        "from keras.optimizers import Adam\n",
        "from keras.callbacks import EarlyStopping\n",
        "from sklearn.model_selection import train_test_split\n",
        "from sklearn.preprocessing import StandardScaler, OneHotEncoder\n",
        "from sklearn.compose import ColumnTransformer\n",
        "from sklearn.pipeline import Pipeline\n"
      ]
    },
    {
      "cell_type": "markdown",
      "metadata": {
        "id": "O-RS9Hd8KYIc"
      },
      "source": [
        "**Network Flow Group Autoencoder:**"
      ]
    },
    {
      "cell_type": "code",
      "execution_count": 5,
      "metadata": {
        "id": "1OP48zDdKoBl",
        "colab": {
          "base_uri": "https://localhost:8080/"
        },
        "outputId": "09de6f2b-a976-4b02-a404-4a7dd60ce2e8"
      },
      "outputs": [
        {
          "output_type": "stream",
          "name": "stdout",
          "text": [
            "src_ip                0\n",
            "dst_ip                0\n",
            "src_port             66\n",
            "dst_port             66\n",
            "packet_count          0\n",
            "total_bytes           0\n",
            "traffic_direction     0\n",
            "first_timestamp       0\n",
            "last_timestamp        0\n",
            "dtype: int64\n"
          ]
        }
      ],
      "source": [
        "\n",
        "network_flow_df = pd.read_csv('/content/drive/MyDrive/network_flow_features.csv', header=0)\n",
        "\n",
        "# Convert the DataFrame to a NumPy array, retaining rows with \"ff:ff:ff:ff:ff:ff\"\n",
        "network_flow_data = network_flow_df.values\n",
        "#print(network_flow_data)\n",
        "\n",
        "\n",
        "# Display unique values in each column\n",
        "for column in network_flow_df.columns:\n",
        "    unique_values = network_flow_df[column].unique()\n",
        "    #print(f\"Column: {column}, Unique Values: {unique_values}\")\n",
        "#print(network_flow_df.columns)\n",
        "print(network_flow_df.isnull().sum())\n"
      ]
    },
    {
      "cell_type": "code",
      "execution_count": 6,
      "metadata": {
        "colab": {
          "base_uri": "https://localhost:8080/"
        },
        "id": "JndbyyeEKz5c",
        "outputId": "8cf49cc2-eb69-4b7c-8b13-0d8d10f93be3"
      },
      "outputs": [
        {
          "output_type": "stream",
          "name": "stdout",
          "text": [
            "Training data shape: (157842, 197)\n",
            "Testing data shape: (39461, 197)\n",
            "        src_port  dst_port  packet_count  total_bytes  src_ip_108.59.2.24  \\\n",
            "0       1.392846 -0.873903      0.133698     0.032115                 0.0   \n",
            "1      -0.875627  1.396184      0.024445     0.147736                 0.0   \n",
            "2      -0.872958 -0.871232     -0.084809    -0.109405                 0.0   \n",
            "3      -0.872958 -0.871232     -0.084809    -0.109405                 0.0   \n",
            "4      -0.673568 -0.671700     20.946493    24.443007                 0.0   \n",
            "...          ...       ...           ...          ...                 ...   \n",
            "197298 -0.875627  1.084067     -0.084809    -0.106630                 0.0   \n",
            "197299  0.671000 -0.873903     -0.084809    -0.122355                 0.0   \n",
            "197300 -0.875627  0.673825     -0.084809    -0.092756                 0.0   \n",
            "197301 -0.062817 -0.873903     -0.084809    -0.122355                 0.0   \n",
            "197302 -0.875627 -0.060514     -0.084809    -0.092756                 0.0   \n",
            "\n",
            "        src_ip_108.61.73.244  src_ip_128.138.141.172  src_ip_129.128.12.20  \\\n",
            "0                        0.0                     0.0                   0.0   \n",
            "1                        0.0                     0.0                   0.0   \n",
            "2                        0.0                     0.0                   0.0   \n",
            "3                        0.0                     0.0                   0.0   \n",
            "4                        0.0                     0.0                   0.0   \n",
            "...                      ...                     ...                   ...   \n",
            "197298                   0.0                     0.0                   0.0   \n",
            "197299                   0.0                     0.0                   0.0   \n",
            "197300                   0.0                     0.0                   0.0   \n",
            "197301                   0.0                     0.0                   0.0   \n",
            "197302                   0.0                     0.0                   0.0   \n",
            "\n",
            "        src_ip_129.250.35.250  src_ip_129.6.15.29  ...  dst_ip_8.43.72.52  \\\n",
            "0                         0.0                 0.0  ...                0.0   \n",
            "1                         0.0                 0.0  ...                0.0   \n",
            "2                         0.0                 0.0  ...                0.0   \n",
            "3                         0.0                 1.0  ...                0.0   \n",
            "4                         0.0                 0.0  ...                0.0   \n",
            "...                       ...                 ...  ...                ...   \n",
            "197298                    0.0                 0.0  ...                0.0   \n",
            "197299                    0.0                 0.0  ...                0.0   \n",
            "197300                    0.0                 0.0  ...                0.0   \n",
            "197301                    0.0                 0.0  ...                0.0   \n",
            "197302                    0.0                 0.0  ...                0.0   \n",
            "\n",
            "        dst_ip_8.43.72.62  dst_ip_8.43.72.77  dst_ip_91.189.89.198  \\\n",
            "0                     0.0                0.0                   0.0   \n",
            "1                     0.0                0.0                   0.0   \n",
            "2                     0.0                0.0                   0.0   \n",
            "3                     0.0                0.0                   0.0   \n",
            "4                     0.0                0.0                   0.0   \n",
            "...                   ...                ...                   ...   \n",
            "197298                0.0                0.0                   0.0   \n",
            "197299                0.0                0.0                   0.0   \n",
            "197300                0.0                0.0                   0.0   \n",
            "197301                0.0                0.0                   0.0   \n",
            "197302                0.0                0.0                   0.0   \n",
            "\n",
            "        dst_ip_91.189.89.199  dst_ip_91.189.91.157  dst_ip_97.107.128.58  \\\n",
            "0                        0.0                   0.0                   0.0   \n",
            "1                        0.0                   0.0                   0.0   \n",
            "2                        0.0                   0.0                   0.0   \n",
            "3                        0.0                   0.0                   0.0   \n",
            "4                        0.0                   0.0                   0.0   \n",
            "...                      ...                   ...                   ...   \n",
            "197298                   0.0                   0.0                   0.0   \n",
            "197299                   0.0                   0.0                   0.0   \n",
            "197300                   0.0                   0.0                   0.0   \n",
            "197301                   0.0                   0.0                   0.0   \n",
            "197302                   0.0                   0.0                   0.0   \n",
            "\n",
            "        dst_ip_97.127.97.146  dst_ip_99.224.25.39  traffic_direction_Outbound  \n",
            "0                        0.0                  0.0                         1.0  \n",
            "1                        0.0                  0.0                         1.0  \n",
            "2                        0.0                  0.0                         1.0  \n",
            "3                        0.0                  0.0                         0.0  \n",
            "4                        0.0                  0.0                         1.0  \n",
            "...                      ...                  ...                         ...  \n",
            "197298                   0.0                  0.0                         1.0  \n",
            "197299                   0.0                  0.0                         1.0  \n",
            "197300                   0.0                  0.0                         1.0  \n",
            "197301                   0.0                  0.0                         1.0  \n",
            "197302                   0.0                  0.0                         1.0  \n",
            "\n",
            "[197303 rows x 197 columns]\n"
          ]
        }
      ],
      "source": [
        "#data preprocessing:\n",
        "\n",
        "import pandas as pd\n",
        "import numpy as np\n",
        "from sklearn.preprocessing import StandardScaler, OneHotEncoder\n",
        "from sklearn.compose import ColumnTransformer\n",
        "from sklearn.pipeline import Pipeline\n",
        "from sklearn.model_selection import train_test_split\n",
        "\n",
        "\n",
        "network_flow_df.dropna(subset=['src_port', 'dst_port'], inplace=True)\n",
        "\n",
        "# Define columns to be transformed:\n",
        "numerical_features = ['src_port', 'dst_port', 'packet_count', 'total_bytes']\n",
        "categorical_features = ['src_ip', 'dst_ip', 'traffic_direction']\n",
        "\n",
        "# Create transformers:\n",
        "numerical_transformer = StandardScaler()\n",
        "categorical_transformer = OneHotEncoder(drop='first', sparse_output=False)  # Set sparse_output to False to ensure a dense array\n",
        "\n",
        "# Apply column transformer to appropriate columns:\n",
        "preprocessor = ColumnTransformer(\n",
        "    transformers=[\n",
        "        ('num', numerical_transformer, numerical_features),\n",
        "        ('cat', categorical_transformer, categorical_features)\n",
        "    ])\n",
        "\n",
        "# Fit and transform the data:\n",
        "df_preprocessed_array = preprocessor.fit_transform(network_flow_df)\n",
        "\n",
        "# Separately transform the data to get the right shapes:\n",
        "df_numerical_transformed = preprocessor.transformers_[0][1].transform(network_flow_df[numerical_features])\n",
        "df_categorical_transformed = preprocessor.transformers_[1][1].transform(network_flow_df[categorical_features])\n",
        "\n",
        "# Ensure both are 2D arrays:\n",
        "df_numerical_transformed = np.array(df_numerical_transformed)\n",
        "df_categorical_transformed = np.array(df_categorical_transformed)\n",
        "\n",
        "# Get the feature names for the transformed columns separately\n",
        "numerical_names = numerical_features\n",
        "categorical_names = preprocessor.named_transformers_['cat'].get_feature_names_out(categorical_features)\n",
        "\n",
        "# Combine them to create a complete list of column names for the transformed dataframe\n",
        "all_column_names = list(numerical_names) + list(categorical_names)\n",
        "\n",
        "# Merge the transformed numerical and categorical data\n",
        "transformed_data = np.hstack([df_numerical_transformed, df_categorical_transformed])\n",
        "\n",
        "# Create a dataframe using the combined data and column names\n",
        "df_preprocessed = pd.DataFrame(transformed_data, columns=all_column_names)\n",
        "\n",
        "# Splitting the preprocessed data into 80% training and 20% testing\n",
        "X_train, X_test_NF = train_test_split(df_preprocessed, test_size=0.2, random_state=42)\n",
        "\n",
        "print(f\"Training data shape: {X_train.shape}\")\n",
        "print(f\"Testing data shape: {X_test_NF.shape}\")\n",
        "\n",
        "print(df_preprocessed)\n"
      ]
    },
    {
      "cell_type": "code",
      "execution_count": 7,
      "metadata": {
        "id": "ITtAJ8FlK6ui"
      },
      "outputs": [],
      "source": [
        "# define Autoencoder\n",
        "import numpy as np\n",
        "import pandas as pd\n",
        "from sklearn.preprocessing import StandardScaler, OneHotEncoder\n",
        "from sklearn.compose import ColumnTransformer\n",
        "from sklearn.pipeline import Pipeline\n",
        "import tensorflow as tf\n",
        "from tensorflow.keras.models import Model\n",
        "from tensorflow.keras.layers import Input, Dense\n",
        "\n",
        "\n",
        "\n",
        "# Dimensions of the preprocessed data\n",
        "input_dim = df_preprocessed.shape[1]\n",
        "\n",
        "# Define the autoencoder architecture\n",
        "input_layer = Input(shape=(input_dim,))\n",
        "encoded = Dense(32, activation='relu')(input_layer)\n",
        "encoded = Dense(16, activation='relu')(encoded)\n",
        "decoded = Dense(32, activation='relu')(encoded)\n",
        "decoded = Dense(input_dim, activation='sigmoid')(decoded)\n",
        "\n",
        "autoencoder_NF = Model(input_layer, decoded)\n",
        "autoencoder_NF.compile(optimizer='adam', loss='mean_squared_error')"
      ]
    },
    {
      "cell_type": "code",
      "execution_count": 8,
      "metadata": {
        "id": "4vRycLcULVvj",
        "colab": {
          "base_uri": "https://localhost:8080/"
        },
        "outputId": "d2b65d9a-6bb7-4996-f9f1-067595e2636c"
      },
      "outputs": [
        {
          "output_type": "stream",
          "name": "stdout",
          "text": [
            "Epoch 1/50\n",
            "771/771 [==============================] - 8s 3ms/step - loss: 0.0208\n",
            "Epoch 2/50\n",
            "771/771 [==============================] - 2s 3ms/step - loss: 0.0031\n",
            "Epoch 3/50\n",
            "771/771 [==============================] - 2s 3ms/step - loss: 6.9205e-04\n",
            "Epoch 4/50\n",
            "771/771 [==============================] - 2s 3ms/step - loss: 4.5428e-04\n",
            "Epoch 5/50\n",
            "771/771 [==============================] - 2s 3ms/step - loss: 3.7970e-04\n",
            "Epoch 6/50\n",
            "771/771 [==============================] - 2s 3ms/step - loss: 3.7456e-04\n",
            "Epoch 7/50\n",
            "771/771 [==============================] - 2s 3ms/step - loss: 3.5499e-04\n",
            "Epoch 8/50\n",
            "771/771 [==============================] - 2s 3ms/step - loss: 3.3784e-04\n",
            "Epoch 9/50\n",
            "771/771 [==============================] - 2s 3ms/step - loss: 3.3416e-04\n",
            "Epoch 10/50\n",
            "771/771 [==============================] - 2s 3ms/step - loss: 3.3184e-04\n",
            "Epoch 11/50\n",
            "771/771 [==============================] - 2s 3ms/step - loss: 3.2944e-04\n",
            "Epoch 12/50\n",
            "771/771 [==============================] - 2s 3ms/step - loss: 3.2754e-04\n",
            "Epoch 13/50\n",
            "771/771 [==============================] - 2s 3ms/step - loss: 3.1860e-04\n",
            "Epoch 14/50\n",
            "771/771 [==============================] - 2s 3ms/step - loss: 3.0975e-04\n",
            "Epoch 15/50\n",
            "771/771 [==============================] - 2s 3ms/step - loss: 3.0779e-04\n",
            "Epoch 16/50\n",
            "771/771 [==============================] - 2s 3ms/step - loss: 3.0449e-04\n",
            "Epoch 17/50\n",
            "771/771 [==============================] - 2s 3ms/step - loss: 3.0311e-04\n",
            "Epoch 18/50\n",
            "771/771 [==============================] - 2s 3ms/step - loss: 3.0182e-04\n",
            "Epoch 19/50\n",
            "771/771 [==============================] - 2s 3ms/step - loss: 2.9718e-04\n",
            "Epoch 20/50\n",
            "771/771 [==============================] - 2s 3ms/step - loss: 2.5379e-04\n",
            "Epoch 21/50\n",
            "771/771 [==============================] - 2s 3ms/step - loss: 2.3857e-04\n",
            "Epoch 22/50\n",
            "771/771 [==============================] - 2s 3ms/step - loss: 2.3455e-04\n",
            "Epoch 23/50\n",
            "771/771 [==============================] - 2s 3ms/step - loss: 2.3294e-04\n",
            "Epoch 24/50\n",
            "771/771 [==============================] - 2s 3ms/step - loss: 2.3212e-04\n",
            "Epoch 25/50\n",
            "771/771 [==============================] - 2s 3ms/step - loss: 2.3103e-04\n",
            "Epoch 26/50\n",
            "771/771 [==============================] - 2s 3ms/step - loss: 2.2720e-04\n",
            "Epoch 27/50\n",
            "771/771 [==============================] - 2s 3ms/step - loss: 2.2603e-04\n",
            "Epoch 28/50\n",
            "771/771 [==============================] - 2s 3ms/step - loss: 2.2537e-04\n",
            "Epoch 29/50\n",
            "771/771 [==============================] - 2s 3ms/step - loss: 2.2483e-04\n",
            "Epoch 30/50\n",
            "771/771 [==============================] - 2s 3ms/step - loss: 2.2290e-04\n",
            "Epoch 31/50\n",
            "771/771 [==============================] - 2s 3ms/step - loss: 2.2062e-04\n",
            "Epoch 32/50\n",
            "771/771 [==============================] - 2s 3ms/step - loss: 2.2033e-04\n",
            "Epoch 33/50\n",
            "771/771 [==============================] - 2s 3ms/step - loss: 2.2010e-04\n",
            "Epoch 34/50\n",
            "771/771 [==============================] - 2s 3ms/step - loss: 2.1960e-04\n",
            "Epoch 35/50\n",
            "771/771 [==============================] - 2s 3ms/step - loss: 2.1939e-04\n",
            "Epoch 36/50\n",
            "771/771 [==============================] - 2s 3ms/step - loss: 2.1931e-04\n",
            "Epoch 37/50\n",
            "771/771 [==============================] - 2s 3ms/step - loss: 2.1908e-04\n",
            "Epoch 38/50\n",
            "771/771 [==============================] - 2s 3ms/step - loss: 2.1885e-04\n",
            "Epoch 39/50\n",
            "771/771 [==============================] - 2s 3ms/step - loss: 2.1836e-04\n",
            "Epoch 40/50\n",
            "771/771 [==============================] - 2s 3ms/step - loss: 2.1835e-04\n",
            "Epoch 41/50\n",
            "771/771 [==============================] - 2s 3ms/step - loss: 2.1806e-04\n",
            "Epoch 42/50\n",
            "771/771 [==============================] - 2s 3ms/step - loss: 2.1805e-04\n",
            "Epoch 43/50\n",
            "771/771 [==============================] - 2s 3ms/step - loss: 2.1784e-04\n",
            "Epoch 44/50\n",
            "771/771 [==============================] - 2s 3ms/step - loss: 2.1772e-04\n",
            "Epoch 45/50\n",
            "771/771 [==============================] - 2s 3ms/step - loss: 2.1764e-04\n",
            "Epoch 46/50\n",
            "771/771 [==============================] - 2s 3ms/step - loss: 2.1758e-04\n",
            "Epoch 47/50\n",
            "771/771 [==============================] - 2s 3ms/step - loss: 2.1733e-04\n",
            "Epoch 48/50\n",
            "771/771 [==============================] - 2s 3ms/step - loss: 2.1727e-04\n",
            "Epoch 49/50\n",
            "771/771 [==============================] - 2s 3ms/step - loss: 2.1717e-04\n",
            "Epoch 50/50\n",
            "771/771 [==============================] - 2s 3ms/step - loss: 2.1691e-04\n"
          ]
        },
        {
          "output_type": "execute_result",
          "data": {
            "text/plain": [
              "<keras.src.callbacks.History at 0x7b2cc0c3d780>"
            ]
          },
          "metadata": {},
          "execution_count": 8
        }
      ],
      "source": [
        "# Train autoencoder:\n",
        "# Normalize the data to be between 0 and 1 (important for the 'sigmoid' activation function)\n",
        "df_preprocessed_norm = np.clip(df_preprocessed, 0, 1)\n",
        "\n",
        "# Train the autoencoder\n",
        "autoencoder_NF.fit(df_preprocessed_norm, df_preprocessed_norm, epochs=50, batch_size=256, shuffle=True)"
      ]
    },
    {
      "cell_type": "markdown",
      "metadata": {
        "id": "Eubyau_aLs8g"
      },
      "source": [
        "*Evaluation for Networkflow AUE:*"
      ]
    },
    {
      "cell_type": "code",
      "execution_count": 9,
      "metadata": {
        "id": "804sNiQiL3QF",
        "colab": {
          "base_uri": "https://localhost:8080/"
        },
        "outputId": "850d4a50-8072-494c-bd7a-ff31cada2451"
      },
      "outputs": [
        {
          "output_type": "stream",
          "name": "stdout",
          "text": [
            "6166/6166 [==============================] - 10s 2ms/step - loss: 2.1742e-04\n",
            "Reconstruction error: 0.000217421431443654\n",
            "6166/6166 [==============================] - 10s 2ms/step - loss: 2.1742e-04\n",
            "Mean Squared Error: 0.000217421431443654\n"
          ]
        }
      ],
      "source": [
        "#Reconstruction Error: (A lower MSE indicates better reconstruction)\n",
        "\n",
        "reconstruction_error = autoencoder_NF.evaluate(df_preprocessed_norm, df_preprocessed_norm)\n",
        "print(f\"Reconstruction error: {reconstruction_error}\")\n",
        "\n",
        "mse_NF = autoencoder_NF.evaluate(df_preprocessed_norm, df_preprocessed_norm)\n",
        "print(f\"Mean Squared Error: {mse_NF}\")"
      ]
    },
    {
      "cell_type": "markdown",
      "metadata": {
        "id": "rRYRl0bSOuQL"
      },
      "source": [
        "**Network Traffic Group Autoencoder:**"
      ]
    },
    {
      "cell_type": "code",
      "execution_count": 10,
      "metadata": {
        "id": "ahKracdAO8h8",
        "colab": {
          "base_uri": "https://localhost:8080/"
        },
        "outputId": "d740ae73-6bcb-4e6e-92c1-ff452d0e72a3"
      },
      "outputs": [
        {
          "output_type": "stream",
          "name": "stdout",
          "text": [
            "[[nan nan nan ... nan nan 1499342338.492265]\n",
            " [nan nan nan ... nan nan 1499342342.261854]\n",
            " [nan nan nan ... nan nan 1499342342.963151]\n",
            " ...\n",
            " ['b8:ac:6f:36:0b:a8' '33:33:00:00:00:16' nan ... nan nan\n",
            "  1499371484.363801]\n",
            " ['b8:ac:6f:36:0b:a8' '33:33:00:00:00:16' nan ... nan nan\n",
            "  1499371484.363906]\n",
            " ['b8:ac:6f:36:0b:a8' '33:33:00:00:00:16' nan ... nan nan\n",
            "  1499371484.364012]]\n",
            "Column: eth_src, Unique Values: [nan '00:19:b9:0a:69:f1' '18:66:da:9b:e3:7d' 'b8:ac:6f:36:07:ee'\n",
            " '00:c1:b1:14:eb:31' '00:23:ae:9b:ad:b3' '00:1e:4f:d4:ca:28'\n",
            " 'b8:ac:6f:36:04:e3' 'b8:ac:6f:36:08:f5' 'b8:ac:6f:36:0a:8b'\n",
            " 'b8:ac:6f:1d:1f:6c' '00:23:ae:9b:95:67' '00:25:00:a8:c4:60'\n",
            " 'b8:ac:6f:36:0b:a8' '00:23:ae:9b:8a:bf' '24:6e:96:4a:37:7a']\n",
            "Column: eth_dst, Unique Values: [nan '18:66:da:9b:e3:7d' '00:19:b9:0a:69:f1' 'b8:ac:6f:36:07:ee'\n",
            " '00:c1:b1:14:eb:31' '01:00:5e:00:00:fb' '33:33:ff:9b:ad:b3'\n",
            " '33:33:00:00:00:16' '33:33:00:00:00:02' '33:33:00:00:00:fb'\n",
            " 'ff:ff:ff:ff:ff:ff' '00:23:ae:9b:ad:b3' '33:33:ff:f6:bd:7b'\n",
            " '33:33:00:00:00:01' '01:00:5e:00:00:16' 'b8:ac:6f:36:04:e3'\n",
            " '33:33:00:01:00:03' '01:00:5e:00:00:fc' '33:33:00:01:00:02'\n",
            " '00:1e:4f:d4:ca:28' '01:80:c2:00:00:0e' '33:33:ff:73:ed:41'\n",
            " '01:00:5e:00:01:18' 'b8:ac:6f:36:08:f5' 'b8:ac:6f:1d:1f:6c'\n",
            " 'b8:ac:6f:36:0a:8b' '01:00:5e:7f:ff:fa' '33:33:ff:9b:95:67'\n",
            " '00:23:ae:9b:95:67' '00:25:00:a8:c4:60' 'b8:ac:6f:36:0b:a8'\n",
            " '33:33:ff:0f:3d:73' '00:23:ae:9b:8a:bf' '33:33:ff:94:ac:8f'\n",
            " '33:33:ff:70:07:dd' '01:00:5e:00:00:02' '33:33:00:00:00:0c']\n",
            "Column: src_ip, Unique Values: [nan '192.168.10.14' '192.168.10.3' '192.168.10.50' '129.6.15.29'\n",
            " '192.168.10.19' '192.168.10.1' '5.9.74.228' '195.186.4.101'\n",
            " '213.109.127.82' '163.172.10.212' '72.38.129.202' '144.217.148.73'\n",
            " '192.168.10.12' '192.95.27.155' '144.217.109.67' '91.189.89.199'\n",
            " '192.168.10.15' '167.114.204.238' '129.128.12.20' '159.203.8.72'\n",
            " '67.215.197.149' '75.119.251.14' '158.69.247.184' '192.99.2.8'\n",
            " '206.108.0.132' '91.189.89.198' '192.168.10.8' '91.189.91.157'\n",
            " '192.168.10.9' '192.168.10.5' '192.168.10.17' '192.168.10.25'\n",
            " '17.253.14.253' '17.253.14.125' '17.253.20.253' '17.253.20.125'\n",
            " '17.253.24.253' '158.69.125.231' '144.217.252.208' '198.50.139.209'\n",
            " '206.75.89.101' '199.182.221.110' '206.108.0.131' '208.81.1.197'\n",
            " '206.108.0.134' '99.224.25.39' '206.108.0.133' '66.70.172.17'\n",
            " '24.86.68.24' '192.168.10.51' '192.168.10.16' '206.71.252.18'\n",
            " '97.127.97.146' '97.107.128.58' '207.210.46.249' '208.81.1.244'\n",
            " '144.217.240.204' '129.250.35.250' '144.217.164.10' '67.213.73.226'\n",
            " '198.100.147.178' '108.61.73.244' '4.53.160.75' '45.33.41.203'\n",
            " '128.138.141.172' '45.76.92.117' '108.59.2.24' '208.76.1.123'\n",
            " '188.92.40.81' '173.194.207.127' '104.155.51.226' '109.201.130.58'\n",
            " '109.201.130.57' '216.6.81.22' '172.16.0.1' '192.225.158.2'\n",
            " '205.174.165.65' '192.132.33.27' '8.41.222.241' '198.8.70.211'\n",
            " '199.187.193.1' '199.244.49.56' '162.248.16.28' '63.251.98.12'\n",
            " '156.154.202.36' '74.117.199.102' '198.211.102.20' '52.23.111.175'\n",
            " '77.238.121.220' '212.45.97.31' '210.14.132.70' '0.0.0.0']\n",
            "Column: dst_ip, Unique Values: [nan '192.168.10.3' '192.168.10.14' '129.6.15.29' '192.168.10.50'\n",
            " '224.0.0.251' '192.168.10.1' '192.168.10.19' '192.168.10.255'\n",
            " '5.9.74.228' '195.186.4.101' '213.109.127.82' '163.172.10.212'\n",
            " '72.38.129.202' '144.217.148.73' '224.0.0.22' '192.95.27.155'\n",
            " '192.168.10.12' '67.215.197.149' '91.189.89.199' '144.217.109.67'\n",
            " '224.0.0.252' '167.114.204.238' '129.128.12.20' '192.168.10.15'\n",
            " '159.203.8.72' '75.119.251.14' '158.69.247.184' '255.255.255.255'\n",
            " '192.99.2.8' '206.108.0.132' '91.189.89.198' '224.0.1.24' '192.168.10.8'\n",
            " '91.189.91.157' '192.168.10.9' '192.168.10.5' '239.255.255.250'\n",
            " '192.168.10.17' '192.168.10.25' '17.253.14.253' '17.253.14.125'\n",
            " '17.253.20.253' '17.253.20.125' '17.253.24.253' '158.69.125.231'\n",
            " '144.217.252.208' '198.50.139.209' '206.75.89.101' '199.182.221.110'\n",
            " '206.108.0.131' '208.81.1.197' '206.108.0.134' '99.224.25.39'\n",
            " '206.108.0.133' '66.70.172.17' '24.86.68.24' '192.168.10.51'\n",
            " '192.168.10.16' '206.71.252.18' '97.127.97.146' '207.210.46.249'\n",
            " '208.81.1.244' '97.107.128.58' '144.217.240.204' '129.250.35.250'\n",
            " '144.217.164.10' '67.213.73.226' '198.100.147.178' '108.61.73.244'\n",
            " '45.33.41.203' '4.53.160.75' '45.76.92.117' '128.138.141.172'\n",
            " '108.59.2.24' '208.76.1.123' '173.194.207.127' '104.155.51.226'\n",
            " '172.16.0.1' '224.0.0.2' '52.87.201.4' '192.225.158.2' '162.125.18.133'\n",
            " '169.254.255.255' '104.17.237.25' '104.17.55.121' '104.17.56.121'\n",
            " '104.17.53.121' '104.17.52.121' '151.101.0.175' '151.101.1.108'\n",
            " '151.101.0.68' '192.132.33.27' '8.41.222.241' '8.43.72.62' '8.43.72.77'\n",
            " '199.244.50.75' '151.101.0.249' '72.21.91.29' '185.167.164.41'\n",
            " '66.242.15.235' '199.187.193.1' '162.248.16.28' '151.101.0.207'\n",
            " '8.43.72.52' '52.94.232.33' '8.43.72.34' '151.101.0.166' '198.51.152.179'\n",
            " '8.43.72.21' '108.59.6.118' '198.8.70.211' '38.71.5.33' '38.69.238.82'\n",
            " '65.39.202.99' '40.121.219.108' '199.244.49.56' '72.21.91.113'\n",
            " '63.251.98.12' '156.154.202.36' '74.117.199.102' '216.200.232.216'\n",
            " '199.233.57.18' '198.211.102.20' '52.23.111.175' '54.172.47.69']\n",
            "Column: src_port, Unique Values: [       nan 5.9555e+04 5.3000e+01 ... 4.2525e+04 3.5056e+04 4.0621e+04]\n",
            "Column: dst_port, Unique Values: [       nan 5.3000e+01 5.9555e+04 ... 4.2525e+04 3.5056e+04 4.0621e+04]\n",
            "Column: protocol, Unique Values: [nan 'UDP' '2' '17' '1']\n",
            "Column: timestamp, Unique Values: [1.49934234e+09 1.49934234e+09 1.49934234e+09 ... 1.49937148e+09\n",
            " 1.49937148e+09 1.49937148e+09]\n"
          ]
        }
      ],
      "source": [
        "network_traffic_df = pd.read_csv('/content/drive/MyDrive/network_traffic_features.csv')\n",
        "\n",
        "# Convert the DataFrame to a NumPy array, retaining rows with \"ff:ff:ff:ff:ff:ff\"\n",
        "network_traffic_data = network_traffic_df.values\n",
        "\n",
        "print(network_traffic_data)\n",
        "\n",
        "\n",
        "# Display unique values in each column\n",
        "for column in network_traffic_df.columns:\n",
        "    unique_values = network_traffic_df[column].unique()\n",
        "    print(f\"Column: {column}, Unique Values: {unique_values}\")"
      ]
    },
    {
      "cell_type": "code",
      "execution_count": 11,
      "metadata": {
        "id": "s2XlyL0-Pg5i",
        "colab": {
          "base_uri": "https://localhost:8080/"
        },
        "outputId": "10f6a573-3600-4b6d-9851-0b34bc692c81"
      },
      "outputs": [
        {
          "output_type": "stream",
          "name": "stdout",
          "text": [
            "                  eth_src            eth_dst        src_ip        dst_ip  \\\n",
            "0                     NaN                NaN  192.168.10.3  192.168.10.3   \n",
            "1                     NaN                NaN  192.168.10.3  192.168.10.3   \n",
            "2                     NaN                NaN  192.168.10.3  192.168.10.3   \n",
            "3       00:19:b9:0a:69:f1  18:66:da:9b:e3:7d  192.168.10.3  192.168.10.3   \n",
            "4       00:19:b9:0a:69:f1  18:66:da:9b:e3:7d  192.168.10.3  192.168.10.3   \n",
            "...                   ...                ...           ...           ...   \n",
            "783872  b8:ac:6f:36:0b:a8  33:33:00:00:00:16  192.168.10.3  192.168.10.3   \n",
            "783873  b8:ac:6f:36:0b:a8  33:33:00:00:00:16  192.168.10.3  192.168.10.3   \n",
            "783874  b8:ac:6f:36:0b:a8  33:33:00:00:00:16  192.168.10.3  192.168.10.3   \n",
            "783875  b8:ac:6f:36:0b:a8  33:33:00:00:00:16  192.168.10.3  192.168.10.3   \n",
            "783876  b8:ac:6f:36:0b:a8  33:33:00:00:00:16  192.168.10.3  192.168.10.3   \n",
            "\n",
            "        src_port  dst_port  timestamp  protocol_1  protocol_17  protocol_2  \\\n",
            "0       0.377673  0.343227   0.000000           0            0           0   \n",
            "1       0.377673  0.343227   0.000129           0            0           0   \n",
            "2       0.377673  0.343227   0.000153           0            0           0   \n",
            "3       0.377673  0.343227   0.000248           0            0           0   \n",
            "4       0.377673  0.343227   0.000248           0            0           0   \n",
            "...          ...       ...        ...         ...          ...         ...   \n",
            "783872  0.377673  0.343227   1.000000           0            0           0   \n",
            "783873  0.377673  0.343227   1.000000           0            0           0   \n",
            "783874  0.377673  0.343227   1.000000           0            0           0   \n",
            "783875  0.377673  0.343227   1.000000           0            0           0   \n",
            "783876  0.377673  0.343227   1.000000           0            0           0   \n",
            "\n",
            "        protocol_UDP  \n",
            "0                  1  \n",
            "1                  1  \n",
            "2                  1  \n",
            "3                  1  \n",
            "4                  1  \n",
            "...              ...  \n",
            "783872             1  \n",
            "783873             1  \n",
            "783874             1  \n",
            "783875             1  \n",
            "783876             1  \n",
            "\n",
            "[783877 rows x 11 columns]\n"
          ]
        }
      ],
      "source": [
        "preprocessed_df = network_traffic_df.copy()\n",
        "\n",
        "preprocessed_df['src_ip'].fillna(preprocessed_df['src_ip'].mode()[0], inplace=True)\n",
        "preprocessed_df['dst_ip'].fillna(preprocessed_df['dst_ip'].mode()[0], inplace=True)\n",
        "preprocessed_df['src_port'].fillna(preprocessed_df['src_port'].mean(), inplace=True)\n",
        "preprocessed_df['dst_port'].fillna(preprocessed_df['dst_port'].mean(), inplace=True)\n",
        "preprocessed_df['protocol'].fillna(preprocessed_df['protocol'].mode()[0], inplace=True)\n",
        "\n",
        "preprocessed_df = pd.get_dummies(preprocessed_df, columns=['protocol'])\n",
        "\n",
        "scaler = MinMaxScaler()\n",
        "numeric_cols = ['src_port', 'dst_port', 'timestamp']\n",
        "preprocessed_df[numeric_cols] = scaler.fit_transform(preprocessed_df[numeric_cols])\n",
        "\n",
        "print(preprocessed_df)"
      ]
    },
    {
      "cell_type": "code",
      "execution_count": 12,
      "metadata": {
        "id": "Idu3DiEzPsgw"
      },
      "outputs": [],
      "source": [
        "# 1. Label encode the columns containing MAC addresses (eth_src and eth_dst) into numeric values:\n",
        "le = LabelEncoder()\n",
        "preprocessed_df['eth_src'] = le.fit_transform(preprocessed_df['eth_src'])\n",
        "preprocessed_df['eth_dst'] = le.fit_transform(preprocessed_df['eth_dst'])\n",
        "\n",
        "# 2. Convert the necessary columns to float32\n",
        "numeric_cols = ['src_port', 'dst_port', 'timestamp']\n",
        "preprocessed_df[numeric_cols] = preprocessed_df[numeric_cols].astype('float32')\n",
        "\n",
        "# 3. Normalize the numeric columns using Min-Max scaling.\n",
        "scaler = MinMaxScaler()\n",
        "preprocessed_df[numeric_cols] = scaler.fit_transform(preprocessed_df[numeric_cols])"
      ]
    },
    {
      "cell_type": "code",
      "execution_count": 13,
      "metadata": {
        "id": "a5ANgo4BP4sj",
        "colab": {
          "base_uri": "https://localhost:8080/"
        },
        "outputId": "0e53a473-11dd-470b-bdab-65b43f9b4895"
      },
      "outputs": [
        {
          "output_type": "stream",
          "name": "stdout",
          "text": [
            "eth_src           int64\n",
            "eth_dst           int64\n",
            "src_ip           object\n",
            "dst_ip           object\n",
            "src_port        float32\n",
            "dst_port        float32\n",
            "timestamp       float32\n",
            "protocol_1        uint8\n",
            "protocol_17       uint8\n",
            "protocol_2        uint8\n",
            "protocol_UDP      uint8\n",
            "dtype: object\n",
            "\n",
            "Columns with string (object) data type:\n",
            "['src_ip', 'dst_ip']\n"
          ]
        }
      ],
      "source": [
        "# Check the data types of each column\n",
        "column_types = preprocessed_df.dtypes\n",
        "\n",
        "# Print out the data types of all columns\n",
        "print(column_types)\n",
        "\n",
        "# List columns that are of string (object) type\n",
        "string_columns = column_types[column_types == 'object'].index.tolist()\n",
        "\n",
        "print(\"\\nColumns with string (object) data type:\")\n",
        "print(string_columns)"
      ]
    },
    {
      "cell_type": "code",
      "execution_count": 14,
      "metadata": {
        "id": "ackJ8orYP8Z7",
        "colab": {
          "base_uri": "https://localhost:8080/"
        },
        "outputId": "1fc0c4d9-ba71-42f8-ab1c-cfcb01ac56d9"
      },
      "outputs": [
        {
          "output_type": "stream",
          "name": "stdout",
          "text": [
            "Training data shape: (627101, 17)\n",
            "Testing data shape: (156776, 17)\n"
          ]
        }
      ],
      "source": [
        "from sklearn.model_selection import train_test_split\n",
        "\n",
        "# Define a function to process IP columns\n",
        "def process_ip_column(df, ip_col):\n",
        "    # Split the IP address into its components\n",
        "    df[[ip_col + '_part1', ip_col + '_part2', ip_col + '_part3', ip_col + '_part4']] = df[ip_col].str.split('.', expand=True)\n",
        "\n",
        "    # Convert these components to numeric type\n",
        "    for part in ['_part1', '_part2', '_part3', '_part4']:\n",
        "        df[ip_col + part] = pd.to_numeric(df[ip_col + part])\n",
        "\n",
        "    # Drop the original IP column\n",
        "    df = df.drop(columns=[ip_col])\n",
        "\n",
        "    return df\n",
        "\n",
        "# Process each IP column\n",
        "preprocessed_df = process_ip_column(preprocessed_df, 'src_ip')\n",
        "preprocessed_df = process_ip_column(preprocessed_df, 'dst_ip')\n",
        "\n",
        "# Now convert the entire DataFrame to float32 type\n",
        "preprocessed_df = preprocessed_df.astype('float32')\n",
        "\n",
        "# Splitting the preprocessed data into 80% training and 20% testing\n",
        "X_train, X_test_NT = train_test_split(preprocessed_df, test_size=0.2, random_state=42)\n",
        "\n",
        "print(f\"Training data shape: {X_train.shape}\")\n",
        "print(f\"Testing data shape: {X_test_NT.shape}\")\n"
      ]
    },
    {
      "cell_type": "code",
      "execution_count": 15,
      "metadata": {
        "id": "-ii9OMdtQAyg",
        "colab": {
          "base_uri": "https://localhost:8080/"
        },
        "outputId": "8059b6d1-1a8a-4b67-c6e3-58fa7de01566"
      },
      "outputs": [
        {
          "output_type": "stream",
          "name": "stdout",
          "text": [
            "Epoch 1/100\n",
            "19597/19597 [==============================] - 59s 3ms/step - loss: 6.8161 - val_loss: 0.1497\n",
            "Epoch 2/100\n",
            "19597/19597 [==============================] - 55s 3ms/step - loss: 0.2621 - val_loss: 0.1287\n",
            "Epoch 3/100\n",
            "19597/19597 [==============================] - 56s 3ms/step - loss: 0.2008 - val_loss: 0.2395\n",
            "Epoch 4/100\n",
            "19597/19597 [==============================] - 56s 3ms/step - loss: 0.1755 - val_loss: 0.0829\n",
            "Epoch 5/100\n",
            "19597/19597 [==============================] - 56s 3ms/step - loss: 0.1599 - val_loss: 0.0919\n",
            "Epoch 6/100\n",
            "19597/19597 [==============================] - 56s 3ms/step - loss: 0.1401 - val_loss: 0.2225\n",
            "Epoch 7/100\n",
            "19597/19597 [==============================] - 55s 3ms/step - loss: 0.1330 - val_loss: 0.0279\n",
            "Epoch 8/100\n",
            "19597/19597 [==============================] - 55s 3ms/step - loss: 0.1251 - val_loss: 0.4077\n",
            "Epoch 9/100\n",
            "19597/19597 [==============================] - 56s 3ms/step - loss: 0.1225 - val_loss: 0.0802\n",
            "Epoch 10/100\n",
            "19597/19597 [==============================] - 56s 3ms/step - loss: 0.1137 - val_loss: 0.0397\n",
            "Epoch 11/100\n",
            "19597/19597 [==============================] - 55s 3ms/step - loss: 0.1067 - val_loss: 0.0700\n",
            "Epoch 12/100\n",
            "19597/19597 [==============================] - 56s 3ms/step - loss: 0.1037 - val_loss: 0.0697\n",
            "Epoch 13/100\n",
            "19597/19597 [==============================] - 56s 3ms/step - loss: 0.0970 - val_loss: 0.0496\n",
            "Epoch 14/100\n",
            "19597/19597 [==============================] - 56s 3ms/step - loss: 0.0930 - val_loss: 0.0410\n",
            "Epoch 15/100\n",
            "19597/19597 [==============================] - 57s 3ms/step - loss: 0.0919 - val_loss: 0.0418\n",
            "Epoch 16/100\n",
            "19597/19597 [==============================] - 56s 3ms/step - loss: 0.0881 - val_loss: 0.0633\n",
            "Epoch 17/100\n",
            "19597/19597 [==============================] - 56s 3ms/step - loss: 0.0864 - val_loss: 0.0564\n"
          ]
        },
        {
          "output_type": "execute_result",
          "data": {
            "text/plain": [
              "<keras.src.callbacks.History at 0x7b2cbed15450>"
            ]
          },
          "metadata": {},
          "execution_count": 15
        }
      ],
      "source": [
        "from keras.layers import Input, Dense\n",
        "from keras.models import Model\n",
        "from keras.optimizers import Adam\n",
        "from keras.callbacks import EarlyStopping\n",
        "\n",
        "# Define the dimensions of the encoding layer\n",
        "encoding_dim = 64  # Example: Reducing to 64 dimensions\n",
        "\n",
        "# Create an autoencoder model\n",
        "input_shape = X_train.shape[1]  # Use the shape of the training data\n",
        "input_layer = Input(shape=(input_shape,))\n",
        "\n",
        "# Encoding layers\n",
        "encoded = Dense(128, activation='relu')(input_layer)\n",
        "encoded = Dense(encoding_dim, activation='relu')(encoded)\n",
        "\n",
        "# Decoding layers\n",
        "decoded = Dense(128, activation='relu')(encoded)\n",
        "decoded = Dense(input_shape, activation='linear')(decoded)  # Change to linear activation\n",
        "\n",
        "# Full autoencoder model from input to reconstructed output\n",
        "autoencoder_NT = Model(input_layer, decoded)\n",
        "\n",
        "# Separate encoder model for obtaining the compressed representation\n",
        "encoder = Model(input_layer, encoded)\n",
        "\n",
        "# Compile the autoencoder model with adjusted learning rate\n",
        "opt = Adam(learning_rate=0.001)  # Adjust the learning rate if necessary\n",
        "autoencoder_NT.compile(optimizer=opt, loss='mean_squared_error')\n",
        "\n",
        "# Define early stopping callback to monitor validation loss\n",
        "early_stopping = EarlyStopping(monitor='val_loss', patience=10, restore_best_weights=True)\n",
        "\n",
        "# Train the autoencoder\n",
        "num_epochs = 100\n",
        "batch_size = 32\n",
        "autoencoder_NT.fit(X_train, X_train,\n",
        "                epochs=num_epochs,\n",
        "                batch_size=batch_size,\n",
        "                validation_data=(X_test_NT, X_test_NT),\n",
        "                callbacks=[early_stopping])\n"
      ]
    },
    {
      "cell_type": "markdown",
      "metadata": {
        "id": "fLksd9m1QTwj"
      },
      "source": [
        "*Evaluation for Network Traffic Autoencoder:*"
      ]
    },
    {
      "cell_type": "code",
      "execution_count": 16,
      "metadata": {
        "id": "C-I-Qt6cQQCQ",
        "colab": {
          "base_uri": "https://localhost:8080/"
        },
        "outputId": "25980ef5-2803-40a3-ff08-2b89c3f3e34f"
      },
      "outputs": [
        {
          "output_type": "stream",
          "name": "stdout",
          "text": [
            "4900/4900 [==============================] - 6s 1ms/step\n",
            "Mean Squared Error (MSE): eth_src         0.016816\n",
            "eth_dst         0.044691\n",
            "src_port        0.007283\n",
            "dst_port        0.007720\n",
            "timestamp       0.005169\n",
            "protocol_1      0.013718\n",
            "protocol_17     0.003336\n",
            "protocol_2      0.003295\n",
            "protocol_UDP    0.002705\n",
            "src_ip_part1    0.049637\n",
            "src_ip_part2    0.041726\n",
            "src_ip_part3    0.028387\n",
            "src_ip_part4    0.046063\n",
            "dst_ip_part1    0.039330\n",
            "dst_ip_part2    0.074754\n",
            "dst_ip_part3    0.044566\n",
            "dst_ip_part4    0.045798\n",
            "dtype: float32\n"
          ]
        },
        {
          "output_type": "stream",
          "name": "stderr",
          "text": [
            "/usr/local/lib/python3.10/dist-packages/numpy/core/fromnumeric.py:3430: FutureWarning: In a future version, DataFrame.mean(axis=None) will return a scalar mean over the entire DataFrame. To retain the old behavior, use 'frame.mean(axis=0)' or just 'frame.mean()'\n",
            "  return mean(axis=axis, dtype=dtype, out=out, **kwargs)\n"
          ]
        }
      ],
      "source": [
        "#Reconstruction Error: (A lower MSE indicates better reconstruction)\n",
        "reconstructed_data = autoencoder_NT.predict(X_test_NT)\n",
        "mse_NT = np.mean(np.square(X_test_NT - reconstructed_data))\n",
        "print(f\"Mean Squared Error (MSE): {mse_NT}\")"
      ]
    },
    {
      "cell_type": "code",
      "execution_count": 17,
      "metadata": {
        "id": "_gYRXhYTQfqz",
        "colab": {
          "base_uri": "https://localhost:8080/"
        },
        "outputId": "8ee8ab21-d4f4-4bdc-acd6-dd7cdc192838"
      },
      "outputs": [
        {
          "output_type": "stream",
          "name": "stdout",
          "text": [
            "4900/4900 [==============================] - 6s 1ms/step\n",
            "Number of anomalies: 8468\n"
          ]
        }
      ],
      "source": [
        "#Anomaly Detection:\n",
        "\n",
        "\n",
        "reconstructed_data = autoencoder_NT.predict(X_test_NT)\n",
        "mse = np.mean(np.square(X_test_NT - reconstructed_data), axis=1)\n",
        "\n",
        "# Set a threshold for anomaly detection\n",
        "threshold = 0.1\n",
        "\n",
        "# Identify anomalies\n",
        "anomalies = X_test_NT[mse > threshold]\n",
        "\n",
        "print(f\"Number of anomalies: {anomalies.shape[0]}\")"
      ]
    },
    {
      "cell_type": "markdown",
      "metadata": {
        "id": "zYVB6SWyQpnB"
      },
      "source": [
        "**Pyload Charactristics Group Autoencoder:**"
      ]
    },
    {
      "cell_type": "code",
      "execution_count": 18,
      "metadata": {
        "id": "lFtkobMuQyu7",
        "colab": {
          "base_uri": "https://localhost:8080/"
        },
        "outputId": "29f298f8-db39-42c9-d9f4-f05a884b153a"
      },
      "outputs": [
        {
          "output_type": "stream",
          "name": "stdout",
          "text": [
            "[['2017-07-06 11:58:58' nan nan nan nan]\n",
            " ['2017-07-06 11:59:02' nan nan nan nan]\n",
            " ['2017-07-06 11:59:02' nan nan nan nan]\n",
            " ...\n",
            " ['2017-07-06 20:04:44' 'b8:ac:6f:36:0b:a8' '33:33:00:00:00:16' nan nan]\n",
            " ['2017-07-06 20:04:44' 'b8:ac:6f:36:0b:a8' '33:33:00:00:00:16' nan nan]\n",
            " ['2017-07-06 20:04:44' 'b8:ac:6f:36:0b:a8' '33:33:00:00:00:16' nan nan]]\n",
            "Column: timestamp, Unique Values: ['2017-07-06 11:58:58' '2017-07-06 11:59:02' '2017-07-06 11:59:05' ...\n",
            " '2017-07-06 20:04:35' '2017-07-06 20:04:36' '2017-07-06 20:04:44']\n",
            "Column: eth_src, Unique Values: [nan '00:19:b9:0a:69:f1' '18:66:da:9b:e3:7d' 'b8:ac:6f:36:07:ee'\n",
            " '00:c1:b1:14:eb:31' '00:23:ae:9b:ad:b3' '00:1e:4f:d4:ca:28'\n",
            " 'b8:ac:6f:36:04:e3' 'b8:ac:6f:36:08:f5' 'b8:ac:6f:36:0a:8b'\n",
            " 'b8:ac:6f:1d:1f:6c' '00:23:ae:9b:95:67' '00:25:00:a8:c4:60'\n",
            " 'b8:ac:6f:36:0b:a8' '00:23:ae:9b:8a:bf' '24:6e:96:4a:37:7a']\n",
            "Column: eth_dst, Unique Values: [nan '18:66:da:9b:e3:7d' '00:19:b9:0a:69:f1' 'b8:ac:6f:36:07:ee'\n",
            " '00:c1:b1:14:eb:31' '01:00:5e:00:00:fb' '33:33:ff:9b:ad:b3'\n",
            " '33:33:00:00:00:16' '33:33:00:00:00:02' '33:33:00:00:00:fb'\n",
            " 'ff:ff:ff:ff:ff:ff' '00:23:ae:9b:ad:b3' '33:33:ff:f6:bd:7b'\n",
            " '33:33:00:00:00:01' '01:00:5e:00:00:16' 'b8:ac:6f:36:04:e3'\n",
            " '33:33:00:01:00:03' '01:00:5e:00:00:fc' '33:33:00:01:00:02'\n",
            " '00:1e:4f:d4:ca:28' '01:80:c2:00:00:0e' '33:33:ff:73:ed:41'\n",
            " '01:00:5e:00:01:18' 'b8:ac:6f:36:08:f5' 'b8:ac:6f:1d:1f:6c'\n",
            " 'b8:ac:6f:36:0a:8b' '01:00:5e:7f:ff:fa' '33:33:ff:9b:95:67'\n",
            " '00:23:ae:9b:95:67' '00:25:00:a8:c4:60' 'b8:ac:6f:36:0b:a8'\n",
            " '33:33:ff:0f:3d:73' '00:23:ae:9b:8a:bf' '33:33:ff:94:ac:8f'\n",
            " '33:33:ff:70:07:dd' '01:00:5e:00:00:02' '33:33:00:00:00:0c']\n",
            "Column: src_ip, Unique Values: [nan '192.168.10.14' '192.168.10.3' '192.168.10.50' '129.6.15.29'\n",
            " '192.168.10.19' '192.168.10.1' '5.9.74.228' '195.186.4.101'\n",
            " '213.109.127.82' '163.172.10.212' '72.38.129.202' '144.217.148.73'\n",
            " '192.168.10.12' '192.95.27.155' '144.217.109.67' '91.189.89.199'\n",
            " '192.168.10.15' '167.114.204.238' '129.128.12.20' '159.203.8.72'\n",
            " '67.215.197.149' '75.119.251.14' '158.69.247.184' '192.99.2.8'\n",
            " '206.108.0.132' '91.189.89.198' '192.168.10.8' '91.189.91.157'\n",
            " '192.168.10.9' '192.168.10.5' '192.168.10.17' '192.168.10.25'\n",
            " '17.253.14.253' '17.253.14.125' '17.253.20.253' '17.253.20.125'\n",
            " '17.253.24.253' '158.69.125.231' '144.217.252.208' '198.50.139.209'\n",
            " '206.75.89.101' '199.182.221.110' '206.108.0.131' '208.81.1.197'\n",
            " '206.108.0.134' '99.224.25.39' '206.108.0.133' '66.70.172.17'\n",
            " '24.86.68.24' '192.168.10.51' '192.168.10.16' '206.71.252.18'\n",
            " '97.127.97.146' '97.107.128.58' '207.210.46.249' '208.81.1.244'\n",
            " '144.217.240.204' '129.250.35.250' '144.217.164.10' '67.213.73.226'\n",
            " '198.100.147.178' '108.61.73.244' '4.53.160.75' '45.33.41.203'\n",
            " '128.138.141.172' '45.76.92.117' '108.59.2.24' '208.76.1.123'\n",
            " '188.92.40.81' '173.194.207.127' '104.155.51.226' '109.201.130.58'\n",
            " '109.201.130.57' '216.6.81.22' '172.16.0.1' '192.225.158.2'\n",
            " '205.174.165.65' '192.132.33.27' '8.41.222.241' '198.8.70.211'\n",
            " '199.187.193.1' '199.244.49.56' '162.248.16.28' '63.251.98.12'\n",
            " '156.154.202.36' '74.117.199.102' '198.211.102.20' '52.23.111.175'\n",
            " '77.238.121.220' '212.45.97.31' '210.14.132.70' '0.0.0.0']\n",
            "Column: dst_ip, Unique Values: [nan '192.168.10.3' '192.168.10.14' '129.6.15.29' '192.168.10.50'\n",
            " '224.0.0.251' '192.168.10.1' '192.168.10.19' '192.168.10.255'\n",
            " '5.9.74.228' '195.186.4.101' '213.109.127.82' '163.172.10.212'\n",
            " '72.38.129.202' '144.217.148.73' '224.0.0.22' '192.95.27.155'\n",
            " '192.168.10.12' '67.215.197.149' '91.189.89.199' '144.217.109.67'\n",
            " '224.0.0.252' '167.114.204.238' '129.128.12.20' '192.168.10.15'\n",
            " '159.203.8.72' '75.119.251.14' '158.69.247.184' '255.255.255.255'\n",
            " '192.99.2.8' '206.108.0.132' '91.189.89.198' '224.0.1.24' '192.168.10.8'\n",
            " '91.189.91.157' '192.168.10.9' '192.168.10.5' '239.255.255.250'\n",
            " '192.168.10.17' '192.168.10.25' '17.253.14.253' '17.253.14.125'\n",
            " '17.253.20.253' '17.253.20.125' '17.253.24.253' '158.69.125.231'\n",
            " '144.217.252.208' '198.50.139.209' '206.75.89.101' '199.182.221.110'\n",
            " '206.108.0.131' '208.81.1.197' '206.108.0.134' '99.224.25.39'\n",
            " '206.108.0.133' '66.70.172.17' '24.86.68.24' '192.168.10.51'\n",
            " '192.168.10.16' '206.71.252.18' '97.127.97.146' '207.210.46.249'\n",
            " '208.81.1.244' '97.107.128.58' '144.217.240.204' '129.250.35.250'\n",
            " '144.217.164.10' '67.213.73.226' '198.100.147.178' '108.61.73.244'\n",
            " '45.33.41.203' '4.53.160.75' '45.76.92.117' '128.138.141.172'\n",
            " '108.59.2.24' '208.76.1.123' '173.194.207.127' '104.155.51.226'\n",
            " '172.16.0.1' '224.0.0.2' '52.87.201.4' '192.225.158.2' '162.125.18.133'\n",
            " '169.254.255.255' '104.17.237.25' '104.17.55.121' '104.17.56.121'\n",
            " '104.17.53.121' '104.17.52.121' '151.101.0.175' '151.101.1.108'\n",
            " '151.101.0.68' '192.132.33.27' '8.41.222.241' '8.43.72.62' '8.43.72.77'\n",
            " '199.244.50.75' '151.101.0.249' '72.21.91.29' '185.167.164.41'\n",
            " '66.242.15.235' '199.187.193.1' '162.248.16.28' '151.101.0.207'\n",
            " '8.43.72.52' '52.94.232.33' '8.43.72.34' '151.101.0.166' '198.51.152.179'\n",
            " '8.43.72.21' '108.59.6.118' '198.8.70.211' '38.71.5.33' '38.69.238.82'\n",
            " '65.39.202.99' '40.121.219.108' '199.244.49.56' '72.21.91.113'\n",
            " '63.251.98.12' '156.154.202.36' '74.117.199.102' '216.200.232.216'\n",
            " '199.233.57.18' '198.211.102.20' '52.23.111.175' '54.172.47.69']\n",
            "<class 'pandas.core.frame.DataFrame'>\n",
            "RangeIndex: 783877 entries, 0 to 783876\n",
            "Data columns (total 5 columns):\n",
            " #   Column     Non-Null Count   Dtype \n",
            "---  ------     --------------   ----- \n",
            " 0   timestamp  783877 non-null  object\n",
            " 1   eth_src    776533 non-null  object\n",
            " 2   eth_dst    776533 non-null  object\n",
            " 3   src_ip     702575 non-null  object\n",
            " 4   dst_ip     702575 non-null  object\n",
            "dtypes: object(5)\n",
            "memory usage: 264.7 MB\n"
          ]
        }
      ],
      "source": [
        "payload_characteristics_df = pd.read_csv('/content/drive/MyDrive/payload_characteristics_features.csv')\n",
        "\n",
        "# Convert the DataFrame to a NumPy array, retaining rows with \"ff:ff:ff:ff:ff:ff\"\n",
        "payload_characteristics_data = payload_characteristics_df.values\n",
        "\n",
        "print(payload_characteristics_data)\n",
        "\n",
        "\n",
        "# Display unique values in each column\n",
        "for column in payload_characteristics_df.columns:\n",
        "    unique_values = payload_characteristics_df[column].unique()\n",
        "    print(f\"Column: {column}, Unique Values: {unique_values}\")\n",
        "\n",
        "payload_characteristics_df.info(memory_usage='deep')"
      ]
    },
    {
      "cell_type": "code",
      "source": [
        "import pandas as pd\n",
        "from sklearn.preprocessing import LabelEncoder, MinMaxScaler\n",
        "from sklearn.impute import SimpleImputer\n",
        "\n",
        "data = payload_characteristics_df.copy()\n",
        "\n",
        "# Handling Missing Data\n",
        "imputer = SimpleImputer(strategy='constant', fill_value='UNKNOWN')\n",
        "data_filled = pd.DataFrame(imputer.fit_transform(data), columns=data.columns)\n",
        "\n",
        "# Label Encoding\n",
        "label_encoders = {}  # store label encoders for potential inverse transform later\n",
        "\n",
        "for column in data_filled.columns:\n",
        "    le = LabelEncoder()\n",
        "    data_filled[column] = le.fit_transform(data_filled[column])\n",
        "    label_encoders[column] = le\n",
        "\n",
        "# Feature Scaling\n",
        "scaler = MinMaxScaler()\n",
        "scaled_data = scaler.fit_transform(data_filled)\n",
        "scaled_df = pd.DataFrame(scaled_data, columns=data_filled.columns)\n",
        "\n",
        "print(scaled_df)\n",
        "\n",
        "\n"
      ],
      "metadata": {
        "colab": {
          "base_uri": "https://localhost:8080/"
        },
        "id": "Yd63TwRontzA",
        "outputId": "e87c57dc-f4ab-4363-824c-32a74774a20c"
      },
      "execution_count": 19,
      "outputs": [
        {
          "output_type": "stream",
          "name": "stdout",
          "text": [
            "        timestamp  eth_src   eth_dst  src_ip  dst_ip\n",
            "0        0.000000      0.6  0.805556     1.0     1.0\n",
            "1        0.000049      0.6  0.805556     1.0     1.0\n",
            "2        0.000049      0.6  0.805556     1.0     1.0\n",
            "3        0.000097      0.0  0.388889     1.0     1.0\n",
            "4        0.000097      0.0  0.388889     1.0     1.0\n",
            "...           ...      ...       ...     ...     ...\n",
            "783872   1.000000      1.0  0.500000     1.0     1.0\n",
            "783873   1.000000      1.0  0.500000     1.0     1.0\n",
            "783874   1.000000      1.0  0.500000     1.0     1.0\n",
            "783875   1.000000      1.0  0.500000     1.0     1.0\n",
            "783876   1.000000      1.0  0.500000     1.0     1.0\n",
            "\n",
            "[783877 rows x 5 columns]\n"
          ]
        }
      ]
    },
    {
      "cell_type": "code",
      "execution_count": 20,
      "metadata": {
        "id": "I06ijJPyQ7u_",
        "colab": {
          "base_uri": "https://localhost:8080/"
        },
        "outputId": "9871a9cc-bd80-4d1c-d865-557750c95a2c"
      },
      "outputs": [
        {
          "output_type": "stream",
          "name": "stdout",
          "text": [
            "Epoch 1/50\n",
            "2450/2450 [==============================] - 7s 2ms/step - loss: 0.0456 - val_loss: 0.0283\n",
            "Epoch 2/50\n",
            "2450/2450 [==============================] - 6s 2ms/step - loss: 0.0236 - val_loss: 0.0215\n",
            "Epoch 3/50\n",
            "2450/2450 [==============================] - 6s 2ms/step - loss: 0.0208 - val_loss: 0.0209\n",
            "Epoch 4/50\n",
            "2450/2450 [==============================] - 6s 2ms/step - loss: 0.0206 - val_loss: 0.0208\n",
            "Epoch 5/50\n",
            "2450/2450 [==============================] - 6s 2ms/step - loss: 0.0206 - val_loss: 0.0207\n",
            "Epoch 6/50\n",
            "2450/2450 [==============================] - 6s 2ms/step - loss: 0.0205 - val_loss: 0.0205\n",
            "Epoch 7/50\n",
            "2450/2450 [==============================] - 6s 2ms/step - loss: 0.0202 - val_loss: 0.0203\n",
            "Epoch 8/50\n",
            "2450/2450 [==============================] - 6s 2ms/step - loss: 0.0200 - val_loss: 0.0201\n",
            "Epoch 9/50\n",
            "2450/2450 [==============================] - 6s 2ms/step - loss: 0.0199 - val_loss: 0.0200\n",
            "Epoch 10/50\n",
            "2450/2450 [==============================] - 6s 2ms/step - loss: 0.0197 - val_loss: 0.0199\n",
            "Epoch 11/50\n",
            "2450/2450 [==============================] - 6s 2ms/step - loss: 0.0197 - val_loss: 0.0198\n",
            "Epoch 12/50\n",
            "2450/2450 [==============================] - 6s 2ms/step - loss: 0.0196 - val_loss: 0.0197\n",
            "Epoch 13/50\n",
            "2450/2450 [==============================] - 6s 2ms/step - loss: 0.0195 - val_loss: 0.0197\n",
            "Epoch 14/50\n",
            "2450/2450 [==============================] - 6s 2ms/step - loss: 0.0195 - val_loss: 0.0197\n",
            "Epoch 15/50\n",
            "2450/2450 [==============================] - 6s 2ms/step - loss: 0.0195 - val_loss: 0.0196\n",
            "Epoch 16/50\n",
            "2450/2450 [==============================] - 6s 3ms/step - loss: 0.0194 - val_loss: 0.0196\n",
            "Epoch 17/50\n",
            "2450/2450 [==============================] - 6s 2ms/step - loss: 0.0194 - val_loss: 0.0196\n",
            "Epoch 18/50\n",
            "2450/2450 [==============================] - 6s 2ms/step - loss: 0.0194 - val_loss: 0.0196\n",
            "Epoch 19/50\n",
            "2450/2450 [==============================] - 6s 2ms/step - loss: 0.0194 - val_loss: 0.0196\n",
            "Epoch 20/50\n",
            "2450/2450 [==============================] - 6s 2ms/step - loss: 0.0194 - val_loss: 0.0196\n",
            "Epoch 21/50\n",
            "2450/2450 [==============================] - 6s 2ms/step - loss: 0.0194 - val_loss: 0.0196\n",
            "Epoch 22/50\n",
            "2450/2450 [==============================] - 6s 3ms/step - loss: 0.0194 - val_loss: 0.0196\n",
            "Epoch 23/50\n",
            "2450/2450 [==============================] - 6s 2ms/step - loss: 0.0194 - val_loss: 0.0196\n",
            "Epoch 24/50\n",
            "2450/2450 [==============================] - 6s 2ms/step - loss: 0.0194 - val_loss: 0.0196\n",
            "Epoch 25/50\n",
            "2450/2450 [==============================] - 6s 2ms/step - loss: 0.0194 - val_loss: 0.0196\n",
            "Epoch 26/50\n",
            "2450/2450 [==============================] - 6s 3ms/step - loss: 0.0194 - val_loss: 0.0196\n",
            "Epoch 27/50\n",
            "2450/2450 [==============================] - 6s 3ms/step - loss: 0.0194 - val_loss: 0.0196\n",
            "Epoch 28/50\n",
            "2450/2450 [==============================] - 6s 2ms/step - loss: 0.0194 - val_loss: 0.0196\n",
            "Epoch 29/50\n",
            "2450/2450 [==============================] - 6s 2ms/step - loss: 0.0194 - val_loss: 0.0196\n",
            "Epoch 30/50\n",
            "2450/2450 [==============================] - 6s 2ms/step - loss: 0.0194 - val_loss: 0.0196\n",
            "Epoch 31/50\n",
            "2450/2450 [==============================] - 6s 2ms/step - loss: 0.0194 - val_loss: 0.0196\n",
            "Epoch 32/50\n",
            "2450/2450 [==============================] - 6s 2ms/step - loss: 0.0194 - val_loss: 0.0196\n",
            "Epoch 33/50\n",
            "2450/2450 [==============================] - 6s 2ms/step - loss: 0.0194 - val_loss: 0.0196\n",
            "Epoch 34/50\n",
            "2450/2450 [==============================] - 6s 2ms/step - loss: 0.0194 - val_loss: 0.0196\n",
            "Epoch 35/50\n",
            "2450/2450 [==============================] - 6s 2ms/step - loss: 0.0194 - val_loss: 0.0195\n",
            "Epoch 36/50\n",
            "2450/2450 [==============================] - 6s 2ms/step - loss: 0.0194 - val_loss: 0.0195\n",
            "Epoch 37/50\n",
            "2450/2450 [==============================] - 6s 2ms/step - loss: 0.0194 - val_loss: 0.0195\n",
            "Epoch 38/50\n",
            "2450/2450 [==============================] - 6s 2ms/step - loss: 0.0194 - val_loss: 0.0195\n",
            "Epoch 39/50\n",
            "2450/2450 [==============================] - 6s 2ms/step - loss: 0.0194 - val_loss: 0.0195\n",
            "Epoch 40/50\n",
            "2450/2450 [==============================] - 6s 2ms/step - loss: 0.0193 - val_loss: 0.0195\n",
            "Epoch 41/50\n",
            "2450/2450 [==============================] - 6s 2ms/step - loss: 0.0193 - val_loss: 0.0195\n",
            "Epoch 42/50\n",
            "2450/2450 [==============================] - 6s 2ms/step - loss: 0.0193 - val_loss: 0.0195\n",
            "Epoch 43/50\n",
            "2450/2450 [==============================] - 6s 2ms/step - loss: 0.0193 - val_loss: 0.0195\n",
            "Epoch 44/50\n",
            "2450/2450 [==============================] - 6s 2ms/step - loss: 0.0193 - val_loss: 0.0195\n",
            "Epoch 45/50\n",
            "2450/2450 [==============================] - 6s 2ms/step - loss: 0.0193 - val_loss: 0.0195\n",
            "Epoch 46/50\n",
            "2450/2450 [==============================] - 6s 2ms/step - loss: 0.0193 - val_loss: 0.0195\n",
            "Epoch 47/50\n",
            "2450/2450 [==============================] - 6s 2ms/step - loss: 0.0193 - val_loss: 0.0195\n",
            "Epoch 48/50\n",
            "2450/2450 [==============================] - 6s 2ms/step - loss: 0.0193 - val_loss: 0.0195\n",
            "Epoch 49/50\n",
            "2450/2450 [==============================] - 6s 2ms/step - loss: 0.0193 - val_loss: 0.0195\n",
            "Epoch 50/50\n",
            "2450/2450 [==============================] - 6s 2ms/step - loss: 0.0193 - val_loss: 0.0195\n",
            "4900/4900 [==============================] - 6s 1ms/step\n",
            "Reconstruction error: 0.019524613944291284\n"
          ]
        }
      ],
      "source": [
        "# Assuming scaled_df is your preprocessed dataframe\n",
        "data = scaled_df.values\n",
        "\n",
        "# Split the data into training and test sets\n",
        "X_train, X_test_PCH = train_test_split(data, test_size=0.2, random_state=42)\n",
        "\n",
        "# Autoencoder architecture\n",
        "input_dim = X_train.shape[1]  # Number of features/columns\n",
        "encoding_dim = int(input_dim / 2)  # Arbitrary reduction factor, you can adjust this\n",
        "\n",
        "# Define the encoder\n",
        "input_layer = Input(shape=(input_dim,))\n",
        "encoder = Dense(encoding_dim, activation='relu')(input_layer)\n",
        "\n",
        "# Define the decoder\n",
        "decoder = Dense(input_dim, activation='sigmoid')(encoder)\n",
        "\n",
        "# Compile the autoencoder model\n",
        "autoencoder_PCH = Model(inputs=input_layer, outputs=decoder)\n",
        "autoencoder_PCH.compile(optimizer=Adam(learning_rate=0.001), loss='mean_squared_error')\n",
        "\n",
        "# Train the model\n",
        "history = autoencoder_PCH.fit(\n",
        "    X_train, X_train,\n",
        "    epochs=50,\n",
        "    batch_size=256,\n",
        "    shuffle=True,\n",
        "    validation_data=(X_test_PCH, X_test_PCH)\n",
        ")\n",
        "\n",
        "# Now you can use this autoencoder to predict/reconstruct the input data\n",
        "X_test_predicted = autoencoder_PCH.predict(X_test_PCH)\n",
        "\n",
        "# Measure the reconstruction error\n",
        "reconstruction_error = np.mean(np.power(X_test_PCH - X_test_predicted, 2), axis=1)\n",
        "\n",
        "print(\"Reconstruction error:\", np.mean(reconstruction_error))"
      ]
    },
    {
      "cell_type": "markdown",
      "metadata": {
        "id": "c71RWE-hRQq3"
      },
      "source": [
        "*Evaluation for Payload Charactristic Autoencoder:*"
      ]
    },
    {
      "cell_type": "code",
      "execution_count": 21,
      "metadata": {
        "id": "8wdraurHRHpb",
        "colab": {
          "base_uri": "https://localhost:8080/"
        },
        "outputId": "d537a66b-8630-4db2-d129-da9c77dd0b55"
      },
      "outputs": [
        {
          "output_type": "stream",
          "name": "stdout",
          "text": [
            "4900/4900 [==============================] - 6s 1ms/step\n",
            "Mean Squared Error (MSE): 0.019524613944291287\n"
          ]
        }
      ],
      "source": [
        "#Reconstruction Error: (A lower MSE indicates better reconstruction)\n",
        "\n",
        "# Assuming you have trained autoencoder and a test dataset X_test\n",
        "reconstructed_data = autoencoder_PCH.predict(X_test_PCH)\n",
        "mse_PCH = np.mean(np.square(X_test_PCH - reconstructed_data))\n",
        "print(f\"Mean Squared Error (MSE): {mse_PCH}\")"
      ]
    },
    {
      "cell_type": "code",
      "execution_count": 22,
      "metadata": {
        "id": "ZW0HdOKRRPYf",
        "colab": {
          "base_uri": "https://localhost:8080/"
        },
        "outputId": "c44bea73-0e07-432b-9130-b24fd7f5a6e3"
      },
      "outputs": [
        {
          "output_type": "stream",
          "name": "stdout",
          "text": [
            "4900/4900 [==============================] - 6s 1ms/step\n",
            "Number of anomalies: 5651\n"
          ]
        }
      ],
      "source": [
        "#Anomaly Detection:\n",
        "\n",
        "# Assuming you have trained autoencoder, a test dataset X_test, and a threshold value\n",
        "reconstructed_data = autoencoder_PCH.predict(X_test_PCH)\n",
        "mse_PCH = np.mean(np.square(X_test_PCH - reconstructed_data), axis=1)\n",
        "\n",
        "# Set a threshold for anomaly detection\n",
        "threshold = 0.1\n",
        "\n",
        "# Identify anomalies\n",
        "anomalies = X_test_PCH[mse_PCH > threshold]\n",
        "\n",
        "print(f\"Number of anomalies: {anomalies.shape[0]}\")"
      ]
    },
    {
      "cell_type": "markdown",
      "source": [
        "**Protocol Specific Group Autoencoder:**"
      ],
      "metadata": {
        "id": "wGXh3s0JesG1"
      }
    },
    {
      "cell_type": "code",
      "source": [
        "protocol_specific_df = pd.read_csv('/content/drive/MyDrive/protocol_specific_features.csv')\n",
        "\n",
        "# Convert the DataFrame to a NumPy array, retaining rows with \"ff:ff:ff:ff:ff:ff\"\n",
        "protocol_specific_data = protocol_specific_df.values\n",
        "\n",
        "print(protocol_specific_data)\n",
        "\n",
        "\n",
        "# Display unique values in each column\n",
        "for column in protocol_specific_df.columns:\n",
        "    unique_values = protocol_specific_df[column].unique()\n",
        "    print(f\"Column: {column}, Unique Values: {unique_values}\")"
      ],
      "metadata": {
        "colab": {
          "base_uri": "https://localhost:8080/"
        },
        "id": "nwGDffvce6PQ",
        "outputId": "9ba1d54f-84fa-4486-96a4-15ece9c71cb4"
      },
      "execution_count": 23,
      "outputs": [
        {
          "output_type": "stream",
          "name": "stdout",
          "text": [
            "[['2017-07-06 11:58:58' nan nan nan nan]\n",
            " ['2017-07-06 11:59:02' nan nan nan nan]\n",
            " ['2017-07-06 11:59:02' nan nan nan nan]\n",
            " ...\n",
            " ['2017-07-06 20:04:44' 'b8:ac:6f:36:0b:a8' '33:33:00:00:00:16' nan nan]\n",
            " ['2017-07-06 20:04:44' 'b8:ac:6f:36:0b:a8' '33:33:00:00:00:16' nan nan]\n",
            " ['2017-07-06 20:04:44' 'b8:ac:6f:36:0b:a8' '33:33:00:00:00:16' nan nan]]\n",
            "Column: timestamp, Unique Values: ['2017-07-06 11:58:58' '2017-07-06 11:59:02' '2017-07-06 11:59:05' ...\n",
            " '2017-07-06 20:04:35' '2017-07-06 20:04:36' '2017-07-06 20:04:44']\n",
            "Column: eth_src, Unique Values: [nan '00:19:b9:0a:69:f1' '18:66:da:9b:e3:7d' 'b8:ac:6f:36:07:ee'\n",
            " '00:c1:b1:14:eb:31' '00:23:ae:9b:ad:b3' '00:1e:4f:d4:ca:28'\n",
            " 'b8:ac:6f:36:04:e3' 'b8:ac:6f:36:08:f5' 'b8:ac:6f:36:0a:8b'\n",
            " 'b8:ac:6f:1d:1f:6c' '00:23:ae:9b:95:67' '00:25:00:a8:c4:60'\n",
            " 'b8:ac:6f:36:0b:a8' '00:23:ae:9b:8a:bf' '24:6e:96:4a:37:7a']\n",
            "Column: eth_dst, Unique Values: [nan '18:66:da:9b:e3:7d' '00:19:b9:0a:69:f1' 'b8:ac:6f:36:07:ee'\n",
            " '00:c1:b1:14:eb:31' '01:00:5e:00:00:fb' '33:33:ff:9b:ad:b3'\n",
            " '33:33:00:00:00:16' '33:33:00:00:00:02' '33:33:00:00:00:fb'\n",
            " 'ff:ff:ff:ff:ff:ff' '00:23:ae:9b:ad:b3' '33:33:ff:f6:bd:7b'\n",
            " '33:33:00:00:00:01' '01:00:5e:00:00:16' 'b8:ac:6f:36:04:e3'\n",
            " '33:33:00:01:00:03' '01:00:5e:00:00:fc' '33:33:00:01:00:02'\n",
            " '00:1e:4f:d4:ca:28' '01:80:c2:00:00:0e' '33:33:ff:73:ed:41'\n",
            " '01:00:5e:00:01:18' 'b8:ac:6f:36:08:f5' 'b8:ac:6f:1d:1f:6c'\n",
            " 'b8:ac:6f:36:0a:8b' '01:00:5e:7f:ff:fa' '33:33:ff:9b:95:67'\n",
            " '00:23:ae:9b:95:67' '00:25:00:a8:c4:60' 'b8:ac:6f:36:0b:a8'\n",
            " '33:33:ff:0f:3d:73' '00:23:ae:9b:8a:bf' '33:33:ff:94:ac:8f'\n",
            " '33:33:ff:70:07:dd' '01:00:5e:00:00:02' '33:33:00:00:00:0c']\n",
            "Column: src_ip, Unique Values: [nan '192.168.10.14' '192.168.10.3' '192.168.10.50' '129.6.15.29'\n",
            " '192.168.10.19' '192.168.10.1' '5.9.74.228' '195.186.4.101'\n",
            " '213.109.127.82' '163.172.10.212' '72.38.129.202' '144.217.148.73'\n",
            " '192.168.10.12' '192.95.27.155' '144.217.109.67' '91.189.89.199'\n",
            " '192.168.10.15' '167.114.204.238' '129.128.12.20' '159.203.8.72'\n",
            " '67.215.197.149' '75.119.251.14' '158.69.247.184' '192.99.2.8'\n",
            " '206.108.0.132' '91.189.89.198' '192.168.10.8' '91.189.91.157'\n",
            " '192.168.10.9' '192.168.10.5' '192.168.10.17' '192.168.10.25'\n",
            " '17.253.14.253' '17.253.14.125' '17.253.20.253' '17.253.20.125'\n",
            " '17.253.24.253' '158.69.125.231' '144.217.252.208' '198.50.139.209'\n",
            " '206.75.89.101' '199.182.221.110' '206.108.0.131' '208.81.1.197'\n",
            " '206.108.0.134' '99.224.25.39' '206.108.0.133' '66.70.172.17'\n",
            " '24.86.68.24' '192.168.10.51' '192.168.10.16' '206.71.252.18'\n",
            " '97.127.97.146' '97.107.128.58' '207.210.46.249' '208.81.1.244'\n",
            " '144.217.240.204' '129.250.35.250' '144.217.164.10' '67.213.73.226'\n",
            " '198.100.147.178' '108.61.73.244' '4.53.160.75' '45.33.41.203'\n",
            " '128.138.141.172' '45.76.92.117' '108.59.2.24' '208.76.1.123'\n",
            " '188.92.40.81' '173.194.207.127' '104.155.51.226' '109.201.130.58'\n",
            " '109.201.130.57' '216.6.81.22' '172.16.0.1' '192.225.158.2'\n",
            " '205.174.165.65' '192.132.33.27' '8.41.222.241' '198.8.70.211'\n",
            " '199.187.193.1' '199.244.49.56' '162.248.16.28' '63.251.98.12'\n",
            " '156.154.202.36' '74.117.199.102' '198.211.102.20' '52.23.111.175'\n",
            " '77.238.121.220' '212.45.97.31' '210.14.132.70' '0.0.0.0']\n",
            "Column: dst_ip, Unique Values: [nan '192.168.10.3' '192.168.10.14' '129.6.15.29' '192.168.10.50'\n",
            " '224.0.0.251' '192.168.10.1' '192.168.10.19' '192.168.10.255'\n",
            " '5.9.74.228' '195.186.4.101' '213.109.127.82' '163.172.10.212'\n",
            " '72.38.129.202' '144.217.148.73' '224.0.0.22' '192.95.27.155'\n",
            " '192.168.10.12' '67.215.197.149' '91.189.89.199' '144.217.109.67'\n",
            " '224.0.0.252' '167.114.204.238' '129.128.12.20' '192.168.10.15'\n",
            " '159.203.8.72' '75.119.251.14' '158.69.247.184' '255.255.255.255'\n",
            " '192.99.2.8' '206.108.0.132' '91.189.89.198' '224.0.1.24' '192.168.10.8'\n",
            " '91.189.91.157' '192.168.10.9' '192.168.10.5' '239.255.255.250'\n",
            " '192.168.10.17' '192.168.10.25' '17.253.14.253' '17.253.14.125'\n",
            " '17.253.20.253' '17.253.20.125' '17.253.24.253' '158.69.125.231'\n",
            " '144.217.252.208' '198.50.139.209' '206.75.89.101' '199.182.221.110'\n",
            " '206.108.0.131' '208.81.1.197' '206.108.0.134' '99.224.25.39'\n",
            " '206.108.0.133' '66.70.172.17' '24.86.68.24' '192.168.10.51'\n",
            " '192.168.10.16' '206.71.252.18' '97.127.97.146' '207.210.46.249'\n",
            " '208.81.1.244' '97.107.128.58' '144.217.240.204' '129.250.35.250'\n",
            " '144.217.164.10' '67.213.73.226' '198.100.147.178' '108.61.73.244'\n",
            " '45.33.41.203' '4.53.160.75' '45.76.92.117' '128.138.141.172'\n",
            " '108.59.2.24' '208.76.1.123' '173.194.207.127' '104.155.51.226'\n",
            " '172.16.0.1' '224.0.0.2' '52.87.201.4' '192.225.158.2' '162.125.18.133'\n",
            " '169.254.255.255' '104.17.237.25' '104.17.55.121' '104.17.56.121'\n",
            " '104.17.53.121' '104.17.52.121' '151.101.0.175' '151.101.1.108'\n",
            " '151.101.0.68' '192.132.33.27' '8.41.222.241' '8.43.72.62' '8.43.72.77'\n",
            " '199.244.50.75' '151.101.0.249' '72.21.91.29' '185.167.164.41'\n",
            " '66.242.15.235' '199.187.193.1' '162.248.16.28' '151.101.0.207'\n",
            " '8.43.72.52' '52.94.232.33' '8.43.72.34' '151.101.0.166' '198.51.152.179'\n",
            " '8.43.72.21' '108.59.6.118' '198.8.70.211' '38.71.5.33' '38.69.238.82'\n",
            " '65.39.202.99' '40.121.219.108' '199.244.49.56' '72.21.91.113'\n",
            " '63.251.98.12' '156.154.202.36' '74.117.199.102' '216.200.232.216'\n",
            " '199.233.57.18' '198.211.102.20' '52.23.111.175' '54.172.47.69']\n"
          ]
        }
      ]
    },
    {
      "cell_type": "code",
      "source": [
        "import pandas as pd\n",
        "import numpy as np\n",
        "from sklearn.model_selection import train_test_split\n",
        "from sklearn.preprocessing import MinMaxScaler, LabelEncoder\n",
        "from sklearn.compose import ColumnTransformer\n",
        "from sklearn.pipeline import Pipeline\n",
        "\n",
        "preprocessed_df = protocol_specific_df.copy()\n",
        "\n",
        "# Fill NaN values with a placeholder (e.g., 'missing' for categorical data)\n",
        "preprocessed_df = preprocessed_df.fillna('missing')\n",
        "\n",
        "# Columns to be label encoded\n",
        "categorical_cols = preprocessed_df.columns.tolist()\n",
        "\n",
        "# Create a function to apply label encoding to all columns\n",
        "def label_encode(df):\n",
        "    for col in df.columns:\n",
        "        le = LabelEncoder()\n",
        "        df[col] = le.fit_transform(df[col])\n",
        "    return df\n",
        "\n",
        "# Apply Label Encoding\n",
        "preprocessed_df = label_encode(preprocessed_df)\n",
        "\n",
        "# Create a pipeline\n",
        "pipeline = Pipeline([\n",
        "    ('scaler', MinMaxScaler())\n",
        "])\n",
        "\n",
        "# Apply transformations\n",
        "data_processed = pipeline.fit_transform(preprocessed_df)\n",
        "\n",
        "# Split the data into training and validation sets\n",
        "X_train, X_test_PS = train_test_split(data_processed, test_size=0.2, random_state=42)\n",
        "\n",
        "print(X_train)\n",
        "print(X_test_PS)\n"
      ],
      "metadata": {
        "colab": {
          "base_uri": "https://localhost:8080/"
        },
        "id": "esEb5eT8fBBE",
        "outputId": "c6e9a7dc-66ec-40ae-e5bd-7bc84539efcb"
      },
      "execution_count": 24,
      "outputs": [
        {
          "output_type": "stream",
          "name": "stdout",
          "text": [
            "[[0.09653393 0.46666667 0.02777778 0.42391304 0.36      ]\n",
            " [0.07628274 0.2        0.38888889 0.39130435 0.408     ]\n",
            " [0.02891637 0.46666667 0.91666667 0.42391304 0.416     ]\n",
            " ...\n",
            " [0.14341349 0.86666667 0.38888889 0.43478261 0.408     ]\n",
            " [0.84821342 0.46666667 0.11111111 0.42391304 0.384     ]\n",
            " [0.13357998 0.46666667 0.80555556 1.         1.        ]]\n",
            "[[0.62501217 0.2        0.38888889 0.39130435 0.408     ]\n",
            " [0.57900886 0.46666667 0.16666667 0.42391304 0.336     ]\n",
            " [0.1138156  0.13333333 0.16666667 1.         1.        ]\n",
            " ...\n",
            " [0.00272612 0.66666667 0.5        1.         1.        ]\n",
            " [0.36802648 0.46666667 0.16666667 0.42391304 0.336     ]\n",
            " [0.80376789 0.46666667 0.83333333 1.         1.        ]]\n"
          ]
        }
      ]
    },
    {
      "cell_type": "code",
      "source": [
        "#Define and build the autoencoder:\n",
        "import tensorflow as tf\n",
        "from tensorflow.keras.models import Model\n",
        "from tensorflow.keras.layers import Input, Dense\n",
        "\n",
        "\n",
        "input_dim = X_train.shape[1]\n",
        "\n",
        "# Define the encoder layers\n",
        "input_layer = Input(shape=(input_dim,))\n",
        "encoder = Dense(512, activation='relu')(input_layer)\n",
        "encoder = Dense(256, activation='relu')(encoder)\n",
        "encoder = Dense(128, activation='relu')(encoder)\n",
        "\n",
        "# Define the bottleneck (compressed representation)\n",
        "bottleneck = Dense(64, activation='relu')(encoder)\n",
        "\n",
        "# Define the decoder layers\n",
        "decoder = Dense(128, activation='relu')(bottleneck)\n",
        "decoder = Dense(256, activation='relu')(decoder)\n",
        "decoder = Dense(512, activation='relu')(decoder)\n",
        "output_layer = Dense(input_dim, activation='sigmoid')(decoder)\n",
        "\n",
        "# Compile the autoencoder\n",
        "autoencoder_PS = Model(inputs=input_layer, outputs=output_layer)\n",
        "autoencoder_PS.compile(optimizer='adam', loss='binary_crossentropy')\n"
      ],
      "metadata": {
        "id": "vGEZIcvafGd0"
      },
      "execution_count": 25,
      "outputs": []
    },
    {
      "cell_type": "code",
      "source": [
        "#Train the autoencoder:\n",
        "history = autoencoder_PS.fit(X_train, X_train,\n",
        "                             epochs=50,\n",
        "                             batch_size=256,\n",
        "                             shuffle=True,\n",
        "                             validation_data=(X_test_PS, X_test_PS))\n",
        "\n"
      ],
      "metadata": {
        "colab": {
          "base_uri": "https://localhost:8080/"
        },
        "id": "yJ6EM9ZAfXzY",
        "outputId": "fae829cf-f6ff-4a68-c547-429230d0f7ca"
      },
      "execution_count": 26,
      "outputs": [
        {
          "output_type": "stream",
          "name": "stdout",
          "text": [
            "Epoch 1/50\n",
            "2450/2450 [==============================] - 13s 4ms/step - loss: 0.5530 - val_loss: 0.5510\n",
            "Epoch 2/50\n",
            "2450/2450 [==============================] - 10s 4ms/step - loss: 0.5514 - val_loss: 0.5508\n",
            "Epoch 3/50\n",
            "2450/2450 [==============================] - 10s 4ms/step - loss: 0.5513 - val_loss: 0.5508\n",
            "Epoch 4/50\n",
            "2450/2450 [==============================] - 10s 4ms/step - loss: 0.5513 - val_loss: 0.5510\n",
            "Epoch 5/50\n",
            "2450/2450 [==============================] - 10s 4ms/step - loss: 0.5513 - val_loss: 0.5507\n",
            "Epoch 6/50\n",
            "2450/2450 [==============================] - 10s 4ms/step - loss: 0.5513 - val_loss: 0.5507\n",
            "Epoch 7/50\n",
            "2450/2450 [==============================] - 10s 4ms/step - loss: 0.5513 - val_loss: 0.5507\n",
            "Epoch 8/50\n",
            "2450/2450 [==============================] - 10s 4ms/step - loss: 0.5513 - val_loss: 0.5507\n",
            "Epoch 9/50\n",
            "2450/2450 [==============================] - 10s 4ms/step - loss: 0.5513 - val_loss: 0.5507\n",
            "Epoch 10/50\n",
            "2450/2450 [==============================] - 10s 4ms/step - loss: 0.5513 - val_loss: 0.5508\n",
            "Epoch 11/50\n",
            "2450/2450 [==============================] - 10s 4ms/step - loss: 0.5513 - val_loss: 0.5507\n",
            "Epoch 12/50\n",
            "2450/2450 [==============================] - 10s 4ms/step - loss: 0.5513 - val_loss: 0.5507\n",
            "Epoch 13/50\n",
            "2450/2450 [==============================] - 10s 4ms/step - loss: 0.5513 - val_loss: 0.5507\n",
            "Epoch 14/50\n",
            "2450/2450 [==============================] - 10s 4ms/step - loss: 0.5513 - val_loss: 0.5507\n",
            "Epoch 15/50\n",
            "2450/2450 [==============================] - 10s 4ms/step - loss: 0.5513 - val_loss: 0.5508\n",
            "Epoch 16/50\n",
            "2450/2450 [==============================] - 10s 4ms/step - loss: 0.5513 - val_loss: 0.5507\n",
            "Epoch 17/50\n",
            "2450/2450 [==============================] - 10s 4ms/step - loss: 0.5513 - val_loss: 0.5507\n",
            "Epoch 18/50\n",
            "2450/2450 [==============================] - 10s 4ms/step - loss: 0.5513 - val_loss: 0.5507\n",
            "Epoch 19/50\n",
            "2450/2450 [==============================] - 10s 4ms/step - loss: 0.5513 - val_loss: 0.5507\n",
            "Epoch 20/50\n",
            "2450/2450 [==============================] - 10s 4ms/step - loss: 0.5513 - val_loss: 0.5507\n",
            "Epoch 21/50\n",
            "2450/2450 [==============================] - 10s 4ms/step - loss: 0.5513 - val_loss: 0.5507\n",
            "Epoch 22/50\n",
            "2450/2450 [==============================] - 10s 4ms/step - loss: 0.5513 - val_loss: 0.5507\n",
            "Epoch 23/50\n",
            "2450/2450 [==============================] - 10s 4ms/step - loss: 0.5512 - val_loss: 0.5507\n",
            "Epoch 24/50\n",
            "2450/2450 [==============================] - 10s 4ms/step - loss: 0.5513 - val_loss: 0.5507\n",
            "Epoch 25/50\n",
            "2450/2450 [==============================] - 10s 4ms/step - loss: 0.5513 - val_loss: 0.5508\n",
            "Epoch 26/50\n",
            "2450/2450 [==============================] - 10s 4ms/step - loss: 0.5513 - val_loss: 0.5507\n",
            "Epoch 27/50\n",
            "2450/2450 [==============================] - 10s 4ms/step - loss: 0.5512 - val_loss: 0.5507\n",
            "Epoch 28/50\n",
            "2450/2450 [==============================] - 10s 4ms/step - loss: 0.5513 - val_loss: 0.5507\n",
            "Epoch 29/50\n",
            "2450/2450 [==============================] - 10s 4ms/step - loss: 0.5513 - val_loss: 0.5507\n",
            "Epoch 30/50\n",
            "2450/2450 [==============================] - 10s 4ms/step - loss: 0.5512 - val_loss: 0.5507\n",
            "Epoch 31/50\n",
            "2450/2450 [==============================] - 10s 4ms/step - loss: 0.5513 - val_loss: 0.5508\n",
            "Epoch 32/50\n",
            "2450/2450 [==============================] - 10s 4ms/step - loss: 0.5513 - val_loss: 0.5508\n",
            "Epoch 33/50\n",
            "2450/2450 [==============================] - 10s 4ms/step - loss: 0.5513 - val_loss: 0.5507\n",
            "Epoch 34/50\n",
            "2450/2450 [==============================] - 10s 4ms/step - loss: 0.5513 - val_loss: 0.5507\n",
            "Epoch 35/50\n",
            "2450/2450 [==============================] - 10s 4ms/step - loss: 0.5513 - val_loss: 0.5507\n",
            "Epoch 36/50\n",
            "2450/2450 [==============================] - 10s 4ms/step - loss: 0.5513 - val_loss: 0.5507\n",
            "Epoch 37/50\n",
            "2450/2450 [==============================] - 10s 4ms/step - loss: 0.5513 - val_loss: 0.5507\n",
            "Epoch 38/50\n",
            "2450/2450 [==============================] - 10s 4ms/step - loss: 0.5512 - val_loss: 0.5507\n",
            "Epoch 39/50\n",
            "2450/2450 [==============================] - 10s 4ms/step - loss: 0.5512 - val_loss: 0.5507\n",
            "Epoch 40/50\n",
            "2450/2450 [==============================] - 10s 4ms/step - loss: 0.5512 - val_loss: 0.5507\n",
            "Epoch 41/50\n",
            "2450/2450 [==============================] - 10s 4ms/step - loss: 0.5513 - val_loss: 0.5507\n",
            "Epoch 42/50\n",
            "2450/2450 [==============================] - 10s 4ms/step - loss: 0.5513 - val_loss: 0.5507\n",
            "Epoch 43/50\n",
            "2450/2450 [==============================] - 10s 4ms/step - loss: 0.5512 - val_loss: 0.5507\n",
            "Epoch 44/50\n",
            "2450/2450 [==============================] - 10s 4ms/step - loss: 0.5513 - val_loss: 0.5507\n",
            "Epoch 45/50\n",
            "2450/2450 [==============================] - 10s 4ms/step - loss: 0.5512 - val_loss: 0.5508\n",
            "Epoch 46/50\n",
            "2450/2450 [==============================] - 10s 4ms/step - loss: 0.5512 - val_loss: 0.5507\n",
            "Epoch 47/50\n",
            "2450/2450 [==============================] - 10s 4ms/step - loss: 0.5512 - val_loss: 0.5507\n",
            "Epoch 48/50\n",
            "2450/2450 [==============================] - 10s 4ms/step - loss: 0.5512 - val_loss: 0.5507\n",
            "Epoch 49/50\n",
            "2450/2450 [==============================] - 10s 4ms/step - loss: 0.5512 - val_loss: 0.5507\n",
            "Epoch 50/50\n",
            "2450/2450 [==============================] - 10s 4ms/step - loss: 0.5512 - val_loss: 0.5507\n"
          ]
        }
      ]
    },
    {
      "cell_type": "markdown",
      "source": [
        "*Evaluation for Protocol Specific Group Autoencoder:*"
      ],
      "metadata": {
        "id": "rTyc9Cnpfk9E"
      }
    },
    {
      "cell_type": "code",
      "source": [
        "#Reconstruction Error: (A lower MSE indicates better reconstruction)\n",
        "\n",
        "reconstruction_error = autoencoder_PS.evaluate(data_processed, data_processed)\n",
        "print(f\"Reconstruction error: {reconstruction_error}\")\n",
        "\n",
        "mse_PS = autoencoder_PS.evaluate(data_processed, data_processed)\n",
        "print(f\"Mean Squared Error: {mse_PS}\")"
      ],
      "metadata": {
        "colab": {
          "base_uri": "https://localhost:8080/"
        },
        "id": "5EtbkXUYfcsS",
        "outputId": "d1a6cbbc-2bf5-494a-d6d8-7f0424bcf997"
      },
      "execution_count": 27,
      "outputs": [
        {
          "output_type": "stream",
          "name": "stdout",
          "text": [
            "24497/24497 [==============================] - 44s 2ms/step - loss: 0.5511\n",
            "Reconstruction error: 0.5511430501937866\n",
            "24497/24497 [==============================] - 44s 2ms/step - loss: 0.5511\n",
            "Mean Squared Error: 0.5511430501937866\n"
          ]
        }
      ]
    },
    {
      "cell_type": "markdown",
      "source": [
        "**Session Behaviour Group Autoencoder:**"
      ],
      "metadata": {
        "id": "vFSly9J7gUgT"
      }
    },
    {
      "cell_type": "code",
      "source": [
        "session_behaviour_df = pd.read_csv('/content/drive/MyDrive/session_behaviour_features.csv')\n",
        "\n",
        "# Convert the DataFrame to a NumPy array, retaining rows with \"ff:ff:ff:ff:ff:ff\"\n",
        "session_behaviour_data = session_behaviour_df.values\n",
        "\n",
        "print(session_behaviour_data)\n",
        "\n",
        "\n",
        "# Display unique values in each column\n",
        "for column in session_behaviour_df.columns:\n",
        "    unique_values = session_behaviour_df[column].unique()\n",
        "    print(f\"Column: {column}, Unique Values: {unique_values}\")"
      ],
      "metadata": {
        "colab": {
          "base_uri": "https://localhost:8080/"
        },
        "id": "hublravUgn8P",
        "outputId": "bcea85be-4e47-4d29-a186-0e6f46e935db"
      },
      "execution_count": 28,
      "outputs": [
        {
          "output_type": "stream",
          "name": "stdout",
          "text": [
            "[[2.6900000e-04 1.0000000e+00 0.0000000e+00           nan]\n",
            " [3.0352000e-02 1.0000000e+00 0.0000000e+00 3.3566580e+01]\n",
            " [1.7000000e-05 1.0000000e+00 0.0000000e+00 3.9430723e+01]\n",
            " ...\n",
            " [1.9000000e-05 1.0000000e+00 0.0000000e+00 1.2698560e+00]\n",
            " [1.6000000e-05 1.0000000e+00 0.0000000e+00 1.3200000e-04]\n",
            " [0.0000000e+00 1.0000000e+00 0.0000000e+00 6.0000000e-06]]\n",
            "Column: session_duration, Unique Values: [2.69000e-04 3.03520e-02 1.70000e-05 ... 5.91100e-03 4.90911e-01\n",
            " 2.39370e-02]\n",
            "Column: auth_event_count, Unique Values: [1]\n",
            "Column: failed_login_count, Unique Values: [0]\n",
            "Column: auth_attempt_interval, Unique Values: [          nan 3.3566580e+01 3.9430723e+01 ... 3.3464700e-01 1.2698560e+00\n",
            " 6.0000000e-06]\n"
          ]
        }
      ]
    },
    {
      "cell_type": "code",
      "source": [
        "#preprocess data:\n",
        "\n",
        "import pandas as pd\n",
        "from sklearn.preprocessing import MinMaxScaler\n",
        "from sklearn.model_selection import train_test_split\n",
        "\n",
        "# Convert datetime column to Unix timestamp\n",
        "if 'session_start_timestamp' in session_behaviour_df.columns:\n",
        "    session_behaviour_df['session_start_timestamp'] = pd.to_datetime(session_behaviour_df['session_start_timestamp'])\n",
        "    session_behaviour_df['unix_timestamp'] = session_behaviour_df['session_start_timestamp'].astype(int) / 10**9\n",
        "    session_behaviour_df.drop('session_start_timestamp', axis=1, inplace=True)\n",
        "\n",
        "# Handle Missing Values\n",
        "# For the column 'auth_attempt_interval', replace NaN values with the median\n",
        "session_behaviour_df['auth_attempt_interval'].fillna(session_behaviour_df['auth_attempt_interval'].median(), inplace=True)\n",
        "\n",
        "# Check for non-numeric columns\n",
        "non_numeric_columns = session_behaviour_df.select_dtypes(exclude=[np.number]).columns\n",
        "print(f\"Non-numeric columns: {non_numeric_columns}\")\n",
        "\n",
        "# If the printout above shows any non-numeric columns, consider converting or dropping them before scaling.\n",
        "\n",
        "# Scale the Data\n",
        "# Initialize a scaler\n",
        "scaler = MinMaxScaler()\n",
        "\n",
        "# Fit the scaler to the data and transform the data\n",
        "scaled_data = scaler.fit_transform(session_behaviour_df)\n",
        "\n",
        "# Convert the scaled data back to a DataFrame (optional, but can be useful for further operations)\n",
        "scaled_df = pd.DataFrame(scaled_data, columns=session_behaviour_df.columns)\n",
        "\n",
        "# Split the data for training\n",
        "X_train, X_test_SB = train_test_split(scaled_df, test_size=0.2, random_state=42)\n",
        "\n",
        "\n"
      ],
      "metadata": {
        "colab": {
          "base_uri": "https://localhost:8080/"
        },
        "id": "2BBaViPngvIb",
        "outputId": "17027e92-69d3-44f7-d7a0-887fe8db76bf"
      },
      "execution_count": 29,
      "outputs": [
        {
          "output_type": "stream",
          "name": "stdout",
          "text": [
            "Non-numeric columns: Index([], dtype='object')\n"
          ]
        }
      ]
    },
    {
      "cell_type": "code",
      "source": [
        "#Autoencoder:\n",
        "\n",
        "# Define the dimensions of the encoding layer\n",
        "encoding_dim = 64  # Example: Reducing to 64 dimensions\n",
        "\n",
        "# Create an autoencoder model\n",
        "input_shape = X_train.shape[1]  # Number of features in the dataset\n",
        "input_layer = Input(shape=(input_shape,))\n",
        "encoded = Dense(encoding_dim, activation='relu')(input_layer)\n",
        "decoded = Dense(input_shape, activation='sigmoid')(encoded)\n",
        "\n",
        "autoencoder_SB = Model(input_layer, decoded)\n",
        "\n",
        "\n",
        "\n",
        "# Compile the autoencoder model\n",
        "autoencoder_SB.compile(optimizer='adam', loss='mean_squared_error')\n",
        "\n",
        "# Train the autoencoder\n",
        "num_epochs = 100\n",
        "batch_size = 32\n",
        "\n",
        "autoencoder_SB.fit(X_train, X_train,\n",
        "                epochs=num_epochs,\n",
        "                batch_size=batch_size,\n",
        "                validation_data=(X_test_SB, X_test_SB))\n"
      ],
      "metadata": {
        "colab": {
          "base_uri": "https://localhost:8080/"
        },
        "id": "FjkpVWDfgyr4",
        "outputId": "e801ee47-d4cf-4281-ad49-2a10b2115eae"
      },
      "execution_count": 30,
      "outputs": [
        {
          "output_type": "stream",
          "name": "stdout",
          "text": [
            "Epoch 1/100\n",
            "264/264 [==============================] - 1s 3ms/step - loss: 0.0834 - val_loss: 0.0091\n",
            "Epoch 2/100\n",
            "264/264 [==============================] - 1s 2ms/step - loss: 0.0059 - val_loss: 0.0042\n",
            "Epoch 3/100\n",
            "264/264 [==============================] - 1s 2ms/step - loss: 0.0036 - val_loss: 0.0025\n",
            "Epoch 4/100\n",
            "264/264 [==============================] - 1s 2ms/step - loss: 0.0018 - val_loss: 0.0013\n",
            "Epoch 5/100\n",
            "264/264 [==============================] - 1s 3ms/step - loss: 0.0012 - val_loss: 0.0011\n",
            "Epoch 6/100\n",
            "264/264 [==============================] - 1s 2ms/step - loss: 0.0011 - val_loss: 9.7608e-04\n",
            "Epoch 7/100\n",
            "264/264 [==============================] - 1s 3ms/step - loss: 9.2669e-04 - val_loss: 7.6109e-04\n",
            "Epoch 8/100\n",
            "264/264 [==============================] - 1s 2ms/step - loss: 6.6805e-04 - val_loss: 5.7975e-04\n",
            "Epoch 9/100\n",
            "264/264 [==============================] - 1s 2ms/step - loss: 5.3842e-04 - val_loss: 5.0932e-04\n",
            "Epoch 10/100\n",
            "264/264 [==============================] - 1s 3ms/step - loss: 4.8528e-04 - val_loss: 4.8144e-04\n",
            "Epoch 11/100\n",
            "264/264 [==============================] - 1s 3ms/step - loss: 4.5404e-04 - val_loss: 4.4823e-04\n",
            "Epoch 12/100\n",
            "264/264 [==============================] - 1s 3ms/step - loss: 4.0639e-04 - val_loss: 3.8645e-04\n",
            "Epoch 13/100\n",
            "264/264 [==============================] - 1s 3ms/step - loss: 3.4071e-04 - val_loss: 3.1576e-04\n",
            "Epoch 14/100\n",
            "264/264 [==============================] - 1s 3ms/step - loss: 2.7542e-04 - val_loss: 2.5785e-04\n",
            "Epoch 15/100\n",
            "264/264 [==============================] - 1s 2ms/step - loss: 2.3088e-04 - val_loss: 2.2089e-04\n",
            "Epoch 16/100\n",
            "264/264 [==============================] - 1s 2ms/step - loss: 2.0105e-04 - val_loss: 1.9418e-04\n",
            "Epoch 17/100\n",
            "264/264 [==============================] - 1s 2ms/step - loss: 1.7889e-04 - val_loss: 1.7292e-04\n",
            "Epoch 18/100\n",
            "264/264 [==============================] - 1s 3ms/step - loss: 1.5918e-04 - val_loss: 1.5254e-04\n",
            "Epoch 19/100\n",
            "264/264 [==============================] - 1s 3ms/step - loss: 1.4167e-04 - val_loss: 1.3615e-04\n",
            "Epoch 20/100\n",
            "264/264 [==============================] - 1s 3ms/step - loss: 1.2677e-04 - val_loss: 1.2077e-04\n",
            "Epoch 21/100\n",
            "264/264 [==============================] - 1s 3ms/step - loss: 1.1189e-04 - val_loss: 1.0727e-04\n",
            "Epoch 22/100\n",
            "264/264 [==============================] - 1s 3ms/step - loss: 9.7358e-05 - val_loss: 9.0099e-05\n",
            "Epoch 23/100\n",
            "264/264 [==============================] - 1s 3ms/step - loss: 8.4216e-05 - val_loss: 7.7911e-05\n",
            "Epoch 24/100\n",
            "264/264 [==============================] - 1s 2ms/step - loss: 7.2387e-05 - val_loss: 6.6435e-05\n",
            "Epoch 25/100\n",
            "264/264 [==============================] - 1s 2ms/step - loss: 6.2296e-05 - val_loss: 5.6803e-05\n",
            "Epoch 26/100\n",
            "264/264 [==============================] - 1s 2ms/step - loss: 5.3884e-05 - val_loss: 4.9398e-05\n",
            "Epoch 27/100\n",
            "264/264 [==============================] - 1s 2ms/step - loss: 4.7455e-05 - val_loss: 4.3088e-05\n",
            "Epoch 28/100\n",
            "264/264 [==============================] - 1s 2ms/step - loss: 4.2566e-05 - val_loss: 3.8934e-05\n",
            "Epoch 29/100\n",
            "264/264 [==============================] - 1s 2ms/step - loss: 3.8118e-05 - val_loss: 3.4354e-05\n",
            "Epoch 30/100\n",
            "264/264 [==============================] - 1s 3ms/step - loss: 3.4802e-05 - val_loss: 3.1073e-05\n",
            "Epoch 31/100\n",
            "264/264 [==============================] - 1s 3ms/step - loss: 3.2171e-05 - val_loss: 2.8929e-05\n",
            "Epoch 32/100\n",
            "264/264 [==============================] - 1s 3ms/step - loss: 2.9152e-05 - val_loss: 2.6839e-05\n",
            "Epoch 33/100\n",
            "264/264 [==============================] - 1s 3ms/step - loss: 2.7121e-05 - val_loss: 2.3950e-05\n",
            "Epoch 34/100\n",
            "264/264 [==============================] - 1s 2ms/step - loss: 2.4869e-05 - val_loss: 2.3256e-05\n",
            "Epoch 35/100\n",
            "264/264 [==============================] - 1s 2ms/step - loss: 2.2820e-05 - val_loss: 2.0712e-05\n",
            "Epoch 36/100\n",
            "264/264 [==============================] - 1s 3ms/step - loss: 2.1275e-05 - val_loss: 1.9193e-05\n",
            "Epoch 37/100\n",
            "264/264 [==============================] - 1s 2ms/step - loss: 1.9565e-05 - val_loss: 1.7591e-05\n",
            "Epoch 38/100\n",
            "264/264 [==============================] - 1s 3ms/step - loss: 1.8143e-05 - val_loss: 1.7116e-05\n",
            "Epoch 39/100\n",
            "264/264 [==============================] - 1s 3ms/step - loss: 1.6926e-05 - val_loss: 1.4894e-05\n",
            "Epoch 40/100\n",
            "264/264 [==============================] - 1s 3ms/step - loss: 1.5872e-05 - val_loss: 1.5144e-05\n",
            "Epoch 41/100\n",
            "264/264 [==============================] - 1s 2ms/step - loss: 1.4950e-05 - val_loss: 1.3665e-05\n",
            "Epoch 42/100\n",
            "264/264 [==============================] - 1s 2ms/step - loss: 1.3976e-05 - val_loss: 1.2280e-05\n",
            "Epoch 43/100\n",
            "264/264 [==============================] - 1s 3ms/step - loss: 1.3087e-05 - val_loss: 1.1506e-05\n",
            "Epoch 44/100\n",
            "264/264 [==============================] - 1s 2ms/step - loss: 1.2471e-05 - val_loss: 1.1304e-05\n",
            "Epoch 45/100\n",
            "264/264 [==============================] - 1s 2ms/step - loss: 1.1779e-05 - val_loss: 1.1037e-05\n",
            "Epoch 46/100\n",
            "264/264 [==============================] - 1s 2ms/step - loss: 1.1012e-05 - val_loss: 1.1473e-05\n",
            "Epoch 47/100\n",
            "264/264 [==============================] - 1s 2ms/step - loss: 1.0620e-05 - val_loss: 9.3385e-06\n",
            "Epoch 48/100\n",
            "264/264 [==============================] - 1s 3ms/step - loss: 1.0194e-05 - val_loss: 9.5492e-06\n",
            "Epoch 49/100\n",
            "264/264 [==============================] - 1s 3ms/step - loss: 9.6132e-06 - val_loss: 8.7343e-06\n",
            "Epoch 50/100\n",
            "264/264 [==============================] - 1s 3ms/step - loss: 9.3909e-06 - val_loss: 9.9941e-06\n",
            "Epoch 51/100\n",
            "264/264 [==============================] - 1s 3ms/step - loss: 8.9031e-06 - val_loss: 8.0699e-06\n",
            "Epoch 52/100\n",
            "264/264 [==============================] - 1s 3ms/step - loss: 8.7018e-06 - val_loss: 7.7426e-06\n",
            "Epoch 53/100\n",
            "264/264 [==============================] - 1s 2ms/step - loss: 8.4863e-06 - val_loss: 7.2420e-06\n",
            "Epoch 54/100\n",
            "264/264 [==============================] - 1s 2ms/step - loss: 8.3251e-06 - val_loss: 7.3154e-06\n",
            "Epoch 55/100\n",
            "264/264 [==============================] - 1s 2ms/step - loss: 7.8764e-06 - val_loss: 7.1611e-06\n",
            "Epoch 56/100\n",
            "264/264 [==============================] - 1s 2ms/step - loss: 7.7421e-06 - val_loss: 8.3933e-06\n",
            "Epoch 57/100\n",
            "264/264 [==============================] - 1s 2ms/step - loss: 7.5664e-06 - val_loss: 6.5701e-06\n",
            "Epoch 58/100\n",
            "264/264 [==============================] - 1s 2ms/step - loss: 7.4525e-06 - val_loss: 6.9148e-06\n",
            "Epoch 59/100\n",
            "264/264 [==============================] - 1s 2ms/step - loss: 7.2684e-06 - val_loss: 7.5393e-06\n",
            "Epoch 60/100\n",
            "264/264 [==============================] - 1s 3ms/step - loss: 7.0978e-06 - val_loss: 6.4602e-06\n",
            "Epoch 61/100\n",
            "264/264 [==============================] - 1s 3ms/step - loss: 7.0026e-06 - val_loss: 6.4713e-06\n",
            "Epoch 62/100\n",
            "264/264 [==============================] - 1s 3ms/step - loss: 7.0667e-06 - val_loss: 6.4037e-06\n",
            "Epoch 63/100\n",
            "264/264 [==============================] - 1s 2ms/step - loss: 6.6578e-06 - val_loss: 6.1510e-06\n",
            "Epoch 64/100\n",
            "264/264 [==============================] - 1s 3ms/step - loss: 6.7009e-06 - val_loss: 7.5500e-06\n",
            "Epoch 65/100\n",
            "264/264 [==============================] - 1s 3ms/step - loss: 6.5669e-06 - val_loss: 6.1921e-06\n",
            "Epoch 66/100\n",
            "264/264 [==============================] - 1s 3ms/step - loss: 6.4444e-06 - val_loss: 5.5846e-06\n",
            "Epoch 67/100\n",
            "264/264 [==============================] - 1s 3ms/step - loss: 6.3341e-06 - val_loss: 5.6262e-06\n",
            "Epoch 68/100\n",
            "264/264 [==============================] - 1s 3ms/step - loss: 6.6535e-06 - val_loss: 6.5241e-06\n",
            "Epoch 69/100\n",
            "264/264 [==============================] - 1s 3ms/step - loss: 6.1599e-06 - val_loss: 6.1183e-06\n",
            "Epoch 70/100\n",
            "264/264 [==============================] - 1s 3ms/step - loss: 6.1867e-06 - val_loss: 5.4667e-06\n",
            "Epoch 71/100\n",
            "264/264 [==============================] - 1s 2ms/step - loss: 6.0743e-06 - val_loss: 5.2699e-06\n",
            "Epoch 72/100\n",
            "264/264 [==============================] - 1s 2ms/step - loss: 6.1455e-06 - val_loss: 5.2882e-06\n",
            "Epoch 73/100\n",
            "264/264 [==============================] - 1s 2ms/step - loss: 6.1540e-06 - val_loss: 5.4893e-06\n",
            "Epoch 74/100\n",
            "264/264 [==============================] - 1s 2ms/step - loss: 5.9507e-06 - val_loss: 5.0975e-06\n",
            "Epoch 75/100\n",
            "264/264 [==============================] - 1s 2ms/step - loss: 5.8644e-06 - val_loss: 5.0602e-06\n",
            "Epoch 76/100\n",
            "264/264 [==============================] - 1s 2ms/step - loss: 5.9980e-06 - val_loss: 4.8387e-06\n",
            "Epoch 77/100\n",
            "264/264 [==============================] - 1s 2ms/step - loss: 5.7720e-06 - val_loss: 5.9915e-06\n",
            "Epoch 78/100\n",
            "264/264 [==============================] - 1s 3ms/step - loss: 5.7927e-06 - val_loss: 5.3684e-06\n",
            "Epoch 79/100\n",
            "264/264 [==============================] - 1s 2ms/step - loss: 5.8729e-06 - val_loss: 5.3493e-06\n",
            "Epoch 80/100\n",
            "264/264 [==============================] - 1s 2ms/step - loss: 5.6530e-06 - val_loss: 4.7496e-06\n",
            "Epoch 81/100\n",
            "264/264 [==============================] - 1s 2ms/step - loss: 5.7056e-06 - val_loss: 5.5251e-06\n",
            "Epoch 82/100\n",
            "264/264 [==============================] - 1s 2ms/step - loss: 5.6500e-06 - val_loss: 5.6274e-06\n",
            "Epoch 83/100\n",
            "264/264 [==============================] - 1s 3ms/step - loss: 5.9999e-06 - val_loss: 4.6796e-06\n",
            "Epoch 84/100\n",
            "264/264 [==============================] - 1s 2ms/step - loss: 5.6764e-06 - val_loss: 4.8956e-06\n",
            "Epoch 85/100\n",
            "264/264 [==============================] - 1s 2ms/step - loss: 5.5192e-06 - val_loss: 5.3001e-06\n",
            "Epoch 86/100\n",
            "264/264 [==============================] - 1s 3ms/step - loss: 5.4394e-06 - val_loss: 5.1489e-06\n",
            "Epoch 87/100\n",
            "264/264 [==============================] - 1s 3ms/step - loss: 5.8435e-06 - val_loss: 4.5319e-06\n",
            "Epoch 88/100\n",
            "264/264 [==============================] - 1s 3ms/step - loss: 5.5467e-06 - val_loss: 4.5831e-06\n",
            "Epoch 89/100\n",
            "264/264 [==============================] - 1s 3ms/step - loss: 5.9420e-06 - val_loss: 5.1987e-06\n",
            "Epoch 90/100\n",
            "264/264 [==============================] - 1s 2ms/step - loss: 5.4305e-06 - val_loss: 4.4600e-06\n",
            "Epoch 91/100\n",
            "264/264 [==============================] - 1s 3ms/step - loss: 5.5272e-06 - val_loss: 4.5712e-06\n",
            "Epoch 92/100\n",
            "264/264 [==============================] - 1s 2ms/step - loss: 5.2183e-06 - val_loss: 5.8498e-06\n",
            "Epoch 93/100\n",
            "264/264 [==============================] - 1s 2ms/step - loss: 5.5847e-06 - val_loss: 4.4589e-06\n",
            "Epoch 94/100\n",
            "264/264 [==============================] - 1s 2ms/step - loss: 5.3763e-06 - val_loss: 4.4538e-06\n",
            "Epoch 95/100\n",
            "264/264 [==============================] - 1s 2ms/step - loss: 5.3523e-06 - val_loss: 4.4959e-06\n",
            "Epoch 96/100\n",
            "264/264 [==============================] - 1s 2ms/step - loss: 5.1965e-06 - val_loss: 4.5405e-06\n",
            "Epoch 97/100\n",
            "264/264 [==============================] - 1s 2ms/step - loss: 5.2284e-06 - val_loss: 6.5403e-06\n",
            "Epoch 98/100\n",
            "264/264 [==============================] - 1s 2ms/step - loss: 5.2449e-06 - val_loss: 4.3123e-06\n",
            "Epoch 99/100\n",
            "264/264 [==============================] - 1s 2ms/step - loss: 5.3372e-06 - val_loss: 5.2473e-06\n",
            "Epoch 100/100\n",
            "264/264 [==============================] - 1s 2ms/step - loss: 5.3166e-06 - val_loss: 6.5454e-06\n"
          ]
        },
        {
          "output_type": "execute_result",
          "data": {
            "text/plain": [
              "<keras.src.callbacks.History at 0x7b2b2a8f61d0>"
            ]
          },
          "metadata": {},
          "execution_count": 30
        }
      ]
    },
    {
      "cell_type": "markdown",
      "source": [
        "*Evaluate for Session Behaviour Group Autoencoder:*"
      ],
      "metadata": {
        "id": "z9y9o1s5hF35"
      }
    },
    {
      "cell_type": "code",
      "source": [
        "#Reconstruction Error: (A lower MSE indicates better reconstruction)\n",
        "\n",
        "# Assuming you have trained autoencoder and a test dataset X_test\n",
        "reconstructed_data = autoencoder_SB.predict(X_test_SB)\n",
        "mse_SB = np.mean(np.square(X_test_SB - reconstructed_data))\n",
        "print(f\"Mean Squared Error (MSE): {mse_SB}\")"
      ],
      "metadata": {
        "colab": {
          "base_uri": "https://localhost:8080/"
        },
        "id": "uDWVNtDuhBpW",
        "outputId": "d0168bf9-cb43-4c31-f476-2f71f6d0ab88"
      },
      "execution_count": 31,
      "outputs": [
        {
          "output_type": "stream",
          "name": "stdout",
          "text": [
            "66/66 [==============================] - 0s 1ms/step\n",
            "Mean Squared Error (MSE): session_duration         2.314845e-05\n",
            "auth_event_count         3.265984e-09\n",
            "failed_login_count       3.357548e-09\n",
            "auth_attempt_interval    3.026643e-06\n",
            "dtype: float64\n"
          ]
        },
        {
          "output_type": "stream",
          "name": "stderr",
          "text": [
            "/usr/local/lib/python3.10/dist-packages/numpy/core/fromnumeric.py:3430: FutureWarning: In a future version, DataFrame.mean(axis=None) will return a scalar mean over the entire DataFrame. To retain the old behavior, use 'frame.mean(axis=0)' or just 'frame.mean()'\n",
            "  return mean(axis=axis, dtype=dtype, out=out, **kwargs)\n"
          ]
        }
      ]
    },
    {
      "cell_type": "markdown",
      "source": [
        "#  Ensemble Learning:"
      ],
      "metadata": {
        "id": "WQR7OpD8UW29"
      }
    },
    {
      "cell_type": "code",
      "source": [
        "print(X_test_NF.shape)\n",
        "print(X_test_NT.shape)\n",
        "print(X_test_PCH.shape)\n",
        "print(X_test_PS.shape)\n",
        "print(X_test_SB.shape)\n",
        "# ... and so on for the others\n"
      ],
      "metadata": {
        "colab": {
          "base_uri": "https://localhost:8080/"
        },
        "id": "4ZM91b-dA5Ag",
        "outputId": "5cb05c00-8fb9-4796-fe8a-5729ddfab8d6"
      },
      "execution_count": 32,
      "outputs": [
        {
          "output_type": "stream",
          "name": "stdout",
          "text": [
            "(39461, 197)\n",
            "(156776, 17)\n",
            "(156776, 5)\n",
            "(156776, 5)\n",
            "(2110, 4)\n"
          ]
        }
      ]
    },
    {
      "cell_type": "code",
      "source": [
        "# 1. Compute Anomaly Scores\n",
        "reconstructed_NF = autoencoder_NF.predict(X_test_NF)\n",
        "errors_NF = np.mean(np.square(X_test_NF - reconstructed_NF), axis=1)\n",
        "\n",
        "reconstructed_NT = autoencoder_NT.predict(X_test_NT)\n",
        "errors_NT = np.mean(np.square(X_test_NT - reconstructed_NT), axis=1)\n",
        "\n",
        "reconstructed_PCH = autoencoder_PCH.predict(X_test_PCH)\n",
        "errors_PCH = np.mean(np.square(X_test_PCH - reconstructed_PCH), axis=1)\n",
        "\n",
        "reconstructed_PS = autoencoder_PS.predict(X_test_PS)\n",
        "errors_PS = np.mean(np.square(X_test_PS - reconstructed_PS), axis=1)\n",
        "\n",
        "reconstructed_SB = autoencoder_SB.predict(X_test_SB)\n",
        "errors_SB = np.mean(np.square(X_test_SB - reconstructed_SB), axis=1)\n",
        "\n",
        "\n"
      ],
      "metadata": {
        "colab": {
          "base_uri": "https://localhost:8080/"
        },
        "id": "7nrPLDXXUiP1",
        "outputId": "c5d0029a-2832-4997-a5dd-a78828837b59"
      },
      "execution_count": 33,
      "outputs": [
        {
          "output_type": "stream",
          "name": "stdout",
          "text": [
            "1234/1234 [==============================] - 2s 1ms/step\n",
            "4900/4900 [==============================] - 6s 1ms/step\n",
            "4900/4900 [==============================] - 6s 1ms/step\n",
            "4900/4900 [==============================] - 7s 1ms/step\n",
            "66/66 [==============================] - 0s 1ms/step\n"
          ]
        }
      ]
    },
    {
      "cell_type": "code",
      "source": [
        "# Convert the error lists to numpy arrays (if they aren't already)\n",
        "errors_NF = np.array(errors_NF)\n",
        "errors_NT = np.array(errors_NT)\n",
        "errors_PCH = np.array(errors_PCH)\n",
        "errors_PS = np.array(errors_PS)\n",
        "errors_SB = np.array(errors_SB)\n",
        "\n",
        "# Determine the minimum length\n",
        "min_length = min(len(errors_NF), len(errors_NT), len(errors_PCH), len(errors_PS), len(errors_SB))\n",
        "\n",
        "# Trim each error array to the minimum length\n",
        "errors_NF = errors_NF[:min_length]\n",
        "errors_NT = errors_NT[:min_length]\n",
        "errors_PCH = errors_PCH[:min_length]\n",
        "errors_PS = errors_PS[:min_length]\n",
        "errors_SB = errors_SB[:min_length]\n",
        "\n",
        "# Ensure all errors are of the same shape\n",
        "assert len(errors_NF) == len(errors_NT) == len(errors_PCH) == len(errors_PS) == len(errors_SB)\n"
      ],
      "metadata": {
        "id": "msIZnvThv_u1"
      },
      "execution_count": 34,
      "outputs": []
    },
    {
      "cell_type": "code",
      "source": [
        "# 2. Ensemble Anomaly Scores\n",
        "ensemble_errors = (errors_NF + errors_NT + errors_PCH + errors_PS + errors_SB) / 5\n"
      ],
      "metadata": {
        "id": "1NZPAlZcwEs7"
      },
      "execution_count": 35,
      "outputs": []
    },
    {
      "cell_type": "code",
      "source": [
        "# 3. Determine Anomalies\n",
        "ensemble_threshold = np.percentile(ensemble_errors, 95)  # for example, setting threshold at 95th percentile of ensemble error\n",
        "anomalies = ensemble_errors > ensemble_threshold\n"
      ],
      "metadata": {
        "id": "Nq_p3fwEwKU_"
      },
      "execution_count": 36,
      "outputs": []
    },
    {
      "cell_type": "markdown",
      "source": [
        "# Evaluation"
      ],
      "metadata": {
        "id": "p1fNUjFAw4Mm"
      }
    },
    {
      "cell_type": "code",
      "source": [
        "import matplotlib.pyplot as plt\n",
        "import seaborn as sns\n",
        "\n",
        "# Assuming you have timestamps or some sequential data in a variable called `timestamps`\n",
        "# This is just a placeholder; replace with your actual timestamp data\n",
        "timestamps = range(len(ensemble_errors))\n",
        "\n",
        "plt.figure(figsize=(14,7))\n",
        "plt.plot(timestamps, ensemble_errors, label='Anomaly Score')\n",
        "plt.axhline(y=ensemble_threshold, color='r', linestyle='--', label='Threshold')\n",
        "plt.title('Anomaly Scores vs. Timestamp')\n",
        "plt.xlabel('Timestamp')\n",
        "plt.ylabel('Anomaly Score')\n",
        "plt.legend()\n",
        "plt.tight_layout()\n",
        "plt.show()\n"
      ],
      "metadata": {
        "colab": {
          "base_uri": "https://localhost:8080/",
          "height": 707
        },
        "id": "YPK6qMvuw84z",
        "outputId": "9beb3c00-41ad-4e34-8d5f-9149b9097809"
      },
      "execution_count": 37,
      "outputs": [
        {
          "output_type": "display_data",
          "data": {
            "text/plain": [
              "<Figure size 1400x700 with 1 Axes>"
            ],
            "image/png": "[encoded data removed]"
          },
          "metadata": {}
        }
      ]
    },
    {
      "cell_type": "code",
      "source": [
        "import matplotlib.pyplot as plt\n",
        "\n",
        "plt.hist(ensemble_errors, bins=100)\n",
        "plt.xlabel(\"Ensemble Error\")\n",
        "plt.ylabel(\"Number of Data Points\")\n",
        "plt.title(\"Distribution of Ensemble Errors\")\n",
        "plt.show()\n"
      ],
      "metadata": {
        "colab": {
          "base_uri": "https://localhost:8080/",
          "height": 472
        },
        "id": "gByC6d4WyrT9",
        "outputId": "83569d36-b659-4244-edf3-98e4ba5c4ea0"
      },
      "execution_count": 38,
      "outputs": [
        {
          "output_type": "display_data",
          "data": {
            "text/plain": [
              "<Figure size 640x480 with 1 Axes>"
            ],
            "image/png": "[encoded data removed]"
          },
          "metadata": {}
        }
      ]
    },
    {
      "cell_type": "code",
      "source": [
        "mean_error = np.mean(ensemble_errors)\n",
        "std_error = np.std(ensemble_errors)\n",
        "\n",
        "# Using mean + 2*std as threshold, for instance\n",
        "threshold = mean_error + 2*std_error\n",
        "anomalies = ensemble_errors > threshold\n",
        "\n",
        "print(f\"Percentage of data points considered anomalies: {np.mean(anomalies) * 100:.2f}%\")\n"
      ],
      "metadata": {
        "colab": {
          "base_uri": "https://localhost:8080/"
        },
        "id": "Ze1qG1ZGyxQB",
        "outputId": "88242a2b-1aa6-47c8-ca7d-c9cc9cc7bfda"
      },
      "execution_count": 39,
      "outputs": [
        {
          "output_type": "stream",
          "name": "stdout",
          "text": [
            "Percentage of data points considered anomalies: 1.94%\n"
          ]
        }
      ]
    },
    {
      "cell_type": "markdown",
      "source": [
        "Reconstruction & Loss Calculation:"
      ],
      "metadata": {
        "id": "Rn4Yrrc7OLtZ"
      }
    },
    {
      "cell_type": "code",
      "source": [
        "# Ensemble Anomaly Scores\n",
        "ensemble_errors = (errors_NF + errors_NT + errors_PCH + errors_PS + errors_SB) / 5\n",
        "normal_test_loss = ensemble_errors\n"
      ],
      "metadata": {
        "id": "iiEfoU3BOhAr"
      },
      "execution_count": 40,
      "outputs": []
    },
    {
      "cell_type": "markdown",
      "source": [
        "Plot Histogram of Loss on Normal Test Data"
      ],
      "metadata": {
        "id": "JjamUbHaO8oK"
      }
    },
    {
      "cell_type": "code",
      "source": [
        "plt.hist(normal_test_loss, bins=50)\n",
        "plt.title(\"Loss on Normal Test Data\")\n",
        "plt.show()\n"
      ],
      "metadata": {
        "colab": {
          "base_uri": "https://localhost:8080/",
          "height": 452
        },
        "id": "NKDNMWxjPAzl",
        "outputId": "25ca6d4e-12c7-4735-d069-52001b76b93b"
      },
      "execution_count": 41,
      "outputs": [
        {
          "output_type": "display_data",
          "data": {
            "text/plain": [
              "<Figure size 640x480 with 1 Axes>"
            ],
            "image/png": "[encoded data removed]"
          },
          "metadata": {}
        }
      ]
    },
    {
      "cell_type": "markdown",
      "source": [
        "Calculate Threshold for Anomalies:"
      ],
      "metadata": {
        "id": "cTnJJnGOPEkw"
      }
    },
    {
      "cell_type": "code",
      "source": [
        "threshold = np.mean(normal_test_loss) + 2*np.std(normal_test_loss)\n"
      ],
      "metadata": {
        "id": "QMW7ehV7PIuw"
      },
      "execution_count": 42,
      "outputs": []
    },
    {
      "cell_type": "markdown",
      "source": [
        "Compute Loss on Anomaly Test Data:"
      ],
      "metadata": {
        "id": "kdaY0B3HPMKn"
      }
    },
    {
      "cell_type": "code",
      "source": [
        "plt.hist(anomalies, bins=50)\n",
        "plt.title(\"Loss on Anomaly Test Data\")\n",
        "plt.show()\n"
      ],
      "metadata": {
        "colab": {
          "base_uri": "https://localhost:8080/",
          "height": 879
        },
        "id": "rt15H_1-PjBV",
        "outputId": "3ced2b22-581b-445d-90cb-1ea0a5291f46"
      },
      "execution_count": 48,
      "outputs": [
        {
          "output_type": "stream",
          "name": "stderr",
          "text": [
            "<__array_function__ internals>:180: RuntimeWarning: Converting input from bool to <class 'numpy.uint8'> for compatibility.\n"
          ]
        },
        {
          "output_type": "error",
          "ename": "TypeError",
          "evalue": "ignored",
          "traceback": [
            "\u001b[0;31m---------------------------------------------------------------------------\u001b[0m",
            "\u001b[0;31mKeyError\u001b[0m                                  Traceback (most recent call last)",
            "\u001b[0;32m/usr/local/lib/python3.10/dist-packages/numpy/lib/histograms.py\u001b[0m in \u001b[0;36m_unsigned_subtract\u001b[0;34m(a, b)\u001b[0m\n\u001b[1;32m    350\u001b[0m     \u001b[0;32mtry\u001b[0m\u001b[0;34m:\u001b[0m\u001b[0;34m\u001b[0m\u001b[0;34m\u001b[0m\u001b[0m\n\u001b[0;32m--> 351\u001b[0;31m         \u001b[0mdt\u001b[0m \u001b[0;34m=\u001b[0m \u001b[0msigned_to_unsigned\u001b[0m\u001b[0;34m[\u001b[0m\u001b[0mdt\u001b[0m\u001b[0;34m.\u001b[0m\u001b[0mtype\u001b[0m\u001b[0;34m]\u001b[0m\u001b[0;34m\u001b[0m\u001b[0;34m\u001b[0m\u001b[0m\n\u001b[0m\u001b[1;32m    352\u001b[0m     \u001b[0;32mexcept\u001b[0m \u001b[0mKeyError\u001b[0m\u001b[0;34m:\u001b[0m\u001b[0;34m\u001b[0m\u001b[0;34m\u001b[0m\u001b[0m\n",
            "\u001b[0;31mKeyError\u001b[0m: <class 'numpy.bool_'>",
            "\nDuring handling of the above exception, another exception occurred:\n",
            "\u001b[0;31mTypeError\u001b[0m                                 Traceback (most recent call last)",
            "\u001b[0;32m<ipython-input-48-fafc8670d8de>\u001b[0m in \u001b[0;36m<cell line: 1>\u001b[0;34m()\u001b[0m\n\u001b[0;32m----> 1\u001b[0;31m \u001b[0mplt\u001b[0m\u001b[0;34m.\u001b[0m\u001b[0mhist\u001b[0m\u001b[0;34m(\u001b[0m\u001b[0manomalies\u001b[0m\u001b[0;34m,\u001b[0m \u001b[0mbins\u001b[0m\u001b[0;34m=\u001b[0m\u001b[0;36m50\u001b[0m\u001b[0;34m)\u001b[0m\u001b[0;34m\u001b[0m\u001b[0;34m\u001b[0m\u001b[0m\n\u001b[0m\u001b[1;32m      2\u001b[0m \u001b[0mplt\u001b[0m\u001b[0;34m.\u001b[0m\u001b[0mtitle\u001b[0m\u001b[0;34m(\u001b[0m\u001b[0;34m\"Loss on Anomaly Test Data\"\u001b[0m\u001b[0;34m)\u001b[0m\u001b[0;34m\u001b[0m\u001b[0;34m\u001b[0m\u001b[0m\n\u001b[1;32m      3\u001b[0m \u001b[0mplt\u001b[0m\u001b[0;34m.\u001b[0m\u001b[0mshow\u001b[0m\u001b[0;34m(\u001b[0m\u001b[0;34m)\u001b[0m\u001b[0;34m\u001b[0m\u001b[0;34m\u001b[0m\u001b[0m\n",
            "\u001b[0;32m/usr/local/lib/python3.10/dist-packages/matplotlib/pyplot.py\u001b[0m in \u001b[0;36mhist\u001b[0;34m(x, bins, range, density, weights, cumulative, bottom, histtype, align, orientation, rwidth, log, color, label, stacked, data, **kwargs)\u001b[0m\n\u001b[1;32m   2643\u001b[0m         \u001b[0morientation\u001b[0m\u001b[0;34m=\u001b[0m\u001b[0;34m'vertical'\u001b[0m\u001b[0;34m,\u001b[0m \u001b[0mrwidth\u001b[0m\u001b[0;34m=\u001b[0m\u001b[0;32mNone\u001b[0m\u001b[0;34m,\u001b[0m \u001b[0mlog\u001b[0m\u001b[0;34m=\u001b[0m\u001b[0;32mFalse\u001b[0m\u001b[0;34m,\u001b[0m \u001b[0mcolor\u001b[0m\u001b[0;34m=\u001b[0m\u001b[0;32mNone\u001b[0m\u001b[0;34m,\u001b[0m\u001b[0;34m\u001b[0m\u001b[0;34m\u001b[0m\u001b[0m\n\u001b[1;32m   2644\u001b[0m         label=None, stacked=False, *, data=None, **kwargs):\n\u001b[0;32m-> 2645\u001b[0;31m     return gca().hist(\n\u001b[0m\u001b[1;32m   2646\u001b[0m         \u001b[0mx\u001b[0m\u001b[0;34m,\u001b[0m \u001b[0mbins\u001b[0m\u001b[0;34m=\u001b[0m\u001b[0mbins\u001b[0m\u001b[0;34m,\u001b[0m \u001b[0mrange\u001b[0m\u001b[0;34m=\u001b[0m\u001b[0mrange\u001b[0m\u001b[0;34m,\u001b[0m \u001b[0mdensity\u001b[0m\u001b[0;34m=\u001b[0m\u001b[0mdensity\u001b[0m\u001b[0;34m,\u001b[0m \u001b[0mweights\u001b[0m\u001b[0;34m=\u001b[0m\u001b[0mweights\u001b[0m\u001b[0;34m,\u001b[0m\u001b[0;34m\u001b[0m\u001b[0;34m\u001b[0m\u001b[0m\n\u001b[1;32m   2647\u001b[0m         \u001b[0mcumulative\u001b[0m\u001b[0;34m=\u001b[0m\u001b[0mcumulative\u001b[0m\u001b[0;34m,\u001b[0m \u001b[0mbottom\u001b[0m\u001b[0;34m=\u001b[0m\u001b[0mbottom\u001b[0m\u001b[0;34m,\u001b[0m \u001b[0mhisttype\u001b[0m\u001b[0;34m=\u001b[0m\u001b[0mhisttype\u001b[0m\u001b[0;34m,\u001b[0m\u001b[0;34m\u001b[0m\u001b[0;34m\u001b[0m\u001b[0m\n",
            "\u001b[0;32m/usr/local/lib/python3.10/dist-packages/matplotlib/__init__.py\u001b[0m in \u001b[0;36minner\u001b[0;34m(ax, data, *args, **kwargs)\u001b[0m\n\u001b[1;32m   1440\u001b[0m     \u001b[0;32mdef\u001b[0m \u001b[0minner\u001b[0m\u001b[0;34m(\u001b[0m\u001b[0max\u001b[0m\u001b[0;34m,\u001b[0m \u001b[0;34m*\u001b[0m\u001b[0margs\u001b[0m\u001b[0;34m,\u001b[0m \u001b[0mdata\u001b[0m\u001b[0;34m=\u001b[0m\u001b[0;32mNone\u001b[0m\u001b[0;34m,\u001b[0m \u001b[0;34m**\u001b[0m\u001b[0mkwargs\u001b[0m\u001b[0;34m)\u001b[0m\u001b[0;34m:\u001b[0m\u001b[0;34m\u001b[0m\u001b[0;34m\u001b[0m\u001b[0m\n\u001b[1;32m   1441\u001b[0m         \u001b[0;32mif\u001b[0m \u001b[0mdata\u001b[0m \u001b[0;32mis\u001b[0m \u001b[0;32mNone\u001b[0m\u001b[0;34m:\u001b[0m\u001b[0;34m\u001b[0m\u001b[0;34m\u001b[0m\u001b[0m\n\u001b[0;32m-> 1442\u001b[0;31m             \u001b[0;32mreturn\u001b[0m \u001b[0mfunc\u001b[0m\u001b[0;34m(\u001b[0m\u001b[0max\u001b[0m\u001b[0;34m,\u001b[0m \u001b[0;34m*\u001b[0m\u001b[0mmap\u001b[0m\u001b[0;34m(\u001b[0m\u001b[0msanitize_sequence\u001b[0m\u001b[0;34m,\u001b[0m \u001b[0margs\u001b[0m\u001b[0;34m)\u001b[0m\u001b[0;34m,\u001b[0m \u001b[0;34m**\u001b[0m\u001b[0mkwargs\u001b[0m\u001b[0;34m)\u001b[0m\u001b[0;34m\u001b[0m\u001b[0;34m\u001b[0m\u001b[0m\n\u001b[0m\u001b[1;32m   1443\u001b[0m \u001b[0;34m\u001b[0m\u001b[0m\n\u001b[1;32m   1444\u001b[0m         \u001b[0mbound\u001b[0m \u001b[0;34m=\u001b[0m \u001b[0mnew_sig\u001b[0m\u001b[0;34m.\u001b[0m\u001b[0mbind\u001b[0m\u001b[0;34m(\u001b[0m\u001b[0max\u001b[0m\u001b[0;34m,\u001b[0m \u001b[0;34m*\u001b[0m\u001b[0margs\u001b[0m\u001b[0;34m,\u001b[0m \u001b[0;34m**\u001b[0m\u001b[0mkwargs\u001b[0m\u001b[0;34m)\u001b[0m\u001b[0;34m\u001b[0m\u001b[0;34m\u001b[0m\u001b[0m\n",
            "\u001b[0;32m/usr/local/lib/python3.10/dist-packages/matplotlib/axes/_axes.py\u001b[0m in \u001b[0;36mhist\u001b[0;34m(self, x, bins, range, density, weights, cumulative, bottom, histtype, align, orientation, rwidth, log, color, label, stacked, **kwargs)\u001b[0m\n\u001b[1;32m   6788\u001b[0m             \u001b[0;31m# this will automatically overwrite bins,\u001b[0m\u001b[0;34m\u001b[0m\u001b[0;34m\u001b[0m\u001b[0m\n\u001b[1;32m   6789\u001b[0m             \u001b[0;31m# so that each histogram uses the same bins\u001b[0m\u001b[0;34m\u001b[0m\u001b[0;34m\u001b[0m\u001b[0m\n\u001b[0;32m-> 6790\u001b[0;31m             \u001b[0mm\u001b[0m\u001b[0;34m,\u001b[0m \u001b[0mbins\u001b[0m \u001b[0;34m=\u001b[0m \u001b[0mnp\u001b[0m\u001b[0;34m.\u001b[0m\u001b[0mhistogram\u001b[0m\u001b[0;34m(\u001b[0m\u001b[0mx\u001b[0m\u001b[0;34m[\u001b[0m\u001b[0mi\u001b[0m\u001b[0;34m]\u001b[0m\u001b[0;34m,\u001b[0m \u001b[0mbins\u001b[0m\u001b[0;34m,\u001b[0m \u001b[0mweights\u001b[0m\u001b[0;34m=\u001b[0m\u001b[0mw\u001b[0m\u001b[0;34m[\u001b[0m\u001b[0mi\u001b[0m\u001b[0;34m]\u001b[0m\u001b[0;34m,\u001b[0m \u001b[0;34m**\u001b[0m\u001b[0mhist_kwargs\u001b[0m\u001b[0;34m)\u001b[0m\u001b[0;34m\u001b[0m\u001b[0;34m\u001b[0m\u001b[0m\n\u001b[0m\u001b[1;32m   6791\u001b[0m             \u001b[0mtops\u001b[0m\u001b[0;34m.\u001b[0m\u001b[0mappend\u001b[0m\u001b[0;34m(\u001b[0m\u001b[0mm\u001b[0m\u001b[0;34m)\u001b[0m\u001b[0;34m\u001b[0m\u001b[0;34m\u001b[0m\u001b[0m\n\u001b[1;32m   6792\u001b[0m         \u001b[0mtops\u001b[0m \u001b[0;34m=\u001b[0m \u001b[0mnp\u001b[0m\u001b[0;34m.\u001b[0m\u001b[0marray\u001b[0m\u001b[0;34m(\u001b[0m\u001b[0mtops\u001b[0m\u001b[0;34m,\u001b[0m \u001b[0mfloat\u001b[0m\u001b[0;34m)\u001b[0m  \u001b[0;31m# causes problems later if it's an int\u001b[0m\u001b[0;34m\u001b[0m\u001b[0;34m\u001b[0m\u001b[0m\n",
            "\u001b[0;32m/usr/local/lib/python3.10/dist-packages/numpy/core/overrides.py\u001b[0m in \u001b[0;36mhistogram\u001b[0;34m(*args, **kwargs)\u001b[0m\n",
            "\u001b[0;32m/usr/local/lib/python3.10/dist-packages/numpy/lib/histograms.py\u001b[0m in \u001b[0;36mhistogram\u001b[0;34m(a, bins, range, normed, weights, density)\u001b[0m\n\u001b[1;32m    821\u001b[0m \u001b[0;34m\u001b[0m\u001b[0m\n\u001b[1;32m    822\u001b[0m         \u001b[0;31m# Pre-compute histogram scaling factor\u001b[0m\u001b[0;34m\u001b[0m\u001b[0;34m\u001b[0m\u001b[0m\n\u001b[0;32m--> 823\u001b[0;31m         \u001b[0mnorm\u001b[0m \u001b[0;34m=\u001b[0m \u001b[0mn_equal_bins\u001b[0m \u001b[0;34m/\u001b[0m \u001b[0m_unsigned_subtract\u001b[0m\u001b[0;34m(\u001b[0m\u001b[0mlast_edge\u001b[0m\u001b[0;34m,\u001b[0m \u001b[0mfirst_edge\u001b[0m\u001b[0;34m)\u001b[0m\u001b[0;34m\u001b[0m\u001b[0;34m\u001b[0m\u001b[0m\n\u001b[0m\u001b[1;32m    824\u001b[0m \u001b[0;34m\u001b[0m\u001b[0m\n\u001b[1;32m    825\u001b[0m         \u001b[0;31m# We iterate over blocks here for two reasons: the first is that for\u001b[0m\u001b[0;34m\u001b[0m\u001b[0;34m\u001b[0m\u001b[0m\n",
            "\u001b[0;32m/usr/local/lib/python3.10/dist-packages/numpy/lib/histograms.py\u001b[0m in \u001b[0;36m_unsigned_subtract\u001b[0;34m(a, b)\u001b[0m\n\u001b[1;32m    351\u001b[0m         \u001b[0mdt\u001b[0m \u001b[0;34m=\u001b[0m \u001b[0msigned_to_unsigned\u001b[0m\u001b[0;34m[\u001b[0m\u001b[0mdt\u001b[0m\u001b[0;34m.\u001b[0m\u001b[0mtype\u001b[0m\u001b[0;34m]\u001b[0m\u001b[0;34m\u001b[0m\u001b[0;34m\u001b[0m\u001b[0m\n\u001b[1;32m    352\u001b[0m     \u001b[0;32mexcept\u001b[0m \u001b[0mKeyError\u001b[0m\u001b[0;34m:\u001b[0m\u001b[0;34m\u001b[0m\u001b[0;34m\u001b[0m\u001b[0m\n\u001b[0;32m--> 353\u001b[0;31m         \u001b[0;32mreturn\u001b[0m \u001b[0mnp\u001b[0m\u001b[0;34m.\u001b[0m\u001b[0msubtract\u001b[0m\u001b[0;34m(\u001b[0m\u001b[0ma\u001b[0m\u001b[0;34m,\u001b[0m \u001b[0mb\u001b[0m\u001b[0;34m,\u001b[0m \u001b[0mdtype\u001b[0m\u001b[0;34m=\u001b[0m\u001b[0mdt\u001b[0m\u001b[0;34m)\u001b[0m\u001b[0;34m\u001b[0m\u001b[0;34m\u001b[0m\u001b[0m\n\u001b[0m\u001b[1;32m    354\u001b[0m     \u001b[0;32melse\u001b[0m\u001b[0;34m:\u001b[0m\u001b[0;34m\u001b[0m\u001b[0;34m\u001b[0m\u001b[0m\n\u001b[1;32m    355\u001b[0m         \u001b[0;31m# we know the inputs are integers, and we are deliberately casting\u001b[0m\u001b[0;34m\u001b[0m\u001b[0;34m\u001b[0m\u001b[0m\n",
            "\u001b[0;31mTypeError\u001b[0m: numpy boolean subtract, the `-` operator, is not supported, use the bitwise_xor, the `^` operator, or the logical_xor function instead."
          ]
        },
        {
          "output_type": "display_data",
          "data": {
            "text/plain": [
              "<Figure size 640x480 with 1 Axes>"
            ],
            "image/png": "[encoded data removed]"
          },
          "metadata": {}
        }
      ]
    },
    {
      "cell_type": "markdown",
      "source": [
        "Plot Both Losses Together with the Threshold"
      ],
      "metadata": {
        "id": "AC9xhh7kPkRO"
      }
    },
    {
      "cell_type": "code",
      "source": [
        "plt.hist(normal_test_loss, bins=50, label='normal')\n",
        "plt.hist(anomalies, bins=50, label='anomaly')\n",
        "plt.axvline(threshold, color='r', linewidth=3, linestyle='dashed', label='Threshold: {:0.3f}'.format(threshold))\n",
        "plt.legend(loc='upper right')\n",
        "plt.title(\"Normal and Anomaly Loss\")\n",
        "plt.show()\n"
      ],
      "metadata": {
        "colab": {
          "base_uri": "https://localhost:8080/",
          "height": 856
        },
        "id": "iDJsiMk5Pn4I",
        "outputId": "ea7092fc-dbe4-47e8-dbef-8a079bea10d4"
      },
      "execution_count": 49,
      "outputs": [
        {
          "output_type": "error",
          "ename": "TypeError",
          "evalue": "ignored",
          "traceback": [
            "\u001b[0;31m---------------------------------------------------------------------------\u001b[0m",
            "\u001b[0;31mKeyError\u001b[0m                                  Traceback (most recent call last)",
            "\u001b[0;32m/usr/local/lib/python3.10/dist-packages/numpy/lib/histograms.py\u001b[0m in \u001b[0;36m_unsigned_subtract\u001b[0;34m(a, b)\u001b[0m\n\u001b[1;32m    350\u001b[0m     \u001b[0;32mtry\u001b[0m\u001b[0;34m:\u001b[0m\u001b[0;34m\u001b[0m\u001b[0;34m\u001b[0m\u001b[0m\n\u001b[0;32m--> 351\u001b[0;31m         \u001b[0mdt\u001b[0m \u001b[0;34m=\u001b[0m \u001b[0msigned_to_unsigned\u001b[0m\u001b[0;34m[\u001b[0m\u001b[0mdt\u001b[0m\u001b[0;34m.\u001b[0m\u001b[0mtype\u001b[0m\u001b[0;34m]\u001b[0m\u001b[0;34m\u001b[0m\u001b[0;34m\u001b[0m\u001b[0m\n\u001b[0m\u001b[1;32m    352\u001b[0m     \u001b[0;32mexcept\u001b[0m \u001b[0mKeyError\u001b[0m\u001b[0;34m:\u001b[0m\u001b[0;34m\u001b[0m\u001b[0;34m\u001b[0m\u001b[0m\n",
            "\u001b[0;31mKeyError\u001b[0m: <class 'numpy.bool_'>",
            "\nDuring handling of the above exception, another exception occurred:\n",
            "\u001b[0;31mTypeError\u001b[0m                                 Traceback (most recent call last)",
            "\u001b[0;32m<ipython-input-49-2a7c12c5bd8c>\u001b[0m in \u001b[0;36m<cell line: 2>\u001b[0;34m()\u001b[0m\n\u001b[1;32m      1\u001b[0m \u001b[0mplt\u001b[0m\u001b[0;34m.\u001b[0m\u001b[0mhist\u001b[0m\u001b[0;34m(\u001b[0m\u001b[0mnormal_test_loss\u001b[0m\u001b[0;34m,\u001b[0m \u001b[0mbins\u001b[0m\u001b[0;34m=\u001b[0m\u001b[0;36m50\u001b[0m\u001b[0;34m,\u001b[0m \u001b[0mlabel\u001b[0m\u001b[0;34m=\u001b[0m\u001b[0;34m'normal'\u001b[0m\u001b[0;34m)\u001b[0m\u001b[0;34m\u001b[0m\u001b[0;34m\u001b[0m\u001b[0m\n\u001b[0;32m----> 2\u001b[0;31m \u001b[0mplt\u001b[0m\u001b[0;34m.\u001b[0m\u001b[0mhist\u001b[0m\u001b[0;34m(\u001b[0m\u001b[0manomalies\u001b[0m\u001b[0;34m,\u001b[0m \u001b[0mbins\u001b[0m\u001b[0;34m=\u001b[0m\u001b[0;36m50\u001b[0m\u001b[0;34m,\u001b[0m \u001b[0mlabel\u001b[0m\u001b[0;34m=\u001b[0m\u001b[0;34m'anomaly'\u001b[0m\u001b[0;34m)\u001b[0m\u001b[0;34m\u001b[0m\u001b[0;34m\u001b[0m\u001b[0m\n\u001b[0m\u001b[1;32m      3\u001b[0m \u001b[0mplt\u001b[0m\u001b[0;34m.\u001b[0m\u001b[0maxvline\u001b[0m\u001b[0;34m(\u001b[0m\u001b[0mthreshold\u001b[0m\u001b[0;34m,\u001b[0m \u001b[0mcolor\u001b[0m\u001b[0;34m=\u001b[0m\u001b[0;34m'r'\u001b[0m\u001b[0;34m,\u001b[0m \u001b[0mlinewidth\u001b[0m\u001b[0;34m=\u001b[0m\u001b[0;36m3\u001b[0m\u001b[0;34m,\u001b[0m \u001b[0mlinestyle\u001b[0m\u001b[0;34m=\u001b[0m\u001b[0;34m'dashed'\u001b[0m\u001b[0;34m,\u001b[0m \u001b[0mlabel\u001b[0m\u001b[0;34m=\u001b[0m\u001b[0;34m'Threshold: {:0.3f}'\u001b[0m\u001b[0;34m.\u001b[0m\u001b[0mformat\u001b[0m\u001b[0;34m(\u001b[0m\u001b[0mthreshold\u001b[0m\u001b[0;34m)\u001b[0m\u001b[0;34m)\u001b[0m\u001b[0;34m\u001b[0m\u001b[0;34m\u001b[0m\u001b[0m\n\u001b[1;32m      4\u001b[0m \u001b[0mplt\u001b[0m\u001b[0;34m.\u001b[0m\u001b[0mlegend\u001b[0m\u001b[0;34m(\u001b[0m\u001b[0mloc\u001b[0m\u001b[0;34m=\u001b[0m\u001b[0;34m'upper right'\u001b[0m\u001b[0;34m)\u001b[0m\u001b[0;34m\u001b[0m\u001b[0;34m\u001b[0m\u001b[0m\n\u001b[1;32m      5\u001b[0m \u001b[0mplt\u001b[0m\u001b[0;34m.\u001b[0m\u001b[0mtitle\u001b[0m\u001b[0;34m(\u001b[0m\u001b[0;34m\"Normal and Anomaly Loss\"\u001b[0m\u001b[0;34m)\u001b[0m\u001b[0;34m\u001b[0m\u001b[0;34m\u001b[0m\u001b[0m\n",
            "\u001b[0;32m/usr/local/lib/python3.10/dist-packages/matplotlib/pyplot.py\u001b[0m in \u001b[0;36mhist\u001b[0;34m(x, bins, range, density, weights, cumulative, bottom, histtype, align, orientation, rwidth, log, color, label, stacked, data, **kwargs)\u001b[0m\n\u001b[1;32m   2643\u001b[0m         \u001b[0morientation\u001b[0m\u001b[0;34m=\u001b[0m\u001b[0;34m'vertical'\u001b[0m\u001b[0;34m,\u001b[0m \u001b[0mrwidth\u001b[0m\u001b[0;34m=\u001b[0m\u001b[0;32mNone\u001b[0m\u001b[0;34m,\u001b[0m \u001b[0mlog\u001b[0m\u001b[0;34m=\u001b[0m\u001b[0;32mFalse\u001b[0m\u001b[0;34m,\u001b[0m \u001b[0mcolor\u001b[0m\u001b[0;34m=\u001b[0m\u001b[0;32mNone\u001b[0m\u001b[0;34m,\u001b[0m\u001b[0;34m\u001b[0m\u001b[0;34m\u001b[0m\u001b[0m\n\u001b[1;32m   2644\u001b[0m         label=None, stacked=False, *, data=None, **kwargs):\n\u001b[0;32m-> 2645\u001b[0;31m     return gca().hist(\n\u001b[0m\u001b[1;32m   2646\u001b[0m         \u001b[0mx\u001b[0m\u001b[0;34m,\u001b[0m \u001b[0mbins\u001b[0m\u001b[0;34m=\u001b[0m\u001b[0mbins\u001b[0m\u001b[0;34m,\u001b[0m \u001b[0mrange\u001b[0m\u001b[0;34m=\u001b[0m\u001b[0mrange\u001b[0m\u001b[0;34m,\u001b[0m \u001b[0mdensity\u001b[0m\u001b[0;34m=\u001b[0m\u001b[0mdensity\u001b[0m\u001b[0;34m,\u001b[0m \u001b[0mweights\u001b[0m\u001b[0;34m=\u001b[0m\u001b[0mweights\u001b[0m\u001b[0;34m,\u001b[0m\u001b[0;34m\u001b[0m\u001b[0;34m\u001b[0m\u001b[0m\n\u001b[1;32m   2647\u001b[0m         \u001b[0mcumulative\u001b[0m\u001b[0;34m=\u001b[0m\u001b[0mcumulative\u001b[0m\u001b[0;34m,\u001b[0m \u001b[0mbottom\u001b[0m\u001b[0;34m=\u001b[0m\u001b[0mbottom\u001b[0m\u001b[0;34m,\u001b[0m \u001b[0mhisttype\u001b[0m\u001b[0;34m=\u001b[0m\u001b[0mhisttype\u001b[0m\u001b[0;34m,\u001b[0m\u001b[0;34m\u001b[0m\u001b[0;34m\u001b[0m\u001b[0m\n",
            "\u001b[0;32m/usr/local/lib/python3.10/dist-packages/matplotlib/__init__.py\u001b[0m in \u001b[0;36minner\u001b[0;34m(ax, data, *args, **kwargs)\u001b[0m\n\u001b[1;32m   1440\u001b[0m     \u001b[0;32mdef\u001b[0m \u001b[0minner\u001b[0m\u001b[0;34m(\u001b[0m\u001b[0max\u001b[0m\u001b[0;34m,\u001b[0m \u001b[0;34m*\u001b[0m\u001b[0margs\u001b[0m\u001b[0;34m,\u001b[0m \u001b[0mdata\u001b[0m\u001b[0;34m=\u001b[0m\u001b[0;32mNone\u001b[0m\u001b[0;34m,\u001b[0m \u001b[0;34m**\u001b[0m\u001b[0mkwargs\u001b[0m\u001b[0;34m)\u001b[0m\u001b[0;34m:\u001b[0m\u001b[0;34m\u001b[0m\u001b[0;34m\u001b[0m\u001b[0m\n\u001b[1;32m   1441\u001b[0m         \u001b[0;32mif\u001b[0m \u001b[0mdata\u001b[0m \u001b[0;32mis\u001b[0m \u001b[0;32mNone\u001b[0m\u001b[0;34m:\u001b[0m\u001b[0;34m\u001b[0m\u001b[0;34m\u001b[0m\u001b[0m\n\u001b[0;32m-> 1442\u001b[0;31m             \u001b[0;32mreturn\u001b[0m \u001b[0mfunc\u001b[0m\u001b[0;34m(\u001b[0m\u001b[0max\u001b[0m\u001b[0;34m,\u001b[0m \u001b[0;34m*\u001b[0m\u001b[0mmap\u001b[0m\u001b[0;34m(\u001b[0m\u001b[0msanitize_sequence\u001b[0m\u001b[0;34m,\u001b[0m \u001b[0margs\u001b[0m\u001b[0;34m)\u001b[0m\u001b[0;34m,\u001b[0m \u001b[0;34m**\u001b[0m\u001b[0mkwargs\u001b[0m\u001b[0;34m)\u001b[0m\u001b[0;34m\u001b[0m\u001b[0;34m\u001b[0m\u001b[0m\n\u001b[0m\u001b[1;32m   1443\u001b[0m \u001b[0;34m\u001b[0m\u001b[0m\n\u001b[1;32m   1444\u001b[0m         \u001b[0mbound\u001b[0m \u001b[0;34m=\u001b[0m \u001b[0mnew_sig\u001b[0m\u001b[0;34m.\u001b[0m\u001b[0mbind\u001b[0m\u001b[0;34m(\u001b[0m\u001b[0max\u001b[0m\u001b[0;34m,\u001b[0m \u001b[0;34m*\u001b[0m\u001b[0margs\u001b[0m\u001b[0;34m,\u001b[0m \u001b[0;34m**\u001b[0m\u001b[0mkwargs\u001b[0m\u001b[0;34m)\u001b[0m\u001b[0;34m\u001b[0m\u001b[0;34m\u001b[0m\u001b[0m\n",
            "\u001b[0;32m/usr/local/lib/python3.10/dist-packages/matplotlib/axes/_axes.py\u001b[0m in \u001b[0;36mhist\u001b[0;34m(self, x, bins, range, density, weights, cumulative, bottom, histtype, align, orientation, rwidth, log, color, label, stacked, **kwargs)\u001b[0m\n\u001b[1;32m   6788\u001b[0m             \u001b[0;31m# this will automatically overwrite bins,\u001b[0m\u001b[0;34m\u001b[0m\u001b[0;34m\u001b[0m\u001b[0m\n\u001b[1;32m   6789\u001b[0m             \u001b[0;31m# so that each histogram uses the same bins\u001b[0m\u001b[0;34m\u001b[0m\u001b[0;34m\u001b[0m\u001b[0m\n\u001b[0;32m-> 6790\u001b[0;31m             \u001b[0mm\u001b[0m\u001b[0;34m,\u001b[0m \u001b[0mbins\u001b[0m \u001b[0;34m=\u001b[0m \u001b[0mnp\u001b[0m\u001b[0;34m.\u001b[0m\u001b[0mhistogram\u001b[0m\u001b[0;34m(\u001b[0m\u001b[0mx\u001b[0m\u001b[0;34m[\u001b[0m\u001b[0mi\u001b[0m\u001b[0;34m]\u001b[0m\u001b[0;34m,\u001b[0m \u001b[0mbins\u001b[0m\u001b[0;34m,\u001b[0m \u001b[0mweights\u001b[0m\u001b[0;34m=\u001b[0m\u001b[0mw\u001b[0m\u001b[0;34m[\u001b[0m\u001b[0mi\u001b[0m\u001b[0;34m]\u001b[0m\u001b[0;34m,\u001b[0m \u001b[0;34m**\u001b[0m\u001b[0mhist_kwargs\u001b[0m\u001b[0;34m)\u001b[0m\u001b[0;34m\u001b[0m\u001b[0;34m\u001b[0m\u001b[0m\n\u001b[0m\u001b[1;32m   6791\u001b[0m             \u001b[0mtops\u001b[0m\u001b[0;34m.\u001b[0m\u001b[0mappend\u001b[0m\u001b[0;34m(\u001b[0m\u001b[0mm\u001b[0m\u001b[0;34m)\u001b[0m\u001b[0;34m\u001b[0m\u001b[0;34m\u001b[0m\u001b[0m\n\u001b[1;32m   6792\u001b[0m         \u001b[0mtops\u001b[0m \u001b[0;34m=\u001b[0m \u001b[0mnp\u001b[0m\u001b[0;34m.\u001b[0m\u001b[0marray\u001b[0m\u001b[0;34m(\u001b[0m\u001b[0mtops\u001b[0m\u001b[0;34m,\u001b[0m \u001b[0mfloat\u001b[0m\u001b[0;34m)\u001b[0m  \u001b[0;31m# causes problems later if it's an int\u001b[0m\u001b[0;34m\u001b[0m\u001b[0;34m\u001b[0m\u001b[0m\n",
            "\u001b[0;32m/usr/local/lib/python3.10/dist-packages/numpy/core/overrides.py\u001b[0m in \u001b[0;36mhistogram\u001b[0;34m(*args, **kwargs)\u001b[0m\n",
            "\u001b[0;32m/usr/local/lib/python3.10/dist-packages/numpy/lib/histograms.py\u001b[0m in \u001b[0;36mhistogram\u001b[0;34m(a, bins, range, normed, weights, density)\u001b[0m\n\u001b[1;32m    821\u001b[0m \u001b[0;34m\u001b[0m\u001b[0m\n\u001b[1;32m    822\u001b[0m         \u001b[0;31m# Pre-compute histogram scaling factor\u001b[0m\u001b[0;34m\u001b[0m\u001b[0;34m\u001b[0m\u001b[0m\n\u001b[0;32m--> 823\u001b[0;31m         \u001b[0mnorm\u001b[0m \u001b[0;34m=\u001b[0m \u001b[0mn_equal_bins\u001b[0m \u001b[0;34m/\u001b[0m \u001b[0m_unsigned_subtract\u001b[0m\u001b[0;34m(\u001b[0m\u001b[0mlast_edge\u001b[0m\u001b[0;34m,\u001b[0m \u001b[0mfirst_edge\u001b[0m\u001b[0;34m)\u001b[0m\u001b[0;34m\u001b[0m\u001b[0;34m\u001b[0m\u001b[0m\n\u001b[0m\u001b[1;32m    824\u001b[0m \u001b[0;34m\u001b[0m\u001b[0m\n\u001b[1;32m    825\u001b[0m         \u001b[0;31m# We iterate over blocks here for two reasons: the first is that for\u001b[0m\u001b[0;34m\u001b[0m\u001b[0;34m\u001b[0m\u001b[0m\n",
            "\u001b[0;32m/usr/local/lib/python3.10/dist-packages/numpy/lib/histograms.py\u001b[0m in \u001b[0;36m_unsigned_subtract\u001b[0;34m(a, b)\u001b[0m\n\u001b[1;32m    351\u001b[0m         \u001b[0mdt\u001b[0m \u001b[0;34m=\u001b[0m \u001b[0msigned_to_unsigned\u001b[0m\u001b[0;34m[\u001b[0m\u001b[0mdt\u001b[0m\u001b[0;34m.\u001b[0m\u001b[0mtype\u001b[0m\u001b[0;34m]\u001b[0m\u001b[0;34m\u001b[0m\u001b[0;34m\u001b[0m\u001b[0m\n\u001b[1;32m    352\u001b[0m     \u001b[0;32mexcept\u001b[0m \u001b[0mKeyError\u001b[0m\u001b[0;34m:\u001b[0m\u001b[0;34m\u001b[0m\u001b[0;34m\u001b[0m\u001b[0m\n\u001b[0;32m--> 353\u001b[0;31m         \u001b[0;32mreturn\u001b[0m \u001b[0mnp\u001b[0m\u001b[0;34m.\u001b[0m\u001b[0msubtract\u001b[0m\u001b[0;34m(\u001b[0m\u001b[0ma\u001b[0m\u001b[0;34m,\u001b[0m \u001b[0mb\u001b[0m\u001b[0;34m,\u001b[0m \u001b[0mdtype\u001b[0m\u001b[0;34m=\u001b[0m\u001b[0mdt\u001b[0m\u001b[0;34m)\u001b[0m\u001b[0;34m\u001b[0m\u001b[0;34m\u001b[0m\u001b[0m\n\u001b[0m\u001b[1;32m    354\u001b[0m     \u001b[0;32melse\u001b[0m\u001b[0;34m:\u001b[0m\u001b[0;34m\u001b[0m\u001b[0;34m\u001b[0m\u001b[0m\n\u001b[1;32m    355\u001b[0m         \u001b[0;31m# we know the inputs are integers, and we are deliberately casting\u001b[0m\u001b[0;34m\u001b[0m\u001b[0;34m\u001b[0m\u001b[0m\n",
            "\u001b[0;31mTypeError\u001b[0m: numpy boolean subtract, the `-` operator, is not supported, use the bitwise_xor, the `^` operator, or the logical_xor function instead."
          ]
        },
        {
          "output_type": "display_data",
          "data": {
            "text/plain": [
              "<Figure size 640x480 with 1 Axes>"
            ],
            "image/png": "[encoded data removed]"
          },
          "metadata": {}
        }
      ]
    },
    {
      "cell_type": "markdown",
      "source": [
        "Evaluate Accuracy for Normal & Anomalous Data"
      ],
      "metadata": {
        "id": "2L18olxUPtQq"
      }
    },
    {
      "cell_type": "code",
      "source": [
        "# Normal data predictions\n",
        "preds_normal = normal_test_loss < threshold\n",
        "accuracy_normal = np.mean(preds_normal)\n",
        "\n",
        "# Anomaly data predictions\n",
        "preds_anomaly = anomalies > threshold\n",
        "accuracy_anomaly = np.mean(preds_anomaly)\n",
        "\n",
        "print(f\"Accuracy on normal data: {accuracy_normal * 100:.2f}%\")\n",
        "print(f\"Accuracy on anomaly data: {accuracy_anomaly * 100:.2f}%\")\n"
      ],
      "metadata": {
        "colab": {
          "base_uri": "https://localhost:8080/"
        },
        "id": "PX6TnBVRPuzW",
        "outputId": "e1b13403-2ea7-4fc3-e22f-0cadfa286bf8"
      },
      "execution_count": 50,
      "outputs": [
        {
          "output_type": "stream",
          "name": "stdout",
          "text": [
            "Accuracy on normal data: 98.06%\n",
            "Accuracy on anomaly data: 1.94%\n"
          ]
        }
      ]
    }
  ],
  "metadata": {
    "colab": {
      "provenance": [],
      "machine_shape": "hm",
      "gpuType": "T4"
    },
    "kernelspec": {
      "display_name": "Python 3",
      "name": "python3"
    },
    "language_info": {
      "name": "python"
    },
    "accelerator": "GPU"
  },
  "nbformat": 4,
  "nbformat_minor": 0
}