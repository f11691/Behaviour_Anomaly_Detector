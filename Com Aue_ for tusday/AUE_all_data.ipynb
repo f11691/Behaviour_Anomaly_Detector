{
 "cells": [
  {
   "cell_type": "code",
   "execution_count": 1,
   "id": "7b6b855c-2cfe-4e89-88a5-ad293158c384",
   "metadata": {},
   "outputs": [
    {
     "name": "stdout",
     "output_type": "stream",
     "text": [
      "Requirement already satisfied: keras in /Users/christinastodt/Library/jupyterlab-desktop/jlab_server/lib/python3.8/site-packages (2.13.1)\n",
      "Requirement already satisfied: tensorflow in /Users/christinastodt/Library/jupyterlab-desktop/jlab_server/lib/python3.8/site-packages (2.13.1)\n",
      "Requirement already satisfied: scikit-learn in /Users/christinastodt/Library/jupyterlab-desktop/jlab_server/lib/python3.8/site-packages (1.3.2)\n",
      "Requirement already satisfied: numpy in /Users/christinastodt/Library/jupyterlab-desktop/jlab_server/lib/python3.8/site-packages (1.24.3)\n",
      "Requirement already satisfied: absl-py>=1.0.0 in /Users/christinastodt/Library/jupyterlab-desktop/jlab_server/lib/python3.8/site-packages (from tensorflow) (2.0.0)\n",
      "Requirement already satisfied: astunparse>=1.6.0 in /Users/christinastodt/Library/jupyterlab-desktop/jlab_server/lib/python3.8/site-packages (from tensorflow) (1.6.3)\n",
      "Requirement already satisfied: flatbuffers>=23.1.21 in /Users/christinastodt/Library/jupyterlab-desktop/jlab_server/lib/python3.8/site-packages (from tensorflow) (23.5.26)\n",
      "Requirement already satisfied: gast<=0.4.0,>=0.2.1 in /Users/christinastodt/Library/jupyterlab-desktop/jlab_server/lib/python3.8/site-packages (from tensorflow) (0.4.0)\n",
      "Requirement already satisfied: google-pasta>=0.1.1 in /Users/christinastodt/Library/jupyterlab-desktop/jlab_server/lib/python3.8/site-packages (from tensorflow) (0.2.0)\n",
      "Requirement already satisfied: h5py>=2.9.0 in /Users/christinastodt/Library/jupyterlab-desktop/jlab_server/lib/python3.8/site-packages (from tensorflow) (3.10.0)\n",
      "Requirement already satisfied: libclang>=13.0.0 in /Users/christinastodt/Library/jupyterlab-desktop/jlab_server/lib/python3.8/site-packages (from tensorflow) (16.0.6)\n",
      "Requirement already satisfied: opt-einsum>=2.3.2 in /Users/christinastodt/Library/jupyterlab-desktop/jlab_server/lib/python3.8/site-packages (from tensorflow) (3.3.0)\n",
      "Requirement already satisfied: packaging in /Users/christinastodt/Library/jupyterlab-desktop/jlab_server/lib/python3.8/site-packages (from tensorflow) (23.1)\n",
      "Requirement already satisfied: protobuf!=4.21.0,!=4.21.1,!=4.21.2,!=4.21.3,!=4.21.4,!=4.21.5,<5.0.0dev,>=3.20.3 in /Users/christinastodt/Library/jupyterlab-desktop/jlab_server/lib/python3.8/site-packages (from tensorflow) (4.24.4)\n",
      "Requirement already satisfied: setuptools in /Users/christinastodt/Library/jupyterlab-desktop/jlab_server/lib/python3.8/site-packages (from tensorflow) (68.0.0)\n",
      "Requirement already satisfied: six>=1.12.0 in /Users/christinastodt/Library/jupyterlab-desktop/jlab_server/lib/python3.8/site-packages (from tensorflow) (1.16.0)\n",
      "Requirement already satisfied: termcolor>=1.1.0 in /Users/christinastodt/Library/jupyterlab-desktop/jlab_server/lib/python3.8/site-packages (from tensorflow) (2.3.0)\n",
      "Requirement already satisfied: typing-extensions<4.6.0,>=3.6.6 in /Users/christinastodt/Library/jupyterlab-desktop/jlab_server/lib/python3.8/site-packages (from tensorflow) (4.5.0)\n",
      "Requirement already satisfied: wrapt>=1.11.0 in /Users/christinastodt/Library/jupyterlab-desktop/jlab_server/lib/python3.8/site-packages (from tensorflow) (1.15.0)\n",
      "Requirement already satisfied: grpcio<2.0,>=1.24.3 in /Users/christinastodt/Library/jupyterlab-desktop/jlab_server/lib/python3.8/site-packages (from tensorflow) (1.59.0)\n",
      "Requirement already satisfied: tensorboard<2.14,>=2.13 in /Users/christinastodt/Library/jupyterlab-desktop/jlab_server/lib/python3.8/site-packages (from tensorflow) (2.13.0)\n",
      "Requirement already satisfied: tensorflow-estimator<2.14,>=2.13.0 in /Users/christinastodt/Library/jupyterlab-desktop/jlab_server/lib/python3.8/site-packages (from tensorflow) (2.13.0)\n",
      "Requirement already satisfied: tensorflow-io-gcs-filesystem>=0.23.1 in /Users/christinastodt/Library/jupyterlab-desktop/jlab_server/lib/python3.8/site-packages (from tensorflow) (0.34.0)\n",
      "Requirement already satisfied: scipy>=1.5.0 in /Users/christinastodt/Library/jupyterlab-desktop/jlab_server/lib/python3.8/site-packages (from scikit-learn) (1.10.1)\n",
      "Requirement already satisfied: joblib>=1.1.1 in /Users/christinastodt/Library/jupyterlab-desktop/jlab_server/lib/python3.8/site-packages (from scikit-learn) (1.3.2)\n",
      "Requirement already satisfied: threadpoolctl>=2.0.0 in /Users/christinastodt/Library/jupyterlab-desktop/jlab_server/lib/python3.8/site-packages (from scikit-learn) (3.2.0)\n",
      "Requirement already satisfied: wheel<1.0,>=0.23.0 in /Users/christinastodt/Library/jupyterlab-desktop/jlab_server/lib/python3.8/site-packages (from astunparse>=1.6.0->tensorflow) (0.41.1)\n",
      "Requirement already satisfied: google-auth<3,>=1.6.3 in /Users/christinastodt/Library/jupyterlab-desktop/jlab_server/lib/python3.8/site-packages (from tensorboard<2.14,>=2.13->tensorflow) (2.23.3)\n",
      "Requirement already satisfied: google-auth-oauthlib<1.1,>=0.5 in /Users/christinastodt/Library/jupyterlab-desktop/jlab_server/lib/python3.8/site-packages (from tensorboard<2.14,>=2.13->tensorflow) (1.0.0)\n",
      "Requirement already satisfied: markdown>=2.6.8 in /Users/christinastodt/Library/jupyterlab-desktop/jlab_server/lib/python3.8/site-packages (from tensorboard<2.14,>=2.13->tensorflow) (3.5)\n",
      "Requirement already satisfied: requests<3,>=2.21.0 in /Users/christinastodt/Library/jupyterlab-desktop/jlab_server/lib/python3.8/site-packages (from tensorboard<2.14,>=2.13->tensorflow) (2.31.0)\n",
      "Requirement already satisfied: tensorboard-data-server<0.8.0,>=0.7.0 in /Users/christinastodt/Library/jupyterlab-desktop/jlab_server/lib/python3.8/site-packages (from tensorboard<2.14,>=2.13->tensorflow) (0.7.1)\n",
      "Requirement already satisfied: werkzeug>=1.0.1 in /Users/christinastodt/Library/jupyterlab-desktop/jlab_server/lib/python3.8/site-packages (from tensorboard<2.14,>=2.13->tensorflow) (3.0.0)\n",
      "Requirement already satisfied: cachetools<6.0,>=2.0.0 in /Users/christinastodt/Library/jupyterlab-desktop/jlab_server/lib/python3.8/site-packages (from google-auth<3,>=1.6.3->tensorboard<2.14,>=2.13->tensorflow) (5.3.1)\n",
      "Requirement already satisfied: pyasn1-modules>=0.2.1 in /Users/christinastodt/Library/jupyterlab-desktop/jlab_server/lib/python3.8/site-packages (from google-auth<3,>=1.6.3->tensorboard<2.14,>=2.13->tensorflow) (0.3.0)\n",
      "Requirement already satisfied: rsa<5,>=3.1.4 in /Users/christinastodt/Library/jupyterlab-desktop/jlab_server/lib/python3.8/site-packages (from google-auth<3,>=1.6.3->tensorboard<2.14,>=2.13->tensorflow) (4.9)\n",
      "Requirement already satisfied: requests-oauthlib>=0.7.0 in /Users/christinastodt/Library/jupyterlab-desktop/jlab_server/lib/python3.8/site-packages (from google-auth-oauthlib<1.1,>=0.5->tensorboard<2.14,>=2.13->tensorflow) (1.3.1)\n",
      "Requirement already satisfied: importlib-metadata>=4.4 in /Users/christinastodt/Library/jupyterlab-desktop/jlab_server/lib/python3.8/site-packages (from markdown>=2.6.8->tensorboard<2.14,>=2.13->tensorflow) (6.8.0)\n",
      "Requirement already satisfied: charset-normalizer<4,>=2 in /Users/christinastodt/Library/jupyterlab-desktop/jlab_server/lib/python3.8/site-packages (from requests<3,>=2.21.0->tensorboard<2.14,>=2.13->tensorflow) (3.2.0)\n",
      "Requirement already satisfied: idna<4,>=2.5 in /Users/christinastodt/Library/jupyterlab-desktop/jlab_server/lib/python3.8/site-packages (from requests<3,>=2.21.0->tensorboard<2.14,>=2.13->tensorflow) (3.4)\n",
      "Requirement already satisfied: urllib3<3,>=1.21.1 in /Users/christinastodt/Library/jupyterlab-desktop/jlab_server/lib/python3.8/site-packages (from requests<3,>=2.21.0->tensorboard<2.14,>=2.13->tensorflow) (2.0.4)\n",
      "Requirement already satisfied: certifi>=2017.4.17 in /Users/christinastodt/Library/jupyterlab-desktop/jlab_server/lib/python3.8/site-packages (from requests<3,>=2.21.0->tensorboard<2.14,>=2.13->tensorflow) (2023.7.22)\n",
      "Requirement already satisfied: MarkupSafe>=2.1.1 in /Users/christinastodt/Library/jupyterlab-desktop/jlab_server/lib/python3.8/site-packages (from werkzeug>=1.0.1->tensorboard<2.14,>=2.13->tensorflow) (2.1.3)\n",
      "Requirement already satisfied: zipp>=0.5 in /Users/christinastodt/Library/jupyterlab-desktop/jlab_server/lib/python3.8/site-packages (from importlib-metadata>=4.4->markdown>=2.6.8->tensorboard<2.14,>=2.13->tensorflow) (3.16.2)\n",
      "Requirement already satisfied: pyasn1<0.6.0,>=0.4.6 in /Users/christinastodt/Library/jupyterlab-desktop/jlab_server/lib/python3.8/site-packages (from pyasn1-modules>=0.2.1->google-auth<3,>=1.6.3->tensorboard<2.14,>=2.13->tensorflow) (0.5.0)\n",
      "Requirement already satisfied: oauthlib>=3.0.0 in /Users/christinastodt/Library/jupyterlab-desktop/jlab_server/lib/python3.8/site-packages (from requests-oauthlib>=0.7.0->google-auth-oauthlib<1.1,>=0.5->tensorboard<2.14,>=2.13->tensorflow) (3.2.2)\n"
     ]
    }
   ],
   "source": [
    "# In[1]:\n",
    "!pip install keras tensorflow scikit-learn numpy"
   ]
  },
  {
   "cell_type": "code",
   "execution_count": 2,
   "id": "157b6a41-a3b4-43b3-bac4-1c96f51d2d2d",
   "metadata": {},
   "outputs": [],
   "source": [
    "\n",
    "# In[1]:\n",
    "import pandas as pd\n",
    "\n",
    "# Load the training and testing data\n",
    "train_data = pd.read_csv('train_tuesday.csv')\n",
    "test_data = pd.read_csv('test_tuesday.csv')"
   ]
  },
  {
   "cell_type": "code",
   "execution_count": 3,
   "id": "2807db73-0440-4daa-9b4f-3775ad0c27be",
   "metadata": {},
   "outputs": [],
   "source": [
    "# Load the training and testing data\n",
    "train_data = pd.read_csv('train_tuesday_benign.csv')\n",
    "test_data = pd.read_csv('test_tuesday.csv')\n"
   ]
  },
  {
   "cell_type": "code",
   "execution_count": 4,
   "id": "aec5c668-3f99-4e6b-b00f-1004b7aa2238",
   "metadata": {},
   "outputs": [],
   "source": [
    "# Select the features to be used for the autoencoder\n",
    "#selected_features = [1, 8, 12, 14, 79, 15, 18, 25, 28, 32, 33, 37, 39, 44, 46, 55, 56]\n",
    "selected_features = [\n",
    "    'Dst Port', 'Fwd Packet Length Max', 'Bwd Packet Length Max',\n",
    "    'Bwd Packet Length Mean', 'Bwd Packet Length Std', 'Flow IAT Mean',\n",
    "    'Fwd IAT Std', 'Bwd IAT Mean', 'Fwd PSH Flags', 'Bwd PSH Flags',\n",
    "    'Fwd RST Flags', 'Fwd Header Length', 'Packet Length Max',\n",
    "    'Packet Length Std', 'Fwd Segment Size Avg', 'Bwd Segment Size Avg',\n",
    "    'ICMP Type'\n",
    "]\n",
    "X_train = train_data.loc[:, selected_features]\n",
    "y_train = train_data['Label']  # Assuming the last column is 'Label'\n",
    "X_test = test_data.loc[:, selected_features]\n",
    "y_test = test_data['Label']    # Assuming the last column is 'Label'\n"
   ]
  },
  {
   "cell_type": "code",
   "execution_count": 5,
   "id": "33f8c526-3c20-4bdb-a1d1-c94e5eebcca9",
   "metadata": {},
   "outputs": [],
   "source": [
    "# In[5]:\n",
    "from keras.layers import Input, Dense, Dropout\n",
    "from keras.models import Model\n",
    "from keras.optimizers import Adam\n",
    "from sklearn.preprocessing import StandardScaler\n",
    "from keras.callbacks import EarlyStopping\n",
    "\n",
    "def create_autoencoder(input_dim):\n",
    "    # Define the sizes of the encoded representations\n",
    "    encoding_dim_1 = int(input_dim / 2)\n",
    "    encoding_dim_2 = int(encoding_dim_1 / 2)\n",
    "    bottleneck_dim = int(encoding_dim_2 / 2)\n",
    "\n",
    "    # Define input layer\n",
    "    input_layer = Input(shape=(input_dim,))\n",
    "\n",
    "    # Define encoding layers\n",
    "    encoded_1 = Dense(encoding_dim_1, activation='relu')(input_layer)\n",
    "    encoded_1 = Dropout(0.3)(encoded_1)  # Dropout layer\n",
    "    encoded_2 = Dense(encoding_dim_2, activation='relu')(encoded_1)\n",
    "    encoded_2 = Dropout(0.3)(encoded_2)  # Dropout layer\n",
    "    bottleneck = Dense(bottleneck_dim, activation='relu')(encoded_2)\n",
    "\n",
    "    # Define decoding layers\n",
    "    decoded_1 = Dense(encoding_dim_2, activation='relu')(bottleneck)\n",
    "    decoded_1 = Dropout(0.3)(decoded_1)  # Dropout layer\n",
    "    decoded_2 = Dense(encoding_dim_1, activation='relu')(decoded_1)\n",
    "    decoded_2 = Dropout(0.3)(decoded_2)  # Dropout layer\n",
    "    output_layer = Dense(input_dim, activation='sigmoid')(decoded_2)\n",
    "\n",
    "    # Combine the layers to create the autoencoder model\n",
    "    autoencoder = Model(input_layer, output_layer)\n",
    "\n",
    "    return autoencoder"
   ]
  },
  {
   "cell_type": "code",
   "execution_count": 6,
   "id": "f1f184fd-f59c-4d83-93d5-75718a0c8ea9",
   "metadata": {},
   "outputs": [
    {
     "name": "stderr",
     "output_type": "stream",
     "text": [
      "2023-11-06 20:24:06.880004: I metal_plugin/src/device/metal_device.cc:1154] Metal device set to: Apple M2 Pro\n",
      "2023-11-06 20:24:06.880030: I metal_plugin/src/device/metal_device.cc:296] systemMemory: 32.00 GB\n",
      "2023-11-06 20:24:06.880041: I metal_plugin/src/device/metal_device.cc:313] maxCacheSize: 10.67 GB\n",
      "2023-11-06 20:24:06.880079: I tensorflow/core/common_runtime/pluggable_device/pluggable_device_factory.cc:306] Could not identify NUMA node of platform GPU ID 0, defaulting to 0. Your kernel may not have been built with NUMA support.\n",
      "2023-11-06 20:24:06.880098: I tensorflow/core/common_runtime/pluggable_device/pluggable_device_factory.cc:272] Created TensorFlow device (/job:localhost/replica:0/task:0/device:GPU:0 with 0 MB memory) -> physical PluggableDevice (device: 0, name: METAL, pci bus id: <undefined>)\n"
     ]
    },
    {
     "name": "stdout",
     "output_type": "stream",
     "text": [
      "Epoch 1/50\n"
     ]
    },
    {
     "name": "stderr",
     "output_type": "stream",
     "text": [
      "2023-11-06 20:24:07.362739: I tensorflow/core/grappler/optimizers/custom_graph_optimizer_registry.cc:117] Plugin optimizer for device_type GPU is enabled.\n",
      "2023-11-06 20:24:07.400433: E tensorflow/core/grappler/optimizers/meta_optimizer.cc:961] model_pruner failed: INVALID_ARGUMENT: Graph does not contain terminal node Adam/AssignAddVariableOp.\n"
     ]
    },
    {
     "name": "stdout",
     "output_type": "stream",
     "text": [
      "862/862 [==============================] - 8s 8ms/step - loss: 0.9506 - val_loss: 0.8653\n",
      "Epoch 2/50\n",
      "862/862 [==============================] - 7s 8ms/step - loss: 0.8690 - val_loss: 0.8377\n",
      "Epoch 3/50\n",
      "862/862 [==============================] - 7s 8ms/step - loss: 0.8538 - val_loss: 0.8274\n",
      "Epoch 4/50\n",
      "862/862 [==============================] - 7s 8ms/step - loss: 0.8455 - val_loss: 0.8146\n",
      "Epoch 5/50\n",
      "862/862 [==============================] - 7s 8ms/step - loss: 0.8444 - val_loss: 0.8166\n",
      "Epoch 6/50\n",
      "862/862 [==============================] - 7s 8ms/step - loss: 0.8433 - val_loss: 0.8326\n",
      "Epoch 7/50\n",
      "862/862 [==============================] - 7s 8ms/step - loss: 0.8472 - val_loss: 0.8205\n",
      "Epoch 8/50\n",
      "862/862 [==============================] - 7s 8ms/step - loss: 0.8467 - val_loss: 0.8228\n",
      "Epoch 9/50\n",
      "862/862 [==============================] - 7s 8ms/step - loss: 0.8439 - val_loss: 0.8401\n"
     ]
    },
    {
     "name": "stderr",
     "output_type": "stream",
     "text": [
      "/Users/christinastodt/anaconda3/envs/AnomalyTest/lib/python3.9/site-packages/keras/src/engine/training.py:3079: UserWarning: You are saving your model as an HDF5 file via `model.save()`. This file format is considered legacy. We recommend using instead the native Keras format, e.g. `model.save('my_model.keras')`.\n",
      "  saving_api.save_model(\n"
     ]
    }
   ],
   "source": [
    "# In[6]:\n",
    "# 1. Feature Scaling:\n",
    "scaler = StandardScaler().fit(X_train)\n",
    "X_train_scaled = scaler.transform(X_train)\n",
    "X_test_scaled = scaler.transform(X_test)\n",
    "\n",
    "# 2. Model Creation and Compilation:\n",
    "input_dim = X_train_scaled.shape[1]\n",
    "autoencoder = create_autoencoder(input_dim)\n",
    "autoencoder.compile(optimizer=Adam(learning_rate=0.001), loss='mean_squared_error')\n",
    "\n",
    "# 3. Early Stopping:\n",
    "early_stopping = EarlyStopping(monitor='val_loss', patience=5, restore_best_weights=True)\n",
    "\n",
    "# 4. Training the Model:\n",
    "autoencoder.fit(X_train_scaled, X_train_scaled,\n",
    "                epochs=50,\n",
    "                batch_size=256,\n",
    "                shuffle=True,\n",
    "                validation_data=(X_test_scaled, X_test_scaled),\n",
    "                callbacks=[early_stopping])\n",
    "\n",
    "autoencoder.save('autoencoder_model1_ARP.h5')"
   ]
  },
  {
   "cell_type": "code",
   "execution_count": 7,
   "id": "a9de4ffe-370f-40d7-b5a2-add03e9478f5",
   "metadata": {},
   "outputs": [],
   "source": [
    "autoencoder.save('autoencoder_model1_ARP.h5')"
   ]
  },
  {
   "cell_type": "code",
   "execution_count": 8,
   "id": "9ae46c62-3bec-47a9-9e89-34301ca47906",
   "metadata": {},
   "outputs": [
    {
     "name": "stdout",
     "output_type": "stream",
     "text": [
      "3020/3020 [==============================] - 4s 1ms/step\n"
     ]
    }
   ],
   "source": [
    "# In[7]:\n",
    "import numpy as np\n",
    "\n",
    "# Predict the test set\n",
    "predictions = autoencoder.predict(X_test_scaled)\n",
    "\n",
    "# Calculate mean squared error between predictions and actual values\n",
    "mse = np.mean(np.power(X_test_scaled - predictions, 2), axis=1)\n"
   ]
  },
  {
   "cell_type": "code",
   "execution_count": 9,
   "id": "381f6302-56c4-4355-8a07-c2bc79e7b84b",
   "metadata": {},
   "outputs": [
    {
     "data": {
      "image/png": "[encoded data removed]",
      "text/plain": [
       "<Figure size 1000x800 with 1 Axes>"
      ]
     },
     "metadata": {},
     "output_type": "display_data"
    }
   ],
   "source": [
    "# In[8]:\n",
    "from sklearn.metrics import roc_curve, auc\n",
    "import matplotlib.pyplot as plt\n",
    "\n",
    "# Calculate the ROC curve\n",
    "fpr, tpr, thresholds = roc_curve(y_test, mse)\n",
    "\n",
    "# Calculate the AUC (Area Under the Curve)\n",
    "roc_auc = auc(fpr, tpr)\n",
    "\n",
    "# Plot the ROC curve\n",
    "plt.figure(figsize=(10, 8))\n",
    "plt.plot(fpr, tpr, color='darkorange', lw=2, label='ROC curve (area = %0.2f)' % roc_auc)\n",
    "plt.plot([0, 1], [0, 1], color='navy', lw=2, linestyle='--')\n",
    "plt.xlim([0.0, 1.0])\n",
    "plt.ylim([0.0, 1.05])\n",
    "plt.xlabel('False Positive Rate')\n",
    "plt.ylabel('True Positive Rate')\n",
    "plt.title('Receiver Operating Characteristic Curve')\n",
    "plt.legend(loc=\"lower right\")\n",
    "plt.show()"
   ]
  },
  {
   "cell_type": "code",
   "execution_count": 10,
   "id": "9994926d-0c88-4ced-b8e5-f7e9027d2571",
   "metadata": {},
   "outputs": [
    {
     "name": "stdout",
     "output_type": "stream",
     "text": [
      "3020/3020 [==============================] - 4s 1ms/step\n",
      "Reconstruction error (MSE) for each sample:\n",
      "[0.19851454 0.78086603 2.3588381  ... 1.53001412 0.67552443 0.10277166]\n",
      "Optimal Threshold: 0.19949748743718593\n",
      "F1 Score: 0.12522404110407453\n",
      "Accuracy: 0.6969282993873158\n",
      "General MSE: 0.8145928325436718\n"
     ]
    }
   ],
   "source": [
    "from sklearn.metrics import f1_score, accuracy_score\n",
    "import numpy as np\n",
    "\n",
    "# Ensure you use the scaled test data for making predictions\n",
    "X_test_predictions = autoencoder.predict(X_test_scaled)\n",
    "\n",
    "# Calculating the mean squared error (reconstruction error) between the original scaled data and their reconstructions\n",
    "mse = np.mean(np.power(X_test_scaled - X_test_predictions, 2), axis=1)\n",
    "\n",
    "# Print the mean squared errors\n",
    "print(\"Reconstruction error (MSE) for each sample:\")\n",
    "print(mse)\n",
    "general_mse = np.mean(mse)\n",
    "\n",
    "# Choose a threshold value for which F1 score is maximized\n",
    "thresholds = np.linspace(0.1, 10, 200)  # Adjust the range and granularity as needed\n",
    "f1_scores = [f1_score(y_test, mse > threshold) for threshold in thresholds]\n",
    "optimal_threshold = thresholds[np.argmax(f1_scores)]\n",
    "\n",
    "# Predicting anomalies using the optimal threshold\n",
    "y_pred = (mse > optimal_threshold).astype(int)\n",
    "\n",
    "# Calculating F1 score and accuracy based on the reconstruction error\n",
    "f1 = f1_score(y_test, y_pred)\n",
    "accuracy = accuracy_score(y_test, y_pred)\n",
    "\n",
    "print(f\"Optimal Threshold: {optimal_threshold}\")\n",
    "print(f\"F1 Score: {f1}\")\n",
    "print(f\"Accuracy: {accuracy}\")\n",
    "print(f\"General MSE: {general_mse}\")\n",
    "\n",
    "\n"
   ]
  },
  {
   "cell_type": "code",
   "execution_count": null,
   "id": "f68d2200-8f9e-4729-8d2d-6fbf3a2f759f",
   "metadata": {},
   "outputs": [],
   "source": []
  }
 ],
 "metadata": {
  "kernelspec": {
   "display_name": "AnomalyTest",
   "language": "python",
   "name": "anomalytest"
  },
  "language_info": {
   "codemirror_mode": {
    "name": "ipython",
    "version": 3
   },
   "file_extension": ".py",
   "mimetype": "text/x-python",
   "name": "python",
   "nbconvert_exporter": "python",
   "pygments_lexer": "ipython3",
   "version": "3.9.18"
  }
 },
 "nbformat": 4,
 "nbformat_minor": 5
}
