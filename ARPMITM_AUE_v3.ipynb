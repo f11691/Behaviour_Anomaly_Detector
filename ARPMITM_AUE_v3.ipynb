{
 "cells": [
  {
   "cell_type": "code",
   "execution_count": 1,
   "id": "9e5c6d50-eeb7-4f55-8c34-a6be2dfe6d2b",
   "metadata": {},
   "outputs": [
    {
     "name": "stdout",
     "output_type": "stream",
     "text": [
      "Requirement already satisfied: keras in /Users/christinastodt/anaconda3/envs/AnomalyTest/lib/python3.9/site-packages (2.14.0)\n",
      "Requirement already satisfied: tensorflow in /Users/christinastodt/anaconda3/envs/AnomalyTest/lib/python3.9/site-packages (2.14.0)\n",
      "Requirement already satisfied: scikit-learn in /Users/christinastodt/anaconda3/envs/AnomalyTest/lib/python3.9/site-packages (1.3.1)\n",
      "Requirement already satisfied: numpy in /Users/christinastodt/anaconda3/envs/AnomalyTest/lib/python3.9/site-packages (1.26.0)\n",
      "Requirement already satisfied: tensorflow-macos==2.14.0 in /Users/christinastodt/anaconda3/envs/AnomalyTest/lib/python3.9/site-packages (from tensorflow) (2.14.0)\n",
      "Requirement already satisfied: absl-py>=1.0.0 in /Users/christinastodt/anaconda3/envs/AnomalyTest/lib/python3.9/site-packages (from tensorflow-macos==2.14.0->tensorflow) (2.0.0)\n",
      "Requirement already satisfied: astunparse>=1.6.0 in /Users/christinastodt/anaconda3/envs/AnomalyTest/lib/python3.9/site-packages (from tensorflow-macos==2.14.0->tensorflow) (1.6.3)\n",
      "Requirement already satisfied: flatbuffers>=23.5.26 in /Users/christinastodt/anaconda3/envs/AnomalyTest/lib/python3.9/site-packages (from tensorflow-macos==2.14.0->tensorflow) (23.5.26)\n",
      "Requirement already satisfied: gast!=0.5.0,!=0.5.1,!=0.5.2,>=0.2.1 in /Users/christinastodt/anaconda3/envs/AnomalyTest/lib/python3.9/site-packages (from tensorflow-macos==2.14.0->tensorflow) (0.5.4)\n",
      "Requirement already satisfied: google-pasta>=0.1.1 in /Users/christinastodt/anaconda3/envs/AnomalyTest/lib/python3.9/site-packages (from tensorflow-macos==2.14.0->tensorflow) (0.2.0)\n",
      "Requirement already satisfied: h5py>=2.9.0 in /Users/christinastodt/anaconda3/envs/AnomalyTest/lib/python3.9/site-packages (from tensorflow-macos==2.14.0->tensorflow) (3.10.0)\n",
      "Requirement already satisfied: libclang>=13.0.0 in /Users/christinastodt/anaconda3/envs/AnomalyTest/lib/python3.9/site-packages (from tensorflow-macos==2.14.0->tensorflow) (16.0.6)\n",
      "Requirement already satisfied: ml-dtypes==0.2.0 in /Users/christinastodt/anaconda3/envs/AnomalyTest/lib/python3.9/site-packages (from tensorflow-macos==2.14.0->tensorflow) (0.2.0)\n",
      "Requirement already satisfied: opt-einsum>=2.3.2 in /Users/christinastodt/anaconda3/envs/AnomalyTest/lib/python3.9/site-packages (from tensorflow-macos==2.14.0->tensorflow) (3.3.0)\n",
      "Requirement already satisfied: packaging in /Users/christinastodt/anaconda3/envs/AnomalyTest/lib/python3.9/site-packages (from tensorflow-macos==2.14.0->tensorflow) (23.1)\n",
      "Requirement already satisfied: protobuf!=4.21.0,!=4.21.1,!=4.21.2,!=4.21.3,!=4.21.4,!=4.21.5,<5.0.0dev,>=3.20.3 in /Users/christinastodt/anaconda3/envs/AnomalyTest/lib/python3.9/site-packages (from tensorflow-macos==2.14.0->tensorflow) (4.24.4)\n",
      "Requirement already satisfied: setuptools in /Users/christinastodt/anaconda3/envs/AnomalyTest/lib/python3.9/site-packages (from tensorflow-macos==2.14.0->tensorflow) (68.0.0)\n",
      "Requirement already satisfied: six>=1.12.0 in /Users/christinastodt/anaconda3/envs/AnomalyTest/lib/python3.9/site-packages (from tensorflow-macos==2.14.0->tensorflow) (1.16.0)\n",
      "Requirement already satisfied: termcolor>=1.1.0 in /Users/christinastodt/anaconda3/envs/AnomalyTest/lib/python3.9/site-packages (from tensorflow-macos==2.14.0->tensorflow) (2.3.0)\n",
      "Requirement already satisfied: typing-extensions>=3.6.6 in /Users/christinastodt/anaconda3/envs/AnomalyTest/lib/python3.9/site-packages (from tensorflow-macos==2.14.0->tensorflow) (4.7.1)\n",
      "Requirement already satisfied: wrapt<1.15,>=1.11.0 in /Users/christinastodt/anaconda3/envs/AnomalyTest/lib/python3.9/site-packages (from tensorflow-macos==2.14.0->tensorflow) (1.14.1)\n",
      "Requirement already satisfied: tensorflow-io-gcs-filesystem>=0.23.1 in /Users/christinastodt/anaconda3/envs/AnomalyTest/lib/python3.9/site-packages (from tensorflow-macos==2.14.0->tensorflow) (0.34.0)\n",
      "Requirement already satisfied: grpcio<2.0,>=1.24.3 in /Users/christinastodt/anaconda3/envs/AnomalyTest/lib/python3.9/site-packages (from tensorflow-macos==2.14.0->tensorflow) (1.59.0)\n",
      "Requirement already satisfied: tensorboard<2.15,>=2.14 in /Users/christinastodt/anaconda3/envs/AnomalyTest/lib/python3.9/site-packages (from tensorflow-macos==2.14.0->tensorflow) (2.14.1)\n",
      "Requirement already satisfied: tensorflow-estimator<2.15,>=2.14.0 in /Users/christinastodt/anaconda3/envs/AnomalyTest/lib/python3.9/site-packages (from tensorflow-macos==2.14.0->tensorflow) (2.14.0)\n",
      "Requirement already satisfied: scipy>=1.5.0 in /Users/christinastodt/anaconda3/envs/AnomalyTest/lib/python3.9/site-packages (from scikit-learn) (1.11.3)\n",
      "Requirement already satisfied: joblib>=1.1.1 in /Users/christinastodt/anaconda3/envs/AnomalyTest/lib/python3.9/site-packages (from scikit-learn) (1.3.2)\n",
      "Requirement already satisfied: threadpoolctl>=2.0.0 in /Users/christinastodt/anaconda3/envs/AnomalyTest/lib/python3.9/site-packages (from scikit-learn) (3.2.0)\n",
      "Requirement already satisfied: wheel<1.0,>=0.23.0 in /Users/christinastodt/anaconda3/envs/AnomalyTest/lib/python3.9/site-packages (from astunparse>=1.6.0->tensorflow-macos==2.14.0->tensorflow) (0.41.2)\n",
      "Requirement already satisfied: google-auth<3,>=1.6.3 in /Users/christinastodt/anaconda3/envs/AnomalyTest/lib/python3.9/site-packages (from tensorboard<2.15,>=2.14->tensorflow-macos==2.14.0->tensorflow) (2.23.3)\n",
      "Requirement already satisfied: google-auth-oauthlib<1.1,>=0.5 in /Users/christinastodt/anaconda3/envs/AnomalyTest/lib/python3.9/site-packages (from tensorboard<2.15,>=2.14->tensorflow-macos==2.14.0->tensorflow) (1.0.0)\n",
      "Requirement already satisfied: markdown>=2.6.8 in /Users/christinastodt/anaconda3/envs/AnomalyTest/lib/python3.9/site-packages (from tensorboard<2.15,>=2.14->tensorflow-macos==2.14.0->tensorflow) (3.5)\n",
      "Requirement already satisfied: requests<3,>=2.21.0 in /Users/christinastodt/anaconda3/envs/AnomalyTest/lib/python3.9/site-packages (from tensorboard<2.15,>=2.14->tensorflow-macos==2.14.0->tensorflow) (2.31.0)\n",
      "Requirement already satisfied: tensorboard-data-server<0.8.0,>=0.7.0 in /Users/christinastodt/anaconda3/envs/AnomalyTest/lib/python3.9/site-packages (from tensorboard<2.15,>=2.14->tensorflow-macos==2.14.0->tensorflow) (0.7.1)\n",
      "Requirement already satisfied: werkzeug>=1.0.1 in /Users/christinastodt/anaconda3/envs/AnomalyTest/lib/python3.9/site-packages (from tensorboard<2.15,>=2.14->tensorflow-macos==2.14.0->tensorflow) (3.0.0)\n",
      "Requirement already satisfied: cachetools<6.0,>=2.0.0 in /Users/christinastodt/anaconda3/envs/AnomalyTest/lib/python3.9/site-packages (from google-auth<3,>=1.6.3->tensorboard<2.15,>=2.14->tensorflow-macos==2.14.0->tensorflow) (5.3.1)\n",
      "Requirement already satisfied: pyasn1-modules>=0.2.1 in /Users/christinastodt/anaconda3/envs/AnomalyTest/lib/python3.9/site-packages (from google-auth<3,>=1.6.3->tensorboard<2.15,>=2.14->tensorflow-macos==2.14.0->tensorflow) (0.3.0)\n",
      "Requirement already satisfied: rsa<5,>=3.1.4 in /Users/christinastodt/anaconda3/envs/AnomalyTest/lib/python3.9/site-packages (from google-auth<3,>=1.6.3->tensorboard<2.15,>=2.14->tensorflow-macos==2.14.0->tensorflow) (4.9)\n",
      "Requirement already satisfied: requests-oauthlib>=0.7.0 in /Users/christinastodt/anaconda3/envs/AnomalyTest/lib/python3.9/site-packages (from google-auth-oauthlib<1.1,>=0.5->tensorboard<2.15,>=2.14->tensorflow-macos==2.14.0->tensorflow) (1.3.1)\n",
      "Requirement already satisfied: importlib-metadata>=4.4 in /Users/christinastodt/anaconda3/envs/AnomalyTest/lib/python3.9/site-packages (from markdown>=2.6.8->tensorboard<2.15,>=2.14->tensorflow-macos==2.14.0->tensorflow) (6.0.0)\n",
      "Requirement already satisfied: charset-normalizer<4,>=2 in /Users/christinastodt/anaconda3/envs/AnomalyTest/lib/python3.9/site-packages (from requests<3,>=2.21.0->tensorboard<2.15,>=2.14->tensorflow-macos==2.14.0->tensorflow) (3.3.0)\n",
      "Requirement already satisfied: idna<4,>=2.5 in /Users/christinastodt/anaconda3/envs/AnomalyTest/lib/python3.9/site-packages (from requests<3,>=2.21.0->tensorboard<2.15,>=2.14->tensorflow-macos==2.14.0->tensorflow) (3.4)\n",
      "Requirement already satisfied: urllib3<3,>=1.21.1 in /Users/christinastodt/anaconda3/envs/AnomalyTest/lib/python3.9/site-packages (from requests<3,>=2.21.0->tensorboard<2.15,>=2.14->tensorflow-macos==2.14.0->tensorflow) (2.0.6)\n",
      "Requirement already satisfied: certifi>=2017.4.17 in /Users/christinastodt/anaconda3/envs/AnomalyTest/lib/python3.9/site-packages (from requests<3,>=2.21.0->tensorboard<2.15,>=2.14->tensorflow-macos==2.14.0->tensorflow) (2023.7.22)\n",
      "Requirement already satisfied: MarkupSafe>=2.1.1 in /Users/christinastodt/anaconda3/envs/AnomalyTest/lib/python3.9/site-packages (from werkzeug>=1.0.1->tensorboard<2.15,>=2.14->tensorflow-macos==2.14.0->tensorflow) (2.1.3)\n",
      "Requirement already satisfied: zipp>=0.5 in /Users/christinastodt/anaconda3/envs/AnomalyTest/lib/python3.9/site-packages (from importlib-metadata>=4.4->markdown>=2.6.8->tensorboard<2.15,>=2.14->tensorflow-macos==2.14.0->tensorflow) (3.11.0)\n",
      "Requirement already satisfied: pyasn1<0.6.0,>=0.4.6 in /Users/christinastodt/anaconda3/envs/AnomalyTest/lib/python3.9/site-packages (from pyasn1-modules>=0.2.1->google-auth<3,>=1.6.3->tensorboard<2.15,>=2.14->tensorflow-macos==2.14.0->tensorflow) (0.5.0)\n",
      "Requirement already satisfied: oauthlib>=3.0.0 in /Users/christinastodt/anaconda3/envs/AnomalyTest/lib/python3.9/site-packages (from requests-oauthlib>=0.7.0->google-auth-oauthlib<1.1,>=0.5->tensorboard<2.15,>=2.14->tensorflow-macos==2.14.0->tensorflow) (3.2.2)\n",
      "Note: you may need to restart the kernel to use updated packages.\n"
     ]
    }
   ],
   "source": [
    "pip install keras tensorflow scikit-learn numpy\n"
   ]
  },
  {
   "cell_type": "code",
   "execution_count": 2,
   "id": "981b9964-440a-40f3-81aa-1536b954baca",
   "metadata": {},
   "outputs": [],
   "source": [
    "import pandas as pd\n",
    "\n",
    "# Load ARP MITM data and labels\n",
    "arp_mitm_data = pd.read_csv('ARP_MitM_dataset.csv')\n",
    "arp_mitm_labels = pd.read_csv('ARP_MitM_labels.csv')\n"
   ]
  },
  {
   "cell_type": "code",
   "execution_count": 3,
   "id": "94a80eaf-d96d-4aff-9726-acbe3693f8b8",
   "metadata": {},
   "outputs": [],
   "source": [
    "# Use the union of features for training and evaluation\n",
    "selected_features = [24, 27, 62, 77, 12, 74, 58, 64]\n",
    "arp_mitm_data = arp_mitm_data.iloc[:, selected_features]\n",
    "\n",
    "\n"
   ]
  },
  {
   "cell_type": "code",
   "execution_count": 4,
   "id": "6d38582a-409b-4d6d-aa2d-5e06f1e5827e",
   "metadata": {},
   "outputs": [
    {
     "name": "stdout",
     "output_type": "stream",
     "text": [
      "Index(['Unnamed: 0', 'x'], dtype='object')\n"
     ]
    }
   ],
   "source": [
    "from sklearn.model_selection import train_test_split\n",
    "\n",
    "\n",
    "# Check the columns in arp_mitm_labels\n",
    "print(arp_mitm_labels.columns)\n",
    "\n",
    "# Assuming the column containing the labels is named 'Label' (you can adjust this if it's different)\n",
    "arp_mitm_data['Label'] = arp_mitm_labels['x']\n",
    "\n",
    "# Continue with the rest of the code\n",
    "benign_filter = arp_mitm_data['Label'] == 'Benign'\n",
    "X = arp_mitm_data.drop(columns=['Label'])\n",
    "X_train, X_test, y_train, y_test = train_test_split(X, arp_mitm_data['Label'], test_size=0.2, shuffle=True)\n"
   ]
  },
  {
   "cell_type": "code",
   "execution_count": 5,
   "id": "723bdbf1-6c9b-4e52-ad41-5f3af23aea95",
   "metadata": {},
   "outputs": [],
   "source": [
    "from keras.layers import Input, Dense\n",
    "from keras.models import Model\n",
    "from keras.optimizers import Adam\n",
    "from sklearn.preprocessing import StandardScaler\n",
    "from keras.callbacks import EarlyStopping\n",
    "\n",
    "def create_autoencoder(input_dim):\n",
    "    # Define the size of the encoded representations\n",
    "    encoding_dim = int(input_dim / 2)  # Feel free to adjust this value as needed\n",
    "\n",
    "    # Define input layer\n",
    "    input_layer = Input(shape=(input_dim,))\n",
    "\n",
    "    # Define encoding layers\n",
    "    encoded = Dense(encoding_dim, activation='relu')(input_layer)\n",
    "    # You can add more layers here if needed\n",
    "\n",
    "    # Define decoding layers\n",
    "    decoded = Dense(input_dim, activation='sigmoid')(encoded)\n",
    "    # You can add more layers here if needed\n",
    "\n",
    "    # Combine the layers to create the autoencoder model\n",
    "    autoencoder = Model(input_layer, decoded)\n",
    "\n",
    "    return autoencoder\n"
   ]
  },
  {
   "cell_type": "code",
   "execution_count": 6,
   "id": "5f9700a0-345d-4d8a-b551-5223a95b9779",
   "metadata": {},
   "outputs": [
    {
     "name": "stderr",
     "output_type": "stream",
     "text": [
      "2023-10-30 14:41:22.880671: I metal_plugin/src/device/metal_device.cc:1154] Metal device set to: Apple M2 Pro\n",
      "2023-10-30 14:41:22.880700: I metal_plugin/src/device/metal_device.cc:296] systemMemory: 32.00 GB\n",
      "2023-10-30 14:41:22.880705: I metal_plugin/src/device/metal_device.cc:313] maxCacheSize: 10.67 GB\n",
      "2023-10-30 14:41:22.880732: I tensorflow/core/common_runtime/pluggable_device/pluggable_device_factory.cc:306] Could not identify NUMA node of platform GPU ID 0, defaulting to 0. Your kernel may not have been built with NUMA support.\n",
      "2023-10-30 14:41:22.880747: I tensorflow/core/common_runtime/pluggable_device/pluggable_device_factory.cc:272] Created TensorFlow device (/job:localhost/replica:0/task:0/device:GPU:0 with 0 MB memory) -> physical PluggableDevice (device: 0, name: METAL, pci bus id: <undefined>)\n"
     ]
    },
    {
     "name": "stdout",
     "output_type": "stream",
     "text": [
      "Epoch 1/50\n"
     ]
    },
    {
     "name": "stderr",
     "output_type": "stream",
     "text": [
      "2023-10-30 14:41:23.472477: I tensorflow/core/grappler/optimizers/custom_graph_optimizer_registry.cc:117] Plugin optimizer for device_type GPU is enabled.\n",
      "2023-10-30 14:41:23.490312: E tensorflow/core/grappler/optimizers/meta_optimizer.cc:961] model_pruner failed: INVALID_ARGUMENT: Graph does not contain terminal node Adam/AssignAddVariableOp.\n"
     ]
    },
    {
     "name": "stdout",
     "output_type": "stream",
     "text": [
      "4247/4247 [==============================] - 23s 5ms/step - loss: 0.8744 - val_loss: 0.6478\n",
      "Epoch 2/50\n",
      "4247/4247 [==============================] - 21s 5ms/step - loss: 0.8080 - val_loss: 0.6437\n",
      "Epoch 3/50\n",
      "4247/4247 [==============================] - 21s 5ms/step - loss: 0.8069 - val_loss: 0.6433\n",
      "Epoch 4/50\n",
      "4247/4247 [==============================] - 21s 5ms/step - loss: 0.8069 - val_loss: 0.6433\n",
      "Epoch 5/50\n",
      "4247/4247 [==============================] - 21s 5ms/step - loss: 0.8069 - val_loss: 0.6431\n",
      "Epoch 6/50\n",
      "4247/4247 [==============================] - 21s 5ms/step - loss: 0.8068 - val_loss: 0.6430\n",
      "Epoch 7/50\n",
      "4247/4247 [==============================] - 21s 5ms/step - loss: 0.8069 - val_loss: 0.6430\n",
      "Epoch 8/50\n",
      "4247/4247 [==============================] - 21s 5ms/step - loss: 0.8069 - val_loss: 0.6430\n",
      "Epoch 9/50\n",
      "4247/4247 [==============================] - 21s 5ms/step - loss: 0.8069 - val_loss: 0.6430\n",
      "Epoch 10/50\n",
      "4247/4247 [==============================] - 21s 5ms/step - loss: 0.8069 - val_loss: 0.6430\n",
      "Epoch 11/50\n",
      "4247/4247 [==============================] - 21s 5ms/step - loss: 0.8069 - val_loss: 0.6430\n",
      "Epoch 12/50\n",
      "4247/4247 [==============================] - 21s 5ms/step - loss: 0.8069 - val_loss: 0.6430\n",
      "Epoch 13/50\n",
      "4247/4247 [==============================] - 21s 5ms/step - loss: 0.8069 - val_loss: 0.6430\n"
     ]
    },
    {
     "data": {
      "text/plain": [
       "<keras.src.callbacks.History at 0x2a5f73940>"
      ]
     },
     "execution_count": 6,
     "metadata": {},
     "output_type": "execute_result"
    }
   ],
   "source": [
    "from keras.optimizers import Adam\n",
    "from sklearn.preprocessing import StandardScaler\n",
    "from keras.callbacks import EarlyStopping\n",
    "\n",
    "# 1. Feature Scaling:\n",
    "# Assuming X_train and X_test are already split before this step.\n",
    "scaler = StandardScaler().fit(X_train)\n",
    "X_train = scaler.transform(X_train)\n",
    "X_test = scaler.transform(X_test)\n",
    "\n",
    "# 2. Use Only Benign Data for Training:\n",
    "X_train_benign = X_train[y_train == 0]  # Assuming 0 denotes 'Benign'\n",
    "\n",
    "# 3. Model Creation and Compilation:\n",
    "input_dim = X_train_benign.shape[1]\n",
    "autoencoder = create_autoencoder(input_dim)\n",
    "autoencoder.compile(optimizer=Adam(learning_rate=0.001), loss='mean_squared_error')  # Use `learning_rate` instead of `lr`\n",
    "\n",
    "# 4. Early Stopping:\n",
    "early_stopping = EarlyStopping(monitor='val_loss', patience=5, restore_best_weights=True)\n",
    "\n",
    "# 5. Training the Model:\n",
    "autoencoder.fit(X_train_benign, X_train_benign,\n",
    "                epochs=50,\n",
    "                batch_size=256,\n",
    "                shuffle=True,\n",
    "                validation_data=(X_test, X_test),\n",
    "                callbacks=[early_stopping])\n",
    "\n"
   ]
  },
  {
   "cell_type": "code",
   "execution_count": 7,
   "id": "02d4f756-a248-444f-b136-ee25ce7f8360",
   "metadata": {},
   "outputs": [
    {
     "name": "stderr",
     "output_type": "stream",
     "text": [
      "/Users/christinastodt/anaconda3/envs/AnomalyTest/lib/python3.9/site-packages/keras/src/engine/training.py:3079: UserWarning: You are saving your model as an HDF5 file via `model.save()`. This file format is considered legacy. We recommend using instead the native Keras format, e.g. `model.save('my_model.keras')`.\n",
      "  saving_api.save_model(\n"
     ]
    }
   ],
   "source": [
    "autoencoder.save('autoencoder_model2_ARP.h5')\n"
   ]
  },
  {
   "cell_type": "code",
   "execution_count": 8,
   "id": "752f850c-74f8-4dfd-948e-69afe5e5aa74",
   "metadata": {},
   "outputs": [
    {
     "name": "stdout",
     "output_type": "stream",
     "text": [
      "15652/15652 [==============================] - 17s 1ms/step\n"
     ]
    }
   ],
   "source": [
    "import numpy as np\n",
    "\n",
    "# Predict the test set\n",
    "predictions = autoencoder.predict(X_test)\n",
    "\n",
    "# Calculate mean squared error between predictions and actual values\n",
    "mse = np.mean(np.power(X_test - predictions, 2), axis=1)\n",
    "\n",
    "# Convert labels for easier analysis: Benign = 0, Attack = 1\n",
    "y_test_binary = (y_test != 'Benign').astype(int)\n",
    "\n",
    "\n"
   ]
  },
  {
   "cell_type": "code",
   "execution_count": 9,
   "id": "f103d9f5-f8a8-45a2-a446-bbe114ec01cf",
   "metadata": {},
   "outputs": [
    {
     "name": "stdout",
     "output_type": "stream",
     "text": [
      "15652/15652 [==============================] - 17s 1ms/step\n"
     ]
    },
    {
     "data": {
      "image/png": "[encoded data removed]",
      "text/plain": [
       "<Figure size 1000x800 with 1 Axes>"
      ]
     },
     "metadata": {},
     "output_type": "display_data"
    }
   ],
   "source": [
    "from sklearn.metrics import roc_curve, auc\n",
    "import matplotlib.pyplot as plt\n",
    "\n",
    "# Using the autoencoder to make predictions on the test set\n",
    "X_test_predictions = autoencoder.predict(X_test)\n",
    "\n",
    "# Calculating the mean squared error between the original data and their reconstructions\n",
    "mse = np.mean(np.power(X_test - X_test_predictions, 2), axis=1)\n",
    "\n",
    "# Calculate the ROC curve\n",
    "fpr, tpr, thresholds = roc_curve(y_test, mse)\n",
    "\n",
    "# Calculate the AUC (Area Under the Curve)\n",
    "roc_auc = auc(fpr, tpr)\n",
    "\n",
    "# Plot the ROC curve\n",
    "plt.figure(figsize=(10, 8))\n",
    "plt.plot(fpr, tpr, color='darkorange', lw=2, label='ROC curve (area = %0.2f)' % roc_auc)\n",
    "plt.plot([0, 1], [0, 1], color='navy', lw=2, linestyle='--')\n",
    "plt.xlim([0.0, 1.0])\n",
    "plt.ylim([0.0, 1.05])\n",
    "plt.xlabel('False Positive Rate')\n",
    "plt.ylabel('True Positive Rate')\n",
    "plt.title('Receiver Operating Characteristic Curve')\n",
    "plt.legend(loc=\"lower right\")\n",
    "plt.show()\n"
   ]
  },
  {
   "cell_type": "code",
   "execution_count": 5,
   "id": "c9f45918-9446-4fc1-b337-482f626e3411",
   "metadata": {},
   "outputs": [
    {
     "name": "stderr",
     "output_type": "stream",
     "text": [
      "2023-10-30 18:03:31.366774: I tensorflow/core/grappler/optimizers/custom_graph_optimizer_registry.cc:117] Plugin optimizer for device_type GPU is enabled.\n"
     ]
    },
    {
     "name": "stdout",
     "output_type": "stream",
     "text": [
      "62607/62607 [==============================] - 49s 778us/step\n",
      "15652/15652 [==============================] - 12s 768us/step\n"
     ]
    }
   ],
   "source": [
    "from keras.models import Model, load_model\n",
    "\n",
    "autoencoder = load_model('autoencoder_model2_ARP.h5')\n",
    "\n",
    "# Get the encoder part of the autoencoder\n",
    "encoder = Model(inputs=autoencoder.input, outputs=autoencoder.layers[-(len(autoencoder.layers)//2)].output)\n",
    "\n",
    "# Transform your training and test data to latent space\n",
    "X_train_encoded = encoder.predict(X_train)\n",
    "X_test_encoded = encoder.predict(X_test)\n",
    "\n"
   ]
  },
  {
   "cell_type": "code",
   "execution_count": 6,
   "id": "312cb77b-c6f7-4458-b810-c0629c0fe9b3",
   "metadata": {},
   "outputs": [
    {
     "name": "stdout",
     "output_type": "stream",
     "text": [
      "15652/15652 [==============================] - 17s 1ms/step\n",
      "Optimal Threshold: 0.7964824120603016\n",
      "F1 Score: 0.6270495791535373\n",
      "Accuracy: 0.45671792578276305\n"
     ]
    }
   ],
   "source": [
    "from sklearn.metrics import f1_score, accuracy_score\n",
    "import numpy as np\n",
    "\n",
    "# Using the autoencoder to make predictions on the test set\n",
    "X_test_predictions = autoencoder.predict(X_test)\n",
    "\n",
    "# Calculating the mean squared error between the original data and their reconstructions\n",
    "mse = np.mean(np.power(X_test - X_test_predictions, 2), axis=1)\n",
    "\n",
    "# Choose a threshold value for which F1 score is maximized (you can also use other methods to determine this threshold)\n",
    "thresholds = np.linspace(0.1, 10, 200)  # Adjust the range and granularity as needed\n",
    "f1_scores = [f1_score(y_test, mse > threshold) for threshold in thresholds]\n",
    "optimal_threshold = thresholds[np.argmax(f1_scores)]\n",
    "\n",
    "# Predicting anomalies using the optimal threshold\n",
    "y_pred = (mse > optimal_threshold).astype(int)\n",
    "\n",
    "# Calculating F1 score and accuracy\n",
    "f1 = f1_score(y_test, y_pred)\n",
    "accuracy = accuracy_score(y_test, y_pred)\n",
    "\n",
    "print(f\"Optimal Threshold: {optimal_threshold}\")\n",
    "print(f\"F1 Score: {f1}\")\n",
    "print(f\"Accuracy: {accuracy}\")"
   ]
  },
  {
   "cell_type": "code",
   "execution_count": null,
   "id": "04295c09-e217-410f-ba4d-ea857b5c5afc",
   "metadata": {},
   "outputs": [
    {
     "name": "stdout",
     "output_type": "stream",
     "text": [
      "62607/62607 [==============================] - 49s 779us/step\n",
      "15652/15652 [==============================] - 12s 774us/step\n"
     ]
    }
   ],
   "source": [
    "# Assuming you have already trained your autoencoder\n",
    "\n",
    "# Get the encoder part of the autoencoder\n",
    "encoder = Model(inputs=autoencoder.input, outputs=autoencoder.layers[-(len(autoencoder.layers)//2)].output)\n",
    "\n",
    "# Transform your training and test data to latent space\n",
    "X_train_encoded = encoder.predict(X_train)\n",
    "X_test_encoded = encoder.predict(X_test)\n",
    "\n",
    "# Train a supervised model on the encoded data\n",
    "from sklearn.ensemble import RandomForestClassifier\n",
    "\n",
    "clf = RandomForestClassifier()\n",
    "clf.fit(X_train_encoded, y_train)\n",
    "\n",
    "# Now use SHAP on the classifier\n",
    "import shap\n",
    "\n",
    "explainer = shap.TreeExplainer(clf)\n",
    "shap_values = explainer.shap_values(X_test_encoded)\n",
    "\n",
    "# Plot the SHAP values for the encoded features\n",
    "shap.summary_plot(shap_values, X_test_encoded)\n",
    "\n",
    "\n"
   ]
  },
  {
   "cell_type": "code",
   "execution_count": null,
   "id": "28699503-f4a2-4d2c-b92e-ab8ee70e4812",
   "metadata": {},
   "outputs": [],
   "source": []
  }
 ],
 "metadata": {
  "kernelspec": {
   "display_name": "AnomalyTest",
   "language": "python",
   "name": "anomalytest"
  },
  "language_info": {
   "codemirror_mode": {
    "name": "ipython",
    "version": 3
   },
   "file_extension": ".py",
   "mimetype": "text/x-python",
   "name": "python",
   "nbconvert_exporter": "python",
   "pygments_lexer": "ipython3",
   "version": "3.9.18"
  }
 },
 "nbformat": 4,
 "nbformat_minor": 5
}
